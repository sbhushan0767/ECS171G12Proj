{
  "nbformat": 4,
  "nbformat_minor": 0,
  "metadata": {
    "colab": {
      "name": "Bank_loan_status_project.ipynb",
      "provenance": [],
      "collapsed_sections": []
    },
    "kernelspec": {
      "name": "python3",
      "display_name": "Python 3"
    }
  },
  "cells": [
    {
      "cell_type": "code",
      "metadata": {
        "id": "t3pmYPgUzem4"
      },
      "source": [
        "!pip install -U -q PyDrive\n",
        "\n",
        "from pydrive.auth import GoogleAuth\n",
        "from pydrive.drive import GoogleDrive\n",
        "from google.colab import auth\n",
        "from oauth2client.client import GoogleCredentials\n",
        "\n",
        "auth.authenticate_user()\n",
        "gauth = GoogleAuth()\n",
        "gauth.credentials = GoogleCredentials.get_application_default()\n",
        "drive = GoogleDrive(gauth)"
      ],
      "execution_count": 1,
      "outputs": []
    },
    {
      "cell_type": "code",
      "metadata": {
        "id": "LiAwnmNO_S-3"
      },
      "source": [
        "#https://drive.google.com/file/d/183B_W_R2qSnT_JjEUcI3Ny1vH36desCp/view?usp=sharing\n",
        "file1 = drive.CreateFile({'id':'183B_W_R2qSnT_JjEUcI3Ny1vH36desCp'}) # replace the id with id of file you want to access\n",
        "file1.GetContentFile('credit_train.csv')"
      ],
      "execution_count": 2,
      "outputs": []
    },
    {
      "cell_type": "code",
      "metadata": {
        "id": "VCpin0DC_T1I"
      },
      "source": [
        "#https://drive.google.com/file/d/1ceLPls-2L2RuPoAJXAwGgcqxufoHAs0t/view?usp=sharing\n",
        "file2 = drive.CreateFile({'id':'1ceLPls-2L2RuPoAJXAwGgcqxufoHAs0t'}) # replace the id with id of file you want to access\n",
        "file2.GetContentFile('credit_test.csv')"
      ],
      "execution_count": 4,
      "outputs": []
    },
    {
      "cell_type": "markdown",
      "metadata": {
        "id": "7CikgYX_32Qd"
      },
      "source": [
        "Part1: Data Preprocessing"
      ]
    },
    {
      "cell_type": "code",
      "metadata": {
        "id": "FSj_ALA0DWfm"
      },
      "source": [
        "import pandas as pd\n",
        "import numpy as np"
      ],
      "execution_count": 103,
      "outputs": []
    },
    {
      "cell_type": "code",
      "metadata": {
        "id": "Vfm72dzQDG98"
      },
      "source": [
        "df_train = pd.read_csv('credit_train.csv')"
      ],
      "execution_count": 104,
      "outputs": []
    },
    {
      "cell_type": "code",
      "metadata": {
        "id": "dkscLP51hdJl"
      },
      "source": [
        "df_test = pd.read_csv('credit_test.csv')"
      ],
      "execution_count": 105,
      "outputs": []
    },
    {
      "cell_type": "code",
      "metadata": {
        "id": "4PxeTTC0hlGs",
        "outputId": "c349a3a0-f4b5-4bd6-ff34-35bee7471cec",
        "colab": {
          "base_uri": "https://localhost:8080/"
        }
      },
      "source": [
        "print(df_train.shape)\n",
        "print(df_test.shape)"
      ],
      "execution_count": 106,
      "outputs": [
        {
          "output_type": "stream",
          "text": [
            "(100514, 19)\n",
            "(10353, 18)\n"
          ],
          "name": "stdout"
        }
      ]
    },
    {
      "cell_type": "code",
      "metadata": {
        "id": "H5u5u6kahqzh"
      },
      "source": [
        "df = pd.concat([df_train, df_test])"
      ],
      "execution_count": 107,
      "outputs": []
    },
    {
      "cell_type": "code",
      "metadata": {
        "id": "5JdF0wtr6zxr",
        "outputId": "10b5e252-969a-4b5d-e431-8a7fe0436feb",
        "colab": {
          "base_uri": "https://localhost:8080/"
        }
      },
      "source": [
        "df.shape"
      ],
      "execution_count": 108,
      "outputs": [
        {
          "output_type": "execute_result",
          "data": {
            "text/plain": [
              "(110867, 19)"
            ]
          },
          "metadata": {
            "tags": []
          },
          "execution_count": 108
        }
      ]
    },
    {
      "cell_type": "code",
      "metadata": {
        "id": "WZ9-iqj_Dntz",
        "outputId": "fc30612c-ce93-4ff3-b8cc-8d4669b3ab4f",
        "colab": {
          "base_uri": "https://localhost:8080/",
          "height": 530
        }
      },
      "source": [
        "df.head()"
      ],
      "execution_count": 109,
      "outputs": [
        {
          "output_type": "execute_result",
          "data": {
            "text/html": [
              "<div>\n",
              "<style scoped>\n",
              "    .dataframe tbody tr th:only-of-type {\n",
              "        vertical-align: middle;\n",
              "    }\n",
              "\n",
              "    .dataframe tbody tr th {\n",
              "        vertical-align: top;\n",
              "    }\n",
              "\n",
              "    .dataframe thead th {\n",
              "        text-align: right;\n",
              "    }\n",
              "</style>\n",
              "<table border=\"1\" class=\"dataframe\">\n",
              "  <thead>\n",
              "    <tr style=\"text-align: right;\">\n",
              "      <th></th>\n",
              "      <th>Loan ID</th>\n",
              "      <th>Customer ID</th>\n",
              "      <th>Loan Status</th>\n",
              "      <th>Current Loan Amount</th>\n",
              "      <th>Term</th>\n",
              "      <th>Credit Score</th>\n",
              "      <th>Annual Income</th>\n",
              "      <th>Years in current job</th>\n",
              "      <th>Home Ownership</th>\n",
              "      <th>Purpose</th>\n",
              "      <th>Monthly Debt</th>\n",
              "      <th>Years of Credit History</th>\n",
              "      <th>Months since last delinquent</th>\n",
              "      <th>Number of Open Accounts</th>\n",
              "      <th>Number of Credit Problems</th>\n",
              "      <th>Current Credit Balance</th>\n",
              "      <th>Maximum Open Credit</th>\n",
              "      <th>Bankruptcies</th>\n",
              "      <th>Tax Liens</th>\n",
              "    </tr>\n",
              "  </thead>\n",
              "  <tbody>\n",
              "    <tr>\n",
              "      <th>0</th>\n",
              "      <td>14dd8831-6af5-400b-83ec-68e61888a048</td>\n",
              "      <td>981165ec-3274-42f5-a3b4-d104041a9ca9</td>\n",
              "      <td>Fully Paid</td>\n",
              "      <td>445412.0</td>\n",
              "      <td>Short Term</td>\n",
              "      <td>709.0</td>\n",
              "      <td>1167493.0</td>\n",
              "      <td>8 years</td>\n",
              "      <td>Home Mortgage</td>\n",
              "      <td>Home Improvements</td>\n",
              "      <td>5214.74</td>\n",
              "      <td>17.2</td>\n",
              "      <td>NaN</td>\n",
              "      <td>6.0</td>\n",
              "      <td>1.0</td>\n",
              "      <td>228190.0</td>\n",
              "      <td>416746.0</td>\n",
              "      <td>1.0</td>\n",
              "      <td>0.0</td>\n",
              "    </tr>\n",
              "    <tr>\n",
              "      <th>1</th>\n",
              "      <td>4771cc26-131a-45db-b5aa-537ea4ba5342</td>\n",
              "      <td>2de017a3-2e01-49cb-a581-08169e83be29</td>\n",
              "      <td>Fully Paid</td>\n",
              "      <td>262328.0</td>\n",
              "      <td>Short Term</td>\n",
              "      <td>NaN</td>\n",
              "      <td>NaN</td>\n",
              "      <td>10+ years</td>\n",
              "      <td>Home Mortgage</td>\n",
              "      <td>Debt Consolidation</td>\n",
              "      <td>33295.98</td>\n",
              "      <td>21.1</td>\n",
              "      <td>8.0</td>\n",
              "      <td>35.0</td>\n",
              "      <td>0.0</td>\n",
              "      <td>229976.0</td>\n",
              "      <td>850784.0</td>\n",
              "      <td>0.0</td>\n",
              "      <td>0.0</td>\n",
              "    </tr>\n",
              "    <tr>\n",
              "      <th>2</th>\n",
              "      <td>4eed4e6a-aa2f-4c91-8651-ce984ee8fb26</td>\n",
              "      <td>5efb2b2b-bf11-4dfd-a572-3761a2694725</td>\n",
              "      <td>Fully Paid</td>\n",
              "      <td>99999999.0</td>\n",
              "      <td>Short Term</td>\n",
              "      <td>741.0</td>\n",
              "      <td>2231892.0</td>\n",
              "      <td>8 years</td>\n",
              "      <td>Own Home</td>\n",
              "      <td>Debt Consolidation</td>\n",
              "      <td>29200.53</td>\n",
              "      <td>14.9</td>\n",
              "      <td>29.0</td>\n",
              "      <td>18.0</td>\n",
              "      <td>1.0</td>\n",
              "      <td>297996.0</td>\n",
              "      <td>750090.0</td>\n",
              "      <td>0.0</td>\n",
              "      <td>0.0</td>\n",
              "    </tr>\n",
              "    <tr>\n",
              "      <th>3</th>\n",
              "      <td>77598f7b-32e7-4e3b-a6e5-06ba0d98fe8a</td>\n",
              "      <td>e777faab-98ae-45af-9a86-7ce5b33b1011</td>\n",
              "      <td>Fully Paid</td>\n",
              "      <td>347666.0</td>\n",
              "      <td>Long Term</td>\n",
              "      <td>721.0</td>\n",
              "      <td>806949.0</td>\n",
              "      <td>3 years</td>\n",
              "      <td>Own Home</td>\n",
              "      <td>Debt Consolidation</td>\n",
              "      <td>8741.90</td>\n",
              "      <td>12.0</td>\n",
              "      <td>NaN</td>\n",
              "      <td>9.0</td>\n",
              "      <td>0.0</td>\n",
              "      <td>256329.0</td>\n",
              "      <td>386958.0</td>\n",
              "      <td>0.0</td>\n",
              "      <td>0.0</td>\n",
              "    </tr>\n",
              "    <tr>\n",
              "      <th>4</th>\n",
              "      <td>d4062e70-befa-4995-8643-a0de73938182</td>\n",
              "      <td>81536ad9-5ccf-4eb8-befb-47a4d608658e</td>\n",
              "      <td>Fully Paid</td>\n",
              "      <td>176220.0</td>\n",
              "      <td>Short Term</td>\n",
              "      <td>NaN</td>\n",
              "      <td>NaN</td>\n",
              "      <td>5 years</td>\n",
              "      <td>Rent</td>\n",
              "      <td>Debt Consolidation</td>\n",
              "      <td>20639.70</td>\n",
              "      <td>6.1</td>\n",
              "      <td>NaN</td>\n",
              "      <td>15.0</td>\n",
              "      <td>0.0</td>\n",
              "      <td>253460.0</td>\n",
              "      <td>427174.0</td>\n",
              "      <td>0.0</td>\n",
              "      <td>0.0</td>\n",
              "    </tr>\n",
              "  </tbody>\n",
              "</table>\n",
              "</div>"
            ],
            "text/plain": [
              "                                Loan ID  ... Tax Liens\n",
              "0  14dd8831-6af5-400b-83ec-68e61888a048  ...       0.0\n",
              "1  4771cc26-131a-45db-b5aa-537ea4ba5342  ...       0.0\n",
              "2  4eed4e6a-aa2f-4c91-8651-ce984ee8fb26  ...       0.0\n",
              "3  77598f7b-32e7-4e3b-a6e5-06ba0d98fe8a  ...       0.0\n",
              "4  d4062e70-befa-4995-8643-a0de73938182  ...       0.0\n",
              "\n",
              "[5 rows x 19 columns]"
            ]
          },
          "metadata": {
            "tags": []
          },
          "execution_count": 109
        }
      ]
    },
    {
      "cell_type": "code",
      "metadata": {
        "id": "C0gdB0QTEbd_",
        "outputId": "5d596f69-ee5d-4c4b-8de1-9151b69099d6",
        "colab": {
          "base_uri": "https://localhost:8080/"
        }
      },
      "source": [
        "df.info()\n",
        "#non numerica type columns: Loan_ID, Customer ID, Loan Status, Term, Years in Current job, Home Ownership, Purpose"
      ],
      "execution_count": 111,
      "outputs": [
        {
          "output_type": "stream",
          "text": [
            "<class 'pandas.core.frame.DataFrame'>\n",
            "Int64Index: 110867 entries, 0 to 10352\n",
            "Data columns (total 19 columns):\n",
            " #   Column                        Non-Null Count   Dtype  \n",
            "---  ------                        --------------   -----  \n",
            " 0   Loan ID                       110000 non-null  object \n",
            " 1   Customer ID                   110000 non-null  object \n",
            " 2   Loan Status                   100000 non-null  object \n",
            " 3   Current Loan Amount           110000 non-null  float64\n",
            " 4   Term                          110000 non-null  object \n",
            " 5   Credit Score                  88865 non-null   float64\n",
            " 6   Annual Income                 88865 non-null   float64\n",
            " 7   Years in current job          105351 non-null  object \n",
            " 8   Home Ownership                110000 non-null  object \n",
            " 9   Purpose                       110000 non-null  object \n",
            " 10  Monthly Debt                  110000 non-null  float64\n",
            " 11  Years of Credit History       110000 non-null  float64\n",
            " 12  Months since last delinquent  51553 non-null   float64\n",
            " 13  Number of Open Accounts       110000 non-null  float64\n",
            " 14  Number of Credit Problems     110000 non-null  float64\n",
            " 15  Current Credit Balance        110000 non-null  float64\n",
            " 16  Maximum Open Credit           109998 non-null  float64\n",
            " 17  Bankruptcies                  109774 non-null  float64\n",
            " 18  Tax Liens                     109989 non-null  float64\n",
            "dtypes: float64(12), object(7)\n",
            "memory usage: 16.9+ MB\n"
          ],
          "name": "stdout"
        }
      ]
    },
    {
      "cell_type": "code",
      "metadata": {
        "id": "vXV1yirAJxA2",
        "outputId": "78aa11ed-3e0c-4d75-aa66-1ef6df2b919a",
        "colab": {
          "base_uri": "https://localhost:8080/"
        }
      },
      "source": [
        "len(df)"
      ],
      "execution_count": 112,
      "outputs": [
        {
          "output_type": "execute_result",
          "data": {
            "text/plain": [
              "110867"
            ]
          },
          "metadata": {
            "tags": []
          },
          "execution_count": 112
        }
      ]
    },
    {
      "cell_type": "code",
      "metadata": {
        "id": "KYmPrD7iJiWA",
        "outputId": "275092ba-b1b6-4915-c197-b9a96401a6f9",
        "colab": {
          "base_uri": "https://localhost:8080/"
        }
      },
      "source": [
        "#check missing values \n",
        "df.isna().sum()"
      ],
      "execution_count": 113,
      "outputs": [
        {
          "output_type": "execute_result",
          "data": {
            "text/plain": [
              "Loan ID                           867\n",
              "Customer ID                       867\n",
              "Loan Status                     10867\n",
              "Current Loan Amount               867\n",
              "Term                              867\n",
              "Credit Score                    22002\n",
              "Annual Income                   22002\n",
              "Years in current job             5516\n",
              "Home Ownership                    867\n",
              "Purpose                           867\n",
              "Monthly Debt                      867\n",
              "Years of Credit History           867\n",
              "Months since last delinquent    59314\n",
              "Number of Open Accounts           867\n",
              "Number of Credit Problems         867\n",
              "Current Credit Balance            867\n",
              "Maximum Open Credit               869\n",
              "Bankruptcies                     1093\n",
              "Tax Liens                         878\n",
              "dtype: int64"
            ]
          },
          "metadata": {
            "tags": []
          },
          "execution_count": 113
        }
      ]
    },
    {
      "cell_type": "code",
      "metadata": {
        "id": "LXRLlG2cKiUp",
        "outputId": "4e0a2c15-1160-4045-871c-8b71edd0894d",
        "colab": {
          "base_uri": "https://localhost:8080/"
        }
      },
      "source": [
        "print(df['Months since last delinquent'].isna().sum()/len(df))"
      ],
      "execution_count": 114,
      "outputs": [
        {
          "output_type": "stream",
          "text": [
            "0.5350013980715632\n"
          ],
          "name": "stdout"
        }
      ]
    },
    {
      "cell_type": "code",
      "metadata": {
        "id": "DCalfdNkNDJ9",
        "outputId": "f5a68cc8-b7ba-4c4d-9490-079867e970bc",
        "colab": {
          "base_uri": "https://localhost:8080/"
        }
      },
      "source": [
        "type(df['Months since last delinquent'])"
      ],
      "execution_count": 115,
      "outputs": [
        {
          "output_type": "execute_result",
          "data": {
            "text/plain": [
              "pandas.core.series.Series"
            ]
          },
          "metadata": {
            "tags": []
          },
          "execution_count": 115
        }
      ]
    },
    {
      "cell_type": "code",
      "metadata": {
        "id": "WcvU4MejK4d-"
      },
      "source": [
        "#Overall, we need to impute missing values for all the columns, since missing values for Months since last delinquent take up over 50% \n",
        "import numpy as np\n",
        "from sklearn.impute import SimpleImputer"
      ],
      "execution_count": 116,
      "outputs": []
    },
    {
      "cell_type": "code",
      "metadata": {
        "id": "dYGtzjLpdpdT"
      },
      "source": [
        "#impute missing values for numerical data : mean\n",
        "# Select numeric columns.\n",
        "numeric = df.select_dtypes('number')\n",
        "# Select string and object columns.\n",
        "categoric = df.select_dtypes('object')\n",
        "\n",
        "# Fill numeric columns with mean.\n",
        "df[numeric.columns] = numeric.fillna(numeric.mean())\n",
        "# Fill object columns with mode.\n",
        "df[categoric.columns] = categoric.fillna(categoric.agg(lambda x: x.mode().values[0]))"
      ],
      "execution_count": 117,
      "outputs": []
    },
    {
      "cell_type": "code",
      "metadata": {
        "id": "L9pEoI0HeZom",
        "outputId": "4aad95b2-1620-48c7-ae70-4aa192649beb",
        "colab": {
          "base_uri": "https://localhost:8080/"
        }
      },
      "source": [
        "#double check missing values\n",
        "df.isna().sum()"
      ],
      "execution_count": 118,
      "outputs": [
        {
          "output_type": "execute_result",
          "data": {
            "text/plain": [
              "Loan ID                         0\n",
              "Customer ID                     0\n",
              "Loan Status                     0\n",
              "Current Loan Amount             0\n",
              "Term                            0\n",
              "Credit Score                    0\n",
              "Annual Income                   0\n",
              "Years in current job            0\n",
              "Home Ownership                  0\n",
              "Purpose                         0\n",
              "Monthly Debt                    0\n",
              "Years of Credit History         0\n",
              "Months since last delinquent    0\n",
              "Number of Open Accounts         0\n",
              "Number of Credit Problems       0\n",
              "Current Credit Balance          0\n",
              "Maximum Open Credit             0\n",
              "Bankruptcies                    0\n",
              "Tax Liens                       0\n",
              "dtype: int64"
            ]
          },
          "metadata": {
            "tags": []
          },
          "execution_count": 118
        }
      ]
    },
    {
      "cell_type": "code",
      "metadata": {
        "id": "Rsni11dReub8",
        "outputId": "2444dc07-eaac-4bff-99fd-7a53cf120b20",
        "colab": {
          "base_uri": "https://localhost:8080/"
        }
      },
      "source": [
        "#check unique values for each column\n",
        "df.nunique()\n",
        "#meaningful columns often have fewer number of unique colunmns\n",
        "#we need to conduct some transformation for those columns which are categorical "
      ],
      "execution_count": 119,
      "outputs": [
        {
          "output_type": "execute_result",
          "data": {
            "text/plain": [
              "Loan ID                         88354\n",
              "Customer ID                     88354\n",
              "Loan Status                         2\n",
              "Current Loan Amount             22503\n",
              "Term                                2\n",
              "Credit Score                      327\n",
              "Annual Income                   37854\n",
              "Years in current job               11\n",
              "Home Ownership                      4\n",
              "Purpose                            16\n",
              "Monthly Debt                    69751\n",
              "Years of Credit History           508\n",
              "Months since last delinquent      117\n",
              "Number of Open Accounts            53\n",
              "Number of Credit Problems          15\n",
              "Current Credit Balance          33642\n",
              "Maximum Open Credit             46469\n",
              "Bankruptcies                        9\n",
              "Tax Liens                          14\n",
              "dtype: int64"
            ]
          },
          "metadata": {
            "tags": []
          },
          "execution_count": 119
        }
      ]
    },
    {
      "cell_type": "code",
      "metadata": {
        "id": "FF6FCkP_fOuV",
        "outputId": "7b54be70-5fbe-4783-f930-acac36e1d5a3",
        "colab": {
          "base_uri": "https://localhost:8080/"
        }
      },
      "source": [
        "df[categoric.columns].nunique()"
      ],
      "execution_count": 120,
      "outputs": [
        {
          "output_type": "execute_result",
          "data": {
            "text/plain": [
              "Loan ID                 88354\n",
              "Customer ID             88354\n",
              "Loan Status                 2\n",
              "Term                        2\n",
              "Years in current job       11\n",
              "Home Ownership              4\n",
              "Purpose                    16\n",
              "dtype: int64"
            ]
          },
          "metadata": {
            "tags": []
          },
          "execution_count": 120
        }
      ]
    },
    {
      "cell_type": "code",
      "metadata": {
        "id": "F_PDLuDofaiV",
        "outputId": "b2bc8bf1-52b9-400a-a086-9090241c33f2",
        "colab": {
          "base_uri": "https://localhost:8080/"
        }
      },
      "source": [
        "#feature encoding for categorical varaibles\n",
        "#label encoding: convert each value in a column to a number \n",
        "#All the categorical variables except years in current job can be handled with label encoding \n",
        "#Years in current job are required to be transformed into numerical variables\n",
        "#Home ownership and purpose don't have seuqntial characteristic, not use label encoding\n",
        "#create initial categorical dataframe\n",
        "categoric_cols = list(categoric.columns)\n",
        "categoric_cols.remove('Years in current job')\n",
        "categoric_cols"
      ],
      "execution_count": 121,
      "outputs": [
        {
          "output_type": "execute_result",
          "data": {
            "text/plain": [
              "['Loan ID', 'Customer ID', 'Loan Status', 'Term', 'Home Ownership', 'Purpose']"
            ]
          },
          "metadata": {
            "tags": []
          },
          "execution_count": 121
        }
      ]
    },
    {
      "cell_type": "code",
      "metadata": {
        "id": "QPvF6P2-k3L3"
      },
      "source": [
        "#creatin instance of labelencoder\n",
        "from sklearn.preprocessing import LabelEncoder\n",
        "le = LabelEncoder()\n",
        "df[categoric_cols] = df[categoric_cols].apply(le.fit_transform)"
      ],
      "execution_count": 122,
      "outputs": []
    },
    {
      "cell_type": "code",
      "metadata": {
        "id": "5m7gZZGpsmTd",
        "outputId": "8bbeffc7-84be-4e3c-bf33-109bd7bd7a8b",
        "colab": {
          "base_uri": "https://localhost:8080/",
          "height": 292
        }
      },
      "source": [
        "df.head()"
      ],
      "execution_count": 123,
      "outputs": [
        {
          "output_type": "execute_result",
          "data": {
            "text/html": [
              "<div>\n",
              "<style scoped>\n",
              "    .dataframe tbody tr th:only-of-type {\n",
              "        vertical-align: middle;\n",
              "    }\n",
              "\n",
              "    .dataframe tbody tr th {\n",
              "        vertical-align: top;\n",
              "    }\n",
              "\n",
              "    .dataframe thead th {\n",
              "        text-align: right;\n",
              "    }\n",
              "</style>\n",
              "<table border=\"1\" class=\"dataframe\">\n",
              "  <thead>\n",
              "    <tr style=\"text-align: right;\">\n",
              "      <th></th>\n",
              "      <th>Loan ID</th>\n",
              "      <th>Customer ID</th>\n",
              "      <th>Loan Status</th>\n",
              "      <th>Current Loan Amount</th>\n",
              "      <th>Term</th>\n",
              "      <th>Credit Score</th>\n",
              "      <th>Annual Income</th>\n",
              "      <th>Years in current job</th>\n",
              "      <th>Home Ownership</th>\n",
              "      <th>Purpose</th>\n",
              "      <th>Monthly Debt</th>\n",
              "      <th>Years of Credit History</th>\n",
              "      <th>Months since last delinquent</th>\n",
              "      <th>Number of Open Accounts</th>\n",
              "      <th>Number of Credit Problems</th>\n",
              "      <th>Current Credit Balance</th>\n",
              "      <th>Maximum Open Credit</th>\n",
              "      <th>Bankruptcies</th>\n",
              "      <th>Tax Liens</th>\n",
              "    </tr>\n",
              "  </thead>\n",
              "  <tbody>\n",
              "    <tr>\n",
              "      <th>0</th>\n",
              "      <td>7224</td>\n",
              "      <td>52478</td>\n",
              "      <td>1</td>\n",
              "      <td>445412.0</td>\n",
              "      <td>1</td>\n",
              "      <td>709.000000</td>\n",
              "      <td>1.167493e+06</td>\n",
              "      <td>8 years</td>\n",
              "      <td>1</td>\n",
              "      <td>5</td>\n",
              "      <td>5214.74</td>\n",
              "      <td>17.2</td>\n",
              "      <td>34.907086</td>\n",
              "      <td>6.0</td>\n",
              "      <td>1.0</td>\n",
              "      <td>228190.0</td>\n",
              "      <td>416746.0</td>\n",
              "      <td>1.0</td>\n",
              "      <td>0.0</td>\n",
              "    </tr>\n",
              "    <tr>\n",
              "      <th>1</th>\n",
              "      <td>24818</td>\n",
              "      <td>15821</td>\n",
              "      <td>1</td>\n",
              "      <td>262328.0</td>\n",
              "      <td>1</td>\n",
              "      <td>1076.594644</td>\n",
              "      <td>1.377449e+06</td>\n",
              "      <td>10+ years</td>\n",
              "      <td>1</td>\n",
              "      <td>3</td>\n",
              "      <td>33295.98</td>\n",
              "      <td>21.1</td>\n",
              "      <td>8.000000</td>\n",
              "      <td>35.0</td>\n",
              "      <td>0.0</td>\n",
              "      <td>229976.0</td>\n",
              "      <td>850784.0</td>\n",
              "      <td>0.0</td>\n",
              "      <td>0.0</td>\n",
              "    </tr>\n",
              "    <tr>\n",
              "      <th>2</th>\n",
              "      <td>27403</td>\n",
              "      <td>32811</td>\n",
              "      <td>1</td>\n",
              "      <td>99999999.0</td>\n",
              "      <td>1</td>\n",
              "      <td>741.000000</td>\n",
              "      <td>2.231892e+06</td>\n",
              "      <td>8 years</td>\n",
              "      <td>2</td>\n",
              "      <td>3</td>\n",
              "      <td>29200.53</td>\n",
              "      <td>14.9</td>\n",
              "      <td>29.000000</td>\n",
              "      <td>18.0</td>\n",
              "      <td>1.0</td>\n",
              "      <td>297996.0</td>\n",
              "      <td>750090.0</td>\n",
              "      <td>0.0</td>\n",
              "      <td>0.0</td>\n",
              "    </tr>\n",
              "    <tr>\n",
              "      <th>3</th>\n",
              "      <td>41293</td>\n",
              "      <td>79892</td>\n",
              "      <td>1</td>\n",
              "      <td>347666.0</td>\n",
              "      <td>0</td>\n",
              "      <td>721.000000</td>\n",
              "      <td>8.069490e+05</td>\n",
              "      <td>3 years</td>\n",
              "      <td>2</td>\n",
              "      <td>3</td>\n",
              "      <td>8741.90</td>\n",
              "      <td>12.0</td>\n",
              "      <td>34.907086</td>\n",
              "      <td>9.0</td>\n",
              "      <td>0.0</td>\n",
              "      <td>256329.0</td>\n",
              "      <td>386958.0</td>\n",
              "      <td>0.0</td>\n",
              "      <td>0.0</td>\n",
              "    </tr>\n",
              "    <tr>\n",
              "      <th>4</th>\n",
              "      <td>73291</td>\n",
              "      <td>44636</td>\n",
              "      <td>1</td>\n",
              "      <td>176220.0</td>\n",
              "      <td>1</td>\n",
              "      <td>1076.594644</td>\n",
              "      <td>1.377449e+06</td>\n",
              "      <td>5 years</td>\n",
              "      <td>3</td>\n",
              "      <td>3</td>\n",
              "      <td>20639.70</td>\n",
              "      <td>6.1</td>\n",
              "      <td>34.907086</td>\n",
              "      <td>15.0</td>\n",
              "      <td>0.0</td>\n",
              "      <td>253460.0</td>\n",
              "      <td>427174.0</td>\n",
              "      <td>0.0</td>\n",
              "      <td>0.0</td>\n",
              "    </tr>\n",
              "  </tbody>\n",
              "</table>\n",
              "</div>"
            ],
            "text/plain": [
              "   Loan ID  Customer ID  ...  Bankruptcies  Tax Liens\n",
              "0     7224        52478  ...           1.0        0.0\n",
              "1    24818        15821  ...           0.0        0.0\n",
              "2    27403        32811  ...           0.0        0.0\n",
              "3    41293        79892  ...           0.0        0.0\n",
              "4    73291        44636  ...           0.0        0.0\n",
              "\n",
              "[5 rows x 19 columns]"
            ]
          },
          "metadata": {
            "tags": []
          },
          "execution_count": 123
        }
      ]
    },
    {
      "cell_type": "code",
      "metadata": {
        "id": "NExC4YxHqTwk"
      },
      "source": [
        "#convert 'years in current job' to numerical type\n",
        "## Not sure how to convert 10+ years and less than 1 year to numeric type\n",
        "## So I used 0 for less than 1 year, and 10 for 10+ years\n",
        "label = \"Years in current job\"\n",
        "df[label] = df[label].replace({'< 1 year':0, '1 year': 1, '2 years': 2,\n",
        "                                          '3 years':3, '4 years':4, '5 years':5, \n",
        "                                          '6 years':6, '7 years':7, '8 years':8, \n",
        "                                          '9 years': 9, '10+ years': 10})"
      ],
      "execution_count": 124,
      "outputs": []
    },
    {
      "cell_type": "code",
      "metadata": {
        "id": "9oyrkdOysxvi",
        "outputId": "51fed38a-2fbc-4289-d90a-ca1440f78a7f",
        "colab": {
          "base_uri": "https://localhost:8080/",
          "height": 275
        }
      },
      "source": [
        "df.head()"
      ],
      "execution_count": 125,
      "outputs": [
        {
          "output_type": "execute_result",
          "data": {
            "text/html": [
              "<div>\n",
              "<style scoped>\n",
              "    .dataframe tbody tr th:only-of-type {\n",
              "        vertical-align: middle;\n",
              "    }\n",
              "\n",
              "    .dataframe tbody tr th {\n",
              "        vertical-align: top;\n",
              "    }\n",
              "\n",
              "    .dataframe thead th {\n",
              "        text-align: right;\n",
              "    }\n",
              "</style>\n",
              "<table border=\"1\" class=\"dataframe\">\n",
              "  <thead>\n",
              "    <tr style=\"text-align: right;\">\n",
              "      <th></th>\n",
              "      <th>Loan ID</th>\n",
              "      <th>Customer ID</th>\n",
              "      <th>Loan Status</th>\n",
              "      <th>Current Loan Amount</th>\n",
              "      <th>Term</th>\n",
              "      <th>Credit Score</th>\n",
              "      <th>Annual Income</th>\n",
              "      <th>Years in current job</th>\n",
              "      <th>Home Ownership</th>\n",
              "      <th>Purpose</th>\n",
              "      <th>Monthly Debt</th>\n",
              "      <th>Years of Credit History</th>\n",
              "      <th>Months since last delinquent</th>\n",
              "      <th>Number of Open Accounts</th>\n",
              "      <th>Number of Credit Problems</th>\n",
              "      <th>Current Credit Balance</th>\n",
              "      <th>Maximum Open Credit</th>\n",
              "      <th>Bankruptcies</th>\n",
              "      <th>Tax Liens</th>\n",
              "    </tr>\n",
              "  </thead>\n",
              "  <tbody>\n",
              "    <tr>\n",
              "      <th>0</th>\n",
              "      <td>7224</td>\n",
              "      <td>52478</td>\n",
              "      <td>1</td>\n",
              "      <td>445412.0</td>\n",
              "      <td>1</td>\n",
              "      <td>709.000000</td>\n",
              "      <td>1.167493e+06</td>\n",
              "      <td>8</td>\n",
              "      <td>1</td>\n",
              "      <td>5</td>\n",
              "      <td>5214.74</td>\n",
              "      <td>17.2</td>\n",
              "      <td>34.907086</td>\n",
              "      <td>6.0</td>\n",
              "      <td>1.0</td>\n",
              "      <td>228190.0</td>\n",
              "      <td>416746.0</td>\n",
              "      <td>1.0</td>\n",
              "      <td>0.0</td>\n",
              "    </tr>\n",
              "    <tr>\n",
              "      <th>1</th>\n",
              "      <td>24818</td>\n",
              "      <td>15821</td>\n",
              "      <td>1</td>\n",
              "      <td>262328.0</td>\n",
              "      <td>1</td>\n",
              "      <td>1076.594644</td>\n",
              "      <td>1.377449e+06</td>\n",
              "      <td>10</td>\n",
              "      <td>1</td>\n",
              "      <td>3</td>\n",
              "      <td>33295.98</td>\n",
              "      <td>21.1</td>\n",
              "      <td>8.000000</td>\n",
              "      <td>35.0</td>\n",
              "      <td>0.0</td>\n",
              "      <td>229976.0</td>\n",
              "      <td>850784.0</td>\n",
              "      <td>0.0</td>\n",
              "      <td>0.0</td>\n",
              "    </tr>\n",
              "    <tr>\n",
              "      <th>2</th>\n",
              "      <td>27403</td>\n",
              "      <td>32811</td>\n",
              "      <td>1</td>\n",
              "      <td>99999999.0</td>\n",
              "      <td>1</td>\n",
              "      <td>741.000000</td>\n",
              "      <td>2.231892e+06</td>\n",
              "      <td>8</td>\n",
              "      <td>2</td>\n",
              "      <td>3</td>\n",
              "      <td>29200.53</td>\n",
              "      <td>14.9</td>\n",
              "      <td>29.000000</td>\n",
              "      <td>18.0</td>\n",
              "      <td>1.0</td>\n",
              "      <td>297996.0</td>\n",
              "      <td>750090.0</td>\n",
              "      <td>0.0</td>\n",
              "      <td>0.0</td>\n",
              "    </tr>\n",
              "    <tr>\n",
              "      <th>3</th>\n",
              "      <td>41293</td>\n",
              "      <td>79892</td>\n",
              "      <td>1</td>\n",
              "      <td>347666.0</td>\n",
              "      <td>0</td>\n",
              "      <td>721.000000</td>\n",
              "      <td>8.069490e+05</td>\n",
              "      <td>3</td>\n",
              "      <td>2</td>\n",
              "      <td>3</td>\n",
              "      <td>8741.90</td>\n",
              "      <td>12.0</td>\n",
              "      <td>34.907086</td>\n",
              "      <td>9.0</td>\n",
              "      <td>0.0</td>\n",
              "      <td>256329.0</td>\n",
              "      <td>386958.0</td>\n",
              "      <td>0.0</td>\n",
              "      <td>0.0</td>\n",
              "    </tr>\n",
              "    <tr>\n",
              "      <th>4</th>\n",
              "      <td>73291</td>\n",
              "      <td>44636</td>\n",
              "      <td>1</td>\n",
              "      <td>176220.0</td>\n",
              "      <td>1</td>\n",
              "      <td>1076.594644</td>\n",
              "      <td>1.377449e+06</td>\n",
              "      <td>5</td>\n",
              "      <td>3</td>\n",
              "      <td>3</td>\n",
              "      <td>20639.70</td>\n",
              "      <td>6.1</td>\n",
              "      <td>34.907086</td>\n",
              "      <td>15.0</td>\n",
              "      <td>0.0</td>\n",
              "      <td>253460.0</td>\n",
              "      <td>427174.0</td>\n",
              "      <td>0.0</td>\n",
              "      <td>0.0</td>\n",
              "    </tr>\n",
              "  </tbody>\n",
              "</table>\n",
              "</div>"
            ],
            "text/plain": [
              "   Loan ID  Customer ID  ...  Bankruptcies  Tax Liens\n",
              "0     7224        52478  ...           1.0        0.0\n",
              "1    24818        15821  ...           0.0        0.0\n",
              "2    27403        32811  ...           0.0        0.0\n",
              "3    41293        79892  ...           0.0        0.0\n",
              "4    73291        44636  ...           0.0        0.0\n",
              "\n",
              "[5 rows x 19 columns]"
            ]
          },
          "metadata": {
            "tags": []
          },
          "execution_count": 125
        }
      ]
    },
    {
      "cell_type": "code",
      "metadata": {
        "id": "kODPJG2fs1o8"
      },
      "source": [
        "#check distribution of data distribution\n",
        "import scipy.stats as st\n",
        "def get_best_distribution(data):\n",
        "    dist_names = [\"norm\", \"exponweib\", \"weibull_max\", \"weibull_min\", \"pareto\", \"genextreme\"]\n",
        "    dist_results = []\n",
        "    params = {}\n",
        "    for dist_name in dist_names:\n",
        "        dist = getattr(st, dist_name)\n",
        "        param = dist.fit(data)\n",
        "\n",
        "        params[dist_name] = param\n",
        "        # Applying the Kolmogorov-Smirnov test\n",
        "        D, p = st.kstest(data, dist_name, args=param)\n",
        "        print(\"p value for \"+dist_name+\" = \"+str(p))\n",
        "        dist_results.append((dist_name, p))\n",
        "\n",
        "    # select the best fitted distribution\n",
        "    best_dist, best_p = (max(dist_results, key=lambda item: item[1]))\n",
        "    # store the name of the best fit and its p value\n",
        "\n",
        "    print(\"Best fitting distribution: \"+str(best_dist))\n",
        "    print(\"Best p value: \"+ str(best_p))\n",
        "    print(\"Parameters for the best fit: \"+ str(params[best_dist]))\n",
        "\n",
        "    return best_dist, best_p, params[best_dist]"
      ],
      "execution_count": 21,
      "outputs": []
    },
    {
      "cell_type": "code",
      "metadata": {
        "id": "EHiGhiLhtCI3",
        "outputId": "90774cd7-bda3-4d11-b8de-40844da34194",
        "colab": {
          "base_uri": "https://localhost:8080/"
        }
      },
      "source": [
        "get_best_distribution(df['Current Loan Amount'])\n",
        "#all p-values smaller than 0.05, not normally distributed"
      ],
      "execution_count": 22,
      "outputs": [
        {
          "output_type": "stream",
          "text": [
            "p value for norm = 0.0\n"
          ],
          "name": "stdout"
        },
        {
          "output_type": "stream",
          "text": [
            "/usr/local/lib/python3.6/dist-packages/scipy/stats/_continuous_distns.py:1608: RuntimeWarning: invalid value encountered in add\n",
            "  negxc + sc.xlogy(c - 1.0, x))\n"
          ],
          "name": "stderr"
        },
        {
          "output_type": "stream",
          "text": [
            "p value for exponweib = 0.0\n",
            "p value for weibull_max = 0.0\n",
            "p value for weibull_min = 0.0\n"
          ],
          "name": "stdout"
        },
        {
          "output_type": "stream",
          "text": [
            "/usr/local/lib/python3.6/dist-packages/scipy/stats/_distn_infrastructure.py:2407: RuntimeWarning: invalid value encountered in double_scalars\n",
            "  Lhat = muhat - Shat*mu\n"
          ],
          "name": "stderr"
        },
        {
          "output_type": "stream",
          "text": [
            "p value for pareto = 0.0\n",
            "p value for genextreme = 0.0\n",
            "Best fitting distribution: norm\n",
            "Best p value: 0.0\n",
            "Parameters for the best fit: (11746206.8279, 31642562.073643554)\n"
          ],
          "name": "stdout"
        },
        {
          "output_type": "execute_result",
          "data": {
            "text/plain": [
              "('norm', 0.0, (11746206.8279, 31642562.073643554))"
            ]
          },
          "metadata": {
            "tags": []
          },
          "execution_count": 22
        }
      ]
    },
    {
      "cell_type": "code",
      "metadata": {
        "id": "Pn-H6uqRuuZB",
        "outputId": "5762aedc-c2ca-41d3-ba7f-49a45ff280c9",
        "colab": {
          "base_uri": "https://localhost:8080/",
          "height": 344
        }
      },
      "source": [
        "#use qq plot to show some distributions of variables\n",
        "import statsmodels.api as sm\n",
        "from scipy.stats import norm\n",
        "import pylab\n",
        "current_credit = df['Current Credit Balance']\n",
        "sm.qqplot(current_credit, line='45')\n",
        "pylab.show()\n",
        "# our QQ plot shows that current loan amount has too many values at the lower end "
      ],
      "execution_count": 126,
      "outputs": [
        {
          "output_type": "stream",
          "text": [
            "/usr/local/lib/python3.6/dist-packages/statsmodels/tools/_testing.py:19: FutureWarning: pandas.util.testing is deprecated. Use the functions in the public API at pandas.testing instead.\n",
            "  import pandas.util.testing as tm\n"
          ],
          "name": "stderr"
        },
        {
          "output_type": "display_data",
          "data": {
            "image/png": "[encoded data removed]",
            "text/plain": [
              "<Figure size 432x288 with 1 Axes>"
            ]
          },
          "metadata": {
            "tags": [],
            "needs_background": "light"
          }
        }
      ]
    },
    {
      "cell_type": "code",
      "metadata": {
        "id": "890ElyPQwqJ4",
        "outputId": "45ba06f1-3a1c-4c61-d0cd-a7afec1fa22c",
        "colab": {
          "base_uri": "https://localhost:8080/",
          "height": 290
        }
      },
      "source": [
        "import statsmodels.api as sm\n",
        "from scipy.stats import norm\n",
        "import pylab\n",
        "current_loan = df['Current Loan Amount']\n",
        "sm.qqplot(current_loan, line='45')\n",
        "pylab.show()\n",
        "#there are also too many lower end values for current loan amount "
      ],
      "execution_count": 127,
      "outputs": [
        {
          "output_type": "display_data",
          "data": {
            "image/png": "[encoded data removed]",
            "text/plain": [
              "<Figure size 432x288 with 1 Axes>"
            ]
          },
          "metadata": {
            "tags": [],
            "needs_background": "light"
          }
        }
      ]
    },
    {
      "cell_type": "code",
      "metadata": {
        "id": "HyjVOtL8kYu1",
        "outputId": "635219c9-8506-4d09-e0a2-92e10ac95bcf",
        "colab": {
          "base_uri": "https://localhost:8080/"
        }
      },
      "source": [
        "df[numeric.columns].isna().sum()"
      ],
      "execution_count": 137,
      "outputs": [
        {
          "output_type": "execute_result",
          "data": {
            "text/plain": [
              "Current Loan Amount             0\n",
              "Credit Score                    0\n",
              "Annual Income                   0\n",
              "Monthly Debt                    0\n",
              "Years of Credit History         0\n",
              "Months since last delinquent    0\n",
              "Number of Open Accounts         0\n",
              "Number of Credit Problems       0\n",
              "Current Credit Balance          0\n",
              "Maximum Open Credit             0\n",
              "Bankruptcies                    0\n",
              "Tax Liens                       0\n",
              "dtype: int64"
            ]
          },
          "metadata": {
            "tags": []
          },
          "execution_count": 137
        }
      ]
    },
    {
      "cell_type": "code",
      "metadata": {
        "id": "VNqzTGfDnUJZ",
        "outputId": "ff57ae8e-bf73-4465-f7a9-245f7b4a0dfe",
        "colab": {
          "base_uri": "https://localhost:8080/",
          "height": 490
        }
      },
      "source": [
        "df[numeric_names]"
      ],
      "execution_count": 150,
      "outputs": [
        {
          "output_type": "execute_result",
          "data": {
            "text/html": [
              "<div>\n",
              "<style scoped>\n",
              "    .dataframe tbody tr th:only-of-type {\n",
              "        vertical-align: middle;\n",
              "    }\n",
              "\n",
              "    .dataframe tbody tr th {\n",
              "        vertical-align: top;\n",
              "    }\n",
              "\n",
              "    .dataframe thead th {\n",
              "        text-align: right;\n",
              "    }\n",
              "</style>\n",
              "<table border=\"1\" class=\"dataframe\">\n",
              "  <thead>\n",
              "    <tr style=\"text-align: right;\">\n",
              "      <th></th>\n",
              "      <th>Current Loan Amount</th>\n",
              "      <th>Credit Score</th>\n",
              "      <th>Annual Income</th>\n",
              "      <th>Monthly Debt</th>\n",
              "      <th>Years of Credit History</th>\n",
              "      <th>Months since last delinquent</th>\n",
              "      <th>Number of Open Accounts</th>\n",
              "      <th>Number of Credit Problems</th>\n",
              "      <th>Current Credit Balance</th>\n",
              "      <th>Maximum Open Credit</th>\n",
              "      <th>Bankruptcies</th>\n",
              "      <th>Tax Liens</th>\n",
              "    </tr>\n",
              "  </thead>\n",
              "  <tbody>\n",
              "    <tr>\n",
              "      <th>0</th>\n",
              "      <td>4.454120e+05</td>\n",
              "      <td>709.000000</td>\n",
              "      <td>1.167493e+06</td>\n",
              "      <td>5214.740000</td>\n",
              "      <td>17.200000</td>\n",
              "      <td>34.907086</td>\n",
              "      <td>6.000000</td>\n",
              "      <td>1.000000</td>\n",
              "      <td>228190.000000</td>\n",
              "      <td>416746.000000</td>\n",
              "      <td>1.000000</td>\n",
              "      <td>0.000000</td>\n",
              "    </tr>\n",
              "    <tr>\n",
              "      <th>1</th>\n",
              "      <td>2.623280e+05</td>\n",
              "      <td>1076.594644</td>\n",
              "      <td>1.377449e+06</td>\n",
              "      <td>33295.980000</td>\n",
              "      <td>21.100000</td>\n",
              "      <td>8.000000</td>\n",
              "      <td>35.000000</td>\n",
              "      <td>1.000000</td>\n",
              "      <td>229976.000000</td>\n",
              "      <td>850784.000000</td>\n",
              "      <td>1.000000</td>\n",
              "      <td>0.000000</td>\n",
              "    </tr>\n",
              "    <tr>\n",
              "      <th>2</th>\n",
              "      <td>1.000000e+08</td>\n",
              "      <td>741.000000</td>\n",
              "      <td>2.231892e+06</td>\n",
              "      <td>29200.530000</td>\n",
              "      <td>14.900000</td>\n",
              "      <td>29.000000</td>\n",
              "      <td>18.000000</td>\n",
              "      <td>1.000000</td>\n",
              "      <td>297996.000000</td>\n",
              "      <td>750090.000000</td>\n",
              "      <td>1.000000</td>\n",
              "      <td>0.000000</td>\n",
              "    </tr>\n",
              "    <tr>\n",
              "      <th>3</th>\n",
              "      <td>3.476660e+05</td>\n",
              "      <td>721.000000</td>\n",
              "      <td>8.069490e+05</td>\n",
              "      <td>8741.900000</td>\n",
              "      <td>12.000000</td>\n",
              "      <td>34.907086</td>\n",
              "      <td>9.000000</td>\n",
              "      <td>1.000000</td>\n",
              "      <td>256329.000000</td>\n",
              "      <td>386958.000000</td>\n",
              "      <td>1.000000</td>\n",
              "      <td>0.000000</td>\n",
              "    </tr>\n",
              "    <tr>\n",
              "      <th>4</th>\n",
              "      <td>1.762200e+05</td>\n",
              "      <td>1076.594644</td>\n",
              "      <td>1.377449e+06</td>\n",
              "      <td>20639.700000</td>\n",
              "      <td>6.100000</td>\n",
              "      <td>34.907086</td>\n",
              "      <td>15.000000</td>\n",
              "      <td>1.000000</td>\n",
              "      <td>253460.000000</td>\n",
              "      <td>427174.000000</td>\n",
              "      <td>1.000000</td>\n",
              "      <td>0.000000</td>\n",
              "    </tr>\n",
              "    <tr>\n",
              "      <th>...</th>\n",
              "      <td>...</td>\n",
              "      <td>...</td>\n",
              "      <td>...</td>\n",
              "      <td>...</td>\n",
              "      <td>...</td>\n",
              "      <td>...</td>\n",
              "      <td>...</td>\n",
              "      <td>...</td>\n",
              "      <td>...</td>\n",
              "      <td>...</td>\n",
              "      <td>...</td>\n",
              "      <td>...</td>\n",
              "    </tr>\n",
              "    <tr>\n",
              "      <th>10348</th>\n",
              "      <td>1.174621e+07</td>\n",
              "      <td>1076.594644</td>\n",
              "      <td>1.377449e+06</td>\n",
              "      <td>18468.526823</td>\n",
              "      <td>18.202485</td>\n",
              "      <td>34.907086</td>\n",
              "      <td>11.124491</td>\n",
              "      <td>0.168055</td>\n",
              "      <td>294282.171564</td>\n",
              "      <td>754101.205331</td>\n",
              "      <td>0.117614</td>\n",
              "      <td>0.029448</td>\n",
              "    </tr>\n",
              "    <tr>\n",
              "      <th>10349</th>\n",
              "      <td>1.174621e+07</td>\n",
              "      <td>1076.594644</td>\n",
              "      <td>1.377449e+06</td>\n",
              "      <td>18468.526823</td>\n",
              "      <td>18.202485</td>\n",
              "      <td>34.907086</td>\n",
              "      <td>11.124491</td>\n",
              "      <td>0.168055</td>\n",
              "      <td>294282.171564</td>\n",
              "      <td>754101.205331</td>\n",
              "      <td>0.117614</td>\n",
              "      <td>0.029448</td>\n",
              "    </tr>\n",
              "    <tr>\n",
              "      <th>10350</th>\n",
              "      <td>1.174621e+07</td>\n",
              "      <td>1076.594644</td>\n",
              "      <td>1.377449e+06</td>\n",
              "      <td>18468.526823</td>\n",
              "      <td>18.202485</td>\n",
              "      <td>34.907086</td>\n",
              "      <td>11.124491</td>\n",
              "      <td>0.168055</td>\n",
              "      <td>294282.171564</td>\n",
              "      <td>754101.205331</td>\n",
              "      <td>0.117614</td>\n",
              "      <td>0.029448</td>\n",
              "    </tr>\n",
              "    <tr>\n",
              "      <th>10351</th>\n",
              "      <td>1.174621e+07</td>\n",
              "      <td>1076.594644</td>\n",
              "      <td>1.377449e+06</td>\n",
              "      <td>18468.526823</td>\n",
              "      <td>18.202485</td>\n",
              "      <td>34.907086</td>\n",
              "      <td>11.124491</td>\n",
              "      <td>0.168055</td>\n",
              "      <td>294282.171564</td>\n",
              "      <td>754101.205331</td>\n",
              "      <td>0.117614</td>\n",
              "      <td>0.029448</td>\n",
              "    </tr>\n",
              "    <tr>\n",
              "      <th>10352</th>\n",
              "      <td>1.174621e+07</td>\n",
              "      <td>1076.594644</td>\n",
              "      <td>1.377449e+06</td>\n",
              "      <td>18468.526823</td>\n",
              "      <td>18.202485</td>\n",
              "      <td>34.907086</td>\n",
              "      <td>11.124491</td>\n",
              "      <td>0.168055</td>\n",
              "      <td>294282.171564</td>\n",
              "      <td>754101.205331</td>\n",
              "      <td>0.117614</td>\n",
              "      <td>0.029448</td>\n",
              "    </tr>\n",
              "  </tbody>\n",
              "</table>\n",
              "<p>110867 rows × 12 columns</p>\n",
              "</div>"
            ],
            "text/plain": [
              "       Current Loan Amount  Credit Score  ...  Bankruptcies  Tax Liens\n",
              "0             4.454120e+05    709.000000  ...      1.000000   0.000000\n",
              "1             2.623280e+05   1076.594644  ...      1.000000   0.000000\n",
              "2             1.000000e+08    741.000000  ...      1.000000   0.000000\n",
              "3             3.476660e+05    721.000000  ...      1.000000   0.000000\n",
              "4             1.762200e+05   1076.594644  ...      1.000000   0.000000\n",
              "...                    ...           ...  ...           ...        ...\n",
              "10348         1.174621e+07   1076.594644  ...      0.117614   0.029448\n",
              "10349         1.174621e+07   1076.594644  ...      0.117614   0.029448\n",
              "10350         1.174621e+07   1076.594644  ...      0.117614   0.029448\n",
              "10351         1.174621e+07   1076.594644  ...      0.117614   0.029448\n",
              "10352         1.174621e+07   1076.594644  ...      0.117614   0.029448\n",
              "\n",
              "[110867 rows x 12 columns]"
            ]
          },
          "metadata": {
            "tags": []
          },
          "execution_count": 150
        }
      ]
    },
    {
      "cell_type": "code",
      "metadata": {
        "id": "ByPia737nBrC"
      },
      "source": [
        "#conduct normalization since our dataset is not normally distributed based on our observations\n",
        "# normalization (x-x_min)/(x_max-x_min) \n",
        "#advantge of normalization: \n",
        "#1. improve training process\n",
        "#2. all data are within the same scale\n",
        "#3. logistic regression, SVM requires normalization\n",
        "from sklearn import preprocessing\n",
        "# normalize the continuous variable\n",
        "numeric_vals = numeric.values#numpy array\n",
        "transformer = preprocessing.MinMaxScaler()\n",
        "numeric_normalized = transformer.fit_transform(numeric_vals)\n",
        "numeric_names = list(numeric.columns)\n",
        "df[numeric_names] = numeric_normalized"
      ],
      "execution_count": 155,
      "outputs": []
    },
    {
      "cell_type": "code",
      "metadata": {
        "id": "lmlwP542mMq2",
        "outputId": "eb2d0d81-85c4-4462-bab2-db10fa775edb",
        "colab": {
          "base_uri": "https://localhost:8080/",
          "height": 275
        }
      },
      "source": [
        "df.head()"
      ],
      "execution_count": 156,
      "outputs": [
        {
          "output_type": "execute_result",
          "data": {
            "text/html": [
              "<div>\n",
              "<style scoped>\n",
              "    .dataframe tbody tr th:only-of-type {\n",
              "        vertical-align: middle;\n",
              "    }\n",
              "\n",
              "    .dataframe tbody tr th {\n",
              "        vertical-align: top;\n",
              "    }\n",
              "\n",
              "    .dataframe thead th {\n",
              "        text-align: right;\n",
              "    }\n",
              "</style>\n",
              "<table border=\"1\" class=\"dataframe\">\n",
              "  <thead>\n",
              "    <tr style=\"text-align: right;\">\n",
              "      <th></th>\n",
              "      <th>Loan ID</th>\n",
              "      <th>Customer ID</th>\n",
              "      <th>Loan Status</th>\n",
              "      <th>Current Loan Amount</th>\n",
              "      <th>Term</th>\n",
              "      <th>Credit Score</th>\n",
              "      <th>Annual Income</th>\n",
              "      <th>Years in current job</th>\n",
              "      <th>Home Ownership</th>\n",
              "      <th>Purpose</th>\n",
              "      <th>Monthly Debt</th>\n",
              "      <th>Years of Credit History</th>\n",
              "      <th>Months since last delinquent</th>\n",
              "      <th>Number of Open Accounts</th>\n",
              "      <th>Number of Credit Problems</th>\n",
              "      <th>Current Credit Balance</th>\n",
              "      <th>Maximum Open Credit</th>\n",
              "      <th>Bankruptcies</th>\n",
              "      <th>Tax Liens</th>\n",
              "    </tr>\n",
              "  </thead>\n",
              "  <tbody>\n",
              "    <tr>\n",
              "      <th>0</th>\n",
              "      <td>7224</td>\n",
              "      <td>52478</td>\n",
              "      <td>1</td>\n",
              "      <td>0.004347</td>\n",
              "      <td>1</td>\n",
              "      <td>0.017906</td>\n",
              "      <td>0.006592</td>\n",
              "      <td>8</td>\n",
              "      <td>1</td>\n",
              "      <td>5</td>\n",
              "      <td>0.011965</td>\n",
              "      <td>0.203288</td>\n",
              "      <td>NaN</td>\n",
              "      <td>0.078947</td>\n",
              "      <td>0.066667</td>\n",
              "      <td>0.006940</td>\n",
              "      <td>0.000271</td>\n",
              "      <td>0.142857</td>\n",
              "      <td>0.0</td>\n",
              "    </tr>\n",
              "    <tr>\n",
              "      <th>1</th>\n",
              "      <td>24818</td>\n",
              "      <td>15821</td>\n",
              "      <td>1</td>\n",
              "      <td>0.002516</td>\n",
              "      <td>1</td>\n",
              "      <td>NaN</td>\n",
              "      <td>NaN</td>\n",
              "      <td>10</td>\n",
              "      <td>1</td>\n",
              "      <td>3</td>\n",
              "      <td>0.076394</td>\n",
              "      <td>0.261584</td>\n",
              "      <td>0.045455</td>\n",
              "      <td>0.460526</td>\n",
              "      <td>0.000000</td>\n",
              "      <td>0.006995</td>\n",
              "      <td>0.000553</td>\n",
              "      <td>0.000000</td>\n",
              "      <td>0.0</td>\n",
              "    </tr>\n",
              "    <tr>\n",
              "      <th>2</th>\n",
              "      <td>27403</td>\n",
              "      <td>32811</td>\n",
              "      <td>1</td>\n",
              "      <td>1.000000</td>\n",
              "      <td>1</td>\n",
              "      <td>0.022527</td>\n",
              "      <td>0.013024</td>\n",
              "      <td>8</td>\n",
              "      <td>2</td>\n",
              "      <td>3</td>\n",
              "      <td>0.066998</td>\n",
              "      <td>0.168909</td>\n",
              "      <td>0.164773</td>\n",
              "      <td>0.236842</td>\n",
              "      <td>0.066667</td>\n",
              "      <td>0.009063</td>\n",
              "      <td>0.000487</td>\n",
              "      <td>0.000000</td>\n",
              "      <td>0.0</td>\n",
              "    </tr>\n",
              "    <tr>\n",
              "      <th>3</th>\n",
              "      <td>41293</td>\n",
              "      <td>79892</td>\n",
              "      <td>1</td>\n",
              "      <td>0.003369</td>\n",
              "      <td>0</td>\n",
              "      <td>0.019639</td>\n",
              "      <td>0.004413</td>\n",
              "      <td>3</td>\n",
              "      <td>2</td>\n",
              "      <td>3</td>\n",
              "      <td>0.020057</td>\n",
              "      <td>0.125561</td>\n",
              "      <td>NaN</td>\n",
              "      <td>0.118421</td>\n",
              "      <td>0.000000</td>\n",
              "      <td>0.007796</td>\n",
              "      <td>0.000251</td>\n",
              "      <td>0.000000</td>\n",
              "      <td>0.0</td>\n",
              "    </tr>\n",
              "    <tr>\n",
              "      <th>4</th>\n",
              "      <td>73291</td>\n",
              "      <td>44636</td>\n",
              "      <td>1</td>\n",
              "      <td>0.001654</td>\n",
              "      <td>1</td>\n",
              "      <td>NaN</td>\n",
              "      <td>NaN</td>\n",
              "      <td>5</td>\n",
              "      <td>3</td>\n",
              "      <td>3</td>\n",
              "      <td>0.047356</td>\n",
              "      <td>0.037369</td>\n",
              "      <td>NaN</td>\n",
              "      <td>0.197368</td>\n",
              "      <td>0.000000</td>\n",
              "      <td>0.007709</td>\n",
              "      <td>0.000277</td>\n",
              "      <td>0.000000</td>\n",
              "      <td>0.0</td>\n",
              "    </tr>\n",
              "  </tbody>\n",
              "</table>\n",
              "</div>"
            ],
            "text/plain": [
              "   Loan ID  Customer ID  ...  Bankruptcies  Tax Liens\n",
              "0     7224        52478  ...      0.142857        0.0\n",
              "1    24818        15821  ...      0.000000        0.0\n",
              "2    27403        32811  ...      0.000000        0.0\n",
              "3    41293        79892  ...      0.000000        0.0\n",
              "4    73291        44636  ...      0.000000        0.0\n",
              "\n",
              "[5 rows x 19 columns]"
            ]
          },
          "metadata": {
            "tags": []
          },
          "execution_count": 156
        }
      ]
    },
    {
      "cell_type": "markdown",
      "metadata": {
        "id": "z1ANsls9kZNC"
      },
      "source": [
        "Part3: Training and Testing data split"
      ]
    },
    {
      "cell_type": "code",
      "metadata": {
        "id": "ymisfV3cmHcf"
      },
      "source": [
        "to_drop = [\"Credit Score\"]\n",
        "X = df.drop(to_drop, axis = 1)\n",
        "y = df[\"Credit Score\"]"
      ],
      "execution_count": 157,
      "outputs": []
    },
    {
      "cell_type": "code",
      "metadata": {
        "id": "GYIoemWRkaRY",
        "outputId": "00fe1973-f888-4285-a83b-2c0ce20b2aa2",
        "colab": {
          "base_uri": "https://localhost:8080/"
        }
      },
      "source": [
        "from sklearn.model_selection import train_test_split\n",
        "X_train, X_test, y_train, y_test = train_test_split(X, y, test_size=0.25, random_state=1)\n",
        "print('training data has ' + str(X_train.shape[0]) + ' observation with ' + str(X_train.shape[1]) + ' features')\n",
        "print('test data has ' + str(X_test.shape[0]) + ' observation with ' + str(X_test.shape[1]) + ' features')"
      ],
      "execution_count": 158,
      "outputs": [
        {
          "output_type": "stream",
          "text": [
            "training data has 83150 observation with 18 features\n",
            "test data has 27717 observation with 18 features\n"
          ],
          "name": "stdout"
        }
      ]
    },
    {
      "cell_type": "markdown",
      "metadata": {
        "id": "seKtX6Qg3s6b"
      },
      "source": [
        "Part2: Check features correlation"
      ]
    },
    {
      "cell_type": "code",
      "metadata": {
        "id": "YJ_Ha_NN3y30"
      },
      "source": [
        "df_corr = df.drop(columns = ['Loan ID', 'Customer ID'])"
      ],
      "execution_count": 159,
      "outputs": []
    },
    {
      "cell_type": "code",
      "metadata": {
        "id": "8Z3kJSEE4ARn",
        "outputId": "6f3ff836-421c-49bf-d587-543a3b608da7",
        "colab": {
          "base_uri": "https://localhost:8080/",
          "height": 711
        }
      },
      "source": [
        "## Bankruptcies and Number of credit problems have relatively strong positive correlation\n",
        "## Number of credit problems and Tax lien have relatively strong postiive correlation\n",
        "from matplotlib import pyplot as plt\n",
        "import seaborn as sns\n",
        "fig, ax = plt.subplots(figsize=(15,15))\n",
        "sns.heatmap(df_corr.corr(), annot = True,linewidths=.8, ax=ax)"
      ],
      "execution_count": 160,
      "outputs": [
        {
          "output_type": "execute_result",
          "data": {
            "text/plain": [
              "<matplotlib.axes._subplots.AxesSubplot at 0x7f9d72a6b668>"
            ]
          },
          "metadata": {
            "tags": []
          },
          "execution_count": 160
        },
        {
          "output_type": "display_data",
          "data": {
            "image/png": "[encoded data removed]",
            "text/plain": [
              "<Figure size 1080x1080 with 2 Axes>"
            ]
          },
          "metadata": {
            "tags": [],
            "needs_background": "light"
          }
        }
      ]
    },
    {
      "cell_type": "markdown",
      "metadata": {
        "id": "HQvND5qwZQRH"
      },
      "source": [
        "Part3:Model training and testing"
      ]
    },
    {
      "cell_type": "code",
      "metadata": {
        "id": "to_0KKr4bTfn"
      },
      "source": [
        "#grid search to find the optimal hyperparameter\n",
        "from sklearn.model_selection import GridSearchCV\n",
        "\n",
        "# helper function for printing out grid search results \n",
        "def print_grid_search_metrics(gs):\n",
        "    print (\"Best score: \" + str(gs.best_score_))\n",
        "    print (\"Best parameters set:\")\n",
        "    best_parameters = gs.best_params_\n",
        "    for param_name in sorted(best_parameters.keys()):\n",
        "        print(param_name + ':' + str(best_parameters[param_name]))"
      ],
      "execution_count": 161,
      "outputs": []
    }
  ]
}