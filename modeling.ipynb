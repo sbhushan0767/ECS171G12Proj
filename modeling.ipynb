{
 "cells": [
  {
   "cell_type": "code",
   "execution_count": 1,
   "metadata": {},
   "outputs": [],
   "source": [
    "# Import libraries\n",
    "import pandas as pd\n",
    "import numpy as np\n",
    "\n",
    "from sklearn.linear_model import LinearRegression, LogisticRegression\n",
    "from sklearn.model_selection import train_test_split\n",
    "from sklearn.preprocessing import PolynomialFeatures\n",
    "from sklearn import svm\n",
    "from sklearn.metrics import mean_squared_error, r2_score, accuracy_score, classification_report\n",
    "from matplotlib import pyplot\n",
    "\n",
    "from imblearn.over_sampling import RandomOverSampler\n",
    "from collections import Counter"
   ]
  },
  {
   "cell_type": "code",
   "execution_count": 2,
   "metadata": {},
   "outputs": [],
   "source": [
    "# Read in processed data\n",
    "df = pd.read_csv('./datasets/credit.csv')"
   ]
  },
  {
   "cell_type": "code",
   "execution_count": 3,
   "metadata": {},
   "outputs": [
    {
     "output_type": "execute_result",
     "data": {
      "text/plain": [
       "    Loan ID  Customer ID  Loan Status  Current Loan Amount  Term  \\\n",
       "0  0.081528     0.594985          1.0             0.004342   1.0   \n",
       "1  0.309318     0.371466          1.0             1.000000   1.0   \n",
       "2  0.467122     0.903985          1.0             0.003365   0.0   \n",
       "3  0.539748     0.312567          0.0             0.001954   1.0   \n",
       "4  0.153657     0.565583          1.0             0.002064   1.0   \n",
       "5  0.544144     0.686563          1.0             0.005376   1.0   \n",
       "6  0.042962     0.138742          1.0             0.002047   1.0   \n",
       "7  0.198139     0.053855          1.0             1.000000   1.0   \n",
       "8  0.251344     0.067429          1.0             1.000000   1.0   \n",
       "9  0.006981     0.562819          1.0             1.000000   1.0   \n",
       "\n",
       "   Credit Score  Annual Income  Years in current job  Home Ownership  \\\n",
       "0      0.746988       0.006592                   0.8             0.0   \n",
       "1      0.939759       0.013024                   0.8             0.5   \n",
       "2      0.819277       0.004413                   0.3             0.5   \n",
       "3      0.867470       0.004957                   1.0             0.0   \n",
       "4      0.873494       0.006693                   0.0             0.0   \n",
       "5      0.560241       0.015002                   0.2             1.0   \n",
       "6      0.927711       0.008328                   0.0             1.0   \n",
       "7      0.861446       0.003855                   0.3             1.0   \n",
       "8      0.933735       0.004227                   0.0             0.5   \n",
       "9      0.951807       0.008970                   0.4             1.0   \n",
       "\n",
       "    Purpose  Monthly Debt  Years of Credit History  Number of Open Accounts  \\\n",
       "0  0.416667      0.011965                 0.202096                 0.066667   \n",
       "1  0.250000      0.066998                 0.167665                 0.226667   \n",
       "2  0.250000      0.020057                 0.124251                 0.106667   \n",
       "3  0.250000      0.037554                 0.203593                 0.066667   \n",
       "4  0.250000      0.024906                 0.238024                 0.160000   \n",
       "5  0.250000      0.042814                 0.282934                 0.040000   \n",
       "6  0.250000      0.090119                 0.152695                 0.253333   \n",
       "7  0.250000      0.027191                 0.184132                 0.200000   \n",
       "8  0.250000      0.026565                 0.071856                 0.066667   \n",
       "9  0.250000      0.040291                 0.143713                 0.120000   \n",
       "\n",
       "   Have had Credit Problems  Current Credit Balance  Maximum Open Credit  \\\n",
       "0                       1.0                0.006940             0.000271   \n",
       "1                       1.0                0.009063             0.000487   \n",
       "2                       0.0                0.007796             0.000251   \n",
       "3                       0.0                0.006549             0.000177   \n",
       "4                       1.0                0.003716             0.000177   \n",
       "5                       0.0                0.013296             0.000360   \n",
       "6                       0.0                0.020364             0.000663   \n",
       "7                       0.0                0.006204             0.000188   \n",
       "8                       0.0                0.004078             0.000143   \n",
       "9                       1.0                0.006860             0.000322   \n",
       "\n",
       "   Have had Bankruptcy before  Have had Tax Liens  Delinquent Time  \\\n",
       "0                         1.0                 0.0         0.000000   \n",
       "1                         0.0                 0.0         0.666667   \n",
       "2                         0.0                 0.0         0.000000   \n",
       "3                         0.0                 0.0         0.000000   \n",
       "4                         1.0                 0.0         0.333333   \n",
       "5                         0.0                 0.0         0.666667   \n",
       "6                         0.0                 0.0         0.000000   \n",
       "7                         0.0                 0.0         1.000000   \n",
       "8                         0.0                 0.0         0.333333   \n",
       "9                         1.0                 0.0         0.000000   \n",
       "\n",
       "  Credit Score Range  \n",
       "0     (701.2, 717.8]  \n",
       "1     (734.4, 751.0]  \n",
       "2     (717.8, 734.4]  \n",
       "3     (717.8, 734.4]  \n",
       "4     (717.8, 734.4]  \n",
       "5     (668.0, 684.6]  \n",
       "6     (734.4, 751.0]  \n",
       "7     (717.8, 734.4]  \n",
       "8     (734.4, 751.0]  \n",
       "9     (734.4, 751.0]  "
      ],
      "text/html": "<div>\n<style scoped>\n    .dataframe tbody tr th:only-of-type {\n        vertical-align: middle;\n    }\n\n    .dataframe tbody tr th {\n        vertical-align: top;\n    }\n\n    .dataframe thead th {\n        text-align: right;\n    }\n</style>\n<table border=\"1\" class=\"dataframe\">\n  <thead>\n    <tr style=\"text-align: right;\">\n      <th></th>\n      <th>Loan ID</th>\n      <th>Customer ID</th>\n      <th>Loan Status</th>\n      <th>Current Loan Amount</th>\n      <th>Term</th>\n      <th>Credit Score</th>\n      <th>Annual Income</th>\n      <th>Years in current job</th>\n      <th>Home Ownership</th>\n      <th>Purpose</th>\n      <th>Monthly Debt</th>\n      <th>Years of Credit History</th>\n      <th>Number of Open Accounts</th>\n      <th>Have had Credit Problems</th>\n      <th>Current Credit Balance</th>\n      <th>Maximum Open Credit</th>\n      <th>Have had Bankruptcy before</th>\n      <th>Have had Tax Liens</th>\n      <th>Delinquent Time</th>\n      <th>Credit Score Range</th>\n    </tr>\n  </thead>\n  <tbody>\n    <tr>\n      <th>0</th>\n      <td>0.081528</td>\n      <td>0.594985</td>\n      <td>1.0</td>\n      <td>0.004342</td>\n      <td>1.0</td>\n      <td>0.746988</td>\n      <td>0.006592</td>\n      <td>0.8</td>\n      <td>0.0</td>\n      <td>0.416667</td>\n      <td>0.011965</td>\n      <td>0.202096</td>\n      <td>0.066667</td>\n      <td>1.0</td>\n      <td>0.006940</td>\n      <td>0.000271</td>\n      <td>1.0</td>\n      <td>0.0</td>\n      <td>0.000000</td>\n      <td>(701.2, 717.8]</td>\n    </tr>\n    <tr>\n      <th>1</th>\n      <td>0.309318</td>\n      <td>0.371466</td>\n      <td>1.0</td>\n      <td>1.000000</td>\n      <td>1.0</td>\n      <td>0.939759</td>\n      <td>0.013024</td>\n      <td>0.8</td>\n      <td>0.5</td>\n      <td>0.250000</td>\n      <td>0.066998</td>\n      <td>0.167665</td>\n      <td>0.226667</td>\n      <td>1.0</td>\n      <td>0.009063</td>\n      <td>0.000487</td>\n      <td>0.0</td>\n      <td>0.0</td>\n      <td>0.666667</td>\n      <td>(734.4, 751.0]</td>\n    </tr>\n    <tr>\n      <th>2</th>\n      <td>0.467122</td>\n      <td>0.903985</td>\n      <td>1.0</td>\n      <td>0.003365</td>\n      <td>0.0</td>\n      <td>0.819277</td>\n      <td>0.004413</td>\n      <td>0.3</td>\n      <td>0.5</td>\n      <td>0.250000</td>\n      <td>0.020057</td>\n      <td>0.124251</td>\n      <td>0.106667</td>\n      <td>0.0</td>\n      <td>0.007796</td>\n      <td>0.000251</td>\n      <td>0.0</td>\n      <td>0.0</td>\n      <td>0.000000</td>\n      <td>(717.8, 734.4]</td>\n    </tr>\n    <tr>\n      <th>3</th>\n      <td>0.539748</td>\n      <td>0.312567</td>\n      <td>0.0</td>\n      <td>0.001954</td>\n      <td>1.0</td>\n      <td>0.867470</td>\n      <td>0.004957</td>\n      <td>1.0</td>\n      <td>0.0</td>\n      <td>0.250000</td>\n      <td>0.037554</td>\n      <td>0.203593</td>\n      <td>0.066667</td>\n      <td>0.0</td>\n      <td>0.006549</td>\n      <td>0.000177</td>\n      <td>0.0</td>\n      <td>0.0</td>\n      <td>0.000000</td>\n      <td>(717.8, 734.4]</td>\n    </tr>\n    <tr>\n      <th>4</th>\n      <td>0.153657</td>\n      <td>0.565583</td>\n      <td>1.0</td>\n      <td>0.002064</td>\n      <td>1.0</td>\n      <td>0.873494</td>\n      <td>0.006693</td>\n      <td>0.0</td>\n      <td>0.0</td>\n      <td>0.250000</td>\n      <td>0.024906</td>\n      <td>0.238024</td>\n      <td>0.160000</td>\n      <td>1.0</td>\n      <td>0.003716</td>\n      <td>0.000177</td>\n      <td>1.0</td>\n      <td>0.0</td>\n      <td>0.333333</td>\n      <td>(717.8, 734.4]</td>\n    </tr>\n    <tr>\n      <th>5</th>\n      <td>0.544144</td>\n      <td>0.686563</td>\n      <td>1.0</td>\n      <td>0.005376</td>\n      <td>1.0</td>\n      <td>0.560241</td>\n      <td>0.015002</td>\n      <td>0.2</td>\n      <td>1.0</td>\n      <td>0.250000</td>\n      <td>0.042814</td>\n      <td>0.282934</td>\n      <td>0.040000</td>\n      <td>0.0</td>\n      <td>0.013296</td>\n      <td>0.000360</td>\n      <td>0.0</td>\n      <td>0.0</td>\n      <td>0.666667</td>\n      <td>(668.0, 684.6]</td>\n    </tr>\n    <tr>\n      <th>6</th>\n      <td>0.042962</td>\n      <td>0.138742</td>\n      <td>1.0</td>\n      <td>0.002047</td>\n      <td>1.0</td>\n      <td>0.927711</td>\n      <td>0.008328</td>\n      <td>0.0</td>\n      <td>1.0</td>\n      <td>0.250000</td>\n      <td>0.090119</td>\n      <td>0.152695</td>\n      <td>0.253333</td>\n      <td>0.0</td>\n      <td>0.020364</td>\n      <td>0.000663</td>\n      <td>0.0</td>\n      <td>0.0</td>\n      <td>0.000000</td>\n      <td>(734.4, 751.0]</td>\n    </tr>\n    <tr>\n      <th>7</th>\n      <td>0.198139</td>\n      <td>0.053855</td>\n      <td>1.0</td>\n      <td>1.000000</td>\n      <td>1.0</td>\n      <td>0.861446</td>\n      <td>0.003855</td>\n      <td>0.3</td>\n      <td>1.0</td>\n      <td>0.250000</td>\n      <td>0.027191</td>\n      <td>0.184132</td>\n      <td>0.200000</td>\n      <td>0.0</td>\n      <td>0.006204</td>\n      <td>0.000188</td>\n      <td>0.0</td>\n      <td>0.0</td>\n      <td>1.000000</td>\n      <td>(717.8, 734.4]</td>\n    </tr>\n    <tr>\n      <th>8</th>\n      <td>0.251344</td>\n      <td>0.067429</td>\n      <td>1.0</td>\n      <td>1.000000</td>\n      <td>1.0</td>\n      <td>0.933735</td>\n      <td>0.004227</td>\n      <td>0.0</td>\n      <td>0.5</td>\n      <td>0.250000</td>\n      <td>0.026565</td>\n      <td>0.071856</td>\n      <td>0.066667</td>\n      <td>0.0</td>\n      <td>0.004078</td>\n      <td>0.000143</td>\n      <td>0.0</td>\n      <td>0.0</td>\n      <td>0.333333</td>\n      <td>(734.4, 751.0]</td>\n    </tr>\n    <tr>\n      <th>9</th>\n      <td>0.006981</td>\n      <td>0.562819</td>\n      <td>1.0</td>\n      <td>1.000000</td>\n      <td>1.0</td>\n      <td>0.951807</td>\n      <td>0.008970</td>\n      <td>0.4</td>\n      <td>1.0</td>\n      <td>0.250000</td>\n      <td>0.040291</td>\n      <td>0.143713</td>\n      <td>0.120000</td>\n      <td>1.0</td>\n      <td>0.006860</td>\n      <td>0.000322</td>\n      <td>1.0</td>\n      <td>0.0</td>\n      <td>0.000000</td>\n      <td>(734.4, 751.0]</td>\n    </tr>\n  </tbody>\n</table>\n</div>"
     },
     "metadata": {},
     "execution_count": 3
    }
   ],
   "source": [
    "# Preview data\n",
    "df.head(10)"
   ]
  },
  {
   "cell_type": "markdown",
   "metadata": {},
   "source": [
    "#### Oversample imbalanced dataset for classification"
   ]
  },
  {
   "source": [
    "Since we care about precision as much as we care about recall, we want precision and recall as balanced as possible and oversampling can be used to increase the minority data points.\n"
   ],
   "cell_type": "markdown",
   "metadata": {}
  },
  {
   "cell_type": "code",
   "execution_count": 4,
   "metadata": {},
   "outputs": [
    {
     "output_type": "execute_result",
     "data": {
      "text/plain": [
       "    Loan ID  Customer ID  Loan Status  Current Loan Amount  Term  \\\n",
       "0  0.081528     0.594985          1.0             0.004342   1.0   \n",
       "1  0.309318     0.371466          1.0             1.000000   1.0   \n",
       "2  0.467122     0.903985          1.0             0.003365   0.0   \n",
       "3  0.539748     0.312567          0.0             0.001954   1.0   \n",
       "4  0.153657     0.565583          1.0             0.002064   1.0   \n",
       "5  0.544144     0.686563          1.0             0.005376   1.0   \n",
       "6  0.042962     0.138742          1.0             0.002047   1.0   \n",
       "7  0.198139     0.053855          1.0             1.000000   1.0   \n",
       "8  0.251344     0.067429          1.0             1.000000   1.0   \n",
       "9  0.006981     0.562819          1.0             1.000000   1.0   \n",
       "\n",
       "   Credit Score  Annual Income  Years in current job  Home Ownership  \\\n",
       "0      0.746988       0.006592                   0.8             0.0   \n",
       "1      0.939759       0.013024                   0.8             0.5   \n",
       "2      0.819277       0.004413                   0.3             0.5   \n",
       "3      0.867470       0.004957                   1.0             0.0   \n",
       "4      0.873494       0.006693                   0.0             0.0   \n",
       "5      0.560241       0.015002                   0.2             1.0   \n",
       "6      0.927711       0.008328                   0.0             1.0   \n",
       "7      0.861446       0.003855                   0.3             1.0   \n",
       "8      0.933735       0.004227                   0.0             0.5   \n",
       "9      0.951807       0.008970                   0.4             1.0   \n",
       "\n",
       "    Purpose  Monthly Debt  Years of Credit History  Number of Open Accounts  \\\n",
       "0  0.416667      0.011965                 0.202096                 0.066667   \n",
       "1  0.250000      0.066998                 0.167665                 0.226667   \n",
       "2  0.250000      0.020057                 0.124251                 0.106667   \n",
       "3  0.250000      0.037554                 0.203593                 0.066667   \n",
       "4  0.250000      0.024906                 0.238024                 0.160000   \n",
       "5  0.250000      0.042814                 0.282934                 0.040000   \n",
       "6  0.250000      0.090119                 0.152695                 0.253333   \n",
       "7  0.250000      0.027191                 0.184132                 0.200000   \n",
       "8  0.250000      0.026565                 0.071856                 0.066667   \n",
       "9  0.250000      0.040291                 0.143713                 0.120000   \n",
       "\n",
       "   Have had Credit Problems  Current Credit Balance  Maximum Open Credit  \\\n",
       "0                       1.0                0.006940             0.000271   \n",
       "1                       1.0                0.009063             0.000487   \n",
       "2                       0.0                0.007796             0.000251   \n",
       "3                       0.0                0.006549             0.000177   \n",
       "4                       1.0                0.003716             0.000177   \n",
       "5                       0.0                0.013296             0.000360   \n",
       "6                       0.0                0.020364             0.000663   \n",
       "7                       0.0                0.006204             0.000188   \n",
       "8                       0.0                0.004078             0.000143   \n",
       "9                       1.0                0.006860             0.000322   \n",
       "\n",
       "   Have had Bankruptcy before  Have had Tax Liens  Delinquent Time  \\\n",
       "0                         1.0                 0.0         0.000000   \n",
       "1                         0.0                 0.0         0.666667   \n",
       "2                         0.0                 0.0         0.000000   \n",
       "3                         0.0                 0.0         0.000000   \n",
       "4                         1.0                 0.0         0.333333   \n",
       "5                         0.0                 0.0         0.666667   \n",
       "6                         0.0                 0.0         0.000000   \n",
       "7                         0.0                 0.0         1.000000   \n",
       "8                         0.0                 0.0         0.333333   \n",
       "9                         1.0                 0.0         0.000000   \n",
       "\n",
       "   Credit Score Range  \n",
       "0                   7  \n",
       "1                   9  \n",
       "2                   8  \n",
       "3                   8  \n",
       "4                   8  \n",
       "5                   5  \n",
       "6                   9  \n",
       "7                   8  \n",
       "8                   9  \n",
       "9                   9  "
      ],
      "text/html": "<div>\n<style scoped>\n    .dataframe tbody tr th:only-of-type {\n        vertical-align: middle;\n    }\n\n    .dataframe tbody tr th {\n        vertical-align: top;\n    }\n\n    .dataframe thead th {\n        text-align: right;\n    }\n</style>\n<table border=\"1\" class=\"dataframe\">\n  <thead>\n    <tr style=\"text-align: right;\">\n      <th></th>\n      <th>Loan ID</th>\n      <th>Customer ID</th>\n      <th>Loan Status</th>\n      <th>Current Loan Amount</th>\n      <th>Term</th>\n      <th>Credit Score</th>\n      <th>Annual Income</th>\n      <th>Years in current job</th>\n      <th>Home Ownership</th>\n      <th>Purpose</th>\n      <th>Monthly Debt</th>\n      <th>Years of Credit History</th>\n      <th>Number of Open Accounts</th>\n      <th>Have had Credit Problems</th>\n      <th>Current Credit Balance</th>\n      <th>Maximum Open Credit</th>\n      <th>Have had Bankruptcy before</th>\n      <th>Have had Tax Liens</th>\n      <th>Delinquent Time</th>\n      <th>Credit Score Range</th>\n    </tr>\n  </thead>\n  <tbody>\n    <tr>\n      <th>0</th>\n      <td>0.081528</td>\n      <td>0.594985</td>\n      <td>1.0</td>\n      <td>0.004342</td>\n      <td>1.0</td>\n      <td>0.746988</td>\n      <td>0.006592</td>\n      <td>0.8</td>\n      <td>0.0</td>\n      <td>0.416667</td>\n      <td>0.011965</td>\n      <td>0.202096</td>\n      <td>0.066667</td>\n      <td>1.0</td>\n      <td>0.006940</td>\n      <td>0.000271</td>\n      <td>1.0</td>\n      <td>0.0</td>\n      <td>0.000000</td>\n      <td>7</td>\n    </tr>\n    <tr>\n      <th>1</th>\n      <td>0.309318</td>\n      <td>0.371466</td>\n      <td>1.0</td>\n      <td>1.000000</td>\n      <td>1.0</td>\n      <td>0.939759</td>\n      <td>0.013024</td>\n      <td>0.8</td>\n      <td>0.5</td>\n      <td>0.250000</td>\n      <td>0.066998</td>\n      <td>0.167665</td>\n      <td>0.226667</td>\n      <td>1.0</td>\n      <td>0.009063</td>\n      <td>0.000487</td>\n      <td>0.0</td>\n      <td>0.0</td>\n      <td>0.666667</td>\n      <td>9</td>\n    </tr>\n    <tr>\n      <th>2</th>\n      <td>0.467122</td>\n      <td>0.903985</td>\n      <td>1.0</td>\n      <td>0.003365</td>\n      <td>0.0</td>\n      <td>0.819277</td>\n      <td>0.004413</td>\n      <td>0.3</td>\n      <td>0.5</td>\n      <td>0.250000</td>\n      <td>0.020057</td>\n      <td>0.124251</td>\n      <td>0.106667</td>\n      <td>0.0</td>\n      <td>0.007796</td>\n      <td>0.000251</td>\n      <td>0.0</td>\n      <td>0.0</td>\n      <td>0.000000</td>\n      <td>8</td>\n    </tr>\n    <tr>\n      <th>3</th>\n      <td>0.539748</td>\n      <td>0.312567</td>\n      <td>0.0</td>\n      <td>0.001954</td>\n      <td>1.0</td>\n      <td>0.867470</td>\n      <td>0.004957</td>\n      <td>1.0</td>\n      <td>0.0</td>\n      <td>0.250000</td>\n      <td>0.037554</td>\n      <td>0.203593</td>\n      <td>0.066667</td>\n      <td>0.0</td>\n      <td>0.006549</td>\n      <td>0.000177</td>\n      <td>0.0</td>\n      <td>0.0</td>\n      <td>0.000000</td>\n      <td>8</td>\n    </tr>\n    <tr>\n      <th>4</th>\n      <td>0.153657</td>\n      <td>0.565583</td>\n      <td>1.0</td>\n      <td>0.002064</td>\n      <td>1.0</td>\n      <td>0.873494</td>\n      <td>0.006693</td>\n      <td>0.0</td>\n      <td>0.0</td>\n      <td>0.250000</td>\n      <td>0.024906</td>\n      <td>0.238024</td>\n      <td>0.160000</td>\n      <td>1.0</td>\n      <td>0.003716</td>\n      <td>0.000177</td>\n      <td>1.0</td>\n      <td>0.0</td>\n      <td>0.333333</td>\n      <td>8</td>\n    </tr>\n    <tr>\n      <th>5</th>\n      <td>0.544144</td>\n      <td>0.686563</td>\n      <td>1.0</td>\n      <td>0.005376</td>\n      <td>1.0</td>\n      <td>0.560241</td>\n      <td>0.015002</td>\n      <td>0.2</td>\n      <td>1.0</td>\n      <td>0.250000</td>\n      <td>0.042814</td>\n      <td>0.282934</td>\n      <td>0.040000</td>\n      <td>0.0</td>\n      <td>0.013296</td>\n      <td>0.000360</td>\n      <td>0.0</td>\n      <td>0.0</td>\n      <td>0.666667</td>\n      <td>5</td>\n    </tr>\n    <tr>\n      <th>6</th>\n      <td>0.042962</td>\n      <td>0.138742</td>\n      <td>1.0</td>\n      <td>0.002047</td>\n      <td>1.0</td>\n      <td>0.927711</td>\n      <td>0.008328</td>\n      <td>0.0</td>\n      <td>1.0</td>\n      <td>0.250000</td>\n      <td>0.090119</td>\n      <td>0.152695</td>\n      <td>0.253333</td>\n      <td>0.0</td>\n      <td>0.020364</td>\n      <td>0.000663</td>\n      <td>0.0</td>\n      <td>0.0</td>\n      <td>0.000000</td>\n      <td>9</td>\n    </tr>\n    <tr>\n      <th>7</th>\n      <td>0.198139</td>\n      <td>0.053855</td>\n      <td>1.0</td>\n      <td>1.000000</td>\n      <td>1.0</td>\n      <td>0.861446</td>\n      <td>0.003855</td>\n      <td>0.3</td>\n      <td>1.0</td>\n      <td>0.250000</td>\n      <td>0.027191</td>\n      <td>0.184132</td>\n      <td>0.200000</td>\n      <td>0.0</td>\n      <td>0.006204</td>\n      <td>0.000188</td>\n      <td>0.0</td>\n      <td>0.0</td>\n      <td>1.000000</td>\n      <td>8</td>\n    </tr>\n    <tr>\n      <th>8</th>\n      <td>0.251344</td>\n      <td>0.067429</td>\n      <td>1.0</td>\n      <td>1.000000</td>\n      <td>1.0</td>\n      <td>0.933735</td>\n      <td>0.004227</td>\n      <td>0.0</td>\n      <td>0.5</td>\n      <td>0.250000</td>\n      <td>0.026565</td>\n      <td>0.071856</td>\n      <td>0.066667</td>\n      <td>0.0</td>\n      <td>0.004078</td>\n      <td>0.000143</td>\n      <td>0.0</td>\n      <td>0.0</td>\n      <td>0.333333</td>\n      <td>9</td>\n    </tr>\n    <tr>\n      <th>9</th>\n      <td>0.006981</td>\n      <td>0.562819</td>\n      <td>1.0</td>\n      <td>1.000000</td>\n      <td>1.0</td>\n      <td>0.951807</td>\n      <td>0.008970</td>\n      <td>0.4</td>\n      <td>1.0</td>\n      <td>0.250000</td>\n      <td>0.040291</td>\n      <td>0.143713</td>\n      <td>0.120000</td>\n      <td>1.0</td>\n      <td>0.006860</td>\n      <td>0.000322</td>\n      <td>1.0</td>\n      <td>0.0</td>\n      <td>0.000000</td>\n      <td>9</td>\n    </tr>\n  </tbody>\n</table>\n</div>"
     },
     "metadata": {},
     "execution_count": 4
    }
   ],
   "source": [
    "from sklearn.preprocessing import LabelEncoder\n",
    "le = LabelEncoder()\n",
    "df[[\"Credit Score Range\"]] = df[[\"Credit Score Range\"]].apply(le.fit_transform)\n",
    "df.head(10)"
   ]
  },
  {
   "cell_type": "markdown",
   "metadata": {},
   "source": [
    "### Linear Model"
   ]
  },
  {
   "cell_type": "code",
   "execution_count": 5,
   "metadata": {},
   "outputs": [
    {
     "output_type": "stream",
     "name": "stdout",
     "text": [
      "MSE for testing set:  0.02082176648321483 \n\nMSE for training set:  0.020890174739813628 \n\nR2 score for testing set:  0.27441414261132413 \n\nR2 score for training set:  0.2735926249241789 \n\n"
     ]
    }
   ],
   "source": [
    "\n",
    "X = df.drop(columns = ['Loan ID', 'Customer ID', 'Credit Score Range', \n",
    "                       'Credit Score'])\n",
    "\n",
    "y = df['Credit Score']\n",
    "X_train, X_test, y_train, y_test = train_test_split(X, y, test_size=0.25, random_state=1)\n",
    "\n",
    "LR_model = LinearRegression()\n",
    "LR_model.fit(X_train, y_train)\n",
    "y_pred = LR_model.predict(X_test)\n",
    "y_pred_train = LR_model.predict(X_train)\n",
    "## model evaluation\n",
    "print(\"MSE for testing set: \", mean_squared_error(y_test, y_pred), \"\\n\")\n",
    "print(\"MSE for training set: \", mean_squared_error(y_train, y_pred_train), \"\\n\")\n",
    "## The best R2 score is 1, it can be negative because the model is arbitrarily worse\n",
    "print(\"R2 score for testing set: \", r2_score(y_test, y_pred), \"\\n\")\n",
    "print(\"R2 score for training set: \", r2_score(y_train, y_pred_train), \"\\n\")"
   ]
  },
  {
   "cell_type": "markdown",
   "metadata": {},
   "source": [
    "### Support Vector Regression\n",
    "\n",
    "Hyperparameter: kernel = 'rbf'."
   ]
  },
  {
   "cell_type": "code",
   "execution_count": 6,
   "metadata": {},
   "outputs": [
    {
     "output_type": "stream",
     "name": "stdout",
     "text": [
      "MSE for training set:  0.020045898896955936\nMSE for testing set:  0.020319365810218152 \n\nR2 score for training set:  0.30307819117592516\nR2 score for testing set:  0.2918958158131756\n"
     ]
    }
   ],
   "source": [
    "X = df.drop(columns = ['Loan ID', 'Customer ID', 'Credit Score', 'Credit Score Range'])\n",
    "y = df['Credit Score']\n",
    "\n",
    "X_train, X_test, y_train, y_test = train_test_split(X, y, test_size=0.3, random_state=1)\n",
    "\n",
    "svr_model = svm.SVR(kernel='rbf')\n",
    "svr_model.fit(X_train, y_train)\n",
    "y_pred_train = svr_model.predict(X_train)\n",
    "y_pred = svr_model.predict(X_test)\n",
    "\n",
    "print('MSE for training set: ', mean_squared_error(y_train, y_pred_train))\n",
    "print('MSE for testing set: ', mean_squared_error(y_test, y_pred),'\\n')\n",
    "\n",
    "print('R2 score for training set: ', r2_score(y_train, y_pred_train))\n",
    "print('R2 score for testing set: ', r2_score(y_test, y_pred))"
   ]
  },
  {
   "source": [
    "# Oversampling\n",
    "\n",
    "Since the distribution of Credit Score Range is imbalanced, we choose to oversample the training sets for he logistic regression model and the random forest classification model to prevent bias result. "
   ],
   "cell_type": "markdown",
   "metadata": {}
  },
  {
   "cell_type": "code",
   "execution_count": 7,
   "metadata": {},
   "outputs": [
    {
     "output_type": "execute_result",
     "data": {
      "text/plain": [
       "<matplotlib.axes._subplots.AxesSubplot at 0x207c8966490>"
      ]
     },
     "metadata": {},
     "execution_count": 7
    },
    {
     "output_type": "display_data",
     "data": {
      "text/plain": "<Figure size 1080x360 with 1 Axes>",
      "image/svg+xml": "<?xml version=\"1.0\" encoding=\"utf-8\" standalone=\"no\"?>\r\n<!DOCTYPE svg PUBLIC \"-//W3C//DTD SVG 1.1//EN\"\r\n  \"http://www.w3.org/Graphics/SVG/1.1/DTD/svg11.dtd\">\r\n<!-- Created with matplotlib (https://matplotlib.org/) -->\r\n<svg height=\"299.5625pt\" version=\"1.1\" viewBox=\"0 0 890.2125 299.5625\" width=\"890.2125pt\" xmlns=\"http://www.w3.org/2000/svg\" xmlns:xlink=\"http://www.w3.org/1999/xlink\">\r\n <defs>\r\n  <style type=\"text/css\">\r\n*{stroke-linecap:butt;stroke-linejoin:round;}\r\n  </style>\r\n </defs>\r\n <g id=\"figure_1\">\r\n  <g id=\"patch_1\">\r\n   <path d=\"M 0 299.5625 \r\nL 890.2125 299.5625 \r\nL 890.2125 0 \r\nL 0 0 \r\nz\r\n\" style=\"fill:none;\"/>\r\n  </g>\r\n  <g id=\"axes_1\">\r\n   <g id=\"patch_2\">\r\n    <path d=\"M 46.0125 279 \r\nL 883.0125 279 \r\nL 883.0125 7.2 \r\nL 46.0125 7.2 \r\nz\r\n\" style=\"fill:#ffffff;\"/>\r\n   </g>\r\n   <g id=\"patch_3\">\r\n    <path clip-path=\"url(#p92c128df6e)\" d=\"M 66.9375 279 \r\nL 108.7875 279 \r\nL 108.7875 20.142857 \r\nL 66.9375 20.142857 \r\nz\r\n\" style=\"fill:#1f77b4;\"/>\r\n   </g>\r\n   <g id=\"patch_4\">\r\n    <path clip-path=\"url(#p92c128df6e)\" d=\"M 150.6375 279 \r\nL 192.4875 279 \r\nL 192.4875 93.834781 \r\nL 150.6375 93.834781 \r\nz\r\n\" style=\"fill:#1f77b4;\"/>\r\n   </g>\r\n   <g id=\"patch_5\">\r\n    <path clip-path=\"url(#p92c128df6e)\" d=\"M 234.3375 279 \r\nL 276.1875 279 \r\nL 276.1875 159.651024 \r\nL 234.3375 159.651024 \r\nz\r\n\" style=\"fill:#1f77b4;\"/>\r\n   </g>\r\n   <g id=\"patch_6\">\r\n    <path clip-path=\"url(#p92c128df6e)\" d=\"M 318.0375 279 \r\nL 359.8875 279 \r\nL 359.8875 210.801889 \r\nL 318.0375 210.801889 \r\nz\r\n\" style=\"fill:#1f77b4;\"/>\r\n   </g>\r\n   <g id=\"patch_7\">\r\n    <path clip-path=\"url(#p92c128df6e)\" d=\"M 401.7375 279 \r\nL 443.5875 279 \r\nL 443.5875 241.063489 \r\nL 401.7375 241.063489 \r\nz\r\n\" style=\"fill:#1f77b4;\"/>\r\n   </g>\r\n   <g id=\"patch_8\">\r\n    <path clip-path=\"url(#p92c128df6e)\" d=\"M 485.4375 279 \r\nL 527.2875 279 \r\nL 527.2875 255.163058 \r\nL 485.4375 255.163058 \r\nz\r\n\" style=\"fill:#1f77b4;\"/>\r\n   </g>\r\n   <g id=\"patch_9\">\r\n    <path clip-path=\"url(#p92c128df6e)\" d=\"M 569.1375 279 \r\nL 610.9875 279 \r\nL 610.9875 266.862507 \r\nL 569.1375 266.862507 \r\nz\r\n\" style=\"fill:#1f77b4;\"/>\r\n   </g>\r\n   <g id=\"patch_10\">\r\n    <path clip-path=\"url(#p92c128df6e)\" d=\"M 652.8375 279 \r\nL 694.6875 279 \r\nL 694.6875 272.648349 \r\nL 652.8375 272.648349 \r\nz\r\n\" style=\"fill:#1f77b4;\"/>\r\n   </g>\r\n   <g id=\"patch_11\">\r\n    <path clip-path=\"url(#p92c128df6e)\" d=\"M 736.5375 279 \r\nL 778.3875 279 \r\nL 778.3875 275.112352 \r\nL 736.5375 275.112352 \r\nz\r\n\" style=\"fill:#1f77b4;\"/>\r\n   </g>\r\n   <g id=\"patch_12\">\r\n    <path clip-path=\"url(#p92c128df6e)\" d=\"M 820.2375 279 \r\nL 862.0875 279 \r\nL 862.0875 276.964917 \r\nL 820.2375 276.964917 \r\nz\r\n\" style=\"fill:#1f77b4;\"/>\r\n   </g>\r\n   <g id=\"matplotlib.axis_1\">\r\n    <g id=\"xtick_1\">\r\n     <g id=\"line2d_1\">\r\n      <defs>\r\n       <path d=\"M 0 0 \r\nL 0 3.5 \r\n\" id=\"m74f4e0581a\" style=\"stroke:#000000;stroke-width:0.8;\"/>\r\n      </defs>\r\n      <g>\r\n       <use style=\"stroke:#000000;stroke-width:0.8;\" x=\"87.8625\" xlink:href=\"#m74f4e0581a\" y=\"279\"/>\r\n      </g>\r\n     </g>\r\n     <g id=\"text_1\">\r\n      <!-- 9 -->\r\n      <defs>\r\n       <path d=\"M 10.984375 1.515625 \r\nL 10.984375 10.5 \r\nQ 14.703125 8.734375 18.5 7.8125 \r\nQ 22.3125 6.890625 25.984375 6.890625 \r\nQ 35.75 6.890625 40.890625 13.453125 \r\nQ 46.046875 20.015625 46.78125 33.40625 \r\nQ 43.953125 29.203125 39.59375 26.953125 \r\nQ 35.25 24.703125 29.984375 24.703125 \r\nQ 19.046875 24.703125 12.671875 31.3125 \r\nQ 6.296875 37.9375 6.296875 49.421875 \r\nQ 6.296875 60.640625 12.9375 67.421875 \r\nQ 19.578125 74.21875 30.609375 74.21875 \r\nQ 43.265625 74.21875 49.921875 64.515625 \r\nQ 56.59375 54.828125 56.59375 36.375 \r\nQ 56.59375 19.140625 48.40625 8.859375 \r\nQ 40.234375 -1.421875 26.421875 -1.421875 \r\nQ 22.703125 -1.421875 18.890625 -0.6875 \r\nQ 15.09375 0.046875 10.984375 1.515625 \r\nz\r\nM 30.609375 32.421875 \r\nQ 37.25 32.421875 41.125 36.953125 \r\nQ 45.015625 41.5 45.015625 49.421875 \r\nQ 45.015625 57.28125 41.125 61.84375 \r\nQ 37.25 66.40625 30.609375 66.40625 \r\nQ 23.96875 66.40625 20.09375 61.84375 \r\nQ 16.21875 57.28125 16.21875 49.421875 \r\nQ 16.21875 41.5 20.09375 36.953125 \r\nQ 23.96875 32.421875 30.609375 32.421875 \r\nz\r\n\" id=\"DejaVuSans-57\"/>\r\n      </defs>\r\n      <g transform=\"translate(90.621875 292.3625)rotate(-90)scale(0.1 -0.1)\">\r\n       <use xlink:href=\"#DejaVuSans-57\"/>\r\n      </g>\r\n     </g>\r\n    </g>\r\n    <g id=\"xtick_2\">\r\n     <g id=\"line2d_2\">\r\n      <g>\r\n       <use style=\"stroke:#000000;stroke-width:0.8;\" x=\"171.5625\" xlink:href=\"#m74f4e0581a\" y=\"279\"/>\r\n      </g>\r\n     </g>\r\n     <g id=\"text_2\">\r\n      <!-- 8 -->\r\n      <defs>\r\n       <path d=\"M 31.78125 34.625 \r\nQ 24.75 34.625 20.71875 30.859375 \r\nQ 16.703125 27.09375 16.703125 20.515625 \r\nQ 16.703125 13.921875 20.71875 10.15625 \r\nQ 24.75 6.390625 31.78125 6.390625 \r\nQ 38.8125 6.390625 42.859375 10.171875 \r\nQ 46.921875 13.96875 46.921875 20.515625 \r\nQ 46.921875 27.09375 42.890625 30.859375 \r\nQ 38.875 34.625 31.78125 34.625 \r\nz\r\nM 21.921875 38.8125 \r\nQ 15.578125 40.375 12.03125 44.71875 \r\nQ 8.5 49.078125 8.5 55.328125 \r\nQ 8.5 64.0625 14.71875 69.140625 \r\nQ 20.953125 74.21875 31.78125 74.21875 \r\nQ 42.671875 74.21875 48.875 69.140625 \r\nQ 55.078125 64.0625 55.078125 55.328125 \r\nQ 55.078125 49.078125 51.53125 44.71875 \r\nQ 48 40.375 41.703125 38.8125 \r\nQ 48.828125 37.15625 52.796875 32.3125 \r\nQ 56.78125 27.484375 56.78125 20.515625 \r\nQ 56.78125 9.90625 50.3125 4.234375 \r\nQ 43.84375 -1.421875 31.78125 -1.421875 \r\nQ 19.734375 -1.421875 13.25 4.234375 \r\nQ 6.78125 9.90625 6.78125 20.515625 \r\nQ 6.78125 27.484375 10.78125 32.3125 \r\nQ 14.796875 37.15625 21.921875 38.8125 \r\nz\r\nM 18.3125 54.390625 \r\nQ 18.3125 48.734375 21.84375 45.5625 \r\nQ 25.390625 42.390625 31.78125 42.390625 \r\nQ 38.140625 42.390625 41.71875 45.5625 \r\nQ 45.3125 48.734375 45.3125 54.390625 \r\nQ 45.3125 60.0625 41.71875 63.234375 \r\nQ 38.140625 66.40625 31.78125 66.40625 \r\nQ 25.390625 66.40625 21.84375 63.234375 \r\nQ 18.3125 60.0625 18.3125 54.390625 \r\nz\r\n\" id=\"DejaVuSans-56\"/>\r\n      </defs>\r\n      <g transform=\"translate(174.321875 292.3625)rotate(-90)scale(0.1 -0.1)\">\r\n       <use xlink:href=\"#DejaVuSans-56\"/>\r\n      </g>\r\n     </g>\r\n    </g>\r\n    <g id=\"xtick_3\">\r\n     <g id=\"line2d_3\">\r\n      <g>\r\n       <use style=\"stroke:#000000;stroke-width:0.8;\" x=\"255.2625\" xlink:href=\"#m74f4e0581a\" y=\"279\"/>\r\n      </g>\r\n     </g>\r\n     <g id=\"text_3\">\r\n      <!-- 7 -->\r\n      <defs>\r\n       <path d=\"M 8.203125 72.90625 \r\nL 55.078125 72.90625 \r\nL 55.078125 68.703125 \r\nL 28.609375 0 \r\nL 18.3125 0 \r\nL 43.21875 64.59375 \r\nL 8.203125 64.59375 \r\nz\r\n\" id=\"DejaVuSans-55\"/>\r\n      </defs>\r\n      <g transform=\"translate(258.021875 292.3625)rotate(-90)scale(0.1 -0.1)\">\r\n       <use xlink:href=\"#DejaVuSans-55\"/>\r\n      </g>\r\n     </g>\r\n    </g>\r\n    <g id=\"xtick_4\">\r\n     <g id=\"line2d_4\">\r\n      <g>\r\n       <use style=\"stroke:#000000;stroke-width:0.8;\" x=\"338.9625\" xlink:href=\"#m74f4e0581a\" y=\"279\"/>\r\n      </g>\r\n     </g>\r\n     <g id=\"text_4\">\r\n      <!-- 6 -->\r\n      <defs>\r\n       <path d=\"M 33.015625 40.375 \r\nQ 26.375 40.375 22.484375 35.828125 \r\nQ 18.609375 31.296875 18.609375 23.390625 \r\nQ 18.609375 15.53125 22.484375 10.953125 \r\nQ 26.375 6.390625 33.015625 6.390625 \r\nQ 39.65625 6.390625 43.53125 10.953125 \r\nQ 47.40625 15.53125 47.40625 23.390625 \r\nQ 47.40625 31.296875 43.53125 35.828125 \r\nQ 39.65625 40.375 33.015625 40.375 \r\nz\r\nM 52.59375 71.296875 \r\nL 52.59375 62.3125 \r\nQ 48.875 64.0625 45.09375 64.984375 \r\nQ 41.3125 65.921875 37.59375 65.921875 \r\nQ 27.828125 65.921875 22.671875 59.328125 \r\nQ 17.53125 52.734375 16.796875 39.40625 \r\nQ 19.671875 43.65625 24.015625 45.921875 \r\nQ 28.375 48.1875 33.59375 48.1875 \r\nQ 44.578125 48.1875 50.953125 41.515625 \r\nQ 57.328125 34.859375 57.328125 23.390625 \r\nQ 57.328125 12.15625 50.6875 5.359375 \r\nQ 44.046875 -1.421875 33.015625 -1.421875 \r\nQ 20.359375 -1.421875 13.671875 8.265625 \r\nQ 6.984375 17.96875 6.984375 36.375 \r\nQ 6.984375 53.65625 15.1875 63.9375 \r\nQ 23.390625 74.21875 37.203125 74.21875 \r\nQ 40.921875 74.21875 44.703125 73.484375 \r\nQ 48.484375 72.75 52.59375 71.296875 \r\nz\r\n\" id=\"DejaVuSans-54\"/>\r\n      </defs>\r\n      <g transform=\"translate(341.721875 292.3625)rotate(-90)scale(0.1 -0.1)\">\r\n       <use xlink:href=\"#DejaVuSans-54\"/>\r\n      </g>\r\n     </g>\r\n    </g>\r\n    <g id=\"xtick_5\">\r\n     <g id=\"line2d_5\">\r\n      <g>\r\n       <use style=\"stroke:#000000;stroke-width:0.8;\" x=\"422.6625\" xlink:href=\"#m74f4e0581a\" y=\"279\"/>\r\n      </g>\r\n     </g>\r\n     <g id=\"text_5\">\r\n      <!-- 5 -->\r\n      <defs>\r\n       <path d=\"M 10.796875 72.90625 \r\nL 49.515625 72.90625 \r\nL 49.515625 64.59375 \r\nL 19.828125 64.59375 \r\nL 19.828125 46.734375 \r\nQ 21.96875 47.46875 24.109375 47.828125 \r\nQ 26.265625 48.1875 28.421875 48.1875 \r\nQ 40.625 48.1875 47.75 41.5 \r\nQ 54.890625 34.8125 54.890625 23.390625 \r\nQ 54.890625 11.625 47.5625 5.09375 \r\nQ 40.234375 -1.421875 26.90625 -1.421875 \r\nQ 22.3125 -1.421875 17.546875 -0.640625 \r\nQ 12.796875 0.140625 7.71875 1.703125 \r\nL 7.71875 11.625 \r\nQ 12.109375 9.234375 16.796875 8.0625 \r\nQ 21.484375 6.890625 26.703125 6.890625 \r\nQ 35.15625 6.890625 40.078125 11.328125 \r\nQ 45.015625 15.765625 45.015625 23.390625 \r\nQ 45.015625 31 40.078125 35.4375 \r\nQ 35.15625 39.890625 26.703125 39.890625 \r\nQ 22.75 39.890625 18.8125 39.015625 \r\nQ 14.890625 38.140625 10.796875 36.28125 \r\nz\r\n\" id=\"DejaVuSans-53\"/>\r\n      </defs>\r\n      <g transform=\"translate(425.421875 292.3625)rotate(-90)scale(0.1 -0.1)\">\r\n       <use xlink:href=\"#DejaVuSans-53\"/>\r\n      </g>\r\n     </g>\r\n    </g>\r\n    <g id=\"xtick_6\">\r\n     <g id=\"line2d_6\">\r\n      <g>\r\n       <use style=\"stroke:#000000;stroke-width:0.8;\" x=\"506.3625\" xlink:href=\"#m74f4e0581a\" y=\"279\"/>\r\n      </g>\r\n     </g>\r\n     <g id=\"text_6\">\r\n      <!-- 4 -->\r\n      <defs>\r\n       <path d=\"M 37.796875 64.3125 \r\nL 12.890625 25.390625 \r\nL 37.796875 25.390625 \r\nz\r\nM 35.203125 72.90625 \r\nL 47.609375 72.90625 \r\nL 47.609375 25.390625 \r\nL 58.015625 25.390625 \r\nL 58.015625 17.1875 \r\nL 47.609375 17.1875 \r\nL 47.609375 0 \r\nL 37.796875 0 \r\nL 37.796875 17.1875 \r\nL 4.890625 17.1875 \r\nL 4.890625 26.703125 \r\nz\r\n\" id=\"DejaVuSans-52\"/>\r\n      </defs>\r\n      <g transform=\"translate(509.121875 292.3625)rotate(-90)scale(0.1 -0.1)\">\r\n       <use xlink:href=\"#DejaVuSans-52\"/>\r\n      </g>\r\n     </g>\r\n    </g>\r\n    <g id=\"xtick_7\">\r\n     <g id=\"line2d_7\">\r\n      <g>\r\n       <use style=\"stroke:#000000;stroke-width:0.8;\" x=\"590.0625\" xlink:href=\"#m74f4e0581a\" y=\"279\"/>\r\n      </g>\r\n     </g>\r\n     <g id=\"text_7\">\r\n      <!-- 3 -->\r\n      <defs>\r\n       <path d=\"M 40.578125 39.3125 \r\nQ 47.65625 37.796875 51.625 33 \r\nQ 55.609375 28.21875 55.609375 21.1875 \r\nQ 55.609375 10.40625 48.1875 4.484375 \r\nQ 40.765625 -1.421875 27.09375 -1.421875 \r\nQ 22.515625 -1.421875 17.65625 -0.515625 \r\nQ 12.796875 0.390625 7.625 2.203125 \r\nL 7.625 11.71875 \r\nQ 11.71875 9.328125 16.59375 8.109375 \r\nQ 21.484375 6.890625 26.8125 6.890625 \r\nQ 36.078125 6.890625 40.9375 10.546875 \r\nQ 45.796875 14.203125 45.796875 21.1875 \r\nQ 45.796875 27.640625 41.28125 31.265625 \r\nQ 36.765625 34.90625 28.71875 34.90625 \r\nL 20.21875 34.90625 \r\nL 20.21875 43.015625 \r\nL 29.109375 43.015625 \r\nQ 36.375 43.015625 40.234375 45.921875 \r\nQ 44.09375 48.828125 44.09375 54.296875 \r\nQ 44.09375 59.90625 40.109375 62.90625 \r\nQ 36.140625 65.921875 28.71875 65.921875 \r\nQ 24.65625 65.921875 20.015625 65.03125 \r\nQ 15.375 64.15625 9.8125 62.3125 \r\nL 9.8125 71.09375 \r\nQ 15.4375 72.65625 20.34375 73.4375 \r\nQ 25.25 74.21875 29.59375 74.21875 \r\nQ 40.828125 74.21875 47.359375 69.109375 \r\nQ 53.90625 64.015625 53.90625 55.328125 \r\nQ 53.90625 49.265625 50.4375 45.09375 \r\nQ 46.96875 40.921875 40.578125 39.3125 \r\nz\r\n\" id=\"DejaVuSans-51\"/>\r\n      </defs>\r\n      <g transform=\"translate(592.821875 292.3625)rotate(-90)scale(0.1 -0.1)\">\r\n       <use xlink:href=\"#DejaVuSans-51\"/>\r\n      </g>\r\n     </g>\r\n    </g>\r\n    <g id=\"xtick_8\">\r\n     <g id=\"line2d_8\">\r\n      <g>\r\n       <use style=\"stroke:#000000;stroke-width:0.8;\" x=\"673.7625\" xlink:href=\"#m74f4e0581a\" y=\"279\"/>\r\n      </g>\r\n     </g>\r\n     <g id=\"text_8\">\r\n      <!-- 2 -->\r\n      <defs>\r\n       <path d=\"M 19.1875 8.296875 \r\nL 53.609375 8.296875 \r\nL 53.609375 0 \r\nL 7.328125 0 \r\nL 7.328125 8.296875 \r\nQ 12.9375 14.109375 22.625 23.890625 \r\nQ 32.328125 33.6875 34.8125 36.53125 \r\nQ 39.546875 41.84375 41.421875 45.53125 \r\nQ 43.3125 49.21875 43.3125 52.78125 \r\nQ 43.3125 58.59375 39.234375 62.25 \r\nQ 35.15625 65.921875 28.609375 65.921875 \r\nQ 23.96875 65.921875 18.8125 64.3125 \r\nQ 13.671875 62.703125 7.8125 59.421875 \r\nL 7.8125 69.390625 \r\nQ 13.765625 71.78125 18.9375 73 \r\nQ 24.125 74.21875 28.421875 74.21875 \r\nQ 39.75 74.21875 46.484375 68.546875 \r\nQ 53.21875 62.890625 53.21875 53.421875 \r\nQ 53.21875 48.921875 51.53125 44.890625 \r\nQ 49.859375 40.875 45.40625 35.40625 \r\nQ 44.1875 33.984375 37.640625 27.21875 \r\nQ 31.109375 20.453125 19.1875 8.296875 \r\nz\r\n\" id=\"DejaVuSans-50\"/>\r\n      </defs>\r\n      <g transform=\"translate(676.521875 292.3625)rotate(-90)scale(0.1 -0.1)\">\r\n       <use xlink:href=\"#DejaVuSans-50\"/>\r\n      </g>\r\n     </g>\r\n    </g>\r\n    <g id=\"xtick_9\">\r\n     <g id=\"line2d_9\">\r\n      <g>\r\n       <use style=\"stroke:#000000;stroke-width:0.8;\" x=\"757.4625\" xlink:href=\"#m74f4e0581a\" y=\"279\"/>\r\n      </g>\r\n     </g>\r\n     <g id=\"text_9\">\r\n      <!-- 1 -->\r\n      <defs>\r\n       <path d=\"M 12.40625 8.296875 \r\nL 28.515625 8.296875 \r\nL 28.515625 63.921875 \r\nL 10.984375 60.40625 \r\nL 10.984375 69.390625 \r\nL 28.421875 72.90625 \r\nL 38.28125 72.90625 \r\nL 38.28125 8.296875 \r\nL 54.390625 8.296875 \r\nL 54.390625 0 \r\nL 12.40625 0 \r\nz\r\n\" id=\"DejaVuSans-49\"/>\r\n      </defs>\r\n      <g transform=\"translate(760.221875 292.3625)rotate(-90)scale(0.1 -0.1)\">\r\n       <use xlink:href=\"#DejaVuSans-49\"/>\r\n      </g>\r\n     </g>\r\n    </g>\r\n    <g id=\"xtick_10\">\r\n     <g id=\"line2d_10\">\r\n      <g>\r\n       <use style=\"stroke:#000000;stroke-width:0.8;\" x=\"841.1625\" xlink:href=\"#m74f4e0581a\" y=\"279\"/>\r\n      </g>\r\n     </g>\r\n     <g id=\"text_10\">\r\n      <!-- 0 -->\r\n      <defs>\r\n       <path d=\"M 31.78125 66.40625 \r\nQ 24.171875 66.40625 20.328125 58.90625 \r\nQ 16.5 51.421875 16.5 36.375 \r\nQ 16.5 21.390625 20.328125 13.890625 \r\nQ 24.171875 6.390625 31.78125 6.390625 \r\nQ 39.453125 6.390625 43.28125 13.890625 \r\nQ 47.125 21.390625 47.125 36.375 \r\nQ 47.125 51.421875 43.28125 58.90625 \r\nQ 39.453125 66.40625 31.78125 66.40625 \r\nz\r\nM 31.78125 74.21875 \r\nQ 44.046875 74.21875 50.515625 64.515625 \r\nQ 56.984375 54.828125 56.984375 36.375 \r\nQ 56.984375 17.96875 50.515625 8.265625 \r\nQ 44.046875 -1.421875 31.78125 -1.421875 \r\nQ 19.53125 -1.421875 13.0625 8.265625 \r\nQ 6.59375 17.96875 6.59375 36.375 \r\nQ 6.59375 54.828125 13.0625 64.515625 \r\nQ 19.53125 74.21875 31.78125 74.21875 \r\nz\r\n\" id=\"DejaVuSans-48\"/>\r\n      </defs>\r\n      <g transform=\"translate(843.921875 292.3625)rotate(-90)scale(0.1 -0.1)\">\r\n       <use xlink:href=\"#DejaVuSans-48\"/>\r\n      </g>\r\n     </g>\r\n    </g>\r\n   </g>\r\n   <g id=\"matplotlib.axis_2\">\r\n    <g id=\"ytick_1\">\r\n     <g id=\"line2d_11\">\r\n      <defs>\r\n       <path d=\"M 0 0 \r\nL -3.5 0 \r\n\" id=\"md88bcec6da\" style=\"stroke:#000000;stroke-width:0.8;\"/>\r\n      </defs>\r\n      <g>\r\n       <use style=\"stroke:#000000;stroke-width:0.8;\" x=\"46.0125\" xlink:href=\"#md88bcec6da\" y=\"279\"/>\r\n      </g>\r\n     </g>\r\n     <g id=\"text_11\">\r\n      <!-- 0 -->\r\n      <g transform=\"translate(32.65 282.799219)scale(0.1 -0.1)\">\r\n       <use xlink:href=\"#DejaVuSans-48\"/>\r\n      </g>\r\n     </g>\r\n    </g>\r\n    <g id=\"ytick_2\">\r\n     <g id=\"line2d_12\">\r\n      <g>\r\n       <use style=\"stroke:#000000;stroke-width:0.8;\" x=\"46.0125\" xlink:href=\"#md88bcec6da\" y=\"233.370326\"/>\r\n      </g>\r\n     </g>\r\n     <g id=\"text_12\">\r\n      <!-- 5000 -->\r\n      <g transform=\"translate(13.5625 237.169544)scale(0.1 -0.1)\">\r\n       <use xlink:href=\"#DejaVuSans-53\"/>\r\n       <use x=\"63.623047\" xlink:href=\"#DejaVuSans-48\"/>\r\n       <use x=\"127.246094\" xlink:href=\"#DejaVuSans-48\"/>\r\n       <use x=\"190.869141\" xlink:href=\"#DejaVuSans-48\"/>\r\n      </g>\r\n     </g>\r\n    </g>\r\n    <g id=\"ytick_3\">\r\n     <g id=\"line2d_13\">\r\n      <g>\r\n       <use style=\"stroke:#000000;stroke-width:0.8;\" x=\"46.0125\" xlink:href=\"#md88bcec6da\" y=\"187.740651\"/>\r\n      </g>\r\n     </g>\r\n     <g id=\"text_13\">\r\n      <!-- 10000 -->\r\n      <g transform=\"translate(7.2 191.53987)scale(0.1 -0.1)\">\r\n       <use xlink:href=\"#DejaVuSans-49\"/>\r\n       <use x=\"63.623047\" xlink:href=\"#DejaVuSans-48\"/>\r\n       <use x=\"127.246094\" xlink:href=\"#DejaVuSans-48\"/>\r\n       <use x=\"190.869141\" xlink:href=\"#DejaVuSans-48\"/>\r\n       <use x=\"254.492188\" xlink:href=\"#DejaVuSans-48\"/>\r\n      </g>\r\n     </g>\r\n    </g>\r\n    <g id=\"ytick_4\">\r\n     <g id=\"line2d_14\">\r\n      <g>\r\n       <use style=\"stroke:#000000;stroke-width:0.8;\" x=\"46.0125\" xlink:href=\"#md88bcec6da\" y=\"142.110977\"/>\r\n      </g>\r\n     </g>\r\n     <g id=\"text_14\">\r\n      <!-- 15000 -->\r\n      <g transform=\"translate(7.2 145.910196)scale(0.1 -0.1)\">\r\n       <use xlink:href=\"#DejaVuSans-49\"/>\r\n       <use x=\"63.623047\" xlink:href=\"#DejaVuSans-53\"/>\r\n       <use x=\"127.246094\" xlink:href=\"#DejaVuSans-48\"/>\r\n       <use x=\"190.869141\" xlink:href=\"#DejaVuSans-48\"/>\r\n       <use x=\"254.492188\" xlink:href=\"#DejaVuSans-48\"/>\r\n      </g>\r\n     </g>\r\n    </g>\r\n    <g id=\"ytick_5\">\r\n     <g id=\"line2d_15\">\r\n      <g>\r\n       <use style=\"stroke:#000000;stroke-width:0.8;\" x=\"46.0125\" xlink:href=\"#md88bcec6da\" y=\"96.481302\"/>\r\n      </g>\r\n     </g>\r\n     <g id=\"text_15\">\r\n      <!-- 20000 -->\r\n      <g transform=\"translate(7.2 100.280521)scale(0.1 -0.1)\">\r\n       <use xlink:href=\"#DejaVuSans-50\"/>\r\n       <use x=\"63.623047\" xlink:href=\"#DejaVuSans-48\"/>\r\n       <use x=\"127.246094\" xlink:href=\"#DejaVuSans-48\"/>\r\n       <use x=\"190.869141\" xlink:href=\"#DejaVuSans-48\"/>\r\n       <use x=\"254.492188\" xlink:href=\"#DejaVuSans-48\"/>\r\n      </g>\r\n     </g>\r\n    </g>\r\n    <g id=\"ytick_6\">\r\n     <g id=\"line2d_16\">\r\n      <g>\r\n       <use style=\"stroke:#000000;stroke-width:0.8;\" x=\"46.0125\" xlink:href=\"#md88bcec6da\" y=\"50.851628\"/>\r\n      </g>\r\n     </g>\r\n     <g id=\"text_16\">\r\n      <!-- 25000 -->\r\n      <g transform=\"translate(7.2 54.650847)scale(0.1 -0.1)\">\r\n       <use xlink:href=\"#DejaVuSans-50\"/>\r\n       <use x=\"63.623047\" xlink:href=\"#DejaVuSans-53\"/>\r\n       <use x=\"127.246094\" xlink:href=\"#DejaVuSans-48\"/>\r\n       <use x=\"190.869141\" xlink:href=\"#DejaVuSans-48\"/>\r\n       <use x=\"254.492188\" xlink:href=\"#DejaVuSans-48\"/>\r\n      </g>\r\n     </g>\r\n    </g>\r\n   </g>\r\n   <g id=\"patch_13\">\r\n    <path d=\"M 46.0125 279 \r\nL 46.0125 7.2 \r\n\" style=\"fill:none;stroke:#000000;stroke-linecap:square;stroke-linejoin:miter;stroke-width:0.8;\"/>\r\n   </g>\r\n   <g id=\"patch_14\">\r\n    <path d=\"M 883.0125 279 \r\nL 883.0125 7.2 \r\n\" style=\"fill:none;stroke:#000000;stroke-linecap:square;stroke-linejoin:miter;stroke-width:0.8;\"/>\r\n   </g>\r\n   <g id=\"patch_15\">\r\n    <path d=\"M 46.0125 279 \r\nL 883.0125 279 \r\n\" style=\"fill:none;stroke:#000000;stroke-linecap:square;stroke-linejoin:miter;stroke-width:0.8;\"/>\r\n   </g>\r\n   <g id=\"patch_16\">\r\n    <path d=\"M 46.0125 7.2 \r\nL 883.0125 7.2 \r\n\" style=\"fill:none;stroke:#000000;stroke-linecap:square;stroke-linejoin:miter;stroke-width:0.8;\"/>\r\n   </g>\r\n  </g>\r\n </g>\r\n <defs>\r\n  <clipPath id=\"p92c128df6e\">\r\n   <rect height=\"271.8\" width=\"837\" x=\"46.0125\" y=\"7.2\"/>\r\n  </clipPath>\r\n </defs>\r\n</svg>\r\n",
      "image/png": "[encoded data removed]"
     },
     "metadata": {
      "needs_background": "light"
     }
    }
   ],
   "source": [
    "df['Credit Score Range'].value_counts().plot(kind='bar',figsize=(15,5))"
   ]
  },
  {
   "cell_type": "code",
   "execution_count": 8,
   "metadata": {},
   "outputs": [],
   "source": [
    "to_drop = [\"Credit Score\", \"Credit Score Range\"]\n",
    "X = df.drop(to_drop, axis = 1)\n",
    "labels = df[\"Credit Score Range\"]"
   ]
  },
  {
   "cell_type": "code",
   "execution_count": 9,
   "metadata": {},
   "outputs": [
    {
     "output_type": "stream",
     "name": "stdout",
     "text": [
      "training data has 58987 observation with 18 features\ntest data has 19663 observation with 18 features\n"
     ]
    }
   ],
   "source": [
    "X_train, X_test, y_train, y_test = train_test_split(X, labels, test_size=0.25, random_state=1)\n",
    "print('training data has ' + str(X_train.shape[0]) + ' observation with ' + str(X_train.shape[1]) + ' features')\n",
    "print('test data has ' + str(X_test.shape[0]) + ' observation with ' + str(X_test.shape[1]) + ' features')"
   ]
  },
  {
   "cell_type": "code",
   "execution_count": 10,
   "metadata": {},
   "outputs": [],
   "source": [
    "X_train = X_train.to_numpy()\n",
    "y_train = y_train.to_numpy()"
   ]
  },
  {
   "source": [
    "The result of oversampling the traning set is display below:"
   ],
   "cell_type": "markdown",
   "metadata": {}
  },
  {
   "cell_type": "code",
   "execution_count": 11,
   "metadata": {},
   "outputs": [
    {
     "output_type": "stream",
     "name": "stdout",
     "text": [
      "Class=0, n=21423 (27.24%)\nClass=1, n=21423 (27.24%)\nClass=2, n=21423 (27.24%)\nClass=3, n=21423 (27.24%)\nClass=4, n=21423 (27.24%)\nClass=5, n=21423 (27.24%)\nClass=6, n=21423 (27.24%)\nClass=7, n=21423 (27.24%)\nClass=8, n=21423 (27.24%)\nClass=9, n=21423 (27.24%)\n"
     ]
    },
    {
     "output_type": "display_data",
     "data": {
      "text/plain": "<Figure size 432x288 with 1 Axes>",
      "image/svg+xml": "<?xml version=\"1.0\" encoding=\"utf-8\" standalone=\"no\"?>\r\n<!DOCTYPE svg PUBLIC \"-//W3C//DTD SVG 1.1//EN\"\r\n  \"http://www.w3.org/Graphics/SVG/1.1/DTD/svg11.dtd\">\r\n<!-- Created with matplotlib (https://matplotlib.org/) -->\r\n<svg height=\"248.518125pt\" version=\"1.1\" viewBox=\"0 0 388.0125 248.518125\" width=\"388.0125pt\" xmlns=\"http://www.w3.org/2000/svg\" xmlns:xlink=\"http://www.w3.org/1999/xlink\">\r\n <defs>\r\n  <style type=\"text/css\">\r\n*{stroke-linecap:butt;stroke-linejoin:round;}\r\n  </style>\r\n </defs>\r\n <g id=\"figure_1\">\r\n  <g id=\"patch_1\">\r\n   <path d=\"M 0 248.518125 \r\nL 388.0125 248.518125 \r\nL 388.0125 0 \r\nL 0 0 \r\nz\r\n\" style=\"fill:none;\"/>\r\n  </g>\r\n  <g id=\"axes_1\">\r\n   <g id=\"patch_2\">\r\n    <path d=\"M 46.0125 224.64 \r\nL 380.8125 224.64 \r\nL 380.8125 7.2 \r\nL 46.0125 7.2 \r\nz\r\n\" style=\"fill:#ffffff;\"/>\r\n   </g>\r\n   <g id=\"patch_3\">\r\n    <path clip-path=\"url(#pe5324628a5)\" d=\"M 340.748307 224.64 \r\nL 365.594318 224.64 \r\nL 365.594318 17.554286 \r\nL 340.748307 17.554286 \r\nz\r\n\" style=\"fill:#1f77b4;\"/>\r\n   </g>\r\n   <g id=\"patch_4\">\r\n    <path clip-path=\"url(#pe5324628a5)\" d=\"M 216.518251 224.64 \r\nL 241.364263 224.64 \r\nL 241.364263 17.554286 \r\nL 216.518251 17.554286 \r\nz\r\n\" style=\"fill:#1f77b4;\"/>\r\n   </g>\r\n   <g id=\"patch_5\">\r\n    <path clip-path=\"url(#pe5324628a5)\" d=\"M 247.575765 224.64 \r\nL 272.421776 224.64 \r\nL 272.421776 17.554286 \r\nL 247.575765 17.554286 \r\nz\r\n\" style=\"fill:#1f77b4;\"/>\r\n   </g>\r\n   <g id=\"patch_6\">\r\n    <path clip-path=\"url(#pe5324628a5)\" d=\"M 309.690793 224.64 \r\nL 334.536804 224.64 \r\nL 334.536804 17.554286 \r\nL 309.690793 17.554286 \r\nz\r\n\" style=\"fill:#1f77b4;\"/>\r\n   </g>\r\n   <g id=\"patch_7\">\r\n    <path clip-path=\"url(#pe5324628a5)\" d=\"M 278.633279 224.64 \r\nL 303.47929 224.64 \r\nL 303.47929 17.554286 \r\nL 278.633279 17.554286 \r\nz\r\n\" style=\"fill:#1f77b4;\"/>\r\n   </g>\r\n   <g id=\"patch_8\">\r\n    <path clip-path=\"url(#pe5324628a5)\" d=\"M 154.403224 224.64 \r\nL 179.249235 224.64 \r\nL 179.249235 17.554286 \r\nL 154.403224 17.554286 \r\nz\r\n\" style=\"fill:#1f77b4;\"/>\r\n   </g>\r\n   <g id=\"patch_9\">\r\n    <path clip-path=\"url(#pe5324628a5)\" d=\"M 185.460737 224.64 \r\nL 210.306749 224.64 \r\nL 210.306749 17.554286 \r\nL 185.460737 17.554286 \r\nz\r\n\" style=\"fill:#1f77b4;\"/>\r\n   </g>\r\n   <g id=\"patch_10\">\r\n    <path clip-path=\"url(#pe5324628a5)\" d=\"M 123.34571 224.64 \r\nL 148.191721 224.64 \r\nL 148.191721 17.554286 \r\nL 123.34571 17.554286 \r\nz\r\n\" style=\"fill:#1f77b4;\"/>\r\n   </g>\r\n   <g id=\"patch_11\">\r\n    <path clip-path=\"url(#pe5324628a5)\" d=\"M 92.288196 224.64 \r\nL 117.134207 224.64 \r\nL 117.134207 17.554286 \r\nL 92.288196 17.554286 \r\nz\r\n\" style=\"fill:#1f77b4;\"/>\r\n   </g>\r\n   <g id=\"patch_12\">\r\n    <path clip-path=\"url(#pe5324628a5)\" d=\"M 61.230682 224.64 \r\nL 86.076693 224.64 \r\nL 86.076693 17.554286 \r\nL 61.230682 17.554286 \r\nz\r\n\" style=\"fill:#1f77b4;\"/>\r\n   </g>\r\n   <g id=\"matplotlib.axis_1\">\r\n    <g id=\"xtick_1\">\r\n     <g id=\"line2d_1\">\r\n      <defs>\r\n       <path d=\"M 0 0 \r\nL 0 3.5 \r\n\" id=\"m5647797c50\" style=\"stroke:#000000;stroke-width:0.8;\"/>\r\n      </defs>\r\n      <g>\r\n       <use style=\"stroke:#000000;stroke-width:0.8;\" x=\"73.653687\" xlink:href=\"#m5647797c50\" y=\"224.64\"/>\r\n      </g>\r\n     </g>\r\n     <g id=\"text_1\">\r\n      <!-- 0 -->\r\n      <defs>\r\n       <path d=\"M 31.78125 66.40625 \r\nQ 24.171875 66.40625 20.328125 58.90625 \r\nQ 16.5 51.421875 16.5 36.375 \r\nQ 16.5 21.390625 20.328125 13.890625 \r\nQ 24.171875 6.390625 31.78125 6.390625 \r\nQ 39.453125 6.390625 43.28125 13.890625 \r\nQ 47.125 21.390625 47.125 36.375 \r\nQ 47.125 51.421875 43.28125 58.90625 \r\nQ 39.453125 66.40625 31.78125 66.40625 \r\nz\r\nM 31.78125 74.21875 \r\nQ 44.046875 74.21875 50.515625 64.515625 \r\nQ 56.984375 54.828125 56.984375 36.375 \r\nQ 56.984375 17.96875 50.515625 8.265625 \r\nQ 44.046875 -1.421875 31.78125 -1.421875 \r\nQ 19.53125 -1.421875 13.0625 8.265625 \r\nQ 6.59375 17.96875 6.59375 36.375 \r\nQ 6.59375 54.828125 13.0625 64.515625 \r\nQ 19.53125 74.21875 31.78125 74.21875 \r\nz\r\n\" id=\"DejaVuSans-48\"/>\r\n      </defs>\r\n      <g transform=\"translate(70.472437 239.238437)scale(0.1 -0.1)\">\r\n       <use xlink:href=\"#DejaVuSans-48\"/>\r\n      </g>\r\n     </g>\r\n    </g>\r\n    <g id=\"xtick_2\">\r\n     <g id=\"line2d_2\">\r\n      <g>\r\n       <use style=\"stroke:#000000;stroke-width:0.8;\" x=\"135.768715\" xlink:href=\"#m5647797c50\" y=\"224.64\"/>\r\n      </g>\r\n     </g>\r\n     <g id=\"text_2\">\r\n      <!-- 2 -->\r\n      <defs>\r\n       <path d=\"M 19.1875 8.296875 \r\nL 53.609375 8.296875 \r\nL 53.609375 0 \r\nL 7.328125 0 \r\nL 7.328125 8.296875 \r\nQ 12.9375 14.109375 22.625 23.890625 \r\nQ 32.328125 33.6875 34.8125 36.53125 \r\nQ 39.546875 41.84375 41.421875 45.53125 \r\nQ 43.3125 49.21875 43.3125 52.78125 \r\nQ 43.3125 58.59375 39.234375 62.25 \r\nQ 35.15625 65.921875 28.609375 65.921875 \r\nQ 23.96875 65.921875 18.8125 64.3125 \r\nQ 13.671875 62.703125 7.8125 59.421875 \r\nL 7.8125 69.390625 \r\nQ 13.765625 71.78125 18.9375 73 \r\nQ 24.125 74.21875 28.421875 74.21875 \r\nQ 39.75 74.21875 46.484375 68.546875 \r\nQ 53.21875 62.890625 53.21875 53.421875 \r\nQ 53.21875 48.921875 51.53125 44.890625 \r\nQ 49.859375 40.875 45.40625 35.40625 \r\nQ 44.1875 33.984375 37.640625 27.21875 \r\nQ 31.109375 20.453125 19.1875 8.296875 \r\nz\r\n\" id=\"DejaVuSans-50\"/>\r\n      </defs>\r\n      <g transform=\"translate(132.587465 239.238437)scale(0.1 -0.1)\">\r\n       <use xlink:href=\"#DejaVuSans-50\"/>\r\n      </g>\r\n     </g>\r\n    </g>\r\n    <g id=\"xtick_3\">\r\n     <g id=\"line2d_3\">\r\n      <g>\r\n       <use style=\"stroke:#000000;stroke-width:0.8;\" x=\"197.883743\" xlink:href=\"#m5647797c50\" y=\"224.64\"/>\r\n      </g>\r\n     </g>\r\n     <g id=\"text_3\">\r\n      <!-- 4 -->\r\n      <defs>\r\n       <path d=\"M 37.796875 64.3125 \r\nL 12.890625 25.390625 \r\nL 37.796875 25.390625 \r\nz\r\nM 35.203125 72.90625 \r\nL 47.609375 72.90625 \r\nL 47.609375 25.390625 \r\nL 58.015625 25.390625 \r\nL 58.015625 17.1875 \r\nL 47.609375 17.1875 \r\nL 47.609375 0 \r\nL 37.796875 0 \r\nL 37.796875 17.1875 \r\nL 4.890625 17.1875 \r\nL 4.890625 26.703125 \r\nz\r\n\" id=\"DejaVuSans-52\"/>\r\n      </defs>\r\n      <g transform=\"translate(194.702493 239.238437)scale(0.1 -0.1)\">\r\n       <use xlink:href=\"#DejaVuSans-52\"/>\r\n      </g>\r\n     </g>\r\n    </g>\r\n    <g id=\"xtick_4\">\r\n     <g id=\"line2d_4\">\r\n      <g>\r\n       <use style=\"stroke:#000000;stroke-width:0.8;\" x=\"259.998771\" xlink:href=\"#m5647797c50\" y=\"224.64\"/>\r\n      </g>\r\n     </g>\r\n     <g id=\"text_4\">\r\n      <!-- 6 -->\r\n      <defs>\r\n       <path d=\"M 33.015625 40.375 \r\nQ 26.375 40.375 22.484375 35.828125 \r\nQ 18.609375 31.296875 18.609375 23.390625 \r\nQ 18.609375 15.53125 22.484375 10.953125 \r\nQ 26.375 6.390625 33.015625 6.390625 \r\nQ 39.65625 6.390625 43.53125 10.953125 \r\nQ 47.40625 15.53125 47.40625 23.390625 \r\nQ 47.40625 31.296875 43.53125 35.828125 \r\nQ 39.65625 40.375 33.015625 40.375 \r\nz\r\nM 52.59375 71.296875 \r\nL 52.59375 62.3125 \r\nQ 48.875 64.0625 45.09375 64.984375 \r\nQ 41.3125 65.921875 37.59375 65.921875 \r\nQ 27.828125 65.921875 22.671875 59.328125 \r\nQ 17.53125 52.734375 16.796875 39.40625 \r\nQ 19.671875 43.65625 24.015625 45.921875 \r\nQ 28.375 48.1875 33.59375 48.1875 \r\nQ 44.578125 48.1875 50.953125 41.515625 \r\nQ 57.328125 34.859375 57.328125 23.390625 \r\nQ 57.328125 12.15625 50.6875 5.359375 \r\nQ 44.046875 -1.421875 33.015625 -1.421875 \r\nQ 20.359375 -1.421875 13.671875 8.265625 \r\nQ 6.984375 17.96875 6.984375 36.375 \r\nQ 6.984375 53.65625 15.1875 63.9375 \r\nQ 23.390625 74.21875 37.203125 74.21875 \r\nQ 40.921875 74.21875 44.703125 73.484375 \r\nQ 48.484375 72.75 52.59375 71.296875 \r\nz\r\n\" id=\"DejaVuSans-54\"/>\r\n      </defs>\r\n      <g transform=\"translate(256.817521 239.238437)scale(0.1 -0.1)\">\r\n       <use xlink:href=\"#DejaVuSans-54\"/>\r\n      </g>\r\n     </g>\r\n    </g>\r\n    <g id=\"xtick_5\">\r\n     <g id=\"line2d_5\">\r\n      <g>\r\n       <use style=\"stroke:#000000;stroke-width:0.8;\" x=\"322.113799\" xlink:href=\"#m5647797c50\" y=\"224.64\"/>\r\n      </g>\r\n     </g>\r\n     <g id=\"text_5\">\r\n      <!-- 8 -->\r\n      <defs>\r\n       <path d=\"M 31.78125 34.625 \r\nQ 24.75 34.625 20.71875 30.859375 \r\nQ 16.703125 27.09375 16.703125 20.515625 \r\nQ 16.703125 13.921875 20.71875 10.15625 \r\nQ 24.75 6.390625 31.78125 6.390625 \r\nQ 38.8125 6.390625 42.859375 10.171875 \r\nQ 46.921875 13.96875 46.921875 20.515625 \r\nQ 46.921875 27.09375 42.890625 30.859375 \r\nQ 38.875 34.625 31.78125 34.625 \r\nz\r\nM 21.921875 38.8125 \r\nQ 15.578125 40.375 12.03125 44.71875 \r\nQ 8.5 49.078125 8.5 55.328125 \r\nQ 8.5 64.0625 14.71875 69.140625 \r\nQ 20.953125 74.21875 31.78125 74.21875 \r\nQ 42.671875 74.21875 48.875 69.140625 \r\nQ 55.078125 64.0625 55.078125 55.328125 \r\nQ 55.078125 49.078125 51.53125 44.71875 \r\nQ 48 40.375 41.703125 38.8125 \r\nQ 48.828125 37.15625 52.796875 32.3125 \r\nQ 56.78125 27.484375 56.78125 20.515625 \r\nQ 56.78125 9.90625 50.3125 4.234375 \r\nQ 43.84375 -1.421875 31.78125 -1.421875 \r\nQ 19.734375 -1.421875 13.25 4.234375 \r\nQ 6.78125 9.90625 6.78125 20.515625 \r\nQ 6.78125 27.484375 10.78125 32.3125 \r\nQ 14.796875 37.15625 21.921875 38.8125 \r\nz\r\nM 18.3125 54.390625 \r\nQ 18.3125 48.734375 21.84375 45.5625 \r\nQ 25.390625 42.390625 31.78125 42.390625 \r\nQ 38.140625 42.390625 41.71875 45.5625 \r\nQ 45.3125 48.734375 45.3125 54.390625 \r\nQ 45.3125 60.0625 41.71875 63.234375 \r\nQ 38.140625 66.40625 31.78125 66.40625 \r\nQ 25.390625 66.40625 21.84375 63.234375 \r\nQ 18.3125 60.0625 18.3125 54.390625 \r\nz\r\n\" id=\"DejaVuSans-56\"/>\r\n      </defs>\r\n      <g transform=\"translate(318.932549 239.238437)scale(0.1 -0.1)\">\r\n       <use xlink:href=\"#DejaVuSans-56\"/>\r\n      </g>\r\n     </g>\r\n    </g>\r\n   </g>\r\n   <g id=\"matplotlib.axis_2\">\r\n    <g id=\"ytick_1\">\r\n     <g id=\"line2d_6\">\r\n      <defs>\r\n       <path d=\"M 0 0 \r\nL -3.5 0 \r\n\" id=\"m288a1edff5\" style=\"stroke:#000000;stroke-width:0.8;\"/>\r\n      </defs>\r\n      <g>\r\n       <use style=\"stroke:#000000;stroke-width:0.8;\" x=\"46.0125\" xlink:href=\"#m288a1edff5\" y=\"224.64\"/>\r\n      </g>\r\n     </g>\r\n     <g id=\"text_6\">\r\n      <!-- 0 -->\r\n      <g transform=\"translate(32.65 228.439219)scale(0.1 -0.1)\">\r\n       <use xlink:href=\"#DejaVuSans-48\"/>\r\n      </g>\r\n     </g>\r\n    </g>\r\n    <g id=\"ytick_2\">\r\n     <g id=\"line2d_7\">\r\n      <g>\r\n       <use style=\"stroke:#000000;stroke-width:0.8;\" x=\"46.0125\" xlink:href=\"#m288a1edff5\" y=\"200.473717\"/>\r\n      </g>\r\n     </g>\r\n     <g id=\"text_7\">\r\n      <!-- 2500 -->\r\n      <defs>\r\n       <path d=\"M 10.796875 72.90625 \r\nL 49.515625 72.90625 \r\nL 49.515625 64.59375 \r\nL 19.828125 64.59375 \r\nL 19.828125 46.734375 \r\nQ 21.96875 47.46875 24.109375 47.828125 \r\nQ 26.265625 48.1875 28.421875 48.1875 \r\nQ 40.625 48.1875 47.75 41.5 \r\nQ 54.890625 34.8125 54.890625 23.390625 \r\nQ 54.890625 11.625 47.5625 5.09375 \r\nQ 40.234375 -1.421875 26.90625 -1.421875 \r\nQ 22.3125 -1.421875 17.546875 -0.640625 \r\nQ 12.796875 0.140625 7.71875 1.703125 \r\nL 7.71875 11.625 \r\nQ 12.109375 9.234375 16.796875 8.0625 \r\nQ 21.484375 6.890625 26.703125 6.890625 \r\nQ 35.15625 6.890625 40.078125 11.328125 \r\nQ 45.015625 15.765625 45.015625 23.390625 \r\nQ 45.015625 31 40.078125 35.4375 \r\nQ 35.15625 39.890625 26.703125 39.890625 \r\nQ 22.75 39.890625 18.8125 39.015625 \r\nQ 14.890625 38.140625 10.796875 36.28125 \r\nz\r\n\" id=\"DejaVuSans-53\"/>\r\n      </defs>\r\n      <g transform=\"translate(13.5625 204.272936)scale(0.1 -0.1)\">\r\n       <use xlink:href=\"#DejaVuSans-50\"/>\r\n       <use x=\"63.623047\" xlink:href=\"#DejaVuSans-53\"/>\r\n       <use x=\"127.246094\" xlink:href=\"#DejaVuSans-48\"/>\r\n       <use x=\"190.869141\" xlink:href=\"#DejaVuSans-48\"/>\r\n      </g>\r\n     </g>\r\n    </g>\r\n    <g id=\"ytick_3\">\r\n     <g id=\"line2d_8\">\r\n      <g>\r\n       <use style=\"stroke:#000000;stroke-width:0.8;\" x=\"46.0125\" xlink:href=\"#m288a1edff5\" y=\"176.307434\"/>\r\n      </g>\r\n     </g>\r\n     <g id=\"text_8\">\r\n      <!-- 5000 -->\r\n      <g transform=\"translate(13.5625 180.106652)scale(0.1 -0.1)\">\r\n       <use xlink:href=\"#DejaVuSans-53\"/>\r\n       <use x=\"63.623047\" xlink:href=\"#DejaVuSans-48\"/>\r\n       <use x=\"127.246094\" xlink:href=\"#DejaVuSans-48\"/>\r\n       <use x=\"190.869141\" xlink:href=\"#DejaVuSans-48\"/>\r\n      </g>\r\n     </g>\r\n    </g>\r\n    <g id=\"ytick_4\">\r\n     <g id=\"line2d_9\">\r\n      <g>\r\n       <use style=\"stroke:#000000;stroke-width:0.8;\" x=\"46.0125\" xlink:href=\"#m288a1edff5\" y=\"152.14115\"/>\r\n      </g>\r\n     </g>\r\n     <g id=\"text_9\">\r\n      <!-- 7500 -->\r\n      <defs>\r\n       <path d=\"M 8.203125 72.90625 \r\nL 55.078125 72.90625 \r\nL 55.078125 68.703125 \r\nL 28.609375 0 \r\nL 18.3125 0 \r\nL 43.21875 64.59375 \r\nL 8.203125 64.59375 \r\nz\r\n\" id=\"DejaVuSans-55\"/>\r\n      </defs>\r\n      <g transform=\"translate(13.5625 155.940369)scale(0.1 -0.1)\">\r\n       <use xlink:href=\"#DejaVuSans-55\"/>\r\n       <use x=\"63.623047\" xlink:href=\"#DejaVuSans-53\"/>\r\n       <use x=\"127.246094\" xlink:href=\"#DejaVuSans-48\"/>\r\n       <use x=\"190.869141\" xlink:href=\"#DejaVuSans-48\"/>\r\n      </g>\r\n     </g>\r\n    </g>\r\n    <g id=\"ytick_5\">\r\n     <g id=\"line2d_10\">\r\n      <g>\r\n       <use style=\"stroke:#000000;stroke-width:0.8;\" x=\"46.0125\" xlink:href=\"#m288a1edff5\" y=\"127.974867\"/>\r\n      </g>\r\n     </g>\r\n     <g id=\"text_10\">\r\n      <!-- 10000 -->\r\n      <defs>\r\n       <path d=\"M 12.40625 8.296875 \r\nL 28.515625 8.296875 \r\nL 28.515625 63.921875 \r\nL 10.984375 60.40625 \r\nL 10.984375 69.390625 \r\nL 28.421875 72.90625 \r\nL 38.28125 72.90625 \r\nL 38.28125 8.296875 \r\nL 54.390625 8.296875 \r\nL 54.390625 0 \r\nL 12.40625 0 \r\nz\r\n\" id=\"DejaVuSans-49\"/>\r\n      </defs>\r\n      <g transform=\"translate(7.2 131.774086)scale(0.1 -0.1)\">\r\n       <use xlink:href=\"#DejaVuSans-49\"/>\r\n       <use x=\"63.623047\" xlink:href=\"#DejaVuSans-48\"/>\r\n       <use x=\"127.246094\" xlink:href=\"#DejaVuSans-48\"/>\r\n       <use x=\"190.869141\" xlink:href=\"#DejaVuSans-48\"/>\r\n       <use x=\"254.492188\" xlink:href=\"#DejaVuSans-48\"/>\r\n      </g>\r\n     </g>\r\n    </g>\r\n    <g id=\"ytick_6\">\r\n     <g id=\"line2d_11\">\r\n      <g>\r\n       <use style=\"stroke:#000000;stroke-width:0.8;\" x=\"46.0125\" xlink:href=\"#m288a1edff5\" y=\"103.808584\"/>\r\n      </g>\r\n     </g>\r\n     <g id=\"text_11\">\r\n      <!-- 12500 -->\r\n      <g transform=\"translate(7.2 107.607803)scale(0.1 -0.1)\">\r\n       <use xlink:href=\"#DejaVuSans-49\"/>\r\n       <use x=\"63.623047\" xlink:href=\"#DejaVuSans-50\"/>\r\n       <use x=\"127.246094\" xlink:href=\"#DejaVuSans-53\"/>\r\n       <use x=\"190.869141\" xlink:href=\"#DejaVuSans-48\"/>\r\n       <use x=\"254.492188\" xlink:href=\"#DejaVuSans-48\"/>\r\n      </g>\r\n     </g>\r\n    </g>\r\n    <g id=\"ytick_7\">\r\n     <g id=\"line2d_12\">\r\n      <g>\r\n       <use style=\"stroke:#000000;stroke-width:0.8;\" x=\"46.0125\" xlink:href=\"#m288a1edff5\" y=\"79.642301\"/>\r\n      </g>\r\n     </g>\r\n     <g id=\"text_12\">\r\n      <!-- 15000 -->\r\n      <g transform=\"translate(7.2 83.441519)scale(0.1 -0.1)\">\r\n       <use xlink:href=\"#DejaVuSans-49\"/>\r\n       <use x=\"63.623047\" xlink:href=\"#DejaVuSans-53\"/>\r\n       <use x=\"127.246094\" xlink:href=\"#DejaVuSans-48\"/>\r\n       <use x=\"190.869141\" xlink:href=\"#DejaVuSans-48\"/>\r\n       <use x=\"254.492188\" xlink:href=\"#DejaVuSans-48\"/>\r\n      </g>\r\n     </g>\r\n    </g>\r\n    <g id=\"ytick_8\">\r\n     <g id=\"line2d_13\">\r\n      <g>\r\n       <use style=\"stroke:#000000;stroke-width:0.8;\" x=\"46.0125\" xlink:href=\"#m288a1edff5\" y=\"55.476017\"/>\r\n      </g>\r\n     </g>\r\n     <g id=\"text_13\">\r\n      <!-- 17500 -->\r\n      <g transform=\"translate(7.2 59.275236)scale(0.1 -0.1)\">\r\n       <use xlink:href=\"#DejaVuSans-49\"/>\r\n       <use x=\"63.623047\" xlink:href=\"#DejaVuSans-55\"/>\r\n       <use x=\"127.246094\" xlink:href=\"#DejaVuSans-53\"/>\r\n       <use x=\"190.869141\" xlink:href=\"#DejaVuSans-48\"/>\r\n       <use x=\"254.492188\" xlink:href=\"#DejaVuSans-48\"/>\r\n      </g>\r\n     </g>\r\n    </g>\r\n    <g id=\"ytick_9\">\r\n     <g id=\"line2d_14\">\r\n      <g>\r\n       <use style=\"stroke:#000000;stroke-width:0.8;\" x=\"46.0125\" xlink:href=\"#m288a1edff5\" y=\"31.309734\"/>\r\n      </g>\r\n     </g>\r\n     <g id=\"text_14\">\r\n      <!-- 20000 -->\r\n      <g transform=\"translate(7.2 35.108953)scale(0.1 -0.1)\">\r\n       <use xlink:href=\"#DejaVuSans-50\"/>\r\n       <use x=\"63.623047\" xlink:href=\"#DejaVuSans-48\"/>\r\n       <use x=\"127.246094\" xlink:href=\"#DejaVuSans-48\"/>\r\n       <use x=\"190.869141\" xlink:href=\"#DejaVuSans-48\"/>\r\n       <use x=\"254.492188\" xlink:href=\"#DejaVuSans-48\"/>\r\n      </g>\r\n     </g>\r\n    </g>\r\n   </g>\r\n   <g id=\"patch_13\">\r\n    <path d=\"M 46.0125 224.64 \r\nL 46.0125 7.2 \r\n\" style=\"fill:none;stroke:#000000;stroke-linecap:square;stroke-linejoin:miter;stroke-width:0.8;\"/>\r\n   </g>\r\n   <g id=\"patch_14\">\r\n    <path d=\"M 380.8125 224.64 \r\nL 380.8125 7.2 \r\n\" style=\"fill:none;stroke:#000000;stroke-linecap:square;stroke-linejoin:miter;stroke-width:0.8;\"/>\r\n   </g>\r\n   <g id=\"patch_15\">\r\n    <path d=\"M 46.0125 224.64 \r\nL 380.8125 224.64 \r\n\" style=\"fill:none;stroke:#000000;stroke-linecap:square;stroke-linejoin:miter;stroke-width:0.8;\"/>\r\n   </g>\r\n   <g id=\"patch_16\">\r\n    <path d=\"M 46.0125 7.2 \r\nL 380.8125 7.2 \r\n\" style=\"fill:none;stroke:#000000;stroke-linecap:square;stroke-linejoin:miter;stroke-width:0.8;\"/>\r\n   </g>\r\n  </g>\r\n </g>\r\n <defs>\r\n  <clipPath id=\"pe5324628a5\">\r\n   <rect height=\"217.44\" width=\"334.8\" x=\"46.0125\" y=\"7.2\"/>\r\n  </clipPath>\r\n </defs>\r\n</svg>\r\n",
      "image/png": "[encoded data removed]"
     },
     "metadata": {
      "needs_background": "light"
     }
    }
   ],
   "source": [
    "ros = RandomOverSampler(random_state=0)\n",
    "X_resampled, y_resampled = ros.fit_resample(X_train, y_train)\n",
    "counted_target = Counter(y_resampled)\n",
    "for Range, rangeAmount in sorted(counted_target.items()):\n",
    "    percentage = rangeAmount / len(df['Credit Score Range']) * 100\n",
    "    print('Class=%d, n=%d (%.2f%%)' % (Range, rangeAmount, percentage))\n",
    "pyplot.bar(counted_target.keys(), counted_target.values())\n",
    "pyplot.show()"
   ]
  },
  {
   "source": [
    "### Logistic Regression - Without Oversampled"
   ],
   "cell_type": "markdown",
   "metadata": {}
  },
  {
   "cell_type": "code",
   "execution_count": 12,
   "metadata": {},
   "outputs": [
    {
     "output_type": "stream",
     "name": "stdout",
     "text": [
      "Classification report for training set:\n               precision    recall  f1-score   support\n\n           0       0.00      0.00      0.00       171\n           1       0.00      0.00      0.00       311\n           2       0.00      0.00      0.00       511\n           3       0.00      0.00      0.00      1011\n           4       0.00      0.00      0.00      1967\n           5       0.24      0.00      0.01      3088\n           6       0.17      0.04      0.07      5600\n           7       0.20      0.01      0.02      9751\n           8       0.27      0.34      0.30     15154\n           9       0.49      0.86      0.62     21423\n\n    accuracy                           0.41     58987\n   macro avg       0.14      0.13      0.10     58987\nweighted avg       0.31      0.41      0.31     58987\n \n\nClassification report for testing set:\n               precision    recall  f1-score   support\n\n           0       0.00      0.00      0.00        52\n           1       0.00      0.00      0.00       115\n           2       0.00      0.00      0.00       185\n           3       0.00      0.00      0.00       319\n           4       0.00      0.00      0.00       645\n           5       0.15      0.00      0.00      1069\n           6       0.18      0.04      0.07      1873\n           7       0.21      0.01      0.02      3327\n           8       0.27      0.34      0.30      5136\n           9       0.48      0.86      0.61      6942\n\n    accuracy                           0.40     19663\n   macro avg       0.13      0.13      0.10     19663\nweighted avg       0.30      0.40      0.30     19663\n\n"
     ]
    }
   ],
   "source": [
    "Logistic_normal = LogisticRegression(penalty = 'l2', max_iter=1000)\n",
    "Logistic_normal.fit(X_train, y_train)\n",
    "\n",
    "y_pred_train = Logistic_normal.predict(X_train)\n",
    "y_pred = Logistic_normal.predict(X_test)\n",
    "\n",
    "print('Classification report for training set:\\n', classification_report(y_train, y_pred_train), '\\n')\n",
    "print('Classification report for testing set:\\n', classification_report(y_test, y_pred))"
   ]
  },
  {
   "cell_type": "markdown",
   "metadata": {},
   "source": [
    "### Logistic Regression - Oversampled"
   ]
  },
  {
   "source": [
    "We choose to build a logistic regression model is because it does not require a linear relationship between the dependent and independent variables, and the error terms do not need to be normally distributed.\n",
    "\n",
    "Sampling method: Oversampling.\n",
    "\n",
    "Hyperparameter: penalty = 'L2', max iteration = 1000.\n"
   ],
   "cell_type": "markdown",
   "metadata": {}
  },
  {
   "cell_type": "code",
   "execution_count": 33,
   "metadata": {},
   "outputs": [
    {
     "output_type": "stream",
     "name": "stdout",
     "text": [
      "Classification report for training set:\n               precision    recall  f1-score   support\n\n           0       0.20      0.47      0.28     21423\n           1       0.19      0.34      0.25     21423\n           2       0.17      0.21      0.19     21423\n           3       0.16      0.07      0.10     21423\n           4       0.15      0.03      0.05     21423\n           5       0.13      0.01      0.01     21423\n           6       0.14      0.02      0.03     21423\n           7       0.20      0.20      0.20     21423\n           8       0.20      0.14      0.16     21423\n           9       0.31      0.69      0.43     21423\n\n    accuracy                           0.22    214230\n   macro avg       0.19      0.22      0.17    214230\nweighted avg       0.19      0.22      0.17    214230\n \n\nClassification report for testing set:\n               precision    recall  f1-score   support\n\n           0       0.01      0.48      0.02        52\n           1       0.03      0.34      0.05       115\n           2       0.03      0.18      0.06       185\n           3       0.04      0.06      0.05       319\n           4       0.06      0.03      0.04       645\n           5       0.09      0.00      0.01      1069\n           6       0.19      0.03      0.05      1873\n           7       0.21      0.19      0.20      3327\n           8       0.33      0.14      0.19      5136\n           9       0.53      0.68      0.60      6942\n\n    accuracy                           0.32     19663\n   macro avg       0.15      0.21      0.13     19663\nweighted avg       0.34      0.32      0.30     19663\n\n"
     ]
    }
   ],
   "source": [
    "Logistic_oversampled = LogisticRegression(penalty = 'l2', max_iter=1000)\n",
    "Logistic_oversampled.fit(X_resampled, y_resampled)\n",
    "\n",
    "y_pred_train = Logistic_oversampled.predict(X_resampled)\n",
    "y_pred = Logistic_oversampled.predict(X_test)\n",
    "\n",
    "print('Classification report for training set:\\n', classification_report(y_resampled, y_pred_train), '\\n')\n",
    "print('Classification report for testing set:\\n', classification_report(y_test, y_pred))"
   ]
  },
  {
   "cell_type": "markdown",
   "metadata": {},
   "source": [
    "### Random Forest"
   ]
  },
  {
   "source": [
    "Assumption:Leverage bagging method to solve overfitting problems in complete decision trees\n",
    "\n",
    "Definition: Decision Trees that sample with replacement and randomly sample for features\n",
    "\n",
    "Objective: To introduce randomness and decrease variance into the model framework, thus prevent outliers impacting the model training process. \n",
    "\n",
    "Hyperparameter: number of decision trees, tree depth, number of tree nodes, number of splits of decision tree\n",
    "\n",
    "How Random Forest works: \n",
    "For example, In our training data, we have 83150 observations with 18 features, random forest sample with replacement for 58987 rows of data from the original dataset so that each decision tree in the random forest has slightly different training data with the same distribution. Each decision tree has been selected with k features( k<18), for each sample of training data, a random forest will use k features to build the best decision tree. After repeating the tree building process, we get a group of different decision trees, thus we can combine them as a random forest model and perform regression for new data. \n",
    "\n"
   ],
   "cell_type": "markdown",
   "metadata": {}
  },
  {
   "cell_type": "markdown",
   "metadata": {},
   "source": [
    "#### Random Forest Classifier(without oversample)"
   ]
  },
  {
   "cell_type": "code",
   "execution_count": 24,
   "metadata": {},
   "outputs": [],
   "source": [
    "to_drop = [\"Credit Score\", \"Credit Score Range\"]\n",
    "X = df.drop(to_drop, axis = 1)\n",
    "labels = df[\"Credit Score Range\"]"
   ]
  },
  {
   "cell_type": "code",
   "execution_count": 25,
   "metadata": {},
   "outputs": [
    {
     "output_type": "stream",
     "name": "stdout",
     "text": [
      "training data has 58987 observation with 18 features\ntest data has 19663 observation with 18 features\n"
     ]
    }
   ],
   "source": [
    "from sklearn.model_selection import train_test_split\n",
    "X_train, X_test, y_train, y_test = train_test_split(X, labels, test_size=0.25, random_state=1)\n",
    "print('training data has ' + str(X_train.shape[0]) + ' observation with ' + str(X_train.shape[1]) + ' features')\n",
    "print('test data has ' + str(X_test.shape[0]) + ' observation with ' + str(X_test.shape[1]) + ' features')"
   ]
  },
  {
   "cell_type": "code",
   "execution_count": 26,
   "metadata": {},
   "outputs": [
    {
     "output_type": "stream",
     "name": "stdout",
     "text": [
      "[0.47101204 0.47516528 0.4714758  0.47715521 0.47495126]\nModel accuracy of Random Forest Classfier is 0.4739519169734986\n"
     ]
    }
   ],
   "source": [
    "from sklearn.ensemble import RandomForestClassifier\n",
    "from sklearn import model_selection\n",
    "classifier_RF = RandomForestClassifier()\n",
    "cv_score = model_selection.cross_val_score(classifier_RF, X_train, y_train, cv=5)\n",
    "print(cv_score)\n",
    "print('Model accuracy of Random Forest Classfier' + ' is ' + str(cv_score.mean()))"
   ]
  },
  {
   "cell_type": "code",
   "execution_count": 27,
   "metadata": {},
   "outputs": [],
   "source": [
    "from sklearn.model_selection import GridSearchCV\n",
    "\n",
    "# helper function for printing out grid search results \n",
    "def print_grid_search_metrics(gs):\n",
    "    print (\"Best score: \" + str(gs.best_score_))\n",
    "    print (\"Best parameters set:\")\n",
    "    best_parameters = gs.best_params_\n",
    "    for param_name in sorted(best_parameters.keys()):\n",
    "        print(param_name + ':' + str(best_parameters[param_name]))"
   ]
  },
  {
   "cell_type": "code",
   "execution_count": 28,
   "metadata": {},
   "outputs": [
    {
     "output_type": "execute_result",
     "data": {
      "text/plain": [
       "GridSearchCV(cv=5, estimator=RandomForestClassifier(),\n",
       "             param_grid={'n_estimators': [40, 60, 80]})"
      ]
     },
     "metadata": {},
     "execution_count": 28
    }
   ],
   "source": [
    "#find optimal hyperparameters of Random forest\n",
    "from sklearn.model_selection import GridSearchCV\n",
    "parameters = {\n",
    "    'n_estimators' : [40,60,80]\n",
    "}\n",
    "Grid_RF = GridSearchCV(RandomForestClassifier(),parameters, cv=5)\n",
    "Grid_RF.fit(X_train, y_train)"
   ]
  },
  {
   "cell_type": "code",
   "execution_count": 29,
   "metadata": {},
   "outputs": [
    {
     "output_type": "stream",
     "name": "stdout",
     "text": [
      "Best score: 0.4704426622695916\nBest parameters set:\nn_estimators:80\n"
     ]
    }
   ],
   "source": [
    "print_grid_search_metrics(Grid_RF)"
   ]
  },
  {
   "cell_type": "code",
   "execution_count": 30,
   "metadata": {},
   "outputs": [],
   "source": [
    "from sklearn.metrics import confusion_matrix\n",
    "from sklearn.metrics import classification_report\n",
    "from sklearn.metrics import precision_score\n",
    "from sklearn.metrics import recall_score\n",
    "best_RF_model = Grid_RF.best_estimator_"
   ]
  },
  {
   "cell_type": "code",
   "execution_count": 31,
   "metadata": {},
   "outputs": [],
   "source": [
    "ytrain_pred_rf = best_RF_model.predict(X_train)\n",
    "ytest_pred_rf = best_RF_model.predict(X_test)"
   ]
  },
  {
   "cell_type": "code",
   "execution_count": 32,
   "metadata": {},
   "outputs": [
    {
     "output_type": "stream",
     "name": "stdout",
     "text": [
      "0.48069979148654834\n"
     ]
    }
   ],
   "source": [
    "print(accuracy_score(y_test, ytest_pred_rf))"
   ]
  },
  {
   "cell_type": "code",
   "execution_count": 33,
   "metadata": {},
   "outputs": [
    {
     "output_type": "stream",
     "name": "stdout",
     "text": [
      "Classification report for training set:\n               precision    recall  f1-score   support\n\n           0       1.00      1.00      1.00       171\n           1       1.00      1.00      1.00       311\n           2       1.00      1.00      1.00       511\n           3       1.00      1.00      1.00      1011\n           4       1.00      1.00      1.00      1967\n           5       1.00      1.00      1.00      3088\n           6       1.00      1.00      1.00      5600\n           7       1.00      1.00      1.00      9751\n           8       1.00      1.00      1.00     15154\n           9       1.00      1.00      1.00     21423\n\n    accuracy                           1.00     58987\n   macro avg       1.00      1.00      1.00     58987\nweighted avg       1.00      1.00      1.00     58987\n \n\nClassification report for testing set:\n               precision    recall  f1-score   support\n\n           0       0.88      0.13      0.23        52\n           1       0.93      0.11      0.20       115\n           2       1.00      0.12      0.22       185\n           3       0.79      0.14      0.23       319\n           4       0.55      0.19      0.28       645\n           5       0.42      0.19      0.26      1069\n           6       0.39      0.23      0.29      1873\n           7       0.40      0.25      0.31      3327\n           8       0.37      0.41      0.39      5136\n           9       0.57      0.81      0.67      6942\n\n    accuracy                           0.48     19663\n   macro avg       0.63      0.26      0.31     19663\nweighted avg       0.47      0.48      0.45     19663\n \n\n"
     ]
    }
   ],
   "source": [
    "print('Classification report for training set:\\n', classification_report(y_train, ytrain_pred_rf), '\\n')\n",
    "print('Classification report for testing set:\\n', classification_report(y_test, ytest_pred_rf), '\\n')"
   ]
  },
  {
   "cell_type": "code",
   "execution_count": 34,
   "metadata": {},
   "outputs": [
    {
     "output_type": "stream",
     "name": "stdout",
     "text": [
      "Feature importance ranking by Random Forest Model:\nMaximum Open Credit : 0.1068\nCurrent Credit Balance : 0.0986\nAnnual Income : 0.0931\nMonthly Debt : 0.092\nYears of Credit History : 0.0907\nLoan ID : 0.0887\nCustomer ID : 0.0886\nCurrent Loan Amount : 0.0858\nNumber of Open Accounts : 0.0673\nYears in current job : 0.0497\nTerm : 0.0448\nDelinquent Time : 0.0247\nPurpose : 0.0246\nHome Ownership : 0.0197\nLoan Status : 0.0103\nHave had Credit Problems : 0.007\nHave had Bankruptcy before : 0.0053\nHave had Tax Liens : 0.0024\n"
     ]
    }
   ],
   "source": [
    "#show feature importance\n",
    "importances = best_RF_model.feature_importances_\n",
    "\n",
    "indices = np.argsort(importances)[::-1]\n",
    "\n",
    "# Print the feature ranking\n",
    "print(\"Feature importance ranking by Random Forest Model:\")\n",
    "for ind in range(X.shape[1]):\n",
    "  print (\"{0} : {1}\".format(X.columns[indices[ind]],round(importances[indices[ind]], 4)))"
   ]
  },
  {
   "source": [
    "5-fold cross validation was applied to Random Forest with dependent variables being the labeled encoded target score range. The accuracy of Random Forest classifier for training data has improved to 0.47. Then grid search cross validation is used to select the best hyperparameters among the number of decision trees as 40, 60, and 80. The number of decision trees was 80 and the accuracy after grid search remained to be 0.47. The accuracy of the test data turned out to be 0.48.\n",
    "The precision and recall for the training set showed an overfitting trend, it might be due to the imbalance in dataset characteristics.The precision was much higher than the recall for prediction of lower credit score ranges (0 ~7), but the weighted average recall was 0.48 and the weighted average precision was 0.47.\n"
   ],
   "cell_type": "markdown",
   "metadata": {}
  },
  {
   "cell_type": "markdown",
   "metadata": {},
   "source": [
    "#### Random Forest Classifier( with oversample)"
   ]
  },
  {
   "cell_type": "code",
   "execution_count": 35,
   "metadata": {},
   "outputs": [
    {
     "output_type": "stream",
     "name": "stdout",
     "text": [
      "[0.91016664 0.90829949 0.92230313 0.94767306 0.96968212]\nModel accuracy of Random Forest Classfier is 0.9316248891378425\n"
     ]
    }
   ],
   "source": [
    "from sklearn.ensemble import RandomForestClassifier\n",
    "from sklearn import model_selection\n",
    "classifier_RF = RandomForestClassifier()\n",
    "cv_score = model_selection.cross_val_score(classifier_RF, X_resampled, y_resampled, cv=5)\n",
    "print(cv_score)\n",
    "print('Model accuracy of Random Forest Classfier' + ' is ' + str(cv_score.mean()))"
   ]
  },
  {
   "cell_type": "code",
   "execution_count": 36,
   "metadata": {},
   "outputs": [],
   "source": [
    "from sklearn.model_selection import GridSearchCV\n",
    "\n",
    "# helper function for printing out grid search results \n",
    "def print_grid_search_metrics(gs):\n",
    "    print (\"Best score: \" + str(gs.best_score_))\n",
    "    print (\"Best parameters set:\")\n",
    "    best_parameters = gs.best_params_\n",
    "    for param_name in sorted(best_parameters.keys()):\n",
    "        print(param_name + ':' + str(best_parameters[param_name]))"
   ]
  },
  {
   "cell_type": "code",
   "execution_count": 37,
   "metadata": {},
   "outputs": [
    {
     "output_type": "execute_result",
     "data": {
      "text/plain": [
       "GridSearchCV(cv=5, estimator=RandomForestClassifier(),\n",
       "             param_grid={'n_estimators': [40, 60, 80]})"
      ]
     },
     "metadata": {},
     "execution_count": 37
    }
   ],
   "source": [
    "#find optimal hyperparameters of Random forest through grid search\n",
    "from sklearn.model_selection import GridSearchCV\n",
    "parameters = {\n",
    "    'n_estimators' : [40,60,80]\n",
    "}\n",
    "Grid_RF = GridSearchCV(RandomForestClassifier(),parameters, cv=5)\n",
    "Grid_RF.fit(X_resampled, y_resampled)"
   ]
  },
  {
   "cell_type": "code",
   "execution_count": 38,
   "metadata": {},
   "outputs": [
    {
     "output_type": "stream",
     "name": "stdout",
     "text": [
      "Best score: 0.9300611492321338\nBest parameters set:\nn_estimators:80\n"
     ]
    }
   ],
   "source": [
    "print_grid_search_metrics(Grid_RF)"
   ]
  },
  {
   "cell_type": "code",
   "execution_count": 39,
   "metadata": {},
   "outputs": [],
   "source": [
    "from sklearn.metrics import confusion_matrix\n",
    "from sklearn.metrics import classification_report\n",
    "from sklearn.metrics import precision_score\n",
    "from sklearn.metrics import recall_score\n",
    "best_RF_model = Grid_RF.best_estimator_"
   ]
  },
  {
   "cell_type": "code",
   "execution_count": 40,
   "metadata": {},
   "outputs": [],
   "source": [
    "ytrain_pred_rf = best_RF_model.predict(X_resampled)\n",
    "ytest_pred_rf = best_RF_model.predict(X_test)"
   ]
  },
  {
   "cell_type": "code",
   "execution_count": 41,
   "metadata": {},
   "outputs": [
    {
     "output_type": "stream",
     "name": "stdout",
     "text": [
      "0.4861923409449219\n"
     ]
    }
   ],
   "source": [
    "print(accuracy_score(y_test, ytest_pred_rf))"
   ]
  },
  {
   "cell_type": "code",
   "execution_count": 42,
   "metadata": {},
   "outputs": [
    {
     "output_type": "stream",
     "name": "stdout",
     "text": [
      "Classification report for training set:\n               precision    recall  f1-score   support\n\n           0       1.00      1.00      1.00     21423\n           1       1.00      1.00      1.00     21423\n           2       1.00      1.00      1.00     21423\n           3       1.00      1.00      1.00     21423\n           4       1.00      1.00      1.00     21423\n           5       1.00      1.00      1.00     21423\n           6       1.00      1.00      1.00     21423\n           7       1.00      1.00      1.00     21423\n           8       1.00      1.00      1.00     21423\n           9       1.00      1.00      1.00     21423\n\n    accuracy                           1.00    214230\n   macro avg       1.00      1.00      1.00    214230\nweighted avg       1.00      1.00      1.00    214230\n \n\nClassification report for testing set:\n               precision    recall  f1-score   support\n\n           0       0.69      0.17      0.28        52\n           1       0.72      0.16      0.26       115\n           2       0.77      0.18      0.30       185\n           3       0.71      0.20      0.32       319\n           4       0.48      0.25      0.33       645\n           5       0.38      0.27      0.32      1069\n           6       0.38      0.32      0.35      1873\n           7       0.39      0.30      0.34      3327\n           8       0.40      0.40      0.40      5136\n           9       0.59      0.77      0.67      6942\n\n    accuracy                           0.49     19663\n   macro avg       0.55      0.30      0.35     19663\nweighted avg       0.47      0.49      0.47     19663\n \n\n"
     ]
    }
   ],
   "source": [
    "print('Classification report for training set:\\n', classification_report(y_resampled, ytrain_pred_rf), '\\n')\n",
    "print('Classification report for testing set:\\n', classification_report(y_test, ytest_pred_rf), '\\n')"
   ]
  },
  {
   "cell_type": "code",
   "execution_count": 43,
   "metadata": {},
   "outputs": [
    {
     "output_type": "stream",
     "name": "stdout",
     "text": [
      "Feature importance ranking by Random Forest Model:\nMaximum Open Credit : 0.0971\nAnnual Income : 0.0944\nMonthly Debt : 0.0933\nCurrent Credit Balance : 0.0926\nYears of Credit History : 0.0918\nLoan ID : 0.0914\nCustomer ID : 0.0913\nCurrent Loan Amount : 0.0853\nNumber of Open Accounts : 0.0719\nYears in current job : 0.0486\nTerm : 0.0367\nDelinquent Time : 0.0288\nPurpose : 0.0261\nHome Ownership : 0.0209\nLoan Status : 0.0109\nHave had Credit Problems : 0.0085\nHave had Bankruptcy before : 0.0072\nHave had Tax Liens : 0.003\n"
     ]
    }
   ],
   "source": [
    "#show feature importance\n",
    "importances = best_RF_model.feature_importances_\n",
    "\n",
    "indices = np.argsort(importances)[::-1]\n",
    "\n",
    "# Print the feature ranking\n",
    "print(\"Feature importance ranking by Random Forest Model:\")\n",
    "for ind in range(X.shape[1]):\n",
    "  print (\"{0} : {1}\".format(X.columns[indices[ind]],round(importances[indices[ind]], 4)))"
   ]
  },
  {
   "source": [
    "5 fold cross validation was applied to select the best hyperparameter for the Random Forest model trained with a resampled dataset. The accuracy after oversampling turned out to be 0.93. Grid search with 5 fold cross validation was also applied to random forest classifiers, the accuracy after grid search turned out to be 0.93  . The best hyperparameter for the number of decision trees was 80. The accuracy for the test data was 0.50. Even though the precision and recall still showed an overfitting trend for training data, the test data has improved weighted average recall to be 0.49, and the overall recall scores for all credit score ranges showed more balanced precision. \n",
    "The most contributing factors for Random Forest classifier after oversampling was maximum open credit, annual income and monthly debt. \n",
    "\n"
   ],
   "cell_type": "markdown",
   "metadata": {}
  }
 ],
 "metadata": {
  "kernelspec": {
   "display_name": "Python 3",
   "language": "python",
   "name": "python3"
  },
  "language_info": {
   "codemirror_mode": {
    "name": "ipython",
    "version": 3
   },
   "file_extension": ".py",
   "mimetype": "text/x-python",
   "name": "python",
   "nbconvert_exporter": "python",
   "pygments_lexer": "ipython3",
   "version": "3.8.3-final"
  }
 },
 "nbformat": 4,
 "nbformat_minor": 4
}