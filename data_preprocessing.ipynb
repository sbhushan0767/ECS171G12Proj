{
 "cells": [
  {
   "cell_type": "code",
   "execution_count": 129,
   "metadata": {},
   "outputs": [],
   "source": [
    "# Import libraries\n",
    "import numpy as np\n",
    "import pandas as pd\n",
    "\n",
    "from sklearn.impute import SimpleImputer\n",
    "from sklearn.preprocessing import LabelEncoder\n",
    "from sklearn import preprocessing"
   ]
  },
  {
   "cell_type": "code",
   "execution_count": 130,
   "metadata": {},
   "outputs": [],
   "source": [
    "# Read in raw data files\n",
    "df_train = pd.read_csv('./datasets/credit_train.csv')\n",
    "df_test = pd.read_csv('./datasets/credit_test.csv')"
   ]
  },
  {
   "cell_type": "code",
   "execution_count": 131,
   "metadata": {},
   "outputs": [],
   "source": [
    "# Concatenate raw data files into one dataframe\n",
    "df = pd.concat([df_train, df_test])"
   ]
  },
  {
   "cell_type": "code",
   "execution_count": 132,
   "metadata": {},
   "outputs": [
    {
     "output_type": "stream",
     "name": "stdout",
     "text": [
      "There are 110867 before NaN rows removal\n"
     ]
    }
   ],
   "source": [
    "print(\"There are\", df.shape[0], \"before NaN rows removal\")"
   ]
  },
  {
   "cell_type": "code",
   "execution_count": 133,
   "metadata": {},
   "outputs": [
    {
     "output_type": "execute_result",
     "data": {
      "text/plain": [
       "Loan ID                         0.007820\n",
       "Customer ID                     0.007820\n",
       "Loan Status                     0.098018\n",
       "Current Loan Amount             0.007820\n",
       "Term                            0.007820\n",
       "Credit Score                    0.198454\n",
       "Annual Income                   0.198454\n",
       "Years in current job            0.049753\n",
       "Home Ownership                  0.007820\n",
       "Purpose                         0.007820\n",
       "Monthly Debt                    0.007820\n",
       "Years of Credit History         0.007820\n",
       "Months since last delinquent    0.535001\n",
       "Number of Open Accounts         0.007820\n",
       "Number of Credit Problems       0.007820\n",
       "Current Credit Balance          0.007820\n",
       "Maximum Open Credit             0.007838\n",
       "Bankruptcies                    0.009859\n",
       "Tax Liens                       0.007919\n",
       "dtype: float64"
      ]
     },
     "metadata": {},
     "execution_count": 133
    }
   ],
   "source": [
    "df.isna().sum()/len(df)"
   ]
  },
  {
   "cell_type": "code",
   "execution_count": 134,
   "metadata": {},
   "outputs": [],
   "source": [
    "# Remove rows which are completely null from dataframe\n",
    "df = df[df.isnull().sum(axis=1) < df.shape[1]]"
   ]
  },
  {
   "cell_type": "code",
   "execution_count": 135,
   "metadata": {},
   "outputs": [
    {
     "output_type": "stream",
     "name": "stdout",
     "text": [
      "There are 110000 after NaN rows removed\n"
     ]
    }
   ],
   "source": [
    "print( \"There are\", df.shape[0], \"after NaN rows removed\")"
   ]
  },
  {
   "cell_type": "markdown",
   "metadata": {},
   "source": [
    " # Deal with incorrect continuous values"
   ]
  },
  {
   "cell_type": "code",
   "execution_count": 136,
   "metadata": {
    "scrolled": true
   },
   "outputs": [
    {
     "output_type": "execute_result",
     "data": {
      "text/plain": [
       "       Current Loan Amount  Credit Score  Annual Income   Monthly Debt  \\\n",
       "count         1.100000e+05  88865.000000   8.886500e+04  110000.000000   \n",
       "mean          1.174621e+07   1076.594644   1.377449e+06   18468.526823   \n",
       "std           3.176716e+07   1475.581902   1.063920e+06   12195.564391   \n",
       "min           1.080200e+04    585.000000   7.662700e+04       0.000000   \n",
       "25%           1.795860e+05    705.000000   8.488440e+05   10211.930000   \n",
       "50%           3.120260e+05    724.000000   1.173459e+06   16202.440000   \n",
       "75%           5.239300e+05    741.000000   1.651670e+06   23997.522500   \n",
       "max           1.000000e+08   7510.000000   1.655574e+08  435843.280000   \n",
       "\n",
       "       Years of Credit History  Months since last delinquent  \\\n",
       "count            110000.000000                  51553.000000   \n",
       "mean                 18.202485                     34.907086   \n",
       "std                   7.015575                     21.965315   \n",
       "min                   3.600000                      0.000000   \n",
       "25%                  13.500000                     16.000000   \n",
       "50%                  16.900000                     32.000000   \n",
       "75%                  21.700000                     51.000000   \n",
       "max                  70.500000                    176.000000   \n",
       "\n",
       "       Number of Open Accounts  Number of Credit Problems  \\\n",
       "count            110000.000000              110000.000000   \n",
       "mean                 11.124491                   0.168055   \n",
       "std                   5.011093                   0.484389   \n",
       "min                   0.000000                   0.000000   \n",
       "25%                   8.000000                   0.000000   \n",
       "50%                  10.000000                   0.000000   \n",
       "75%                  14.000000                   0.000000   \n",
       "max                  76.000000                  15.000000   \n",
       "\n",
       "       Current Credit Balance  Maximum Open Credit   Bankruptcies  \\\n",
       "count            1.100000e+05         1.099980e+05  109774.000000   \n",
       "mean             2.942822e+05         7.541012e+05       0.117614   \n",
       "std              3.772773e+05         8.014002e+06       0.351290   \n",
       "min              0.000000e+00         0.000000e+00       0.000000   \n",
       "25%              1.121950e+05         2.731575e+05       0.000000   \n",
       "50%              2.096650e+05         4.673900e+05       0.000000   \n",
       "75%              3.674838e+05         7.831945e+05       0.000000   \n",
       "max              3.287897e+07         1.539738e+09       7.000000   \n",
       "\n",
       "           Tax Liens  \n",
       "count  109989.000000  \n",
       "mean        0.029448  \n",
       "std         0.261054  \n",
       "min         0.000000  \n",
       "25%         0.000000  \n",
       "50%         0.000000  \n",
       "75%         0.000000  \n",
       "max        15.000000  "
      ],
      "text/html": "<div>\n<style scoped>\n    .dataframe tbody tr th:only-of-type {\n        vertical-align: middle;\n    }\n\n    .dataframe tbody tr th {\n        vertical-align: top;\n    }\n\n    .dataframe thead th {\n        text-align: right;\n    }\n</style>\n<table border=\"1\" class=\"dataframe\">\n  <thead>\n    <tr style=\"text-align: right;\">\n      <th></th>\n      <th>Current Loan Amount</th>\n      <th>Credit Score</th>\n      <th>Annual Income</th>\n      <th>Monthly Debt</th>\n      <th>Years of Credit History</th>\n      <th>Months since last delinquent</th>\n      <th>Number of Open Accounts</th>\n      <th>Number of Credit Problems</th>\n      <th>Current Credit Balance</th>\n      <th>Maximum Open Credit</th>\n      <th>Bankruptcies</th>\n      <th>Tax Liens</th>\n    </tr>\n  </thead>\n  <tbody>\n    <tr>\n      <th>count</th>\n      <td>1.100000e+05</td>\n      <td>88865.000000</td>\n      <td>8.886500e+04</td>\n      <td>110000.000000</td>\n      <td>110000.000000</td>\n      <td>51553.000000</td>\n      <td>110000.000000</td>\n      <td>110000.000000</td>\n      <td>1.100000e+05</td>\n      <td>1.099980e+05</td>\n      <td>109774.000000</td>\n      <td>109989.000000</td>\n    </tr>\n    <tr>\n      <th>mean</th>\n      <td>1.174621e+07</td>\n      <td>1076.594644</td>\n      <td>1.377449e+06</td>\n      <td>18468.526823</td>\n      <td>18.202485</td>\n      <td>34.907086</td>\n      <td>11.124491</td>\n      <td>0.168055</td>\n      <td>2.942822e+05</td>\n      <td>7.541012e+05</td>\n      <td>0.117614</td>\n      <td>0.029448</td>\n    </tr>\n    <tr>\n      <th>std</th>\n      <td>3.176716e+07</td>\n      <td>1475.581902</td>\n      <td>1.063920e+06</td>\n      <td>12195.564391</td>\n      <td>7.015575</td>\n      <td>21.965315</td>\n      <td>5.011093</td>\n      <td>0.484389</td>\n      <td>3.772773e+05</td>\n      <td>8.014002e+06</td>\n      <td>0.351290</td>\n      <td>0.261054</td>\n    </tr>\n    <tr>\n      <th>min</th>\n      <td>1.080200e+04</td>\n      <td>585.000000</td>\n      <td>7.662700e+04</td>\n      <td>0.000000</td>\n      <td>3.600000</td>\n      <td>0.000000</td>\n      <td>0.000000</td>\n      <td>0.000000</td>\n      <td>0.000000e+00</td>\n      <td>0.000000e+00</td>\n      <td>0.000000</td>\n      <td>0.000000</td>\n    </tr>\n    <tr>\n      <th>25%</th>\n      <td>1.795860e+05</td>\n      <td>705.000000</td>\n      <td>8.488440e+05</td>\n      <td>10211.930000</td>\n      <td>13.500000</td>\n      <td>16.000000</td>\n      <td>8.000000</td>\n      <td>0.000000</td>\n      <td>1.121950e+05</td>\n      <td>2.731575e+05</td>\n      <td>0.000000</td>\n      <td>0.000000</td>\n    </tr>\n    <tr>\n      <th>50%</th>\n      <td>3.120260e+05</td>\n      <td>724.000000</td>\n      <td>1.173459e+06</td>\n      <td>16202.440000</td>\n      <td>16.900000</td>\n      <td>32.000000</td>\n      <td>10.000000</td>\n      <td>0.000000</td>\n      <td>2.096650e+05</td>\n      <td>4.673900e+05</td>\n      <td>0.000000</td>\n      <td>0.000000</td>\n    </tr>\n    <tr>\n      <th>75%</th>\n      <td>5.239300e+05</td>\n      <td>741.000000</td>\n      <td>1.651670e+06</td>\n      <td>23997.522500</td>\n      <td>21.700000</td>\n      <td>51.000000</td>\n      <td>14.000000</td>\n      <td>0.000000</td>\n      <td>3.674838e+05</td>\n      <td>7.831945e+05</td>\n      <td>0.000000</td>\n      <td>0.000000</td>\n    </tr>\n    <tr>\n      <th>max</th>\n      <td>1.000000e+08</td>\n      <td>7510.000000</td>\n      <td>1.655574e+08</td>\n      <td>435843.280000</td>\n      <td>70.500000</td>\n      <td>176.000000</td>\n      <td>76.000000</td>\n      <td>15.000000</td>\n      <td>3.287897e+07</td>\n      <td>1.539738e+09</td>\n      <td>7.000000</td>\n      <td>15.000000</td>\n    </tr>\n  </tbody>\n</table>\n</div>"
     },
     "metadata": {},
     "execution_count": 136
    }
   ],
   "source": [
    "df.describe()"
   ]
  },
  {
   "cell_type": "markdown",
   "metadata": {},
   "source": [
    "From the data distribution, maximum credit score is 7510 which is way more than minimum credit score 585，thus the credit score above 850 is requied to be reduced 10X smaller."
   ]
  },
  {
   "cell_type": "code",
   "execution_count": 137,
   "metadata": {},
   "outputs": [],
   "source": [
    "# Replace invalid credit scores (above 850 with an extra 0 entered) with credit score 10X smaller\n",
    "df['Credit Score'] = np.where(df['Credit Score'] > 850, df['Credit Score']/10, df['Credit Score'])"
   ]
  },
  {
   "cell_type": "code",
   "execution_count": 138,
   "metadata": {},
   "outputs": [],
   "source": [
    "# Drop rows with contaminated credit score (invalid credit score value)\n",
    "df = df[df['Credit Score'] <= 850]\n",
    "df = df.reset_index(drop=True)"
   ]
  },
  {
   "cell_type": "markdown",
   "metadata": {},
   "source": [
    "# Deal with Incorrect categorical values"
   ]
  },
  {
   "cell_type": "code",
   "execution_count": 139,
   "metadata": {},
   "outputs": [
    {
     "output_type": "execute_result",
     "data": {
      "text/plain": [
       "Loan ID                 72344\n",
       "Customer ID             72344\n",
       "Loan Status                 2\n",
       "Term                        2\n",
       "Years in current job       11\n",
       "Home Ownership              4\n",
       "Purpose                    16\n",
       "dtype: int64"
      ]
     },
     "metadata": {},
     "execution_count": 139
    }
   ],
   "source": [
    "df.select_dtypes('object').nunique()"
   ]
  },
  {
   "cell_type": "code",
   "execution_count": 140,
   "metadata": {},
   "outputs": [
    {
     "output_type": "execute_result",
     "data": {
      "text/plain": [
       "  Home Ownership  Loan Status             Purpose        Term\n",
       "0  Home Mortgage   Fully Paid   Home Improvements  Short Term\n",
       "1       Own Home   Fully Paid  Debt Consolidation  Short Term\n",
       "2       Own Home   Fully Paid  Debt Consolidation   Long Term\n",
       "3  Home Mortgage  Charged Off  Debt Consolidation  Short Term\n",
       "4  Home Mortgage   Fully Paid  Debt Consolidation  Short Term\n",
       "5           Rent   Fully Paid  Debt Consolidation  Short Term\n",
       "6           Rent   Fully Paid  Debt Consolidation  Short Term\n",
       "7           Rent   Fully Paid  Debt Consolidation  Short Term\n",
       "8       Own Home   Fully Paid  Debt Consolidation  Short Term\n",
       "9           Rent   Fully Paid  Debt Consolidation  Short Term"
      ],
      "text/html": "<div>\n<style scoped>\n    .dataframe tbody tr th:only-of-type {\n        vertical-align: middle;\n    }\n\n    .dataframe tbody tr th {\n        vertical-align: top;\n    }\n\n    .dataframe thead th {\n        text-align: right;\n    }\n</style>\n<table border=\"1\" class=\"dataframe\">\n  <thead>\n    <tr style=\"text-align: right;\">\n      <th></th>\n      <th>Home Ownership</th>\n      <th>Loan Status</th>\n      <th>Purpose</th>\n      <th>Term</th>\n    </tr>\n  </thead>\n  <tbody>\n    <tr>\n      <th>0</th>\n      <td>Home Mortgage</td>\n      <td>Fully Paid</td>\n      <td>Home Improvements</td>\n      <td>Short Term</td>\n    </tr>\n    <tr>\n      <th>1</th>\n      <td>Own Home</td>\n      <td>Fully Paid</td>\n      <td>Debt Consolidation</td>\n      <td>Short Term</td>\n    </tr>\n    <tr>\n      <th>2</th>\n      <td>Own Home</td>\n      <td>Fully Paid</td>\n      <td>Debt Consolidation</td>\n      <td>Long Term</td>\n    </tr>\n    <tr>\n      <th>3</th>\n      <td>Home Mortgage</td>\n      <td>Charged Off</td>\n      <td>Debt Consolidation</td>\n      <td>Short Term</td>\n    </tr>\n    <tr>\n      <th>4</th>\n      <td>Home Mortgage</td>\n      <td>Fully Paid</td>\n      <td>Debt Consolidation</td>\n      <td>Short Term</td>\n    </tr>\n    <tr>\n      <th>5</th>\n      <td>Rent</td>\n      <td>Fully Paid</td>\n      <td>Debt Consolidation</td>\n      <td>Short Term</td>\n    </tr>\n    <tr>\n      <th>6</th>\n      <td>Rent</td>\n      <td>Fully Paid</td>\n      <td>Debt Consolidation</td>\n      <td>Short Term</td>\n    </tr>\n    <tr>\n      <th>7</th>\n      <td>Rent</td>\n      <td>Fully Paid</td>\n      <td>Debt Consolidation</td>\n      <td>Short Term</td>\n    </tr>\n    <tr>\n      <th>8</th>\n      <td>Own Home</td>\n      <td>Fully Paid</td>\n      <td>Debt Consolidation</td>\n      <td>Short Term</td>\n    </tr>\n    <tr>\n      <th>9</th>\n      <td>Rent</td>\n      <td>Fully Paid</td>\n      <td>Debt Consolidation</td>\n      <td>Short Term</td>\n    </tr>\n  </tbody>\n</table>\n</div>"
     },
     "metadata": {},
     "execution_count": 140
    }
   ],
   "source": [
    "#observe meaingful categorical variables values\n",
    "df[[\"Home Ownership\",\"Loan Status\", \"Purpose\",\"Term\"]].head(10)"
   ]
  },
  {
   "cell_type": "markdown",
   "metadata": {},
   "source": [
    "From the unique values of all meaningful categorical columns, Home Ownership tends to have only 3 types of values as \"Home Mortgage\", \"Own Home\" and \"Rent\", the other one value might be an erroneous value.\n",
    "There are 16 types of values for \"Purpose\". Some values within \"Purpose\" might be redundant can be replaced."
   ]
  },
  {
   "cell_type": "code",
   "execution_count": 141,
   "metadata": {},
   "outputs": [
    {
     "output_type": "stream",
     "name": "stdout",
     "text": [
      "['Home Mortgage' 'Own Home' 'Rent' 'HaveMortgage']\n"
     ]
    }
   ],
   "source": [
    "#check Home Ownership\n",
    "print(df['Home Ownership'].unique())\n",
    "#'Home Mortgage' and \"HaveMortgage\" are very similar, the value with fewer counts can be replaced with the value with more counts"
   ]
  },
  {
   "cell_type": "code",
   "execution_count": 142,
   "metadata": {
    "scrolled": true
   },
   "outputs": [
    {
     "output_type": "execute_result",
     "data": {
      "text/plain": [
       "Home Mortgage    42954\n",
       "Rent             37497\n",
       "Own Home          8218\n",
       "HaveMortgage       196\n",
       "Name: Home Ownership, dtype: int64"
      ]
     },
     "metadata": {},
     "execution_count": 142
    }
   ],
   "source": [
    "df['Home Ownership'].value_counts()"
   ]
  },
  {
   "cell_type": "markdown",
   "metadata": {},
   "source": [
    "The counts of \"HaveMortgage\" are less than \"Homw Mortgage\", \"HaveMortgage\" can be replaced with \"Home Mortgage\"\n"
   ]
  },
  {
   "cell_type": "code",
   "execution_count": 143,
   "metadata": {},
   "outputs": [
    {
     "output_type": "execute_result",
     "data": {
      "text/plain": [
       "Home Mortgage    43150\n",
       "Rent             37497\n",
       "Own Home          8218\n",
       "Name: Home Ownership, dtype: int64"
      ]
     },
     "metadata": {},
     "execution_count": 143
    }
   ],
   "source": [
    "df['Home Ownership'] = df['Home Ownership'].replace('HaveMortgage', 'Home Mortgage')\n",
    "df['Home Ownership'].value_counts()"
   ]
  },
  {
   "cell_type": "code",
   "execution_count": 144,
   "metadata": {},
   "outputs": [
    {
     "output_type": "execute_result",
     "data": {
      "text/plain": [
       "Debt Consolidation      69611\n",
       "other                    5478\n",
       "Home Improvements        5190\n",
       "Other                    2888\n",
       "Business Loan            1412\n",
       "Buy a Car                1137\n",
       "Medical Bills            1023\n",
       "Buy House                 621\n",
       "Take a Trip               509\n",
       "major_purchase            325\n",
       "small_business            260\n",
       "moving                    135\n",
       "wedding                    96\n",
       "Educational Expenses       94\n",
       "vacation                   77\n",
       "renewable_energy            9\n",
       "Name: Purpose, dtype: int64"
      ]
     },
     "metadata": {},
     "execution_count": 144
    }
   ],
   "source": [
    "#check Purpose\n",
    "df['Purpose'].value_counts()"
   ]
  },
  {
   "cell_type": "markdown",
   "metadata": {},
   "source": [
    "From the data value description from \"Purpose\" column, \"other\" and \"Other\" are the same, \"small_business\" will become\"business loan\" and \"take a trip\" can be replaced by \"vacation\". In this case, we can do some merging between values."
   ]
  },
  {
   "cell_type": "code",
   "execution_count": 145,
   "metadata": {},
   "outputs": [
    {
     "output_type": "execute_result",
     "data": {
      "text/plain": [
       "Debt Consolidation      69611\n",
       "Other                    8366\n",
       "Home Improvements        5190\n",
       "Business Loan            1672\n",
       "Buy a Car                1137\n",
       "Medical Bills            1023\n",
       "Buy House                 621\n",
       "vacation                  586\n",
       "major_purchase            325\n",
       "moving                    135\n",
       "wedding                    96\n",
       "Educational Expenses       94\n",
       "renewable_energy            9\n",
       "Name: Purpose, dtype: int64"
      ]
     },
     "metadata": {},
     "execution_count": 145
    }
   ],
   "source": [
    "df['Purpose'] = df['Purpose'].replace({'small_business':'Business Loan','other':'Other','Take a Trip':'vacation'})\n",
    "df['Purpose'].value_counts()"
   ]
  },
  {
   "cell_type": "markdown",
   "metadata": {},
   "source": [
    "# Deal with Redundant features"
   ]
  },
  {
   "cell_type": "code",
   "execution_count": 146,
   "metadata": {},
   "outputs": [
    {
     "output_type": "stream",
     "name": "stdout",
     "text": [
      "The dataset has  88865 customers\n"
     ]
    }
   ],
   "source": [
    "print('The dataset has ', df.shape[0], 'customers')"
   ]
  },
  {
   "cell_type": "code",
   "execution_count": 147,
   "metadata": {},
   "outputs": [
    {
     "output_type": "execute_result",
     "data": {
      "text/plain": [
       "Loan ID                         72344\n",
       "Customer ID                     72344\n",
       "Loan Status                         2\n",
       "Current Loan Amount             21046\n",
       "Term                                2\n",
       "Credit Score                      167\n",
       "Annual Income                   37853\n",
       "Years in current job               11\n",
       "Home Ownership                      3\n",
       "Purpose                            13\n",
       "Monthly Debt                    59476\n",
       "Years of Credit History           501\n",
       "Months since last delinquent      109\n",
       "Number of Open Accounts            51\n",
       "Number of Credit Problems          14\n",
       "Current Credit Balance          30994\n",
       "Maximum Open Credit             41584\n",
       "Bankruptcies                        8\n",
       "Tax Liens                          13\n",
       "dtype: int64"
      ]
     },
     "metadata": {},
     "execution_count": 147
    }
   ],
   "source": [
    "df.nunique()"
   ]
  },
  {
   "cell_type": "markdown",
   "metadata": {},
   "source": [
    "Based on the unique counts for both Loan ID  and Customer ID as 72344, there are customer opens up more than 1 accounts because the total number of customers for the dataset is 88865, but there are only 72344 unique customers. Thus there are redundant records that we need to remove."
   ]
  },
  {
   "cell_type": "code",
   "execution_count": 148,
   "metadata": {},
   "outputs": [
    {
     "output_type": "execute_result",
     "data": {
      "text/plain": [
       "                                 Loan ID  \\\n",
       "0   14dd8831-6af5-400b-83ec-68e61888a048   \n",
       "2   77598f7b-32e7-4e3b-a6e5-06ba0d98fe8a   \n",
       "11  24e8c8bd-d10b-4dac-8b81-1da470ff5ecb   \n",
       "18  578c8e10-3214-4491-bdbc-b1695ef8ff87   \n",
       "19  0c14cb77-29a3-4964-9198-0c43f5f982b0   \n",
       "\n",
       "                             Customer ID Loan Status  Current Loan Amount  \\\n",
       "0   981165ec-3274-42f5-a3b4-d104041a9ca9  Fully Paid             445412.0   \n",
       "2   e777faab-98ae-45af-9a86-7ce5b33b1011  Fully Paid             347666.0   \n",
       "11  967e8733-7189-49b7-a3ab-6a1d0e1abdac  Fully Paid             666204.0   \n",
       "18  cbe53e22-ba67-4eaf-a4fb-c5acdd12ec66  Fully Paid             465410.0   \n",
       "19  9baf6d5d-f744-4332-abb0-e939b75cde40  Fully Paid           99999999.0   \n",
       "\n",
       "          Term  Credit Score  Annual Income Years in current job  \\\n",
       "0   Short Term         709.0      1167493.0              8 years   \n",
       "2    Long Term         721.0       806949.0              3 years   \n",
       "11   Long Term         723.0      1821967.0            10+ years   \n",
       "18   Long Term         688.0      1722654.0              3 years   \n",
       "19  Short Term         724.0      1029857.0               1 year   \n",
       "\n",
       "   Home Ownership             Purpose  Monthly Debt  Years of Credit History  \\\n",
       "0   Home Mortgage   Home Improvements       5214.74                     17.2   \n",
       "2        Own Home  Debt Consolidation       8741.90                     12.0   \n",
       "11  Home Mortgage  Debt Consolidation      17612.24                     22.0   \n",
       "18           Rent           Buy House      15647.45                     22.3   \n",
       "19           Rent  Debt Consolidation      13817.18                     12.0   \n",
       "\n",
       "    Months since last delinquent  Number of Open Accounts  \\\n",
       "0                            NaN                      6.0   \n",
       "2                            NaN                      9.0   \n",
       "11                          34.0                     15.0   \n",
       "18                          30.0                      7.0   \n",
       "19                           NaN                      6.0   \n",
       "\n",
       "    Number of Credit Problems  Current Credit Balance  Maximum Open Credit  \\\n",
       "0                         1.0                228190.0             416746.0   \n",
       "2                         0.0                256329.0             386958.0   \n",
       "11                        0.0                813694.0            2004618.0   \n",
       "18                        0.0                107559.0             488356.0   \n",
       "19                        0.0                138339.0             221232.0   \n",
       "\n",
       "    Bankruptcies  Tax Liens  \n",
       "0            1.0        0.0  \n",
       "2            0.0        0.0  \n",
       "11           0.0        0.0  \n",
       "18           0.0        0.0  \n",
       "19           0.0        0.0  "
      ],
      "text/html": "<div>\n<style scoped>\n    .dataframe tbody tr th:only-of-type {\n        vertical-align: middle;\n    }\n\n    .dataframe tbody tr th {\n        vertical-align: top;\n    }\n\n    .dataframe thead th {\n        text-align: right;\n    }\n</style>\n<table border=\"1\" class=\"dataframe\">\n  <thead>\n    <tr style=\"text-align: right;\">\n      <th></th>\n      <th>Loan ID</th>\n      <th>Customer ID</th>\n      <th>Loan Status</th>\n      <th>Current Loan Amount</th>\n      <th>Term</th>\n      <th>Credit Score</th>\n      <th>Annual Income</th>\n      <th>Years in current job</th>\n      <th>Home Ownership</th>\n      <th>Purpose</th>\n      <th>Monthly Debt</th>\n      <th>Years of Credit History</th>\n      <th>Months since last delinquent</th>\n      <th>Number of Open Accounts</th>\n      <th>Number of Credit Problems</th>\n      <th>Current Credit Balance</th>\n      <th>Maximum Open Credit</th>\n      <th>Bankruptcies</th>\n      <th>Tax Liens</th>\n    </tr>\n  </thead>\n  <tbody>\n    <tr>\n      <th>0</th>\n      <td>14dd8831-6af5-400b-83ec-68e61888a048</td>\n      <td>981165ec-3274-42f5-a3b4-d104041a9ca9</td>\n      <td>Fully Paid</td>\n      <td>445412.0</td>\n      <td>Short Term</td>\n      <td>709.0</td>\n      <td>1167493.0</td>\n      <td>8 years</td>\n      <td>Home Mortgage</td>\n      <td>Home Improvements</td>\n      <td>5214.74</td>\n      <td>17.2</td>\n      <td>NaN</td>\n      <td>6.0</td>\n      <td>1.0</td>\n      <td>228190.0</td>\n      <td>416746.0</td>\n      <td>1.0</td>\n      <td>0.0</td>\n    </tr>\n    <tr>\n      <th>2</th>\n      <td>77598f7b-32e7-4e3b-a6e5-06ba0d98fe8a</td>\n      <td>e777faab-98ae-45af-9a86-7ce5b33b1011</td>\n      <td>Fully Paid</td>\n      <td>347666.0</td>\n      <td>Long Term</td>\n      <td>721.0</td>\n      <td>806949.0</td>\n      <td>3 years</td>\n      <td>Own Home</td>\n      <td>Debt Consolidation</td>\n      <td>8741.90</td>\n      <td>12.0</td>\n      <td>NaN</td>\n      <td>9.0</td>\n      <td>0.0</td>\n      <td>256329.0</td>\n      <td>386958.0</td>\n      <td>0.0</td>\n      <td>0.0</td>\n    </tr>\n    <tr>\n      <th>11</th>\n      <td>24e8c8bd-d10b-4dac-8b81-1da470ff5ecb</td>\n      <td>967e8733-7189-49b7-a3ab-6a1d0e1abdac</td>\n      <td>Fully Paid</td>\n      <td>666204.0</td>\n      <td>Long Term</td>\n      <td>723.0</td>\n      <td>1821967.0</td>\n      <td>10+ years</td>\n      <td>Home Mortgage</td>\n      <td>Debt Consolidation</td>\n      <td>17612.24</td>\n      <td>22.0</td>\n      <td>34.0</td>\n      <td>15.0</td>\n      <td>0.0</td>\n      <td>813694.0</td>\n      <td>2004618.0</td>\n      <td>0.0</td>\n      <td>0.0</td>\n    </tr>\n    <tr>\n      <th>18</th>\n      <td>578c8e10-3214-4491-bdbc-b1695ef8ff87</td>\n      <td>cbe53e22-ba67-4eaf-a4fb-c5acdd12ec66</td>\n      <td>Fully Paid</td>\n      <td>465410.0</td>\n      <td>Long Term</td>\n      <td>688.0</td>\n      <td>1722654.0</td>\n      <td>3 years</td>\n      <td>Rent</td>\n      <td>Buy House</td>\n      <td>15647.45</td>\n      <td>22.3</td>\n      <td>30.0</td>\n      <td>7.0</td>\n      <td>0.0</td>\n      <td>107559.0</td>\n      <td>488356.0</td>\n      <td>0.0</td>\n      <td>0.0</td>\n    </tr>\n    <tr>\n      <th>19</th>\n      <td>0c14cb77-29a3-4964-9198-0c43f5f982b0</td>\n      <td>9baf6d5d-f744-4332-abb0-e939b75cde40</td>\n      <td>Fully Paid</td>\n      <td>99999999.0</td>\n      <td>Short Term</td>\n      <td>724.0</td>\n      <td>1029857.0</td>\n      <td>1 year</td>\n      <td>Rent</td>\n      <td>Debt Consolidation</td>\n      <td>13817.18</td>\n      <td>12.0</td>\n      <td>NaN</td>\n      <td>6.0</td>\n      <td>0.0</td>\n      <td>138339.0</td>\n      <td>221232.0</td>\n      <td>0.0</td>\n      <td>0.0</td>\n    </tr>\n  </tbody>\n</table>\n</div>"
     },
     "metadata": {},
     "execution_count": 148
    }
   ],
   "source": [
    "#check the duplicate rows\n",
    "dup_id = df['Customer ID'].value_counts()[df['Customer ID'].value_counts()>1].index.values\n",
    "dup_df = df.loc[df['Customer ID'].isin(dup_id)]\n",
    "dup_df.head()"
   ]
  },
  {
   "cell_type": "code",
   "execution_count": 149,
   "metadata": {},
   "outputs": [
    {
     "output_type": "stream",
     "name": "stdout",
     "text": [
      "There are 33042 duplicate values.\n",
      "There are 78650 values remaining after dropping duplicates.\n"
     ]
    }
   ],
   "source": [
    "#check number of duplicate values and drop duplicate values\n",
    "print('There are', dup_df.shape[0], 'duplicate values.')\n",
    "df = df.drop_duplicates()\n",
    "print(\"There are\", df.shape[0], \"values remaining after dropping duplicates.\")"
   ]
  },
  {
   "cell_type": "markdown",
   "metadata": {},
   "source": [
    "# Deal with missing values"
   ]
  },
  {
   "cell_type": "code",
   "execution_count": 150,
   "metadata": {},
   "outputs": [
    {
     "output_type": "execute_result",
     "data": {
      "text/plain": [
       "Loan ID                         0.000000\n",
       "Customer ID                     0.000000\n",
       "Loan Status                     0.101958\n",
       "Current Loan Amount             0.000000\n",
       "Term                            0.000000\n",
       "Credit Score                    0.000000\n",
       "Annual Income                   0.000000\n",
       "Years in current job            0.042390\n",
       "Home Ownership                  0.000000\n",
       "Purpose                         0.000000\n",
       "Monthly Debt                    0.000000\n",
       "Years of Credit History         0.000000\n",
       "Months since last delinquent    0.535677\n",
       "Number of Open Accounts         0.000000\n",
       "Number of Credit Problems       0.000000\n",
       "Current Credit Balance          0.000000\n",
       "Maximum Open Credit             0.000013\n",
       "Bankruptcies                    0.002123\n",
       "Tax Liens                       0.000076\n",
       "dtype: float64"
      ]
     },
     "metadata": {},
     "execution_count": 150
    }
   ],
   "source": [
    "# See how many missing values per column\n",
    "df.isna().sum()/len(df)"
   ]
  },
  {
   "cell_type": "markdown",
   "metadata": {},
   "source": [
    "Missing values exist in \"Bankruptcies\", \"Loan Status\", \"Months since last delinquent\", \"tax liens\", and \"years in current job\" columns.\n",
    "\n",
    "Missing values for \"bankrupticies\", \"Months since last delinquent\", 'tax liens\" should be filled with 0 and missing values for other columns should be filled with mean values."
   ]
  },
  {
   "cell_type": "code",
   "execution_count": 151,
   "metadata": {},
   "outputs": [],
   "source": [
    "#fill in missing values with zero and observe distribution \n",
    "df['Months since last delinquent'] = df['Months since last delinquent'].fillna(0)\n",
    "df['Bankruptcies'] = df['Bankruptcies'].fillna(0)\n",
    "df['Tax Liens'] = df['Tax Liens'].fillna(0.0)"
   ]
  },
  {
   "cell_type": "code",
   "execution_count": 152,
   "metadata": {},
   "outputs": [
    {
     "output_type": "execute_result",
     "data": {
      "text/plain": [
       "<matplotlib.axes._subplots.AxesSubplot at 0x2470abeceb0>"
      ]
     },
     "metadata": {},
     "execution_count": 152
    },
    {
     "output_type": "display_data",
     "data": {
      "text/plain": "<Figure size 432x288 with 1 Axes>",
      "image/svg+xml": "<?xml version=\"1.0\" encoding=\"utf-8\" standalone=\"no\"?>\r\n<!DOCTYPE svg PUBLIC \"-//W3C//DTD SVG 1.1//EN\"\r\n  \"http://www.w3.org/Graphics/SVG/1.1/DTD/svg11.dtd\">\r\n<!-- Created with matplotlib (https://matplotlib.org/) -->\r\n<svg height=\"262.19625pt\" version=\"1.1\" viewBox=\"0 0 378.465625 262.19625\" width=\"378.465625pt\" xmlns=\"http://www.w3.org/2000/svg\" xmlns:xlink=\"http://www.w3.org/1999/xlink\">\r\n <defs>\r\n  <style type=\"text/css\">\r\n*{stroke-linecap:butt;stroke-linejoin:round;}\r\n  </style>\r\n </defs>\r\n <g id=\"figure_1\">\r\n  <g id=\"patch_1\">\r\n   <path d=\"M 0 262.19625 \r\nL 378.465625 262.19625 \r\nL 378.465625 0 \r\nL 0 0 \r\nz\r\n\" style=\"fill:none;\"/>\r\n  </g>\r\n  <g id=\"axes_1\">\r\n   <g id=\"patch_2\">\r\n    <path d=\"M 36.465625 224.64 \r\nL 371.265625 224.64 \r\nL 371.265625 7.2 \r\nL 36.465625 7.2 \r\nz\r\n\" style=\"fill:#ffffff;\"/>\r\n   </g>\r\n   <g id=\"patch_3\">\r\n    <path clip-path=\"url(#pde54047be7)\" d=\"M 63.142774 224.64 \r\nL 68.771688 224.64 \r\nL 68.771688 17.554286 \r\nL 63.142774 17.554286 \r\nz\r\n\" style=\"fill:#1f77b4;opacity:0.4;\"/>\r\n   </g>\r\n   <g id=\"patch_4\">\r\n    <path clip-path=\"url(#pde54047be7)\" d=\"M 68.771688 224.64 \r\nL 74.400602 224.64 \r\nL 74.400602 213.89906 \r\nL 68.771688 213.89906 \r\nz\r\n\" style=\"fill:#1f77b4;opacity:0.4;\"/>\r\n   </g>\r\n   <g id=\"patch_5\">\r\n    <path clip-path=\"url(#pde54047be7)\" d=\"M 74.400602 224.64 \r\nL 80.029516 224.64 \r\nL 80.029516 215.15113 \r\nL 74.400602 215.15113 \r\nz\r\n\" style=\"fill:#1f77b4;opacity:0.4;\"/>\r\n   </g>\r\n   <g id=\"patch_6\">\r\n    <path clip-path=\"url(#pde54047be7)\" d=\"M 80.029516 224.64 \r\nL 85.65843 224.64 \r\nL 85.65843 211.913017 \r\nL 80.029516 211.913017 \r\nz\r\n\" style=\"fill:#1f77b4;opacity:0.4;\"/>\r\n   </g>\r\n   <g id=\"patch_7\">\r\n    <path clip-path=\"url(#pde54047be7)\" d=\"M 85.65843 224.64 \r\nL 91.287344 224.64 \r\nL 91.287344 215.136738 \r\nL 85.65843 215.136738 \r\nz\r\n\" style=\"fill:#1f77b4;opacity:0.4;\"/>\r\n   </g>\r\n   <g id=\"patch_8\">\r\n    <path clip-path=\"url(#pde54047be7)\" d=\"M 91.287344 224.64 \r\nL 96.916258 224.64 \r\nL 96.916258 212.742933 \r\nL 91.287344 212.742933 \r\nz\r\n\" style=\"fill:#1f77b4;opacity:0.4;\"/>\r\n   </g>\r\n   <g id=\"patch_9\">\r\n    <path clip-path=\"url(#pde54047be7)\" d=\"M 96.916258 224.64 \r\nL 102.545172 224.64 \r\nL 102.545172 216.12976 \r\nL 96.916258 216.12976 \r\nz\r\n\" style=\"fill:#1f77b4;opacity:0.4;\"/>\r\n   </g>\r\n   <g id=\"patch_10\">\r\n    <path clip-path=\"url(#pde54047be7)\" d=\"M 102.545172 224.64 \r\nL 108.174086 224.64 \r\nL 108.174086 213.60643 \r\nL 102.545172 213.60643 \r\nz\r\n\" style=\"fill:#1f77b4;opacity:0.4;\"/>\r\n   </g>\r\n   <g id=\"patch_11\">\r\n    <path clip-path=\"url(#pde54047be7)\" d=\"M 108.174086 224.64 \r\nL 113.803 224.64 \r\nL 113.803 216.753396 \r\nL 108.174086 216.753396 \r\nz\r\n\" style=\"fill:#1f77b4;opacity:0.4;\"/>\r\n   </g>\r\n   <g id=\"patch_12\">\r\n    <path clip-path=\"url(#pde54047be7)\" d=\"M 113.803 224.64 \r\nL 119.431914 224.64 \r\nL 119.431914 214.709787 \r\nL 113.803 214.709787 \r\nz\r\n\" style=\"fill:#1f77b4;opacity:0.4;\"/>\r\n   </g>\r\n   <g id=\"patch_13\">\r\n    <path clip-path=\"url(#pde54047be7)\" d=\"M 119.431914 224.64 \r\nL 125.060828 224.64 \r\nL 125.060828 217.271494 \r\nL 119.431914 217.271494 \r\nz\r\n\" style=\"fill:#1f77b4;opacity:0.4;\"/>\r\n   </g>\r\n   <g id=\"patch_14\">\r\n    <path clip-path=\"url(#pde54047be7)\" d=\"M 125.060828 224.64 \r\nL 130.689742 224.64 \r\nL 130.689742 215.098361 \r\nL 125.060828 215.098361 \r\nz\r\n\" style=\"fill:#1f77b4;opacity:0.4;\"/>\r\n   </g>\r\n   <g id=\"patch_15\">\r\n    <path clip-path=\"url(#pde54047be7)\" d=\"M 130.689742 224.64 \r\nL 136.318656 224.64 \r\nL 136.318656 217.82797 \r\nL 130.689742 217.82797 \r\nz\r\n\" style=\"fill:#1f77b4;opacity:0.4;\"/>\r\n   </g>\r\n   <g id=\"patch_16\">\r\n    <path clip-path=\"url(#pde54047be7)\" d=\"M 136.318656 224.64 \r\nL 141.947571 224.64 \r\nL 141.947571 216.091382 \r\nL 136.318656 216.091382 \r\nz\r\n\" style=\"fill:#1f77b4;opacity:0.4;\"/>\r\n   </g>\r\n   <g id=\"patch_17\">\r\n    <path clip-path=\"url(#pde54047be7)\" d=\"M 141.947571 224.64 \r\nL 147.576485 224.64 \r\nL 147.576485 220.005901 \r\nL 141.947571 220.005901 \r\nz\r\n\" style=\"fill:#1f77b4;opacity:0.4;\"/>\r\n   </g>\r\n   <g id=\"patch_18\">\r\n    <path clip-path=\"url(#pde54047be7)\" d=\"M 147.576485 224.64 \r\nL 153.205399 224.64 \r\nL 153.205399 218.523565 \r\nL 147.576485 218.523565 \r\nz\r\n\" style=\"fill:#1f77b4;opacity:0.4;\"/>\r\n   </g>\r\n   <g id=\"patch_19\">\r\n    <path clip-path=\"url(#pde54047be7)\" d=\"M 153.205399 224.64 \r\nL 158.834313 224.64 \r\nL 158.834313 220.001103 \r\nL 153.205399 220.001103 \r\nz\r\n\" style=\"fill:#1f77b4;opacity:0.4;\"/>\r\n   </g>\r\n   <g id=\"patch_20\">\r\n    <path clip-path=\"url(#pde54047be7)\" d=\"M 158.834313 224.64 \r\nL 164.463227 224.64 \r\nL 164.463227 218.442012 \r\nL 158.834313 218.442012 \r\nz\r\n\" style=\"fill:#1f77b4;opacity:0.4;\"/>\r\n   </g>\r\n   <g id=\"patch_21\">\r\n    <path clip-path=\"url(#pde54047be7)\" d=\"M 164.463227 224.64 \r\nL 170.092141 224.64 \r\nL 170.092141 220.293733 \r\nL 164.463227 220.293733 \r\nz\r\n\" style=\"fill:#1f77b4;opacity:0.4;\"/>\r\n   </g>\r\n   <g id=\"patch_22\">\r\n    <path clip-path=\"url(#pde54047be7)\" d=\"M 170.092141 224.64 \r\nL 175.721055 224.64 \r\nL 175.721055 218.888152 \r\nL 170.092141 218.888152 \r\nz\r\n\" style=\"fill:#1f77b4;opacity:0.4;\"/>\r\n   </g>\r\n   <g id=\"patch_23\">\r\n    <path clip-path=\"url(#pde54047be7)\" d=\"M 175.721055 224.64 \r\nL 181.349969 224.64 \r\nL 181.349969 220.514404 \r\nL 175.721055 220.514404 \r\nz\r\n\" style=\"fill:#1f77b4;opacity:0.4;\"/>\r\n   </g>\r\n   <g id=\"patch_24\">\r\n    <path clip-path=\"url(#pde54047be7)\" d=\"M 181.349969 224.64 \r\nL 186.978883 224.64 \r\nL 186.978883 219.554963 \r\nL 181.349969 219.554963 \r\nz\r\n\" style=\"fill:#1f77b4;opacity:0.4;\"/>\r\n   </g>\r\n   <g id=\"patch_25\">\r\n    <path clip-path=\"url(#pde54047be7)\" d=\"M 186.978883 224.64 \r\nL 192.607797 224.64 \r\nL 192.607797 221.080474 \r\nL 186.978883 221.080474 \r\nz\r\n\" style=\"fill:#1f77b4;opacity:0.4;\"/>\r\n   </g>\r\n   <g id=\"patch_26\">\r\n    <path clip-path=\"url(#pde54047be7)\" d=\"M 192.607797 224.64 \r\nL 198.236711 224.64 \r\nL 198.236711 223.066517 \r\nL 192.607797 223.066517 \r\nz\r\n\" style=\"fill:#1f77b4;opacity:0.4;\"/>\r\n   </g>\r\n   <g id=\"patch_27\">\r\n    <path clip-path=\"url(#pde54047be7)\" d=\"M 198.236711 224.64 \r\nL 203.865625 224.64 \r\nL 203.865625 224.582434 \r\nL 198.236711 224.582434 \r\nz\r\n\" style=\"fill:#1f77b4;opacity:0.4;\"/>\r\n   </g>\r\n   <g id=\"patch_28\">\r\n    <path clip-path=\"url(#pde54047be7)\" d=\"M 203.865625 224.64 \r\nL 209.494539 224.64 \r\nL 209.494539 224.611217 \r\nL 203.865625 224.611217 \r\nz\r\n\" style=\"fill:#1f77b4;opacity:0.4;\"/>\r\n   </g>\r\n   <g id=\"patch_29\">\r\n    <path clip-path=\"url(#pde54047be7)\" d=\"M 209.494539 224.64 \r\nL 215.123453 224.64 \r\nL 215.123453 224.616014 \r\nL 209.494539 224.616014 \r\nz\r\n\" style=\"fill:#1f77b4;opacity:0.4;\"/>\r\n   </g>\r\n   <g id=\"patch_30\">\r\n    <path clip-path=\"url(#pde54047be7)\" d=\"M 215.123453 224.64 \r\nL 220.752367 224.64 \r\nL 220.752367 224.625608 \r\nL 215.123453 224.625608 \r\nz\r\n\" style=\"fill:#1f77b4;opacity:0.4;\"/>\r\n   </g>\r\n   <g id=\"patch_31\">\r\n    <path clip-path=\"url(#pde54047be7)\" d=\"M 220.752367 224.64 \r\nL 226.381281 224.64 \r\nL 226.381281 224.635203 \r\nL 220.752367 224.635203 \r\nz\r\n\" style=\"fill:#1f77b4;opacity:0.4;\"/>\r\n   </g>\r\n   <g id=\"patch_32\">\r\n    <path clip-path=\"url(#pde54047be7)\" d=\"M 226.381281 224.64 \r\nL 232.010195 224.64 \r\nL 232.010195 224.64 \r\nL 226.381281 224.64 \r\nz\r\n\" style=\"fill:#1f77b4;opacity:0.4;\"/>\r\n   </g>\r\n   <g id=\"patch_33\">\r\n    <path clip-path=\"url(#pde54047be7)\" d=\"M 232.010195 224.64 \r\nL 237.639109 224.64 \r\nL 237.639109 224.620811 \r\nL 232.010195 224.620811 \r\nz\r\n\" style=\"fill:#1f77b4;opacity:0.4;\"/>\r\n   </g>\r\n   <g id=\"patch_34\">\r\n    <path clip-path=\"url(#pde54047be7)\" d=\"M 237.639109 224.64 \r\nL 243.268023 224.64 \r\nL 243.268023 224.64 \r\nL 237.639109 224.64 \r\nz\r\n\" style=\"fill:#1f77b4;opacity:0.4;\"/>\r\n   </g>\r\n   <g id=\"patch_35\">\r\n    <path clip-path=\"url(#pde54047be7)\" d=\"M 243.268023 224.64 \r\nL 248.896937 224.64 \r\nL 248.896937 224.635203 \r\nL 243.268023 224.635203 \r\nz\r\n\" style=\"fill:#1f77b4;opacity:0.4;\"/>\r\n   </g>\r\n   <g id=\"patch_36\">\r\n    <path clip-path=\"url(#pde54047be7)\" d=\"M 248.896937 224.64 \r\nL 254.525851 224.64 \r\nL 254.525851 224.635203 \r\nL 248.896937 224.635203 \r\nz\r\n\" style=\"fill:#1f77b4;opacity:0.4;\"/>\r\n   </g>\r\n   <g id=\"patch_37\">\r\n    <path clip-path=\"url(#pde54047be7)\" d=\"M 254.525851 224.64 \r\nL 260.154765 224.64 \r\nL 260.154765 224.630406 \r\nL 254.525851 224.630406 \r\nz\r\n\" style=\"fill:#1f77b4;opacity:0.4;\"/>\r\n   </g>\r\n   <g id=\"patch_38\">\r\n    <path clip-path=\"url(#pde54047be7)\" d=\"M 260.154765 224.64 \r\nL 265.783679 224.64 \r\nL 265.783679 224.64 \r\nL 260.154765 224.64 \r\nz\r\n\" style=\"fill:#1f77b4;opacity:0.4;\"/>\r\n   </g>\r\n   <g id=\"patch_39\">\r\n    <path clip-path=\"url(#pde54047be7)\" d=\"M 265.783679 224.64 \r\nL 271.412594 224.64 \r\nL 271.412594 224.64 \r\nL 265.783679 224.64 \r\nz\r\n\" style=\"fill:#1f77b4;opacity:0.4;\"/>\r\n   </g>\r\n   <g id=\"patch_40\">\r\n    <path clip-path=\"url(#pde54047be7)\" d=\"M 271.412594 224.64 \r\nL 277.041508 224.64 \r\nL 277.041508 224.630406 \r\nL 271.412594 224.630406 \r\nz\r\n\" style=\"fill:#1f77b4;opacity:0.4;\"/>\r\n   </g>\r\n   <g id=\"patch_41\">\r\n    <path clip-path=\"url(#pde54047be7)\" d=\"M 277.041508 224.64 \r\nL 282.670422 224.64 \r\nL 282.670422 224.64 \r\nL 277.041508 224.64 \r\nz\r\n\" style=\"fill:#1f77b4;opacity:0.4;\"/>\r\n   </g>\r\n   <g id=\"patch_42\">\r\n    <path clip-path=\"url(#pde54047be7)\" d=\"M 282.670422 224.64 \r\nL 288.299336 224.64 \r\nL 288.299336 224.64 \r\nL 282.670422 224.64 \r\nz\r\n\" style=\"fill:#1f77b4;opacity:0.4;\"/>\r\n   </g>\r\n   <g id=\"patch_43\">\r\n    <path clip-path=\"url(#pde54047be7)\" d=\"M 288.299336 224.64 \r\nL 293.92825 224.64 \r\nL 293.92825 224.630406 \r\nL 288.299336 224.630406 \r\nz\r\n\" style=\"fill:#1f77b4;opacity:0.4;\"/>\r\n   </g>\r\n   <g id=\"patch_44\">\r\n    <path clip-path=\"url(#pde54047be7)\" d=\"M 293.92825 224.64 \r\nL 299.557164 224.64 \r\nL 299.557164 224.64 \r\nL 293.92825 224.64 \r\nz\r\n\" style=\"fill:#1f77b4;opacity:0.4;\"/>\r\n   </g>\r\n   <g id=\"patch_45\">\r\n    <path clip-path=\"url(#pde54047be7)\" d=\"M 299.557164 224.64 \r\nL 305.186078 224.64 \r\nL 305.186078 224.64 \r\nL 299.557164 224.64 \r\nz\r\n\" style=\"fill:#1f77b4;opacity:0.4;\"/>\r\n   </g>\r\n   <g id=\"patch_46\">\r\n    <path clip-path=\"url(#pde54047be7)\" d=\"M 305.186078 224.64 \r\nL 310.814992 224.64 \r\nL 310.814992 224.635203 \r\nL 305.186078 224.635203 \r\nz\r\n\" style=\"fill:#1f77b4;opacity:0.4;\"/>\r\n   </g>\r\n   <g id=\"patch_47\">\r\n    <path clip-path=\"url(#pde54047be7)\" d=\"M 310.814992 224.64 \r\nL 316.443906 224.64 \r\nL 316.443906 224.64 \r\nL 310.814992 224.64 \r\nz\r\n\" style=\"fill:#1f77b4;opacity:0.4;\"/>\r\n   </g>\r\n   <g id=\"patch_48\">\r\n    <path clip-path=\"url(#pde54047be7)\" d=\"M 316.443906 224.64 \r\nL 322.07282 224.64 \r\nL 322.07282 224.64 \r\nL 316.443906 224.64 \r\nz\r\n\" style=\"fill:#1f77b4;opacity:0.4;\"/>\r\n   </g>\r\n   <g id=\"patch_49\">\r\n    <path clip-path=\"url(#pde54047be7)\" d=\"M 322.07282 224.64 \r\nL 327.701734 224.64 \r\nL 327.701734 224.64 \r\nL 322.07282 224.64 \r\nz\r\n\" style=\"fill:#1f77b4;opacity:0.4;\"/>\r\n   </g>\r\n   <g id=\"patch_50\">\r\n    <path clip-path=\"url(#pde54047be7)\" d=\"M 327.701734 224.64 \r\nL 333.330648 224.64 \r\nL 333.330648 224.64 \r\nL 327.701734 224.64 \r\nz\r\n\" style=\"fill:#1f77b4;opacity:0.4;\"/>\r\n   </g>\r\n   <g id=\"patch_51\">\r\n    <path clip-path=\"url(#pde54047be7)\" d=\"M 333.330648 224.64 \r\nL 338.959562 224.64 \r\nL 338.959562 224.64 \r\nL 333.330648 224.64 \r\nz\r\n\" style=\"fill:#1f77b4;opacity:0.4;\"/>\r\n   </g>\r\n   <g id=\"patch_52\">\r\n    <path clip-path=\"url(#pde54047be7)\" d=\"M 338.959562 224.64 \r\nL 344.588476 224.64 \r\nL 344.588476 224.635203 \r\nL 338.959562 224.635203 \r\nz\r\n\" style=\"fill:#1f77b4;opacity:0.4;\"/>\r\n   </g>\r\n   <g id=\"matplotlib.axis_1\">\r\n    <g id=\"xtick_1\">\r\n     <g id=\"line2d_1\">\r\n      <defs>\r\n       <path d=\"M 0 0 \r\nL 0 3.5 \r\n\" id=\"m981eb4f700\" style=\"stroke:#000000;stroke-width:0.8;\"/>\r\n      </defs>\r\n      <g>\r\n       <use style=\"stroke:#000000;stroke-width:0.8;\" x=\"63.142774\" xlink:href=\"#m981eb4f700\" y=\"224.64\"/>\r\n      </g>\r\n     </g>\r\n     <g id=\"text_1\">\r\n      <!-- 0 -->\r\n      <defs>\r\n       <path d=\"M 31.78125 66.40625 \r\nQ 24.171875 66.40625 20.328125 58.90625 \r\nQ 16.5 51.421875 16.5 36.375 \r\nQ 16.5 21.390625 20.328125 13.890625 \r\nQ 24.171875 6.390625 31.78125 6.390625 \r\nQ 39.453125 6.390625 43.28125 13.890625 \r\nQ 47.125 21.390625 47.125 36.375 \r\nQ 47.125 51.421875 43.28125 58.90625 \r\nQ 39.453125 66.40625 31.78125 66.40625 \r\nz\r\nM 31.78125 74.21875 \r\nQ 44.046875 74.21875 50.515625 64.515625 \r\nQ 56.984375 54.828125 56.984375 36.375 \r\nQ 56.984375 17.96875 50.515625 8.265625 \r\nQ 44.046875 -1.421875 31.78125 -1.421875 \r\nQ 19.53125 -1.421875 13.0625 8.265625 \r\nQ 6.59375 17.96875 6.59375 36.375 \r\nQ 6.59375 54.828125 13.0625 64.515625 \r\nQ 19.53125 74.21875 31.78125 74.21875 \r\nz\r\n\" id=\"DejaVuSans-48\"/>\r\n      </defs>\r\n      <g transform=\"translate(59.961524 239.238437)scale(0.1 -0.1)\">\r\n       <use xlink:href=\"#DejaVuSans-48\"/>\r\n      </g>\r\n     </g>\r\n    </g>\r\n    <g id=\"xtick_2\">\r\n     <g id=\"line2d_2\">\r\n      <g>\r\n       <use style=\"stroke:#000000;stroke-width:0.8;\" x=\"103.120857\" xlink:href=\"#m981eb4f700\" y=\"224.64\"/>\r\n      </g>\r\n     </g>\r\n     <g id=\"text_2\">\r\n      <!-- 25 -->\r\n      <defs>\r\n       <path d=\"M 19.1875 8.296875 \r\nL 53.609375 8.296875 \r\nL 53.609375 0 \r\nL 7.328125 0 \r\nL 7.328125 8.296875 \r\nQ 12.9375 14.109375 22.625 23.890625 \r\nQ 32.328125 33.6875 34.8125 36.53125 \r\nQ 39.546875 41.84375 41.421875 45.53125 \r\nQ 43.3125 49.21875 43.3125 52.78125 \r\nQ 43.3125 58.59375 39.234375 62.25 \r\nQ 35.15625 65.921875 28.609375 65.921875 \r\nQ 23.96875 65.921875 18.8125 64.3125 \r\nQ 13.671875 62.703125 7.8125 59.421875 \r\nL 7.8125 69.390625 \r\nQ 13.765625 71.78125 18.9375 73 \r\nQ 24.125 74.21875 28.421875 74.21875 \r\nQ 39.75 74.21875 46.484375 68.546875 \r\nQ 53.21875 62.890625 53.21875 53.421875 \r\nQ 53.21875 48.921875 51.53125 44.890625 \r\nQ 49.859375 40.875 45.40625 35.40625 \r\nQ 44.1875 33.984375 37.640625 27.21875 \r\nQ 31.109375 20.453125 19.1875 8.296875 \r\nz\r\n\" id=\"DejaVuSans-50\"/>\r\n       <path d=\"M 10.796875 72.90625 \r\nL 49.515625 72.90625 \r\nL 49.515625 64.59375 \r\nL 19.828125 64.59375 \r\nL 19.828125 46.734375 \r\nQ 21.96875 47.46875 24.109375 47.828125 \r\nQ 26.265625 48.1875 28.421875 48.1875 \r\nQ 40.625 48.1875 47.75 41.5 \r\nQ 54.890625 34.8125 54.890625 23.390625 \r\nQ 54.890625 11.625 47.5625 5.09375 \r\nQ 40.234375 -1.421875 26.90625 -1.421875 \r\nQ 22.3125 -1.421875 17.546875 -0.640625 \r\nQ 12.796875 0.140625 7.71875 1.703125 \r\nL 7.71875 11.625 \r\nQ 12.109375 9.234375 16.796875 8.0625 \r\nQ 21.484375 6.890625 26.703125 6.890625 \r\nQ 35.15625 6.890625 40.078125 11.328125 \r\nQ 45.015625 15.765625 45.015625 23.390625 \r\nQ 45.015625 31 40.078125 35.4375 \r\nQ 35.15625 39.890625 26.703125 39.890625 \r\nQ 22.75 39.890625 18.8125 39.015625 \r\nQ 14.890625 38.140625 10.796875 36.28125 \r\nz\r\n\" id=\"DejaVuSans-53\"/>\r\n      </defs>\r\n      <g transform=\"translate(96.758357 239.238437)scale(0.1 -0.1)\">\r\n       <use xlink:href=\"#DejaVuSans-50\"/>\r\n       <use x=\"63.623047\" xlink:href=\"#DejaVuSans-53\"/>\r\n      </g>\r\n     </g>\r\n    </g>\r\n    <g id=\"xtick_3\">\r\n     <g id=\"line2d_3\">\r\n      <g>\r\n       <use style=\"stroke:#000000;stroke-width:0.8;\" x=\"143.098939\" xlink:href=\"#m981eb4f700\" y=\"224.64\"/>\r\n      </g>\r\n     </g>\r\n     <g id=\"text_3\">\r\n      <!-- 50 -->\r\n      <g transform=\"translate(136.736439 239.238437)scale(0.1 -0.1)\">\r\n       <use xlink:href=\"#DejaVuSans-53\"/>\r\n       <use x=\"63.623047\" xlink:href=\"#DejaVuSans-48\"/>\r\n      </g>\r\n     </g>\r\n    </g>\r\n    <g id=\"xtick_4\">\r\n     <g id=\"line2d_4\">\r\n      <g>\r\n       <use style=\"stroke:#000000;stroke-width:0.8;\" x=\"183.077022\" xlink:href=\"#m981eb4f700\" y=\"224.64\"/>\r\n      </g>\r\n     </g>\r\n     <g id=\"text_4\">\r\n      <!-- 75 -->\r\n      <defs>\r\n       <path d=\"M 8.203125 72.90625 \r\nL 55.078125 72.90625 \r\nL 55.078125 68.703125 \r\nL 28.609375 0 \r\nL 18.3125 0 \r\nL 43.21875 64.59375 \r\nL 8.203125 64.59375 \r\nz\r\n\" id=\"DejaVuSans-55\"/>\r\n      </defs>\r\n      <g transform=\"translate(176.714522 239.238437)scale(0.1 -0.1)\">\r\n       <use xlink:href=\"#DejaVuSans-55\"/>\r\n       <use x=\"63.623047\" xlink:href=\"#DejaVuSans-53\"/>\r\n      </g>\r\n     </g>\r\n    </g>\r\n    <g id=\"xtick_5\">\r\n     <g id=\"line2d_5\">\r\n      <g>\r\n       <use style=\"stroke:#000000;stroke-width:0.8;\" x=\"223.055105\" xlink:href=\"#m981eb4f700\" y=\"224.64\"/>\r\n      </g>\r\n     </g>\r\n     <g id=\"text_5\">\r\n      <!-- 100 -->\r\n      <defs>\r\n       <path d=\"M 12.40625 8.296875 \r\nL 28.515625 8.296875 \r\nL 28.515625 63.921875 \r\nL 10.984375 60.40625 \r\nL 10.984375 69.390625 \r\nL 28.421875 72.90625 \r\nL 38.28125 72.90625 \r\nL 38.28125 8.296875 \r\nL 54.390625 8.296875 \r\nL 54.390625 0 \r\nL 12.40625 0 \r\nz\r\n\" id=\"DejaVuSans-49\"/>\r\n      </defs>\r\n      <g transform=\"translate(213.511355 239.238437)scale(0.1 -0.1)\">\r\n       <use xlink:href=\"#DejaVuSans-49\"/>\r\n       <use x=\"63.623047\" xlink:href=\"#DejaVuSans-48\"/>\r\n       <use x=\"127.246094\" xlink:href=\"#DejaVuSans-48\"/>\r\n      </g>\r\n     </g>\r\n    </g>\r\n    <g id=\"xtick_6\">\r\n     <g id=\"line2d_6\">\r\n      <g>\r\n       <use style=\"stroke:#000000;stroke-width:0.8;\" x=\"263.033187\" xlink:href=\"#m981eb4f700\" y=\"224.64\"/>\r\n      </g>\r\n     </g>\r\n     <g id=\"text_6\">\r\n      <!-- 125 -->\r\n      <g transform=\"translate(253.489437 239.238437)scale(0.1 -0.1)\">\r\n       <use xlink:href=\"#DejaVuSans-49\"/>\r\n       <use x=\"63.623047\" xlink:href=\"#DejaVuSans-50\"/>\r\n       <use x=\"127.246094\" xlink:href=\"#DejaVuSans-53\"/>\r\n      </g>\r\n     </g>\r\n    </g>\r\n    <g id=\"xtick_7\">\r\n     <g id=\"line2d_7\">\r\n      <g>\r\n       <use style=\"stroke:#000000;stroke-width:0.8;\" x=\"303.01127\" xlink:href=\"#m981eb4f700\" y=\"224.64\"/>\r\n      </g>\r\n     </g>\r\n     <g id=\"text_7\">\r\n      <!-- 150 -->\r\n      <g transform=\"translate(293.46752 239.238437)scale(0.1 -0.1)\">\r\n       <use xlink:href=\"#DejaVuSans-49\"/>\r\n       <use x=\"63.623047\" xlink:href=\"#DejaVuSans-53\"/>\r\n       <use x=\"127.246094\" xlink:href=\"#DejaVuSans-48\"/>\r\n      </g>\r\n     </g>\r\n    </g>\r\n    <g id=\"xtick_8\">\r\n     <g id=\"line2d_8\">\r\n      <g>\r\n       <use style=\"stroke:#000000;stroke-width:0.8;\" x=\"342.989353\" xlink:href=\"#m981eb4f700\" y=\"224.64\"/>\r\n      </g>\r\n     </g>\r\n     <g id=\"text_8\">\r\n      <!-- 175 -->\r\n      <g transform=\"translate(333.445603 239.238437)scale(0.1 -0.1)\">\r\n       <use xlink:href=\"#DejaVuSans-49\"/>\r\n       <use x=\"63.623047\" xlink:href=\"#DejaVuSans-55\"/>\r\n       <use x=\"127.246094\" xlink:href=\"#DejaVuSans-53\"/>\r\n      </g>\r\n     </g>\r\n    </g>\r\n    <g id=\"text_9\">\r\n     <!-- Months since last delinquent -->\r\n     <defs>\r\n      <path d=\"M 9.8125 72.90625 \r\nL 24.515625 72.90625 \r\nL 43.109375 23.296875 \r\nL 61.8125 72.90625 \r\nL 76.515625 72.90625 \r\nL 76.515625 0 \r\nL 66.890625 0 \r\nL 66.890625 64.015625 \r\nL 48.09375 14.015625 \r\nL 38.1875 14.015625 \r\nL 19.390625 64.015625 \r\nL 19.390625 0 \r\nL 9.8125 0 \r\nz\r\n\" id=\"DejaVuSans-77\"/>\r\n      <path d=\"M 30.609375 48.390625 \r\nQ 23.390625 48.390625 19.1875 42.75 \r\nQ 14.984375 37.109375 14.984375 27.296875 \r\nQ 14.984375 17.484375 19.15625 11.84375 \r\nQ 23.34375 6.203125 30.609375 6.203125 \r\nQ 37.796875 6.203125 41.984375 11.859375 \r\nQ 46.1875 17.53125 46.1875 27.296875 \r\nQ 46.1875 37.015625 41.984375 42.703125 \r\nQ 37.796875 48.390625 30.609375 48.390625 \r\nz\r\nM 30.609375 56 \r\nQ 42.328125 56 49.015625 48.375 \r\nQ 55.71875 40.765625 55.71875 27.296875 \r\nQ 55.71875 13.875 49.015625 6.21875 \r\nQ 42.328125 -1.421875 30.609375 -1.421875 \r\nQ 18.84375 -1.421875 12.171875 6.21875 \r\nQ 5.515625 13.875 5.515625 27.296875 \r\nQ 5.515625 40.765625 12.171875 48.375 \r\nQ 18.84375 56 30.609375 56 \r\nz\r\n\" id=\"DejaVuSans-111\"/>\r\n      <path d=\"M 54.890625 33.015625 \r\nL 54.890625 0 \r\nL 45.90625 0 \r\nL 45.90625 32.71875 \r\nQ 45.90625 40.484375 42.875 44.328125 \r\nQ 39.84375 48.1875 33.796875 48.1875 \r\nQ 26.515625 48.1875 22.3125 43.546875 \r\nQ 18.109375 38.921875 18.109375 30.90625 \r\nL 18.109375 0 \r\nL 9.078125 0 \r\nL 9.078125 54.6875 \r\nL 18.109375 54.6875 \r\nL 18.109375 46.1875 \r\nQ 21.34375 51.125 25.703125 53.5625 \r\nQ 30.078125 56 35.796875 56 \r\nQ 45.21875 56 50.046875 50.171875 \r\nQ 54.890625 44.34375 54.890625 33.015625 \r\nz\r\n\" id=\"DejaVuSans-110\"/>\r\n      <path d=\"M 18.3125 70.21875 \r\nL 18.3125 54.6875 \r\nL 36.8125 54.6875 \r\nL 36.8125 47.703125 \r\nL 18.3125 47.703125 \r\nL 18.3125 18.015625 \r\nQ 18.3125 11.328125 20.140625 9.421875 \r\nQ 21.96875 7.515625 27.59375 7.515625 \r\nL 36.8125 7.515625 \r\nL 36.8125 0 \r\nL 27.59375 0 \r\nQ 17.1875 0 13.234375 3.875 \r\nQ 9.28125 7.765625 9.28125 18.015625 \r\nL 9.28125 47.703125 \r\nL 2.6875 47.703125 \r\nL 2.6875 54.6875 \r\nL 9.28125 54.6875 \r\nL 9.28125 70.21875 \r\nz\r\n\" id=\"DejaVuSans-116\"/>\r\n      <path d=\"M 54.890625 33.015625 \r\nL 54.890625 0 \r\nL 45.90625 0 \r\nL 45.90625 32.71875 \r\nQ 45.90625 40.484375 42.875 44.328125 \r\nQ 39.84375 48.1875 33.796875 48.1875 \r\nQ 26.515625 48.1875 22.3125 43.546875 \r\nQ 18.109375 38.921875 18.109375 30.90625 \r\nL 18.109375 0 \r\nL 9.078125 0 \r\nL 9.078125 75.984375 \r\nL 18.109375 75.984375 \r\nL 18.109375 46.1875 \r\nQ 21.34375 51.125 25.703125 53.5625 \r\nQ 30.078125 56 35.796875 56 \r\nQ 45.21875 56 50.046875 50.171875 \r\nQ 54.890625 44.34375 54.890625 33.015625 \r\nz\r\n\" id=\"DejaVuSans-104\"/>\r\n      <path d=\"M 44.28125 53.078125 \r\nL 44.28125 44.578125 \r\nQ 40.484375 46.53125 36.375 47.5 \r\nQ 32.28125 48.484375 27.875 48.484375 \r\nQ 21.1875 48.484375 17.84375 46.4375 \r\nQ 14.5 44.390625 14.5 40.28125 \r\nQ 14.5 37.15625 16.890625 35.375 \r\nQ 19.28125 33.59375 26.515625 31.984375 \r\nL 29.59375 31.296875 \r\nQ 39.15625 29.25 43.1875 25.515625 \r\nQ 47.21875 21.78125 47.21875 15.09375 \r\nQ 47.21875 7.46875 41.1875 3.015625 \r\nQ 35.15625 -1.421875 24.609375 -1.421875 \r\nQ 20.21875 -1.421875 15.453125 -0.5625 \r\nQ 10.6875 0.296875 5.421875 2 \r\nL 5.421875 11.28125 \r\nQ 10.40625 8.6875 15.234375 7.390625 \r\nQ 20.0625 6.109375 24.8125 6.109375 \r\nQ 31.15625 6.109375 34.5625 8.28125 \r\nQ 37.984375 10.453125 37.984375 14.40625 \r\nQ 37.984375 18.0625 35.515625 20.015625 \r\nQ 33.0625 21.96875 24.703125 23.78125 \r\nL 21.578125 24.515625 \r\nQ 13.234375 26.265625 9.515625 29.90625 \r\nQ 5.8125 33.546875 5.8125 39.890625 \r\nQ 5.8125 47.609375 11.28125 51.796875 \r\nQ 16.75 56 26.8125 56 \r\nQ 31.78125 56 36.171875 55.265625 \r\nQ 40.578125 54.546875 44.28125 53.078125 \r\nz\r\n\" id=\"DejaVuSans-115\"/>\r\n      <path id=\"DejaVuSans-32\"/>\r\n      <path d=\"M 9.421875 54.6875 \r\nL 18.40625 54.6875 \r\nL 18.40625 0 \r\nL 9.421875 0 \r\nz\r\nM 9.421875 75.984375 \r\nL 18.40625 75.984375 \r\nL 18.40625 64.59375 \r\nL 9.421875 64.59375 \r\nz\r\n\" id=\"DejaVuSans-105\"/>\r\n      <path d=\"M 48.78125 52.59375 \r\nL 48.78125 44.1875 \r\nQ 44.96875 46.296875 41.140625 47.34375 \r\nQ 37.3125 48.390625 33.40625 48.390625 \r\nQ 24.65625 48.390625 19.8125 42.84375 \r\nQ 14.984375 37.3125 14.984375 27.296875 \r\nQ 14.984375 17.28125 19.8125 11.734375 \r\nQ 24.65625 6.203125 33.40625 6.203125 \r\nQ 37.3125 6.203125 41.140625 7.25 \r\nQ 44.96875 8.296875 48.78125 10.40625 \r\nL 48.78125 2.09375 \r\nQ 45.015625 0.34375 40.984375 -0.53125 \r\nQ 36.96875 -1.421875 32.421875 -1.421875 \r\nQ 20.0625 -1.421875 12.78125 6.34375 \r\nQ 5.515625 14.109375 5.515625 27.296875 \r\nQ 5.515625 40.671875 12.859375 48.328125 \r\nQ 20.21875 56 33.015625 56 \r\nQ 37.15625 56 41.109375 55.140625 \r\nQ 45.0625 54.296875 48.78125 52.59375 \r\nz\r\n\" id=\"DejaVuSans-99\"/>\r\n      <path d=\"M 56.203125 29.59375 \r\nL 56.203125 25.203125 \r\nL 14.890625 25.203125 \r\nQ 15.484375 15.921875 20.484375 11.0625 \r\nQ 25.484375 6.203125 34.421875 6.203125 \r\nQ 39.59375 6.203125 44.453125 7.46875 \r\nQ 49.3125 8.734375 54.109375 11.28125 \r\nL 54.109375 2.78125 \r\nQ 49.265625 0.734375 44.1875 -0.34375 \r\nQ 39.109375 -1.421875 33.890625 -1.421875 \r\nQ 20.796875 -1.421875 13.15625 6.1875 \r\nQ 5.515625 13.8125 5.515625 26.8125 \r\nQ 5.515625 40.234375 12.765625 48.109375 \r\nQ 20.015625 56 32.328125 56 \r\nQ 43.359375 56 49.78125 48.890625 \r\nQ 56.203125 41.796875 56.203125 29.59375 \r\nz\r\nM 47.21875 32.234375 \r\nQ 47.125 39.59375 43.09375 43.984375 \r\nQ 39.0625 48.390625 32.421875 48.390625 \r\nQ 24.90625 48.390625 20.390625 44.140625 \r\nQ 15.875 39.890625 15.1875 32.171875 \r\nz\r\n\" id=\"DejaVuSans-101\"/>\r\n      <path d=\"M 9.421875 75.984375 \r\nL 18.40625 75.984375 \r\nL 18.40625 0 \r\nL 9.421875 0 \r\nz\r\n\" id=\"DejaVuSans-108\"/>\r\n      <path d=\"M 34.28125 27.484375 \r\nQ 23.390625 27.484375 19.1875 25 \r\nQ 14.984375 22.515625 14.984375 16.5 \r\nQ 14.984375 11.71875 18.140625 8.90625 \r\nQ 21.296875 6.109375 26.703125 6.109375 \r\nQ 34.1875 6.109375 38.703125 11.40625 \r\nQ 43.21875 16.703125 43.21875 25.484375 \r\nL 43.21875 27.484375 \r\nz\r\nM 52.203125 31.203125 \r\nL 52.203125 0 \r\nL 43.21875 0 \r\nL 43.21875 8.296875 \r\nQ 40.140625 3.328125 35.546875 0.953125 \r\nQ 30.953125 -1.421875 24.3125 -1.421875 \r\nQ 15.921875 -1.421875 10.953125 3.296875 \r\nQ 6 8.015625 6 15.921875 \r\nQ 6 25.140625 12.171875 29.828125 \r\nQ 18.359375 34.515625 30.609375 34.515625 \r\nL 43.21875 34.515625 \r\nL 43.21875 35.40625 \r\nQ 43.21875 41.609375 39.140625 45 \r\nQ 35.0625 48.390625 27.6875 48.390625 \r\nQ 23 48.390625 18.546875 47.265625 \r\nQ 14.109375 46.140625 10.015625 43.890625 \r\nL 10.015625 52.203125 \r\nQ 14.9375 54.109375 19.578125 55.046875 \r\nQ 24.21875 56 28.609375 56 \r\nQ 40.484375 56 46.34375 49.84375 \r\nQ 52.203125 43.703125 52.203125 31.203125 \r\nz\r\n\" id=\"DejaVuSans-97\"/>\r\n      <path d=\"M 45.40625 46.390625 \r\nL 45.40625 75.984375 \r\nL 54.390625 75.984375 \r\nL 54.390625 0 \r\nL 45.40625 0 \r\nL 45.40625 8.203125 \r\nQ 42.578125 3.328125 38.25 0.953125 \r\nQ 33.9375 -1.421875 27.875 -1.421875 \r\nQ 17.96875 -1.421875 11.734375 6.484375 \r\nQ 5.515625 14.40625 5.515625 27.296875 \r\nQ 5.515625 40.1875 11.734375 48.09375 \r\nQ 17.96875 56 27.875 56 \r\nQ 33.9375 56 38.25 53.625 \r\nQ 42.578125 51.265625 45.40625 46.390625 \r\nz\r\nM 14.796875 27.296875 \r\nQ 14.796875 17.390625 18.875 11.75 \r\nQ 22.953125 6.109375 30.078125 6.109375 \r\nQ 37.203125 6.109375 41.296875 11.75 \r\nQ 45.40625 17.390625 45.40625 27.296875 \r\nQ 45.40625 37.203125 41.296875 42.84375 \r\nQ 37.203125 48.484375 30.078125 48.484375 \r\nQ 22.953125 48.484375 18.875 42.84375 \r\nQ 14.796875 37.203125 14.796875 27.296875 \r\nz\r\n\" id=\"DejaVuSans-100\"/>\r\n      <path d=\"M 14.796875 27.296875 \r\nQ 14.796875 17.390625 18.875 11.75 \r\nQ 22.953125 6.109375 30.078125 6.109375 \r\nQ 37.203125 6.109375 41.296875 11.75 \r\nQ 45.40625 17.390625 45.40625 27.296875 \r\nQ 45.40625 37.203125 41.296875 42.84375 \r\nQ 37.203125 48.484375 30.078125 48.484375 \r\nQ 22.953125 48.484375 18.875 42.84375 \r\nQ 14.796875 37.203125 14.796875 27.296875 \r\nz\r\nM 45.40625 8.203125 \r\nQ 42.578125 3.328125 38.25 0.953125 \r\nQ 33.9375 -1.421875 27.875 -1.421875 \r\nQ 17.96875 -1.421875 11.734375 6.484375 \r\nQ 5.515625 14.40625 5.515625 27.296875 \r\nQ 5.515625 40.1875 11.734375 48.09375 \r\nQ 17.96875 56 27.875 56 \r\nQ 33.9375 56 38.25 53.625 \r\nQ 42.578125 51.265625 45.40625 46.390625 \r\nL 45.40625 54.6875 \r\nL 54.390625 54.6875 \r\nL 54.390625 -20.796875 \r\nL 45.40625 -20.796875 \r\nz\r\n\" id=\"DejaVuSans-113\"/>\r\n      <path d=\"M 8.5 21.578125 \r\nL 8.5 54.6875 \r\nL 17.484375 54.6875 \r\nL 17.484375 21.921875 \r\nQ 17.484375 14.15625 20.5 10.265625 \r\nQ 23.53125 6.390625 29.59375 6.390625 \r\nQ 36.859375 6.390625 41.078125 11.03125 \r\nQ 45.3125 15.671875 45.3125 23.6875 \r\nL 45.3125 54.6875 \r\nL 54.296875 54.6875 \r\nL 54.296875 0 \r\nL 45.3125 0 \r\nL 45.3125 8.40625 \r\nQ 42.046875 3.421875 37.71875 1 \r\nQ 33.40625 -1.421875 27.6875 -1.421875 \r\nQ 18.265625 -1.421875 13.375 4.4375 \r\nQ 8.5 10.296875 8.5 21.578125 \r\nz\r\nM 31.109375 56 \r\nz\r\n\" id=\"DejaVuSans-117\"/>\r\n     </defs>\r\n     <g transform=\"translate(132.070312 252.916562)scale(0.1 -0.1)\">\r\n      <use xlink:href=\"#DejaVuSans-77\"/>\r\n      <use x=\"86.279297\" xlink:href=\"#DejaVuSans-111\"/>\r\n      <use x=\"147.460938\" xlink:href=\"#DejaVuSans-110\"/>\r\n      <use x=\"210.839844\" xlink:href=\"#DejaVuSans-116\"/>\r\n      <use x=\"250.048828\" xlink:href=\"#DejaVuSans-104\"/>\r\n      <use x=\"313.427734\" xlink:href=\"#DejaVuSans-115\"/>\r\n      <use x=\"365.527344\" xlink:href=\"#DejaVuSans-32\"/>\r\n      <use x=\"397.314453\" xlink:href=\"#DejaVuSans-115\"/>\r\n      <use x=\"449.414062\" xlink:href=\"#DejaVuSans-105\"/>\r\n      <use x=\"477.197266\" xlink:href=\"#DejaVuSans-110\"/>\r\n      <use x=\"540.576172\" xlink:href=\"#DejaVuSans-99\"/>\r\n      <use x=\"595.556641\" xlink:href=\"#DejaVuSans-101\"/>\r\n      <use x=\"657.080078\" xlink:href=\"#DejaVuSans-32\"/>\r\n      <use x=\"688.867188\" xlink:href=\"#DejaVuSans-108\"/>\r\n      <use x=\"716.650391\" xlink:href=\"#DejaVuSans-97\"/>\r\n      <use x=\"777.929688\" xlink:href=\"#DejaVuSans-115\"/>\r\n      <use x=\"830.029297\" xlink:href=\"#DejaVuSans-116\"/>\r\n      <use x=\"869.238281\" xlink:href=\"#DejaVuSans-32\"/>\r\n      <use x=\"901.025391\" xlink:href=\"#DejaVuSans-100\"/>\r\n      <use x=\"964.501953\" xlink:href=\"#DejaVuSans-101\"/>\r\n      <use x=\"1026.025391\" xlink:href=\"#DejaVuSans-108\"/>\r\n      <use x=\"1053.808594\" xlink:href=\"#DejaVuSans-105\"/>\r\n      <use x=\"1081.591797\" xlink:href=\"#DejaVuSans-110\"/>\r\n      <use x=\"1144.970703\" xlink:href=\"#DejaVuSans-113\"/>\r\n      <use x=\"1208.447266\" xlink:href=\"#DejaVuSans-117\"/>\r\n      <use x=\"1271.826172\" xlink:href=\"#DejaVuSans-101\"/>\r\n      <use x=\"1333.349609\" xlink:href=\"#DejaVuSans-110\"/>\r\n      <use x=\"1396.728516\" xlink:href=\"#DejaVuSans-116\"/>\r\n     </g>\r\n    </g>\r\n   </g>\r\n   <g id=\"matplotlib.axis_2\">\r\n    <g id=\"ytick_1\">\r\n     <g id=\"line2d_9\">\r\n      <defs>\r\n       <path d=\"M 0 0 \r\nL -3.5 0 \r\n\" id=\"m57b88db50f\" style=\"stroke:#000000;stroke-width:0.8;\"/>\r\n      </defs>\r\n      <g>\r\n       <use style=\"stroke:#000000;stroke-width:0.8;\" x=\"36.465625\" xlink:href=\"#m57b88db50f\" y=\"224.64\"/>\r\n      </g>\r\n     </g>\r\n     <g id=\"text_10\">\r\n      <!-- 0.00 -->\r\n      <defs>\r\n       <path d=\"M 10.6875 12.40625 \r\nL 21 12.40625 \r\nL 21 0 \r\nL 10.6875 0 \r\nz\r\n\" id=\"DejaVuSans-46\"/>\r\n      </defs>\r\n      <g transform=\"translate(7.2 228.439219)scale(0.1 -0.1)\">\r\n       <use xlink:href=\"#DejaVuSans-48\"/>\r\n       <use x=\"63.623047\" xlink:href=\"#DejaVuSans-46\"/>\r\n       <use x=\"95.410156\" xlink:href=\"#DejaVuSans-48\"/>\r\n       <use x=\"159.033203\" xlink:href=\"#DejaVuSans-48\"/>\r\n      </g>\r\n     </g>\r\n    </g>\r\n    <g id=\"ytick_2\">\r\n     <g id=\"line2d_10\">\r\n      <g>\r\n       <use style=\"stroke:#000000;stroke-width:0.8;\" x=\"36.465625\" xlink:href=\"#m57b88db50f\" y=\"198.078072\"/>\r\n      </g>\r\n     </g>\r\n     <g id=\"text_11\">\r\n      <!-- 0.02 -->\r\n      <g transform=\"translate(7.2 201.877291)scale(0.1 -0.1)\">\r\n       <use xlink:href=\"#DejaVuSans-48\"/>\r\n       <use x=\"63.623047\" xlink:href=\"#DejaVuSans-46\"/>\r\n       <use x=\"95.410156\" xlink:href=\"#DejaVuSans-48\"/>\r\n       <use x=\"159.033203\" xlink:href=\"#DejaVuSans-50\"/>\r\n      </g>\r\n     </g>\r\n    </g>\r\n    <g id=\"ytick_3\">\r\n     <g id=\"line2d_11\">\r\n      <g>\r\n       <use style=\"stroke:#000000;stroke-width:0.8;\" x=\"36.465625\" xlink:href=\"#m57b88db50f\" y=\"171.516144\"/>\r\n      </g>\r\n     </g>\r\n     <g id=\"text_12\">\r\n      <!-- 0.04 -->\r\n      <defs>\r\n       <path d=\"M 37.796875 64.3125 \r\nL 12.890625 25.390625 \r\nL 37.796875 25.390625 \r\nz\r\nM 35.203125 72.90625 \r\nL 47.609375 72.90625 \r\nL 47.609375 25.390625 \r\nL 58.015625 25.390625 \r\nL 58.015625 17.1875 \r\nL 47.609375 17.1875 \r\nL 47.609375 0 \r\nL 37.796875 0 \r\nL 37.796875 17.1875 \r\nL 4.890625 17.1875 \r\nL 4.890625 26.703125 \r\nz\r\n\" id=\"DejaVuSans-52\"/>\r\n      </defs>\r\n      <g transform=\"translate(7.2 175.315362)scale(0.1 -0.1)\">\r\n       <use xlink:href=\"#DejaVuSans-48\"/>\r\n       <use x=\"63.623047\" xlink:href=\"#DejaVuSans-46\"/>\r\n       <use x=\"95.410156\" xlink:href=\"#DejaVuSans-48\"/>\r\n       <use x=\"159.033203\" xlink:href=\"#DejaVuSans-52\"/>\r\n      </g>\r\n     </g>\r\n    </g>\r\n    <g id=\"ytick_4\">\r\n     <g id=\"line2d_12\">\r\n      <g>\r\n       <use style=\"stroke:#000000;stroke-width:0.8;\" x=\"36.465625\" xlink:href=\"#m57b88db50f\" y=\"144.954215\"/>\r\n      </g>\r\n     </g>\r\n     <g id=\"text_13\">\r\n      <!-- 0.06 -->\r\n      <defs>\r\n       <path d=\"M 33.015625 40.375 \r\nQ 26.375 40.375 22.484375 35.828125 \r\nQ 18.609375 31.296875 18.609375 23.390625 \r\nQ 18.609375 15.53125 22.484375 10.953125 \r\nQ 26.375 6.390625 33.015625 6.390625 \r\nQ 39.65625 6.390625 43.53125 10.953125 \r\nQ 47.40625 15.53125 47.40625 23.390625 \r\nQ 47.40625 31.296875 43.53125 35.828125 \r\nQ 39.65625 40.375 33.015625 40.375 \r\nz\r\nM 52.59375 71.296875 \r\nL 52.59375 62.3125 \r\nQ 48.875 64.0625 45.09375 64.984375 \r\nQ 41.3125 65.921875 37.59375 65.921875 \r\nQ 27.828125 65.921875 22.671875 59.328125 \r\nQ 17.53125 52.734375 16.796875 39.40625 \r\nQ 19.671875 43.65625 24.015625 45.921875 \r\nQ 28.375 48.1875 33.59375 48.1875 \r\nQ 44.578125 48.1875 50.953125 41.515625 \r\nQ 57.328125 34.859375 57.328125 23.390625 \r\nQ 57.328125 12.15625 50.6875 5.359375 \r\nQ 44.046875 -1.421875 33.015625 -1.421875 \r\nQ 20.359375 -1.421875 13.671875 8.265625 \r\nQ 6.984375 17.96875 6.984375 36.375 \r\nQ 6.984375 53.65625 15.1875 63.9375 \r\nQ 23.390625 74.21875 37.203125 74.21875 \r\nQ 40.921875 74.21875 44.703125 73.484375 \r\nQ 48.484375 72.75 52.59375 71.296875 \r\nz\r\n\" id=\"DejaVuSans-54\"/>\r\n      </defs>\r\n      <g transform=\"translate(7.2 148.753434)scale(0.1 -0.1)\">\r\n       <use xlink:href=\"#DejaVuSans-48\"/>\r\n       <use x=\"63.623047\" xlink:href=\"#DejaVuSans-46\"/>\r\n       <use x=\"95.410156\" xlink:href=\"#DejaVuSans-48\"/>\r\n       <use x=\"159.033203\" xlink:href=\"#DejaVuSans-54\"/>\r\n      </g>\r\n     </g>\r\n    </g>\r\n    <g id=\"ytick_5\">\r\n     <g id=\"line2d_13\">\r\n      <g>\r\n       <use style=\"stroke:#000000;stroke-width:0.8;\" x=\"36.465625\" xlink:href=\"#m57b88db50f\" y=\"118.392287\"/>\r\n      </g>\r\n     </g>\r\n     <g id=\"text_14\">\r\n      <!-- 0.08 -->\r\n      <defs>\r\n       <path d=\"M 31.78125 34.625 \r\nQ 24.75 34.625 20.71875 30.859375 \r\nQ 16.703125 27.09375 16.703125 20.515625 \r\nQ 16.703125 13.921875 20.71875 10.15625 \r\nQ 24.75 6.390625 31.78125 6.390625 \r\nQ 38.8125 6.390625 42.859375 10.171875 \r\nQ 46.921875 13.96875 46.921875 20.515625 \r\nQ 46.921875 27.09375 42.890625 30.859375 \r\nQ 38.875 34.625 31.78125 34.625 \r\nz\r\nM 21.921875 38.8125 \r\nQ 15.578125 40.375 12.03125 44.71875 \r\nQ 8.5 49.078125 8.5 55.328125 \r\nQ 8.5 64.0625 14.71875 69.140625 \r\nQ 20.953125 74.21875 31.78125 74.21875 \r\nQ 42.671875 74.21875 48.875 69.140625 \r\nQ 55.078125 64.0625 55.078125 55.328125 \r\nQ 55.078125 49.078125 51.53125 44.71875 \r\nQ 48 40.375 41.703125 38.8125 \r\nQ 48.828125 37.15625 52.796875 32.3125 \r\nQ 56.78125 27.484375 56.78125 20.515625 \r\nQ 56.78125 9.90625 50.3125 4.234375 \r\nQ 43.84375 -1.421875 31.78125 -1.421875 \r\nQ 19.734375 -1.421875 13.25 4.234375 \r\nQ 6.78125 9.90625 6.78125 20.515625 \r\nQ 6.78125 27.484375 10.78125 32.3125 \r\nQ 14.796875 37.15625 21.921875 38.8125 \r\nz\r\nM 18.3125 54.390625 \r\nQ 18.3125 48.734375 21.84375 45.5625 \r\nQ 25.390625 42.390625 31.78125 42.390625 \r\nQ 38.140625 42.390625 41.71875 45.5625 \r\nQ 45.3125 48.734375 45.3125 54.390625 \r\nQ 45.3125 60.0625 41.71875 63.234375 \r\nQ 38.140625 66.40625 31.78125 66.40625 \r\nQ 25.390625 66.40625 21.84375 63.234375 \r\nQ 18.3125 60.0625 18.3125 54.390625 \r\nz\r\n\" id=\"DejaVuSans-56\"/>\r\n      </defs>\r\n      <g transform=\"translate(7.2 122.191506)scale(0.1 -0.1)\">\r\n       <use xlink:href=\"#DejaVuSans-48\"/>\r\n       <use x=\"63.623047\" xlink:href=\"#DejaVuSans-46\"/>\r\n       <use x=\"95.410156\" xlink:href=\"#DejaVuSans-48\"/>\r\n       <use x=\"159.033203\" xlink:href=\"#DejaVuSans-56\"/>\r\n      </g>\r\n     </g>\r\n    </g>\r\n    <g id=\"ytick_6\">\r\n     <g id=\"line2d_14\">\r\n      <g>\r\n       <use style=\"stroke:#000000;stroke-width:0.8;\" x=\"36.465625\" xlink:href=\"#m57b88db50f\" y=\"91.830359\"/>\r\n      </g>\r\n     </g>\r\n     <g id=\"text_15\">\r\n      <!-- 0.10 -->\r\n      <g transform=\"translate(7.2 95.629578)scale(0.1 -0.1)\">\r\n       <use xlink:href=\"#DejaVuSans-48\"/>\r\n       <use x=\"63.623047\" xlink:href=\"#DejaVuSans-46\"/>\r\n       <use x=\"95.410156\" xlink:href=\"#DejaVuSans-49\"/>\r\n       <use x=\"159.033203\" xlink:href=\"#DejaVuSans-48\"/>\r\n      </g>\r\n     </g>\r\n    </g>\r\n    <g id=\"ytick_7\">\r\n     <g id=\"line2d_15\">\r\n      <g>\r\n       <use style=\"stroke:#000000;stroke-width:0.8;\" x=\"36.465625\" xlink:href=\"#m57b88db50f\" y=\"65.268431\"/>\r\n      </g>\r\n     </g>\r\n     <g id=\"text_16\">\r\n      <!-- 0.12 -->\r\n      <g transform=\"translate(7.2 69.06765)scale(0.1 -0.1)\">\r\n       <use xlink:href=\"#DejaVuSans-48\"/>\r\n       <use x=\"63.623047\" xlink:href=\"#DejaVuSans-46\"/>\r\n       <use x=\"95.410156\" xlink:href=\"#DejaVuSans-49\"/>\r\n       <use x=\"159.033203\" xlink:href=\"#DejaVuSans-50\"/>\r\n      </g>\r\n     </g>\r\n    </g>\r\n    <g id=\"ytick_8\">\r\n     <g id=\"line2d_16\">\r\n      <g>\r\n       <use style=\"stroke:#000000;stroke-width:0.8;\" x=\"36.465625\" xlink:href=\"#m57b88db50f\" y=\"38.706503\"/>\r\n      </g>\r\n     </g>\r\n     <g id=\"text_17\">\r\n      <!-- 0.14 -->\r\n      <g transform=\"translate(7.2 42.505721)scale(0.1 -0.1)\">\r\n       <use xlink:href=\"#DejaVuSans-48\"/>\r\n       <use x=\"63.623047\" xlink:href=\"#DejaVuSans-46\"/>\r\n       <use x=\"95.410156\" xlink:href=\"#DejaVuSans-49\"/>\r\n       <use x=\"159.033203\" xlink:href=\"#DejaVuSans-52\"/>\r\n      </g>\r\n     </g>\r\n    </g>\r\n    <g id=\"ytick_9\">\r\n     <g id=\"line2d_17\">\r\n      <g>\r\n       <use style=\"stroke:#000000;stroke-width:0.8;\" x=\"36.465625\" xlink:href=\"#m57b88db50f\" y=\"12.144574\"/>\r\n      </g>\r\n     </g>\r\n     <g id=\"text_18\">\r\n      <!-- 0.16 -->\r\n      <g transform=\"translate(7.2 15.943793)scale(0.1 -0.1)\">\r\n       <use xlink:href=\"#DejaVuSans-48\"/>\r\n       <use x=\"63.623047\" xlink:href=\"#DejaVuSans-46\"/>\r\n       <use x=\"95.410156\" xlink:href=\"#DejaVuSans-49\"/>\r\n       <use x=\"159.033203\" xlink:href=\"#DejaVuSans-54\"/>\r\n      </g>\r\n     </g>\r\n    </g>\r\n   </g>\r\n   <g id=\"line2d_18\">\r\n    <path clip-path=\"url(#pde54047be7)\" d=\"M 51.683807 223.104864 \r\nL 54.080371 216.989373 \r\nL 56.476935 198.104678 \r\nL 58.873499 160.830257 \r\nL 61.270063 118.891006 \r\nL 63.666627 104.531619 \r\nL 66.063191 130.8807 \r\nL 68.459755 172.537279 \r\nL 70.856319 200.712349 \r\nL 73.252883 211.383132 \r\nL 75.649447 213.577505 \r\nL 78.046012 213.669371 \r\nL 82.83914 213.445952 \r\nL 87.632268 213.481891 \r\nL 92.425396 213.915791 \r\nL 99.615088 214.631373 \r\nL 106.80478 215.0989 \r\nL 113.994473 215.566078 \r\nL 118.787601 215.973078 \r\nL 130.770421 216.466797 \r\nL 135.563549 216.88042 \r\nL 137.960113 217.210845 \r\nL 145.149805 218.723005 \r\nL 147.546369 219.023462 \r\nL 152.339498 219.25787 \r\nL 161.925754 219.272961 \r\nL 169.115446 219.530189 \r\nL 176.305138 219.746537 \r\nL 185.891395 220.317906 \r\nL 188.287959 220.661512 \r\nL 190.684523 221.284718 \r\nL 197.874215 223.921718 \r\nL 200.270779 224.354169 \r\nL 202.667343 224.533744 \r\nL 209.857035 224.61323 \r\nL 305.719598 224.637197 \r\nL 353.650879 224.618916 \r\nL 356.047443 224.425609 \r\nL 356.047443 224.425609 \r\n\" style=\"fill:none;stroke:#1f77b4;stroke-linecap:square;stroke-width:1.5;\"/>\r\n   </g>\r\n   <g id=\"patch_53\">\r\n    <path d=\"M 36.465625 224.64 \r\nL 36.465625 7.2 \r\n\" style=\"fill:none;stroke:#000000;stroke-linecap:square;stroke-linejoin:miter;stroke-width:0.8;\"/>\r\n   </g>\r\n   <g id=\"patch_54\">\r\n    <path d=\"M 371.265625 224.64 \r\nL 371.265625 7.2 \r\n\" style=\"fill:none;stroke:#000000;stroke-linecap:square;stroke-linejoin:miter;stroke-width:0.8;\"/>\r\n   </g>\r\n   <g id=\"patch_55\">\r\n    <path d=\"M 36.465625 224.64 \r\nL 371.265625 224.64 \r\n\" style=\"fill:none;stroke:#000000;stroke-linecap:square;stroke-linejoin:miter;stroke-width:0.8;\"/>\r\n   </g>\r\n   <g id=\"patch_56\">\r\n    <path d=\"M 36.465625 7.2 \r\nL 371.265625 7.2 \r\n\" style=\"fill:none;stroke:#000000;stroke-linecap:square;stroke-linejoin:miter;stroke-width:0.8;\"/>\r\n   </g>\r\n  </g>\r\n </g>\r\n <defs>\r\n  <clipPath id=\"pde54047be7\">\r\n   <rect height=\"217.44\" width=\"334.8\" x=\"36.465625\" y=\"7.2\"/>\r\n  </clipPath>\r\n </defs>\r\n</svg>\r\n",
      "image/png": "[encoded data removed]"
     },
     "metadata": {
      "needs_background": "light"
     }
    }
   ],
   "source": [
    "import seaborn as sns\n",
    "sns.distplot(df['Months since last delinquent'])"
   ]
  },
  {
   "cell_type": "code",
   "execution_count": 153,
   "metadata": {},
   "outputs": [],
   "source": [
    "#from the plot, we can divdie Months since last delinquent into following categories:\n",
    "#0: no delinquent, 0~25: 2 years, 25~50: 4 years, 50 ~75: 6 years, >75: over 6 years\n",
    "df['Delinquent Time'] = 0\n",
    "df.loc[(df['Months since last delinquent'] == 0), 'Delinquent Time'] = 0\n",
    "df.loc[(df['Months since last delinquent']>0)&(df['Months since last delinquent']<= 25),'Delinquent Time'] = 2\n",
    "df.loc[(df['Months since last delinquent']>25)&(df['Months since last delinquent']<= 50),'Delinquent Time'] = 4\n",
    "df.loc[(df['Months since last delinquent']>50)&(df['Months since last delinquent']<= 75),'Delinquent Time'] = 6\n",
    "df.loc[(df['Months since last delinquent']>75),'Delinquent Time'] = 6"
   ]
  },
  {
   "cell_type": "code",
   "execution_count": 154,
   "metadata": {},
   "outputs": [],
   "source": [
    "to_drop = 'Months since last delinquent'\n",
    "df = df.drop(to_drop, axis = 1)"
   ]
  },
  {
   "cell_type": "code",
   "execution_count": 155,
   "metadata": {},
   "outputs": [
    {
     "output_type": "stream",
     "name": "stdout",
     "text": [
      "Index(['Current Loan Amount', 'Credit Score', 'Annual Income', 'Monthly Debt',\n       'Years of Credit History', 'Number of Open Accounts',\n       'Number of Credit Problems', 'Current Credit Balance',\n       'Maximum Open Credit', 'Bankruptcies', 'Tax Liens', 'Delinquent Time'],\n      dtype='object')\n"
     ]
    }
   ],
   "source": [
    "#exclude bankrupticies, tax linens, and number of credit problems from continuous columns\n",
    "numeric = df.select_dtypes('number')\n",
    "numeric_cols = numeric.columns\n",
    "print(numeric_cols)"
   ]
  },
  {
   "cell_type": "code",
   "execution_count": 156,
   "metadata": {},
   "outputs": [
    {
     "output_type": "execute_result",
     "data": {
      "text/plain": [
       "Current Loan Amount          0.000000\n",
       "Credit Score                 0.000000\n",
       "Annual Income                0.000000\n",
       "Monthly Debt                 0.000000\n",
       "Years of Credit History      0.000000\n",
       "Number of Open Accounts      0.000000\n",
       "Number of Credit Problems    0.000000\n",
       "Current Credit Balance       0.000000\n",
       "Maximum Open Credit          0.000013\n",
       "Bankruptcies                 0.000000\n",
       "Tax Liens                    0.000000\n",
       "Delinquent Time              0.000000\n",
       "dtype: float64"
      ]
     },
     "metadata": {},
     "execution_count": 156
    }
   ],
   "source": [
    "numeric.isna().sum()/len(df)"
   ]
  },
  {
   "cell_type": "code",
   "execution_count": 157,
   "metadata": {},
   "outputs": [],
   "source": [
    "# Impute missing values for numerical data with the mean except bankruptcies and years in current job \n",
    "df[numeric.columns] = numeric.fillna(numeric.mean())"
   ]
  },
  {
   "cell_type": "code",
   "execution_count": 158,
   "metadata": {},
   "outputs": [
    {
     "output_type": "stream",
     "name": "stdout",
     "text": [
      "Index(['Loan ID', 'Customer ID', 'Loan Status', 'Term', 'Home Ownership',\n       'Purpose'],\n      dtype='object')\n"
     ]
    }
   ],
   "source": [
    "#check missing values in categorical columns\n",
    "categoric = df.select_dtypes('object')\n",
    "categoric = categoric.drop(columns = 'Years in current job')\n",
    "print(categoric.columns)"
   ]
  },
  {
   "cell_type": "code",
   "execution_count": 159,
   "metadata": {},
   "outputs": [],
   "source": [
    "# Impute missing values for categorical data with the mode\n",
    "df[categoric.columns] = categoric.fillna(categoric.agg(lambda x: x.mode().values[0]))"
   ]
  },
  {
   "cell_type": "code",
   "execution_count": 160,
   "metadata": {},
   "outputs": [],
   "source": [
    "#fill NaN for Years in current job with'< 1 year'\n",
    "df['Years in current job'] = df['Years in current job'].fillna('< 1 year')"
   ]
  },
  {
   "cell_type": "code",
   "execution_count": 161,
   "metadata": {},
   "outputs": [
    {
     "output_type": "execute_result",
     "data": {
      "text/plain": [
       "Loan ID                      0\n",
       "Customer ID                  0\n",
       "Loan Status                  0\n",
       "Current Loan Amount          0\n",
       "Term                         0\n",
       "Credit Score                 0\n",
       "Annual Income                0\n",
       "Years in current job         0\n",
       "Home Ownership               0\n",
       "Purpose                      0\n",
       "Monthly Debt                 0\n",
       "Years of Credit History      0\n",
       "Number of Open Accounts      0\n",
       "Number of Credit Problems    0\n",
       "Current Credit Balance       0\n",
       "Maximum Open Credit          0\n",
       "Bankruptcies                 0\n",
       "Tax Liens                    0\n",
       "Delinquent Time              0\n",
       "dtype: int64"
      ]
     },
     "metadata": {},
     "execution_count": 161
    }
   ],
   "source": [
    "#confirm all columns missing values have been filled\n",
    "df.isna().sum()"
   ]
  },
  {
   "cell_type": "markdown",
   "metadata": {},
   "source": [
    "# Feature Transformation"
   ]
  },
  {
   "source": [
    "For the attributes \"Bankruptcies\", \"Tax Liens\", and \"Number of Credit Problems\", there are differnt unique numer in each attibute. We can categorize these three attibute into two category which are either have had bankruptcy/tax lien/credit probem at least once or never have bankruptcy/tax lien/credit probem before."
   ],
   "cell_type": "markdown",
   "metadata": {}
  },
  {
   "cell_type": "code",
   "execution_count": 162,
   "metadata": {},
   "outputs": [
    {
     "output_type": "execute_result",
     "data": {
      "text/plain": [
       "Bankruptcies                  8\n",
       "Tax Liens                    13\n",
       "Number of Credit Problems    14\n",
       "dtype: int64"
      ]
     },
     "metadata": {},
     "execution_count": 162
    }
   ],
   "source": [
    "df[['Bankruptcies', 'Tax Liens', 'Number of Credit Problems']].nunique()"
   ]
  },
  {
   "source": [
    "We can categorize the attributes \"Bankruptcies\", \"Tax Liens\", and \"Number of Credit Problems\", a customer who have had bankruptcy/tax lien/credit probem at least once is equal to 1, otherwise, the value is equal to 0."
   ],
   "cell_type": "markdown",
   "metadata": {}
  },
  {
   "cell_type": "code",
   "execution_count": 163,
   "metadata": {},
   "outputs": [
    {
     "output_type": "execute_result",
     "data": {
      "text/plain": [
       "Bankruptcies                 2\n",
       "Tax Liens                    2\n",
       "Number of Credit Problems    2\n",
       "dtype: int64"
      ]
     },
     "metadata": {},
     "execution_count": 163
    }
   ],
   "source": [
    "for i in range(len(df)):\n",
    "    if df['Bankruptcies'].values[i] > 0: \n",
    "        df['Bankruptcies'].values[i] = 1\n",
    "    if df['Tax Liens'].values[i] > 0: \n",
    "        df['Tax Liens'].values[i] = 1\n",
    "    if df['Number of Credit Problems'].values[i] > 0: \n",
    "        df['Number of Credit Problems'].values[i] = 1\n",
    "\n",
    "df[['Bankruptcies', 'Tax Liens', 'Number of Credit Problems']].nunique()"
   ]
  },
  {
   "cell_type": "code",
   "execution_count": 164,
   "metadata": {},
   "outputs": [
    {
     "output_type": "execute_result",
     "data": {
      "text/plain": [
       "Index(['Loan ID', 'Customer ID', 'Loan Status', 'Current Loan Amount', 'Term',\n",
       "       'Credit Score', 'Annual Income', 'Years in current job',\n",
       "       'Home Ownership', 'Purpose', 'Monthly Debt', 'Years of Credit History',\n",
       "       'Number of Open Accounts', 'Have had Credit Problems',\n",
       "       'Current Credit Balance', 'Maximum Open Credit',\n",
       "       'Have had Bankruptcy before', 'Have had Tax Liens', 'Delinquent Time'],\n",
       "      dtype='object')"
      ]
     },
     "metadata": {},
     "execution_count": 164
    }
   ],
   "source": [
    "df.rename(columns= {'Bankruptcies': 'Have had Bankruptcy before'} , inplace=True )\n",
    "df.rename(columns= {'Tax Liens': 'Have had Tax Liens'} , inplace=True )\n",
    "df.rename(columns= {'Number of Credit Problems': 'Have had Credit Problems'} , inplace=True )\n",
    "df.columns"
   ]
  },
  {
   "cell_type": "code",
   "execution_count": 165,
   "metadata": {},
   "outputs": [
    {
     "output_type": "execute_result",
     "data": {
      "text/plain": [
       "   Loan ID  Customer ID  Loan Status  Current Loan Amount  Term  Credit Score  \\\n",
       "0     5898        43043            1             445412.0     1         709.0   \n",
       "1    22377        26873            1           99999999.0     1         741.0   \n",
       "2    33793        65397            1             347666.0     0         721.0   \n",
       "3    39047        22612            0             206602.0     1         729.0   \n",
       "4    11116        40916            1             217646.0     1         730.0   \n",
       "\n",
       "   Annual Income Years in current job  Home Ownership  Purpose  Monthly Debt  \\\n",
       "0      1167493.0              8 years               0        5       5214.74   \n",
       "1      2231892.0              8 years               1        3      29200.53   \n",
       "2       806949.0              3 years               1        3       8741.90   \n",
       "3       896857.0            10+ years               0        3      16367.74   \n",
       "4      1184194.0             < 1 year               0        3      10855.08   \n",
       "\n",
       "   Years of Credit History  Number of Open Accounts  Have had Credit Problems  \\\n",
       "0                     17.2                      6.0                       1.0   \n",
       "1                     14.9                     18.0                       1.0   \n",
       "2                     12.0                      9.0                       0.0   \n",
       "3                     17.3                      6.0                       0.0   \n",
       "4                     19.6                     13.0                       1.0   \n",
       "\n",
       "   Current Credit Balance  Maximum Open Credit  Have had Bankruptcy before  \\\n",
       "0                228190.0             416746.0                         1.0   \n",
       "1                297996.0             750090.0                         0.0   \n",
       "2                256329.0             386958.0                         0.0   \n",
       "3                215308.0             272448.0                         0.0   \n",
       "4                122170.0             272052.0                         1.0   \n",
       "\n",
       "   Have had Tax Liens  Delinquent Time  \n",
       "0                 0.0                0  \n",
       "1                 0.0                4  \n",
       "2                 0.0                0  \n",
       "3                 0.0                0  \n",
       "4                 0.0                2  "
      ],
      "text/html": "<div>\n<style scoped>\n    .dataframe tbody tr th:only-of-type {\n        vertical-align: middle;\n    }\n\n    .dataframe tbody tr th {\n        vertical-align: top;\n    }\n\n    .dataframe thead th {\n        text-align: right;\n    }\n</style>\n<table border=\"1\" class=\"dataframe\">\n  <thead>\n    <tr style=\"text-align: right;\">\n      <th></th>\n      <th>Loan ID</th>\n      <th>Customer ID</th>\n      <th>Loan Status</th>\n      <th>Current Loan Amount</th>\n      <th>Term</th>\n      <th>Credit Score</th>\n      <th>Annual Income</th>\n      <th>Years in current job</th>\n      <th>Home Ownership</th>\n      <th>Purpose</th>\n      <th>Monthly Debt</th>\n      <th>Years of Credit History</th>\n      <th>Number of Open Accounts</th>\n      <th>Have had Credit Problems</th>\n      <th>Current Credit Balance</th>\n      <th>Maximum Open Credit</th>\n      <th>Have had Bankruptcy before</th>\n      <th>Have had Tax Liens</th>\n      <th>Delinquent Time</th>\n    </tr>\n  </thead>\n  <tbody>\n    <tr>\n      <th>0</th>\n      <td>5898</td>\n      <td>43043</td>\n      <td>1</td>\n      <td>445412.0</td>\n      <td>1</td>\n      <td>709.0</td>\n      <td>1167493.0</td>\n      <td>8 years</td>\n      <td>0</td>\n      <td>5</td>\n      <td>5214.74</td>\n      <td>17.2</td>\n      <td>6.0</td>\n      <td>1.0</td>\n      <td>228190.0</td>\n      <td>416746.0</td>\n      <td>1.0</td>\n      <td>0.0</td>\n      <td>0</td>\n    </tr>\n    <tr>\n      <th>1</th>\n      <td>22377</td>\n      <td>26873</td>\n      <td>1</td>\n      <td>99999999.0</td>\n      <td>1</td>\n      <td>741.0</td>\n      <td>2231892.0</td>\n      <td>8 years</td>\n      <td>1</td>\n      <td>3</td>\n      <td>29200.53</td>\n      <td>14.9</td>\n      <td>18.0</td>\n      <td>1.0</td>\n      <td>297996.0</td>\n      <td>750090.0</td>\n      <td>0.0</td>\n      <td>0.0</td>\n      <td>4</td>\n    </tr>\n    <tr>\n      <th>2</th>\n      <td>33793</td>\n      <td>65397</td>\n      <td>1</td>\n      <td>347666.0</td>\n      <td>0</td>\n      <td>721.0</td>\n      <td>806949.0</td>\n      <td>3 years</td>\n      <td>1</td>\n      <td>3</td>\n      <td>8741.90</td>\n      <td>12.0</td>\n      <td>9.0</td>\n      <td>0.0</td>\n      <td>256329.0</td>\n      <td>386958.0</td>\n      <td>0.0</td>\n      <td>0.0</td>\n      <td>0</td>\n    </tr>\n    <tr>\n      <th>3</th>\n      <td>39047</td>\n      <td>22612</td>\n      <td>0</td>\n      <td>206602.0</td>\n      <td>1</td>\n      <td>729.0</td>\n      <td>896857.0</td>\n      <td>10+ years</td>\n      <td>0</td>\n      <td>3</td>\n      <td>16367.74</td>\n      <td>17.3</td>\n      <td>6.0</td>\n      <td>0.0</td>\n      <td>215308.0</td>\n      <td>272448.0</td>\n      <td>0.0</td>\n      <td>0.0</td>\n      <td>0</td>\n    </tr>\n    <tr>\n      <th>4</th>\n      <td>11116</td>\n      <td>40916</td>\n      <td>1</td>\n      <td>217646.0</td>\n      <td>1</td>\n      <td>730.0</td>\n      <td>1184194.0</td>\n      <td>&lt; 1 year</td>\n      <td>0</td>\n      <td>3</td>\n      <td>10855.08</td>\n      <td>19.6</td>\n      <td>13.0</td>\n      <td>1.0</td>\n      <td>122170.0</td>\n      <td>272052.0</td>\n      <td>1.0</td>\n      <td>0.0</td>\n      <td>2</td>\n    </tr>\n  </tbody>\n</table>\n</div>"
     },
     "metadata": {},
     "execution_count": 165
    }
   ],
   "source": [
    "# Label encode categorical columns\n",
    "le = LabelEncoder()\n",
    "df[categoric.columns] = df[categoric.columns].apply(le.fit_transform)\n",
    "df.head()"
   ]
  },
  {
   "cell_type": "code",
   "execution_count": 166,
   "metadata": {
    "scrolled": true
   },
   "outputs": [
    {
     "output_type": "execute_result",
     "data": {
      "text/plain": [
       "   Loan ID  Customer ID  Loan Status  Current Loan Amount  Term  Credit Score  \\\n",
       "0     5898        43043            1             445412.0     1         709.0   \n",
       "1    22377        26873            1           99999999.0     1         741.0   \n",
       "2    33793        65397            1             347666.0     0         721.0   \n",
       "3    39047        22612            0             206602.0     1         729.0   \n",
       "4    11116        40916            1             217646.0     1         730.0   \n",
       "\n",
       "   Annual Income  Years in current job  Home Ownership  Purpose  Monthly Debt  \\\n",
       "0      1167493.0                     8               0        5       5214.74   \n",
       "1      2231892.0                     8               1        3      29200.53   \n",
       "2       806949.0                     3               1        3       8741.90   \n",
       "3       896857.0                    10               0        3      16367.74   \n",
       "4      1184194.0                     0               0        3      10855.08   \n",
       "\n",
       "   Years of Credit History  Number of Open Accounts  Have had Credit Problems  \\\n",
       "0                     17.2                      6.0                       1.0   \n",
       "1                     14.9                     18.0                       1.0   \n",
       "2                     12.0                      9.0                       0.0   \n",
       "3                     17.3                      6.0                       0.0   \n",
       "4                     19.6                     13.0                       1.0   \n",
       "\n",
       "   Current Credit Balance  Maximum Open Credit  Have had Bankruptcy before  \\\n",
       "0                228190.0             416746.0                         1.0   \n",
       "1                297996.0             750090.0                         0.0   \n",
       "2                256329.0             386958.0                         0.0   \n",
       "3                215308.0             272448.0                         0.0   \n",
       "4                122170.0             272052.0                         1.0   \n",
       "\n",
       "   Have had Tax Liens  Delinquent Time  \n",
       "0                 0.0                0  \n",
       "1                 0.0                4  \n",
       "2                 0.0                0  \n",
       "3                 0.0                0  \n",
       "4                 0.0                2  "
      ],
      "text/html": "<div>\n<style scoped>\n    .dataframe tbody tr th:only-of-type {\n        vertical-align: middle;\n    }\n\n    .dataframe tbody tr th {\n        vertical-align: top;\n    }\n\n    .dataframe thead th {\n        text-align: right;\n    }\n</style>\n<table border=\"1\" class=\"dataframe\">\n  <thead>\n    <tr style=\"text-align: right;\">\n      <th></th>\n      <th>Loan ID</th>\n      <th>Customer ID</th>\n      <th>Loan Status</th>\n      <th>Current Loan Amount</th>\n      <th>Term</th>\n      <th>Credit Score</th>\n      <th>Annual Income</th>\n      <th>Years in current job</th>\n      <th>Home Ownership</th>\n      <th>Purpose</th>\n      <th>Monthly Debt</th>\n      <th>Years of Credit History</th>\n      <th>Number of Open Accounts</th>\n      <th>Have had Credit Problems</th>\n      <th>Current Credit Balance</th>\n      <th>Maximum Open Credit</th>\n      <th>Have had Bankruptcy before</th>\n      <th>Have had Tax Liens</th>\n      <th>Delinquent Time</th>\n    </tr>\n  </thead>\n  <tbody>\n    <tr>\n      <th>0</th>\n      <td>5898</td>\n      <td>43043</td>\n      <td>1</td>\n      <td>445412.0</td>\n      <td>1</td>\n      <td>709.0</td>\n      <td>1167493.0</td>\n      <td>8</td>\n      <td>0</td>\n      <td>5</td>\n      <td>5214.74</td>\n      <td>17.2</td>\n      <td>6.0</td>\n      <td>1.0</td>\n      <td>228190.0</td>\n      <td>416746.0</td>\n      <td>1.0</td>\n      <td>0.0</td>\n      <td>0</td>\n    </tr>\n    <tr>\n      <th>1</th>\n      <td>22377</td>\n      <td>26873</td>\n      <td>1</td>\n      <td>99999999.0</td>\n      <td>1</td>\n      <td>741.0</td>\n      <td>2231892.0</td>\n      <td>8</td>\n      <td>1</td>\n      <td>3</td>\n      <td>29200.53</td>\n      <td>14.9</td>\n      <td>18.0</td>\n      <td>1.0</td>\n      <td>297996.0</td>\n      <td>750090.0</td>\n      <td>0.0</td>\n      <td>0.0</td>\n      <td>4</td>\n    </tr>\n    <tr>\n      <th>2</th>\n      <td>33793</td>\n      <td>65397</td>\n      <td>1</td>\n      <td>347666.0</td>\n      <td>0</td>\n      <td>721.0</td>\n      <td>806949.0</td>\n      <td>3</td>\n      <td>1</td>\n      <td>3</td>\n      <td>8741.90</td>\n      <td>12.0</td>\n      <td>9.0</td>\n      <td>0.0</td>\n      <td>256329.0</td>\n      <td>386958.0</td>\n      <td>0.0</td>\n      <td>0.0</td>\n      <td>0</td>\n    </tr>\n    <tr>\n      <th>3</th>\n      <td>39047</td>\n      <td>22612</td>\n      <td>0</td>\n      <td>206602.0</td>\n      <td>1</td>\n      <td>729.0</td>\n      <td>896857.0</td>\n      <td>10</td>\n      <td>0</td>\n      <td>3</td>\n      <td>16367.74</td>\n      <td>17.3</td>\n      <td>6.0</td>\n      <td>0.0</td>\n      <td>215308.0</td>\n      <td>272448.0</td>\n      <td>0.0</td>\n      <td>0.0</td>\n      <td>0</td>\n    </tr>\n    <tr>\n      <th>4</th>\n      <td>11116</td>\n      <td>40916</td>\n      <td>1</td>\n      <td>217646.0</td>\n      <td>1</td>\n      <td>730.0</td>\n      <td>1184194.0</td>\n      <td>0</td>\n      <td>0</td>\n      <td>3</td>\n      <td>10855.08</td>\n      <td>19.6</td>\n      <td>13.0</td>\n      <td>1.0</td>\n      <td>122170.0</td>\n      <td>272052.0</td>\n      <td>1.0</td>\n      <td>0.0</td>\n      <td>2</td>\n    </tr>\n  </tbody>\n</table>\n</div>"
     },
     "metadata": {},
     "execution_count": 166
    }
   ],
   "source": [
    "# Convert 'Years in current job' to numerical column - \n",
    "# Note: Numerical tranformation converts '< 1 year' to 0 and '10+ years' to 10 for simplicity\n",
    "df['Years in current job'] = df['Years in current job'].replace({'< 1 year':0, '1 year': 1, '2 years': 2,\n",
    "                                                                 '3 years':3, '4 years':4, '5 years':5, \n",
    "                                                                 '6 years':6, '7 years':7, '8 years':8,\n",
    "                                                                 '9 years': 9, '10+ years': 10})\n",
    "df.head()"
   ]
  },
  {
   "cell_type": "markdown",
   "metadata": {},
   "source": [
    "# Feature Normalization "
   ]
  },
  {
   "source": [
    "Since we decide to have two types of model: regression model and classification model. Therefore, We separate Credit Score into ten binx and put it into a new column called \"Credit Score Range\". The bin width for each bin is 16.6. So, we can use the new column \"Credit Score Range\" as a target for doing classification. "
   ],
   "cell_type": "markdown",
   "metadata": {}
  },
  {
   "cell_type": "code",
   "execution_count": 167,
   "metadata": {},
   "outputs": [
    {
     "output_type": "execute_result",
     "data": {
      "text/plain": [
       "count    78650.000000\n",
       "mean       718.380839\n",
       "std         28.143794\n",
       "min        585.000000\n",
       "25%        706.000000\n",
       "50%        725.000000\n",
       "75%        740.000000\n",
       "max        751.000000\n",
       "Name: Credit Score, dtype: float64"
      ]
     },
     "metadata": {},
     "execution_count": 167
    }
   ],
   "source": [
    "# Get more insight into 'Credit Score' column\n",
    "df['Credit Score'].describe()"
   ]
  },
  {
   "cell_type": "code",
   "execution_count": 168,
   "metadata": {},
   "outputs": [
    {
     "output_type": "execute_result",
     "data": {
      "text/plain": [
       "   Loan ID  Customer ID  Loan Status  Current Loan Amount  Term  Credit Score  \\\n",
       "0     5898        43043            1             445412.0     1         709.0   \n",
       "1    22377        26873            1           99999999.0     1         741.0   \n",
       "2    33793        65397            1             347666.0     0         721.0   \n",
       "3    39047        22612            0             206602.0     1         729.0   \n",
       "4    11116        40916            1             217646.0     1         730.0   \n",
       "\n",
       "   Annual Income  Years in current job  Home Ownership  Purpose  Monthly Debt  \\\n",
       "0      1167493.0                     8               0        5       5214.74   \n",
       "1      2231892.0                     8               1        3      29200.53   \n",
       "2       806949.0                     3               1        3       8741.90   \n",
       "3       896857.0                    10               0        3      16367.74   \n",
       "4      1184194.0                     0               0        3      10855.08   \n",
       "\n",
       "   Years of Credit History  Number of Open Accounts  Have had Credit Problems  \\\n",
       "0                     17.2                      6.0                       1.0   \n",
       "1                     14.9                     18.0                       1.0   \n",
       "2                     12.0                      9.0                       0.0   \n",
       "3                     17.3                      6.0                       0.0   \n",
       "4                     19.6                     13.0                       1.0   \n",
       "\n",
       "   Current Credit Balance  Maximum Open Credit  Have had Bankruptcy before  \\\n",
       "0                228190.0             416746.0                         1.0   \n",
       "1                297996.0             750090.0                         0.0   \n",
       "2                256329.0             386958.0                         0.0   \n",
       "3                215308.0             272448.0                         0.0   \n",
       "4                122170.0             272052.0                         1.0   \n",
       "\n",
       "   Have had Tax Liens  Delinquent Time Credit Score Range  \n",
       "0                 0.0                0     (701.2, 717.8]  \n",
       "1                 0.0                4     (734.4, 751.0]  \n",
       "2                 0.0                0     (717.8, 734.4]  \n",
       "3                 0.0                0     (717.8, 734.4]  \n",
       "4                 0.0                2     (717.8, 734.4]  "
      ],
      "text/html": "<div>\n<style scoped>\n    .dataframe tbody tr th:only-of-type {\n        vertical-align: middle;\n    }\n\n    .dataframe tbody tr th {\n        vertical-align: top;\n    }\n\n    .dataframe thead th {\n        text-align: right;\n    }\n</style>\n<table border=\"1\" class=\"dataframe\">\n  <thead>\n    <tr style=\"text-align: right;\">\n      <th></th>\n      <th>Loan ID</th>\n      <th>Customer ID</th>\n      <th>Loan Status</th>\n      <th>Current Loan Amount</th>\n      <th>Term</th>\n      <th>Credit Score</th>\n      <th>Annual Income</th>\n      <th>Years in current job</th>\n      <th>Home Ownership</th>\n      <th>Purpose</th>\n      <th>Monthly Debt</th>\n      <th>Years of Credit History</th>\n      <th>Number of Open Accounts</th>\n      <th>Have had Credit Problems</th>\n      <th>Current Credit Balance</th>\n      <th>Maximum Open Credit</th>\n      <th>Have had Bankruptcy before</th>\n      <th>Have had Tax Liens</th>\n      <th>Delinquent Time</th>\n      <th>Credit Score Range</th>\n    </tr>\n  </thead>\n  <tbody>\n    <tr>\n      <th>0</th>\n      <td>5898</td>\n      <td>43043</td>\n      <td>1</td>\n      <td>445412.0</td>\n      <td>1</td>\n      <td>709.0</td>\n      <td>1167493.0</td>\n      <td>8</td>\n      <td>0</td>\n      <td>5</td>\n      <td>5214.74</td>\n      <td>17.2</td>\n      <td>6.0</td>\n      <td>1.0</td>\n      <td>228190.0</td>\n      <td>416746.0</td>\n      <td>1.0</td>\n      <td>0.0</td>\n      <td>0</td>\n      <td>(701.2, 717.8]</td>\n    </tr>\n    <tr>\n      <th>1</th>\n      <td>22377</td>\n      <td>26873</td>\n      <td>1</td>\n      <td>99999999.0</td>\n      <td>1</td>\n      <td>741.0</td>\n      <td>2231892.0</td>\n      <td>8</td>\n      <td>1</td>\n      <td>3</td>\n      <td>29200.53</td>\n      <td>14.9</td>\n      <td>18.0</td>\n      <td>1.0</td>\n      <td>297996.0</td>\n      <td>750090.0</td>\n      <td>0.0</td>\n      <td>0.0</td>\n      <td>4</td>\n      <td>(734.4, 751.0]</td>\n    </tr>\n    <tr>\n      <th>2</th>\n      <td>33793</td>\n      <td>65397</td>\n      <td>1</td>\n      <td>347666.0</td>\n      <td>0</td>\n      <td>721.0</td>\n      <td>806949.0</td>\n      <td>3</td>\n      <td>1</td>\n      <td>3</td>\n      <td>8741.90</td>\n      <td>12.0</td>\n      <td>9.0</td>\n      <td>0.0</td>\n      <td>256329.0</td>\n      <td>386958.0</td>\n      <td>0.0</td>\n      <td>0.0</td>\n      <td>0</td>\n      <td>(717.8, 734.4]</td>\n    </tr>\n    <tr>\n      <th>3</th>\n      <td>39047</td>\n      <td>22612</td>\n      <td>0</td>\n      <td>206602.0</td>\n      <td>1</td>\n      <td>729.0</td>\n      <td>896857.0</td>\n      <td>10</td>\n      <td>0</td>\n      <td>3</td>\n      <td>16367.74</td>\n      <td>17.3</td>\n      <td>6.0</td>\n      <td>0.0</td>\n      <td>215308.0</td>\n      <td>272448.0</td>\n      <td>0.0</td>\n      <td>0.0</td>\n      <td>0</td>\n      <td>(717.8, 734.4]</td>\n    </tr>\n    <tr>\n      <th>4</th>\n      <td>11116</td>\n      <td>40916</td>\n      <td>1</td>\n      <td>217646.0</td>\n      <td>1</td>\n      <td>730.0</td>\n      <td>1184194.0</td>\n      <td>0</td>\n      <td>0</td>\n      <td>3</td>\n      <td>10855.08</td>\n      <td>19.6</td>\n      <td>13.0</td>\n      <td>1.0</td>\n      <td>122170.0</td>\n      <td>272052.0</td>\n      <td>1.0</td>\n      <td>0.0</td>\n      <td>2</td>\n      <td>(717.8, 734.4]</td>\n    </tr>\n  </tbody>\n</table>\n</div>"
     },
     "metadata": {},
     "execution_count": 168
    }
   ],
   "source": [
    "# Add 'Credit Score Range' column\n",
    "df['Credit Score Range'] = pd.cut(df['Credit Score'], 10)\n",
    "df.head()"
   ]
  },
  {
   "cell_type": "code",
   "execution_count": 169,
   "metadata": {},
   "outputs": [
    {
     "output_type": "stream",
     "name": "stdout",
     "text": [
      "Class=(584.834, 601.6], n=223 (0.28%)\nClass=(601.6, 618.2], n=426 (0.54%)\nClass=(618.2, 634.8], n=696 (0.88%)\nClass=(634.8, 651.4], n=1330 (1.69%)\nClass=(651.4, 668.0], n=2612 (3.32%)\nClass=(668.0, 684.6], n=4157 (5.29%)\nClass=(684.6, 701.2], n=7473 (9.50%)\nClass=(701.2, 717.8], n=13078 (16.63%)\nClass=(717.8, 734.4], n=20290 (25.80%)\nClass=(734.4, 751.0], n=28365 (36.06%)\n"
     ]
    },
    {
     "output_type": "execute_result",
     "data": {
      "text/plain": [
       "<matplotlib.axes._subplots.AxesSubplot at 0x2470abdd8e0>"
      ]
     },
     "metadata": {},
     "execution_count": 169
    },
    {
     "output_type": "display_data",
     "data": {
      "text/plain": "<Figure size 1080x360 with 1 Axes>",
      "image/svg+xml": "<?xml version=\"1.0\" encoding=\"utf-8\" standalone=\"no\"?>\r\n<!DOCTYPE svg PUBLIC \"-//W3C//DTD SVG 1.1//EN\"\r\n  \"http://www.w3.org/Graphics/SVG/1.1/DTD/svg11.dtd\">\r\n<!-- Created with matplotlib (https://matplotlib.org/) -->\r\n<svg height=\"377.340625pt\" version=\"1.1\" viewBox=\"0 0 890.2125 377.340625\" width=\"890.2125pt\" xmlns=\"http://www.w3.org/2000/svg\" xmlns:xlink=\"http://www.w3.org/1999/xlink\">\r\n <defs>\r\n  <style type=\"text/css\">\r\n*{stroke-linecap:butt;stroke-linejoin:round;}\r\n  </style>\r\n </defs>\r\n <g id=\"figure_1\">\r\n  <g id=\"patch_1\">\r\n   <path d=\"M 0 377.340625 \r\nL 890.2125 377.340625 \r\nL 890.2125 0 \r\nL 0 0 \r\nz\r\n\" style=\"fill:none;\"/>\r\n  </g>\r\n  <g id=\"axes_1\">\r\n   <g id=\"patch_2\">\r\n    <path d=\"M 46.0125 279 \r\nL 883.0125 279 \r\nL 883.0125 7.2 \r\nL 46.0125 7.2 \r\nz\r\n\" style=\"fill:#ffffff;\"/>\r\n   </g>\r\n   <g id=\"patch_3\">\r\n    <path clip-path=\"url(#p5e7de1d472)\" d=\"M 66.9375 279 \r\nL 108.7875 279 \r\nL 108.7875 20.142857 \r\nL 66.9375 20.142857 \r\nz\r\n\" style=\"fill:#1f77b4;\"/>\r\n   </g>\r\n   <g id=\"patch_4\">\r\n    <path clip-path=\"url(#p5e7de1d472)\" d=\"M 150.6375 279 \r\nL 192.4875 279 \r\nL 192.4875 93.834781 \r\nL 150.6375 93.834781 \r\nz\r\n\" style=\"fill:#1f77b4;\"/>\r\n   </g>\r\n   <g id=\"patch_5\">\r\n    <path clip-path=\"url(#p5e7de1d472)\" d=\"M 234.3375 279 \r\nL 276.1875 279 \r\nL 276.1875 159.651024 \r\nL 234.3375 159.651024 \r\nz\r\n\" style=\"fill:#1f77b4;\"/>\r\n   </g>\r\n   <g id=\"patch_6\">\r\n    <path clip-path=\"url(#p5e7de1d472)\" d=\"M 318.0375 279 \r\nL 359.8875 279 \r\nL 359.8875 210.801889 \r\nL 318.0375 210.801889 \r\nz\r\n\" style=\"fill:#1f77b4;\"/>\r\n   </g>\r\n   <g id=\"patch_7\">\r\n    <path clip-path=\"url(#p5e7de1d472)\" d=\"M 401.7375 279 \r\nL 443.5875 279 \r\nL 443.5875 241.063489 \r\nL 401.7375 241.063489 \r\nz\r\n\" style=\"fill:#1f77b4;\"/>\r\n   </g>\r\n   <g id=\"patch_8\">\r\n    <path clip-path=\"url(#p5e7de1d472)\" d=\"M 485.4375 279 \r\nL 527.2875 279 \r\nL 527.2875 255.163058 \r\nL 485.4375 255.163058 \r\nz\r\n\" style=\"fill:#1f77b4;\"/>\r\n   </g>\r\n   <g id=\"patch_9\">\r\n    <path clip-path=\"url(#p5e7de1d472)\" d=\"M 569.1375 279 \r\nL 610.9875 279 \r\nL 610.9875 266.862507 \r\nL 569.1375 266.862507 \r\nz\r\n\" style=\"fill:#1f77b4;\"/>\r\n   </g>\r\n   <g id=\"patch_10\">\r\n    <path clip-path=\"url(#p5e7de1d472)\" d=\"M 652.8375 279 \r\nL 694.6875 279 \r\nL 694.6875 272.648349 \r\nL 652.8375 272.648349 \r\nz\r\n\" style=\"fill:#1f77b4;\"/>\r\n   </g>\r\n   <g id=\"patch_11\">\r\n    <path clip-path=\"url(#p5e7de1d472)\" d=\"M 736.5375 279 \r\nL 778.3875 279 \r\nL 778.3875 275.112352 \r\nL 736.5375 275.112352 \r\nz\r\n\" style=\"fill:#1f77b4;\"/>\r\n   </g>\r\n   <g id=\"patch_12\">\r\n    <path clip-path=\"url(#p5e7de1d472)\" d=\"M 820.2375 279 \r\nL 862.0875 279 \r\nL 862.0875 276.964917 \r\nL 820.2375 276.964917 \r\nz\r\n\" style=\"fill:#1f77b4;\"/>\r\n   </g>\r\n   <g id=\"matplotlib.axis_1\">\r\n    <g id=\"xtick_1\">\r\n     <g id=\"line2d_1\">\r\n      <defs>\r\n       <path d=\"M 0 0 \r\nL 0 3.5 \r\n\" id=\"m372e14a8e9\" style=\"stroke:#000000;stroke-width:0.8;\"/>\r\n      </defs>\r\n      <g>\r\n       <use style=\"stroke:#000000;stroke-width:0.8;\" x=\"87.8625\" xlink:href=\"#m372e14a8e9\" y=\"279\"/>\r\n      </g>\r\n     </g>\r\n     <g id=\"text_1\">\r\n      <!-- (734.4, 751.0] -->\r\n      <defs>\r\n       <path d=\"M 31 75.875 \r\nQ 24.46875 64.65625 21.28125 53.65625 \r\nQ 18.109375 42.671875 18.109375 31.390625 \r\nQ 18.109375 20.125 21.3125 9.0625 \r\nQ 24.515625 -2 31 -13.1875 \r\nL 23.1875 -13.1875 \r\nQ 15.875 -1.703125 12.234375 9.375 \r\nQ 8.59375 20.453125 8.59375 31.390625 \r\nQ 8.59375 42.28125 12.203125 53.3125 \r\nQ 15.828125 64.359375 23.1875 75.875 \r\nz\r\n\" id=\"DejaVuSans-40\"/>\r\n       <path d=\"M 8.203125 72.90625 \r\nL 55.078125 72.90625 \r\nL 55.078125 68.703125 \r\nL 28.609375 0 \r\nL 18.3125 0 \r\nL 43.21875 64.59375 \r\nL 8.203125 64.59375 \r\nz\r\n\" id=\"DejaVuSans-55\"/>\r\n       <path d=\"M 40.578125 39.3125 \r\nQ 47.65625 37.796875 51.625 33 \r\nQ 55.609375 28.21875 55.609375 21.1875 \r\nQ 55.609375 10.40625 48.1875 4.484375 \r\nQ 40.765625 -1.421875 27.09375 -1.421875 \r\nQ 22.515625 -1.421875 17.65625 -0.515625 \r\nQ 12.796875 0.390625 7.625 2.203125 \r\nL 7.625 11.71875 \r\nQ 11.71875 9.328125 16.59375 8.109375 \r\nQ 21.484375 6.890625 26.8125 6.890625 \r\nQ 36.078125 6.890625 40.9375 10.546875 \r\nQ 45.796875 14.203125 45.796875 21.1875 \r\nQ 45.796875 27.640625 41.28125 31.265625 \r\nQ 36.765625 34.90625 28.71875 34.90625 \r\nL 20.21875 34.90625 \r\nL 20.21875 43.015625 \r\nL 29.109375 43.015625 \r\nQ 36.375 43.015625 40.234375 45.921875 \r\nQ 44.09375 48.828125 44.09375 54.296875 \r\nQ 44.09375 59.90625 40.109375 62.90625 \r\nQ 36.140625 65.921875 28.71875 65.921875 \r\nQ 24.65625 65.921875 20.015625 65.03125 \r\nQ 15.375 64.15625 9.8125 62.3125 \r\nL 9.8125 71.09375 \r\nQ 15.4375 72.65625 20.34375 73.4375 \r\nQ 25.25 74.21875 29.59375 74.21875 \r\nQ 40.828125 74.21875 47.359375 69.109375 \r\nQ 53.90625 64.015625 53.90625 55.328125 \r\nQ 53.90625 49.265625 50.4375 45.09375 \r\nQ 46.96875 40.921875 40.578125 39.3125 \r\nz\r\n\" id=\"DejaVuSans-51\"/>\r\n       <path d=\"M 37.796875 64.3125 \r\nL 12.890625 25.390625 \r\nL 37.796875 25.390625 \r\nz\r\nM 35.203125 72.90625 \r\nL 47.609375 72.90625 \r\nL 47.609375 25.390625 \r\nL 58.015625 25.390625 \r\nL 58.015625 17.1875 \r\nL 47.609375 17.1875 \r\nL 47.609375 0 \r\nL 37.796875 0 \r\nL 37.796875 17.1875 \r\nL 4.890625 17.1875 \r\nL 4.890625 26.703125 \r\nz\r\n\" id=\"DejaVuSans-52\"/>\r\n       <path d=\"M 10.6875 12.40625 \r\nL 21 12.40625 \r\nL 21 0 \r\nL 10.6875 0 \r\nz\r\n\" id=\"DejaVuSans-46\"/>\r\n       <path d=\"M 11.71875 12.40625 \r\nL 22.015625 12.40625 \r\nL 22.015625 4 \r\nL 14.015625 -11.625 \r\nL 7.71875 -11.625 \r\nL 11.71875 4 \r\nz\r\n\" id=\"DejaVuSans-44\"/>\r\n       <path id=\"DejaVuSans-32\"/>\r\n       <path d=\"M 10.796875 72.90625 \r\nL 49.515625 72.90625 \r\nL 49.515625 64.59375 \r\nL 19.828125 64.59375 \r\nL 19.828125 46.734375 \r\nQ 21.96875 47.46875 24.109375 47.828125 \r\nQ 26.265625 48.1875 28.421875 48.1875 \r\nQ 40.625 48.1875 47.75 41.5 \r\nQ 54.890625 34.8125 54.890625 23.390625 \r\nQ 54.890625 11.625 47.5625 5.09375 \r\nQ 40.234375 -1.421875 26.90625 -1.421875 \r\nQ 22.3125 -1.421875 17.546875 -0.640625 \r\nQ 12.796875 0.140625 7.71875 1.703125 \r\nL 7.71875 11.625 \r\nQ 12.109375 9.234375 16.796875 8.0625 \r\nQ 21.484375 6.890625 26.703125 6.890625 \r\nQ 35.15625 6.890625 40.078125 11.328125 \r\nQ 45.015625 15.765625 45.015625 23.390625 \r\nQ 45.015625 31 40.078125 35.4375 \r\nQ 35.15625 39.890625 26.703125 39.890625 \r\nQ 22.75 39.890625 18.8125 39.015625 \r\nQ 14.890625 38.140625 10.796875 36.28125 \r\nz\r\n\" id=\"DejaVuSans-53\"/>\r\n       <path d=\"M 12.40625 8.296875 \r\nL 28.515625 8.296875 \r\nL 28.515625 63.921875 \r\nL 10.984375 60.40625 \r\nL 10.984375 69.390625 \r\nL 28.421875 72.90625 \r\nL 38.28125 72.90625 \r\nL 38.28125 8.296875 \r\nL 54.390625 8.296875 \r\nL 54.390625 0 \r\nL 12.40625 0 \r\nz\r\n\" id=\"DejaVuSans-49\"/>\r\n       <path d=\"M 31.78125 66.40625 \r\nQ 24.171875 66.40625 20.328125 58.90625 \r\nQ 16.5 51.421875 16.5 36.375 \r\nQ 16.5 21.390625 20.328125 13.890625 \r\nQ 24.171875 6.390625 31.78125 6.390625 \r\nQ 39.453125 6.390625 43.28125 13.890625 \r\nQ 47.125 21.390625 47.125 36.375 \r\nQ 47.125 51.421875 43.28125 58.90625 \r\nQ 39.453125 66.40625 31.78125 66.40625 \r\nz\r\nM 31.78125 74.21875 \r\nQ 44.046875 74.21875 50.515625 64.515625 \r\nQ 56.984375 54.828125 56.984375 36.375 \r\nQ 56.984375 17.96875 50.515625 8.265625 \r\nQ 44.046875 -1.421875 31.78125 -1.421875 \r\nQ 19.53125 -1.421875 13.0625 8.265625 \r\nQ 6.59375 17.96875 6.59375 36.375 \r\nQ 6.59375 54.828125 13.0625 64.515625 \r\nQ 19.53125 74.21875 31.78125 74.21875 \r\nz\r\n\" id=\"DejaVuSans-48\"/>\r\n       <path d=\"M 30.421875 75.984375 \r\nL 30.421875 -13.1875 \r\nL 9.71875 -13.1875 \r\nL 9.71875 -6.203125 \r\nL 21.390625 -6.203125 \r\nL 21.390625 69 \r\nL 9.71875 69 \r\nL 9.71875 75.984375 \r\nz\r\n\" id=\"DejaVuSans-93\"/>\r\n      </defs>\r\n      <g transform=\"translate(90.621875 357.415625)rotate(-90)scale(0.1 -0.1)\">\r\n       <use xlink:href=\"#DejaVuSans-40\"/>\r\n       <use x=\"39.013672\" xlink:href=\"#DejaVuSans-55\"/>\r\n       <use x=\"102.636719\" xlink:href=\"#DejaVuSans-51\"/>\r\n       <use x=\"166.259766\" xlink:href=\"#DejaVuSans-52\"/>\r\n       <use x=\"229.882812\" xlink:href=\"#DejaVuSans-46\"/>\r\n       <use x=\"261.669922\" xlink:href=\"#DejaVuSans-52\"/>\r\n       <use x=\"325.292969\" xlink:href=\"#DejaVuSans-44\"/>\r\n       <use x=\"357.080078\" xlink:href=\"#DejaVuSans-32\"/>\r\n       <use x=\"388.867188\" xlink:href=\"#DejaVuSans-55\"/>\r\n       <use x=\"452.490234\" xlink:href=\"#DejaVuSans-53\"/>\r\n       <use x=\"516.113281\" xlink:href=\"#DejaVuSans-49\"/>\r\n       <use x=\"579.736328\" xlink:href=\"#DejaVuSans-46\"/>\r\n       <use x=\"611.523438\" xlink:href=\"#DejaVuSans-48\"/>\r\n       <use x=\"675.146484\" xlink:href=\"#DejaVuSans-93\"/>\r\n      </g>\r\n     </g>\r\n    </g>\r\n    <g id=\"xtick_2\">\r\n     <g id=\"line2d_2\">\r\n      <g>\r\n       <use style=\"stroke:#000000;stroke-width:0.8;\" x=\"171.5625\" xlink:href=\"#m372e14a8e9\" y=\"279\"/>\r\n      </g>\r\n     </g>\r\n     <g id=\"text_2\">\r\n      <!-- (717.8, 734.4] -->\r\n      <defs>\r\n       <path d=\"M 31.78125 34.625 \r\nQ 24.75 34.625 20.71875 30.859375 \r\nQ 16.703125 27.09375 16.703125 20.515625 \r\nQ 16.703125 13.921875 20.71875 10.15625 \r\nQ 24.75 6.390625 31.78125 6.390625 \r\nQ 38.8125 6.390625 42.859375 10.171875 \r\nQ 46.921875 13.96875 46.921875 20.515625 \r\nQ 46.921875 27.09375 42.890625 30.859375 \r\nQ 38.875 34.625 31.78125 34.625 \r\nz\r\nM 21.921875 38.8125 \r\nQ 15.578125 40.375 12.03125 44.71875 \r\nQ 8.5 49.078125 8.5 55.328125 \r\nQ 8.5 64.0625 14.71875 69.140625 \r\nQ 20.953125 74.21875 31.78125 74.21875 \r\nQ 42.671875 74.21875 48.875 69.140625 \r\nQ 55.078125 64.0625 55.078125 55.328125 \r\nQ 55.078125 49.078125 51.53125 44.71875 \r\nQ 48 40.375 41.703125 38.8125 \r\nQ 48.828125 37.15625 52.796875 32.3125 \r\nQ 56.78125 27.484375 56.78125 20.515625 \r\nQ 56.78125 9.90625 50.3125 4.234375 \r\nQ 43.84375 -1.421875 31.78125 -1.421875 \r\nQ 19.734375 -1.421875 13.25 4.234375 \r\nQ 6.78125 9.90625 6.78125 20.515625 \r\nQ 6.78125 27.484375 10.78125 32.3125 \r\nQ 14.796875 37.15625 21.921875 38.8125 \r\nz\r\nM 18.3125 54.390625 \r\nQ 18.3125 48.734375 21.84375 45.5625 \r\nQ 25.390625 42.390625 31.78125 42.390625 \r\nQ 38.140625 42.390625 41.71875 45.5625 \r\nQ 45.3125 48.734375 45.3125 54.390625 \r\nQ 45.3125 60.0625 41.71875 63.234375 \r\nQ 38.140625 66.40625 31.78125 66.40625 \r\nQ 25.390625 66.40625 21.84375 63.234375 \r\nQ 18.3125 60.0625 18.3125 54.390625 \r\nz\r\n\" id=\"DejaVuSans-56\"/>\r\n      </defs>\r\n      <g transform=\"translate(174.321875 357.415625)rotate(-90)scale(0.1 -0.1)\">\r\n       <use xlink:href=\"#DejaVuSans-40\"/>\r\n       <use x=\"39.013672\" xlink:href=\"#DejaVuSans-55\"/>\r\n       <use x=\"102.636719\" xlink:href=\"#DejaVuSans-49\"/>\r\n       <use x=\"166.259766\" xlink:href=\"#DejaVuSans-55\"/>\r\n       <use x=\"229.882812\" xlink:href=\"#DejaVuSans-46\"/>\r\n       <use x=\"261.669922\" xlink:href=\"#DejaVuSans-56\"/>\r\n       <use x=\"325.292969\" xlink:href=\"#DejaVuSans-44\"/>\r\n       <use x=\"357.080078\" xlink:href=\"#DejaVuSans-32\"/>\r\n       <use x=\"388.867188\" xlink:href=\"#DejaVuSans-55\"/>\r\n       <use x=\"452.490234\" xlink:href=\"#DejaVuSans-51\"/>\r\n       <use x=\"516.113281\" xlink:href=\"#DejaVuSans-52\"/>\r\n       <use x=\"579.736328\" xlink:href=\"#DejaVuSans-46\"/>\r\n       <use x=\"611.523438\" xlink:href=\"#DejaVuSans-52\"/>\r\n       <use x=\"675.146484\" xlink:href=\"#DejaVuSans-93\"/>\r\n      </g>\r\n     </g>\r\n    </g>\r\n    <g id=\"xtick_3\">\r\n     <g id=\"line2d_3\">\r\n      <g>\r\n       <use style=\"stroke:#000000;stroke-width:0.8;\" x=\"255.2625\" xlink:href=\"#m372e14a8e9\" y=\"279\"/>\r\n      </g>\r\n     </g>\r\n     <g id=\"text_3\">\r\n      <!-- (701.2, 717.8] -->\r\n      <defs>\r\n       <path d=\"M 19.1875 8.296875 \r\nL 53.609375 8.296875 \r\nL 53.609375 0 \r\nL 7.328125 0 \r\nL 7.328125 8.296875 \r\nQ 12.9375 14.109375 22.625 23.890625 \r\nQ 32.328125 33.6875 34.8125 36.53125 \r\nQ 39.546875 41.84375 41.421875 45.53125 \r\nQ 43.3125 49.21875 43.3125 52.78125 \r\nQ 43.3125 58.59375 39.234375 62.25 \r\nQ 35.15625 65.921875 28.609375 65.921875 \r\nQ 23.96875 65.921875 18.8125 64.3125 \r\nQ 13.671875 62.703125 7.8125 59.421875 \r\nL 7.8125 69.390625 \r\nQ 13.765625 71.78125 18.9375 73 \r\nQ 24.125 74.21875 28.421875 74.21875 \r\nQ 39.75 74.21875 46.484375 68.546875 \r\nQ 53.21875 62.890625 53.21875 53.421875 \r\nQ 53.21875 48.921875 51.53125 44.890625 \r\nQ 49.859375 40.875 45.40625 35.40625 \r\nQ 44.1875 33.984375 37.640625 27.21875 \r\nQ 31.109375 20.453125 19.1875 8.296875 \r\nz\r\n\" id=\"DejaVuSans-50\"/>\r\n      </defs>\r\n      <g transform=\"translate(258.021875 357.415625)rotate(-90)scale(0.1 -0.1)\">\r\n       <use xlink:href=\"#DejaVuSans-40\"/>\r\n       <use x=\"39.013672\" xlink:href=\"#DejaVuSans-55\"/>\r\n       <use x=\"102.636719\" xlink:href=\"#DejaVuSans-48\"/>\r\n       <use x=\"166.259766\" xlink:href=\"#DejaVuSans-49\"/>\r\n       <use x=\"229.882812\" xlink:href=\"#DejaVuSans-46\"/>\r\n       <use x=\"261.669922\" xlink:href=\"#DejaVuSans-50\"/>\r\n       <use x=\"325.292969\" xlink:href=\"#DejaVuSans-44\"/>\r\n       <use x=\"357.080078\" xlink:href=\"#DejaVuSans-32\"/>\r\n       <use x=\"388.867188\" xlink:href=\"#DejaVuSans-55\"/>\r\n       <use x=\"452.490234\" xlink:href=\"#DejaVuSans-49\"/>\r\n       <use x=\"516.113281\" xlink:href=\"#DejaVuSans-55\"/>\r\n       <use x=\"579.736328\" xlink:href=\"#DejaVuSans-46\"/>\r\n       <use x=\"611.523438\" xlink:href=\"#DejaVuSans-56\"/>\r\n       <use x=\"675.146484\" xlink:href=\"#DejaVuSans-93\"/>\r\n      </g>\r\n     </g>\r\n    </g>\r\n    <g id=\"xtick_4\">\r\n     <g id=\"line2d_4\">\r\n      <g>\r\n       <use style=\"stroke:#000000;stroke-width:0.8;\" x=\"338.9625\" xlink:href=\"#m372e14a8e9\" y=\"279\"/>\r\n      </g>\r\n     </g>\r\n     <g id=\"text_4\">\r\n      <!-- (684.6, 701.2] -->\r\n      <defs>\r\n       <path d=\"M 33.015625 40.375 \r\nQ 26.375 40.375 22.484375 35.828125 \r\nQ 18.609375 31.296875 18.609375 23.390625 \r\nQ 18.609375 15.53125 22.484375 10.953125 \r\nQ 26.375 6.390625 33.015625 6.390625 \r\nQ 39.65625 6.390625 43.53125 10.953125 \r\nQ 47.40625 15.53125 47.40625 23.390625 \r\nQ 47.40625 31.296875 43.53125 35.828125 \r\nQ 39.65625 40.375 33.015625 40.375 \r\nz\r\nM 52.59375 71.296875 \r\nL 52.59375 62.3125 \r\nQ 48.875 64.0625 45.09375 64.984375 \r\nQ 41.3125 65.921875 37.59375 65.921875 \r\nQ 27.828125 65.921875 22.671875 59.328125 \r\nQ 17.53125 52.734375 16.796875 39.40625 \r\nQ 19.671875 43.65625 24.015625 45.921875 \r\nQ 28.375 48.1875 33.59375 48.1875 \r\nQ 44.578125 48.1875 50.953125 41.515625 \r\nQ 57.328125 34.859375 57.328125 23.390625 \r\nQ 57.328125 12.15625 50.6875 5.359375 \r\nQ 44.046875 -1.421875 33.015625 -1.421875 \r\nQ 20.359375 -1.421875 13.671875 8.265625 \r\nQ 6.984375 17.96875 6.984375 36.375 \r\nQ 6.984375 53.65625 15.1875 63.9375 \r\nQ 23.390625 74.21875 37.203125 74.21875 \r\nQ 40.921875 74.21875 44.703125 73.484375 \r\nQ 48.484375 72.75 52.59375 71.296875 \r\nz\r\n\" id=\"DejaVuSans-54\"/>\r\n      </defs>\r\n      <g transform=\"translate(341.721875 357.415625)rotate(-90)scale(0.1 -0.1)\">\r\n       <use xlink:href=\"#DejaVuSans-40\"/>\r\n       <use x=\"39.013672\" xlink:href=\"#DejaVuSans-54\"/>\r\n       <use x=\"102.636719\" xlink:href=\"#DejaVuSans-56\"/>\r\n       <use x=\"166.259766\" xlink:href=\"#DejaVuSans-52\"/>\r\n       <use x=\"229.882812\" xlink:href=\"#DejaVuSans-46\"/>\r\n       <use x=\"261.669922\" xlink:href=\"#DejaVuSans-54\"/>\r\n       <use x=\"325.292969\" xlink:href=\"#DejaVuSans-44\"/>\r\n       <use x=\"357.080078\" xlink:href=\"#DejaVuSans-32\"/>\r\n       <use x=\"388.867188\" xlink:href=\"#DejaVuSans-55\"/>\r\n       <use x=\"452.490234\" xlink:href=\"#DejaVuSans-48\"/>\r\n       <use x=\"516.113281\" xlink:href=\"#DejaVuSans-49\"/>\r\n       <use x=\"579.736328\" xlink:href=\"#DejaVuSans-46\"/>\r\n       <use x=\"611.523438\" xlink:href=\"#DejaVuSans-50\"/>\r\n       <use x=\"675.146484\" xlink:href=\"#DejaVuSans-93\"/>\r\n      </g>\r\n     </g>\r\n    </g>\r\n    <g id=\"xtick_5\">\r\n     <g id=\"line2d_5\">\r\n      <g>\r\n       <use style=\"stroke:#000000;stroke-width:0.8;\" x=\"422.6625\" xlink:href=\"#m372e14a8e9\" y=\"279\"/>\r\n      </g>\r\n     </g>\r\n     <g id=\"text_5\">\r\n      <!-- (668.0, 684.6] -->\r\n      <g transform=\"translate(425.421875 357.415625)rotate(-90)scale(0.1 -0.1)\">\r\n       <use xlink:href=\"#DejaVuSans-40\"/>\r\n       <use x=\"39.013672\" xlink:href=\"#DejaVuSans-54\"/>\r\n       <use x=\"102.636719\" xlink:href=\"#DejaVuSans-54\"/>\r\n       <use x=\"166.259766\" xlink:href=\"#DejaVuSans-56\"/>\r\n       <use x=\"229.882812\" xlink:href=\"#DejaVuSans-46\"/>\r\n       <use x=\"261.669922\" xlink:href=\"#DejaVuSans-48\"/>\r\n       <use x=\"325.292969\" xlink:href=\"#DejaVuSans-44\"/>\r\n       <use x=\"357.080078\" xlink:href=\"#DejaVuSans-32\"/>\r\n       <use x=\"388.867188\" xlink:href=\"#DejaVuSans-54\"/>\r\n       <use x=\"452.490234\" xlink:href=\"#DejaVuSans-56\"/>\r\n       <use x=\"516.113281\" xlink:href=\"#DejaVuSans-52\"/>\r\n       <use x=\"579.736328\" xlink:href=\"#DejaVuSans-46\"/>\r\n       <use x=\"611.523438\" xlink:href=\"#DejaVuSans-54\"/>\r\n       <use x=\"675.146484\" xlink:href=\"#DejaVuSans-93\"/>\r\n      </g>\r\n     </g>\r\n    </g>\r\n    <g id=\"xtick_6\">\r\n     <g id=\"line2d_6\">\r\n      <g>\r\n       <use style=\"stroke:#000000;stroke-width:0.8;\" x=\"506.3625\" xlink:href=\"#m372e14a8e9\" y=\"279\"/>\r\n      </g>\r\n     </g>\r\n     <g id=\"text_6\">\r\n      <!-- (651.4, 668.0] -->\r\n      <g transform=\"translate(509.121875 357.415625)rotate(-90)scale(0.1 -0.1)\">\r\n       <use xlink:href=\"#DejaVuSans-40\"/>\r\n       <use x=\"39.013672\" xlink:href=\"#DejaVuSans-54\"/>\r\n       <use x=\"102.636719\" xlink:href=\"#DejaVuSans-53\"/>\r\n       <use x=\"166.259766\" xlink:href=\"#DejaVuSans-49\"/>\r\n       <use x=\"229.882812\" xlink:href=\"#DejaVuSans-46\"/>\r\n       <use x=\"261.669922\" xlink:href=\"#DejaVuSans-52\"/>\r\n       <use x=\"325.292969\" xlink:href=\"#DejaVuSans-44\"/>\r\n       <use x=\"357.080078\" xlink:href=\"#DejaVuSans-32\"/>\r\n       <use x=\"388.867188\" xlink:href=\"#DejaVuSans-54\"/>\r\n       <use x=\"452.490234\" xlink:href=\"#DejaVuSans-54\"/>\r\n       <use x=\"516.113281\" xlink:href=\"#DejaVuSans-56\"/>\r\n       <use x=\"579.736328\" xlink:href=\"#DejaVuSans-46\"/>\r\n       <use x=\"611.523438\" xlink:href=\"#DejaVuSans-48\"/>\r\n       <use x=\"675.146484\" xlink:href=\"#DejaVuSans-93\"/>\r\n      </g>\r\n     </g>\r\n    </g>\r\n    <g id=\"xtick_7\">\r\n     <g id=\"line2d_7\">\r\n      <g>\r\n       <use style=\"stroke:#000000;stroke-width:0.8;\" x=\"590.0625\" xlink:href=\"#m372e14a8e9\" y=\"279\"/>\r\n      </g>\r\n     </g>\r\n     <g id=\"text_7\">\r\n      <!-- (634.8, 651.4] -->\r\n      <g transform=\"translate(592.821875 357.415625)rotate(-90)scale(0.1 -0.1)\">\r\n       <use xlink:href=\"#DejaVuSans-40\"/>\r\n       <use x=\"39.013672\" xlink:href=\"#DejaVuSans-54\"/>\r\n       <use x=\"102.636719\" xlink:href=\"#DejaVuSans-51\"/>\r\n       <use x=\"166.259766\" xlink:href=\"#DejaVuSans-52\"/>\r\n       <use x=\"229.882812\" xlink:href=\"#DejaVuSans-46\"/>\r\n       <use x=\"261.669922\" xlink:href=\"#DejaVuSans-56\"/>\r\n       <use x=\"325.292969\" xlink:href=\"#DejaVuSans-44\"/>\r\n       <use x=\"357.080078\" xlink:href=\"#DejaVuSans-32\"/>\r\n       <use x=\"388.867188\" xlink:href=\"#DejaVuSans-54\"/>\r\n       <use x=\"452.490234\" xlink:href=\"#DejaVuSans-53\"/>\r\n       <use x=\"516.113281\" xlink:href=\"#DejaVuSans-49\"/>\r\n       <use x=\"579.736328\" xlink:href=\"#DejaVuSans-46\"/>\r\n       <use x=\"611.523438\" xlink:href=\"#DejaVuSans-52\"/>\r\n       <use x=\"675.146484\" xlink:href=\"#DejaVuSans-93\"/>\r\n      </g>\r\n     </g>\r\n    </g>\r\n    <g id=\"xtick_8\">\r\n     <g id=\"line2d_8\">\r\n      <g>\r\n       <use style=\"stroke:#000000;stroke-width:0.8;\" x=\"673.7625\" xlink:href=\"#m372e14a8e9\" y=\"279\"/>\r\n      </g>\r\n     </g>\r\n     <g id=\"text_8\">\r\n      <!-- (618.2, 634.8] -->\r\n      <g transform=\"translate(676.521875 357.415625)rotate(-90)scale(0.1 -0.1)\">\r\n       <use xlink:href=\"#DejaVuSans-40\"/>\r\n       <use x=\"39.013672\" xlink:href=\"#DejaVuSans-54\"/>\r\n       <use x=\"102.636719\" xlink:href=\"#DejaVuSans-49\"/>\r\n       <use x=\"166.259766\" xlink:href=\"#DejaVuSans-56\"/>\r\n       <use x=\"229.882812\" xlink:href=\"#DejaVuSans-46\"/>\r\n       <use x=\"261.669922\" xlink:href=\"#DejaVuSans-50\"/>\r\n       <use x=\"325.292969\" xlink:href=\"#DejaVuSans-44\"/>\r\n       <use x=\"357.080078\" xlink:href=\"#DejaVuSans-32\"/>\r\n       <use x=\"388.867188\" xlink:href=\"#DejaVuSans-54\"/>\r\n       <use x=\"452.490234\" xlink:href=\"#DejaVuSans-51\"/>\r\n       <use x=\"516.113281\" xlink:href=\"#DejaVuSans-52\"/>\r\n       <use x=\"579.736328\" xlink:href=\"#DejaVuSans-46\"/>\r\n       <use x=\"611.523438\" xlink:href=\"#DejaVuSans-56\"/>\r\n       <use x=\"675.146484\" xlink:href=\"#DejaVuSans-93\"/>\r\n      </g>\r\n     </g>\r\n    </g>\r\n    <g id=\"xtick_9\">\r\n     <g id=\"line2d_9\">\r\n      <g>\r\n       <use style=\"stroke:#000000;stroke-width:0.8;\" x=\"757.4625\" xlink:href=\"#m372e14a8e9\" y=\"279\"/>\r\n      </g>\r\n     </g>\r\n     <g id=\"text_9\">\r\n      <!-- (601.6, 618.2] -->\r\n      <g transform=\"translate(760.221875 357.415625)rotate(-90)scale(0.1 -0.1)\">\r\n       <use xlink:href=\"#DejaVuSans-40\"/>\r\n       <use x=\"39.013672\" xlink:href=\"#DejaVuSans-54\"/>\r\n       <use x=\"102.636719\" xlink:href=\"#DejaVuSans-48\"/>\r\n       <use x=\"166.259766\" xlink:href=\"#DejaVuSans-49\"/>\r\n       <use x=\"229.882812\" xlink:href=\"#DejaVuSans-46\"/>\r\n       <use x=\"261.669922\" xlink:href=\"#DejaVuSans-54\"/>\r\n       <use x=\"325.292969\" xlink:href=\"#DejaVuSans-44\"/>\r\n       <use x=\"357.080078\" xlink:href=\"#DejaVuSans-32\"/>\r\n       <use x=\"388.867188\" xlink:href=\"#DejaVuSans-54\"/>\r\n       <use x=\"452.490234\" xlink:href=\"#DejaVuSans-49\"/>\r\n       <use x=\"516.113281\" xlink:href=\"#DejaVuSans-56\"/>\r\n       <use x=\"579.736328\" xlink:href=\"#DejaVuSans-46\"/>\r\n       <use x=\"611.523438\" xlink:href=\"#DejaVuSans-50\"/>\r\n       <use x=\"675.146484\" xlink:href=\"#DejaVuSans-93\"/>\r\n      </g>\r\n     </g>\r\n    </g>\r\n    <g id=\"xtick_10\">\r\n     <g id=\"line2d_10\">\r\n      <g>\r\n       <use style=\"stroke:#000000;stroke-width:0.8;\" x=\"841.1625\" xlink:href=\"#m372e14a8e9\" y=\"279\"/>\r\n      </g>\r\n     </g>\r\n     <g id=\"text_10\">\r\n      <!-- (584.834, 601.6] -->\r\n      <g transform=\"translate(843.921875 370.140625)rotate(-90)scale(0.1 -0.1)\">\r\n       <use xlink:href=\"#DejaVuSans-40\"/>\r\n       <use x=\"39.013672\" xlink:href=\"#DejaVuSans-53\"/>\r\n       <use x=\"102.636719\" xlink:href=\"#DejaVuSans-56\"/>\r\n       <use x=\"166.259766\" xlink:href=\"#DejaVuSans-52\"/>\r\n       <use x=\"229.882812\" xlink:href=\"#DejaVuSans-46\"/>\r\n       <use x=\"261.669922\" xlink:href=\"#DejaVuSans-56\"/>\r\n       <use x=\"325.292969\" xlink:href=\"#DejaVuSans-51\"/>\r\n       <use x=\"388.916016\" xlink:href=\"#DejaVuSans-52\"/>\r\n       <use x=\"452.539062\" xlink:href=\"#DejaVuSans-44\"/>\r\n       <use x=\"484.326172\" xlink:href=\"#DejaVuSans-32\"/>\r\n       <use x=\"516.113281\" xlink:href=\"#DejaVuSans-54\"/>\r\n       <use x=\"579.736328\" xlink:href=\"#DejaVuSans-48\"/>\r\n       <use x=\"643.359375\" xlink:href=\"#DejaVuSans-49\"/>\r\n       <use x=\"706.982422\" xlink:href=\"#DejaVuSans-46\"/>\r\n       <use x=\"738.769531\" xlink:href=\"#DejaVuSans-54\"/>\r\n       <use x=\"802.392578\" xlink:href=\"#DejaVuSans-93\"/>\r\n      </g>\r\n     </g>\r\n    </g>\r\n   </g>\r\n   <g id=\"matplotlib.axis_2\">\r\n    <g id=\"ytick_1\">\r\n     <g id=\"line2d_11\">\r\n      <defs>\r\n       <path d=\"M 0 0 \r\nL -3.5 0 \r\n\" id=\"mdf619fa647\" style=\"stroke:#000000;stroke-width:0.8;\"/>\r\n      </defs>\r\n      <g>\r\n       <use style=\"stroke:#000000;stroke-width:0.8;\" x=\"46.0125\" xlink:href=\"#mdf619fa647\" y=\"279\"/>\r\n      </g>\r\n     </g>\r\n     <g id=\"text_11\">\r\n      <!-- 0 -->\r\n      <g transform=\"translate(32.65 282.799219)scale(0.1 -0.1)\">\r\n       <use xlink:href=\"#DejaVuSans-48\"/>\r\n      </g>\r\n     </g>\r\n    </g>\r\n    <g id=\"ytick_2\">\r\n     <g id=\"line2d_12\">\r\n      <g>\r\n       <use style=\"stroke:#000000;stroke-width:0.8;\" x=\"46.0125\" xlink:href=\"#mdf619fa647\" y=\"233.370326\"/>\r\n      </g>\r\n     </g>\r\n     <g id=\"text_12\">\r\n      <!-- 5000 -->\r\n      <g transform=\"translate(13.5625 237.169544)scale(0.1 -0.1)\">\r\n       <use xlink:href=\"#DejaVuSans-53\"/>\r\n       <use x=\"63.623047\" xlink:href=\"#DejaVuSans-48\"/>\r\n       <use x=\"127.246094\" xlink:href=\"#DejaVuSans-48\"/>\r\n       <use x=\"190.869141\" xlink:href=\"#DejaVuSans-48\"/>\r\n      </g>\r\n     </g>\r\n    </g>\r\n    <g id=\"ytick_3\">\r\n     <g id=\"line2d_13\">\r\n      <g>\r\n       <use style=\"stroke:#000000;stroke-width:0.8;\" x=\"46.0125\" xlink:href=\"#mdf619fa647\" y=\"187.740651\"/>\r\n      </g>\r\n     </g>\r\n     <g id=\"text_13\">\r\n      <!-- 10000 -->\r\n      <g transform=\"translate(7.2 191.53987)scale(0.1 -0.1)\">\r\n       <use xlink:href=\"#DejaVuSans-49\"/>\r\n       <use x=\"63.623047\" xlink:href=\"#DejaVuSans-48\"/>\r\n       <use x=\"127.246094\" xlink:href=\"#DejaVuSans-48\"/>\r\n       <use x=\"190.869141\" xlink:href=\"#DejaVuSans-48\"/>\r\n       <use x=\"254.492188\" xlink:href=\"#DejaVuSans-48\"/>\r\n      </g>\r\n     </g>\r\n    </g>\r\n    <g id=\"ytick_4\">\r\n     <g id=\"line2d_14\">\r\n      <g>\r\n       <use style=\"stroke:#000000;stroke-width:0.8;\" x=\"46.0125\" xlink:href=\"#mdf619fa647\" y=\"142.110977\"/>\r\n      </g>\r\n     </g>\r\n     <g id=\"text_14\">\r\n      <!-- 15000 -->\r\n      <g transform=\"translate(7.2 145.910196)scale(0.1 -0.1)\">\r\n       <use xlink:href=\"#DejaVuSans-49\"/>\r\n       <use x=\"63.623047\" xlink:href=\"#DejaVuSans-53\"/>\r\n       <use x=\"127.246094\" xlink:href=\"#DejaVuSans-48\"/>\r\n       <use x=\"190.869141\" xlink:href=\"#DejaVuSans-48\"/>\r\n       <use x=\"254.492188\" xlink:href=\"#DejaVuSans-48\"/>\r\n      </g>\r\n     </g>\r\n    </g>\r\n    <g id=\"ytick_5\">\r\n     <g id=\"line2d_15\">\r\n      <g>\r\n       <use style=\"stroke:#000000;stroke-width:0.8;\" x=\"46.0125\" xlink:href=\"#mdf619fa647\" y=\"96.481302\"/>\r\n      </g>\r\n     </g>\r\n     <g id=\"text_15\">\r\n      <!-- 20000 -->\r\n      <g transform=\"translate(7.2 100.280521)scale(0.1 -0.1)\">\r\n       <use xlink:href=\"#DejaVuSans-50\"/>\r\n       <use x=\"63.623047\" xlink:href=\"#DejaVuSans-48\"/>\r\n       <use x=\"127.246094\" xlink:href=\"#DejaVuSans-48\"/>\r\n       <use x=\"190.869141\" xlink:href=\"#DejaVuSans-48\"/>\r\n       <use x=\"254.492188\" xlink:href=\"#DejaVuSans-48\"/>\r\n      </g>\r\n     </g>\r\n    </g>\r\n    <g id=\"ytick_6\">\r\n     <g id=\"line2d_16\">\r\n      <g>\r\n       <use style=\"stroke:#000000;stroke-width:0.8;\" x=\"46.0125\" xlink:href=\"#mdf619fa647\" y=\"50.851628\"/>\r\n      </g>\r\n     </g>\r\n     <g id=\"text_16\">\r\n      <!-- 25000 -->\r\n      <g transform=\"translate(7.2 54.650847)scale(0.1 -0.1)\">\r\n       <use xlink:href=\"#DejaVuSans-50\"/>\r\n       <use x=\"63.623047\" xlink:href=\"#DejaVuSans-53\"/>\r\n       <use x=\"127.246094\" xlink:href=\"#DejaVuSans-48\"/>\r\n       <use x=\"190.869141\" xlink:href=\"#DejaVuSans-48\"/>\r\n       <use x=\"254.492188\" xlink:href=\"#DejaVuSans-48\"/>\r\n      </g>\r\n     </g>\r\n    </g>\r\n   </g>\r\n   <g id=\"patch_13\">\r\n    <path d=\"M 46.0125 279 \r\nL 46.0125 7.2 \r\n\" style=\"fill:none;stroke:#000000;stroke-linecap:square;stroke-linejoin:miter;stroke-width:0.8;\"/>\r\n   </g>\r\n   <g id=\"patch_14\">\r\n    <path d=\"M 883.0125 279 \r\nL 883.0125 7.2 \r\n\" style=\"fill:none;stroke:#000000;stroke-linecap:square;stroke-linejoin:miter;stroke-width:0.8;\"/>\r\n   </g>\r\n   <g id=\"patch_15\">\r\n    <path d=\"M 46.0125 279 \r\nL 883.0125 279 \r\n\" style=\"fill:none;stroke:#000000;stroke-linecap:square;stroke-linejoin:miter;stroke-width:0.8;\"/>\r\n   </g>\r\n   <g id=\"patch_16\">\r\n    <path d=\"M 46.0125 7.2 \r\nL 883.0125 7.2 \r\n\" style=\"fill:none;stroke:#000000;stroke-linecap:square;stroke-linejoin:miter;stroke-width:0.8;\"/>\r\n   </g>\r\n  </g>\r\n </g>\r\n <defs>\r\n  <clipPath id=\"p5e7de1d472\">\r\n   <rect height=\"271.8\" width=\"837\" x=\"46.0125\" y=\"7.2\"/>\r\n  </clipPath>\r\n </defs>\r\n</svg>\r\n",
      "image/png": "[encoded data removed]"
     },
     "metadata": {
      "needs_background": "light"
     }
    }
   ],
   "source": [
    "from collections import Counter\n",
    "\n",
    "counted_target = Counter(df['Credit Score Range'])\n",
    "for Range, rangeAmount in sorted(counted_target.items()):\n",
    "    percentage = rangeAmount / len(df['Credit Score Range']) * 100\n",
    "    print('Class=%s, n=%d (%.2f%%)' % (Range, rangeAmount, percentage))\n",
    "\n",
    "df['Credit Score Range'].value_counts().plot(kind='bar',figsize=(15,5))"
   ]
  },
  {
   "source": [
    "We apply min-max normalization for all the numric attributes."
   ],
   "cell_type": "markdown",
   "metadata": {}
  },
  {
   "cell_type": "code",
   "execution_count": 170,
   "metadata": {},
   "outputs": [],
   "source": [
    "# Normalize continuous columns\n",
    "numeric = df.select_dtypes('number')\n",
    "transformer = preprocessing.MinMaxScaler()\n",
    "numeric_normalized = transformer.fit_transform(numeric.values)\n",
    "df[numeric.columns] = numeric_normalized"
   ]
  },
  {
   "source": [
    "View the final dataframe after applying min-max normalization."
   ],
   "cell_type": "markdown",
   "metadata": {}
  },
  {
   "cell_type": "code",
   "execution_count": 171,
   "metadata": {},
   "outputs": [
    {
     "output_type": "execute_result",
     "data": {
      "text/plain": [
       "    Loan ID  Customer ID  Loan Status  Current Loan Amount  Term  \\\n",
       "0  0.081528     0.594985          1.0             0.004342   1.0   \n",
       "1  0.309318     0.371466          1.0             1.000000   1.0   \n",
       "2  0.467122     0.903985          1.0             0.003365   0.0   \n",
       "3  0.539748     0.312567          0.0             0.001954   1.0   \n",
       "4  0.153657     0.565583          1.0             0.002064   1.0   \n",
       "5  0.544144     0.686563          1.0             0.005376   1.0   \n",
       "6  0.042962     0.138742          1.0             0.002047   1.0   \n",
       "7  0.198139     0.053855          1.0             1.000000   1.0   \n",
       "8  0.251344     0.067429          1.0             1.000000   1.0   \n",
       "9  0.006981     0.562819          1.0             1.000000   1.0   \n",
       "\n",
       "   Credit Score  Annual Income  Years in current job  Home Ownership  \\\n",
       "0      0.746988       0.006592                   0.8             0.0   \n",
       "1      0.939759       0.013024                   0.8             0.5   \n",
       "2      0.819277       0.004413                   0.3             0.5   \n",
       "3      0.867470       0.004957                   1.0             0.0   \n",
       "4      0.873494       0.006693                   0.0             0.0   \n",
       "5      0.560241       0.015002                   0.2             1.0   \n",
       "6      0.927711       0.008328                   0.0             1.0   \n",
       "7      0.861446       0.003855                   0.3             1.0   \n",
       "8      0.933735       0.004227                   0.0             0.5   \n",
       "9      0.951807       0.008970                   0.4             1.0   \n",
       "\n",
       "    Purpose  Monthly Debt  Years of Credit History  Number of Open Accounts  \\\n",
       "0  0.416667      0.011965                 0.202096                 0.066667   \n",
       "1  0.250000      0.066998                 0.167665                 0.226667   \n",
       "2  0.250000      0.020057                 0.124251                 0.106667   \n",
       "3  0.250000      0.037554                 0.203593                 0.066667   \n",
       "4  0.250000      0.024906                 0.238024                 0.160000   \n",
       "5  0.250000      0.042814                 0.282934                 0.040000   \n",
       "6  0.250000      0.090119                 0.152695                 0.253333   \n",
       "7  0.250000      0.027191                 0.184132                 0.200000   \n",
       "8  0.250000      0.026565                 0.071856                 0.066667   \n",
       "9  0.250000      0.040291                 0.143713                 0.120000   \n",
       "\n",
       "   Have had Credit Problems  Current Credit Balance  Maximum Open Credit  \\\n",
       "0                       1.0                0.006940             0.000271   \n",
       "1                       1.0                0.009063             0.000487   \n",
       "2                       0.0                0.007796             0.000251   \n",
       "3                       0.0                0.006549             0.000177   \n",
       "4                       1.0                0.003716             0.000177   \n",
       "5                       0.0                0.013296             0.000360   \n",
       "6                       0.0                0.020364             0.000663   \n",
       "7                       0.0                0.006204             0.000188   \n",
       "8                       0.0                0.004078             0.000143   \n",
       "9                       1.0                0.006860             0.000322   \n",
       "\n",
       "   Have had Bankruptcy before  Have had Tax Liens  Delinquent Time  \\\n",
       "0                         1.0                 0.0         0.000000   \n",
       "1                         0.0                 0.0         0.666667   \n",
       "2                         0.0                 0.0         0.000000   \n",
       "3                         0.0                 0.0         0.000000   \n",
       "4                         1.0                 0.0         0.333333   \n",
       "5                         0.0                 0.0         0.666667   \n",
       "6                         0.0                 0.0         0.000000   \n",
       "7                         0.0                 0.0         1.000000   \n",
       "8                         0.0                 0.0         0.333333   \n",
       "9                         1.0                 0.0         0.000000   \n",
       "\n",
       "  Credit Score Range  \n",
       "0     (701.2, 717.8]  \n",
       "1     (734.4, 751.0]  \n",
       "2     (717.8, 734.4]  \n",
       "3     (717.8, 734.4]  \n",
       "4     (717.8, 734.4]  \n",
       "5     (668.0, 684.6]  \n",
       "6     (734.4, 751.0]  \n",
       "7     (717.8, 734.4]  \n",
       "8     (734.4, 751.0]  \n",
       "9     (734.4, 751.0]  "
      ],
      "text/html": "<div>\n<style scoped>\n    .dataframe tbody tr th:only-of-type {\n        vertical-align: middle;\n    }\n\n    .dataframe tbody tr th {\n        vertical-align: top;\n    }\n\n    .dataframe thead th {\n        text-align: right;\n    }\n</style>\n<table border=\"1\" class=\"dataframe\">\n  <thead>\n    <tr style=\"text-align: right;\">\n      <th></th>\n      <th>Loan ID</th>\n      <th>Customer ID</th>\n      <th>Loan Status</th>\n      <th>Current Loan Amount</th>\n      <th>Term</th>\n      <th>Credit Score</th>\n      <th>Annual Income</th>\n      <th>Years in current job</th>\n      <th>Home Ownership</th>\n      <th>Purpose</th>\n      <th>Monthly Debt</th>\n      <th>Years of Credit History</th>\n      <th>Number of Open Accounts</th>\n      <th>Have had Credit Problems</th>\n      <th>Current Credit Balance</th>\n      <th>Maximum Open Credit</th>\n      <th>Have had Bankruptcy before</th>\n      <th>Have had Tax Liens</th>\n      <th>Delinquent Time</th>\n      <th>Credit Score Range</th>\n    </tr>\n  </thead>\n  <tbody>\n    <tr>\n      <th>0</th>\n      <td>0.081528</td>\n      <td>0.594985</td>\n      <td>1.0</td>\n      <td>0.004342</td>\n      <td>1.0</td>\n      <td>0.746988</td>\n      <td>0.006592</td>\n      <td>0.8</td>\n      <td>0.0</td>\n      <td>0.416667</td>\n      <td>0.011965</td>\n      <td>0.202096</td>\n      <td>0.066667</td>\n      <td>1.0</td>\n      <td>0.006940</td>\n      <td>0.000271</td>\n      <td>1.0</td>\n      <td>0.0</td>\n      <td>0.000000</td>\n      <td>(701.2, 717.8]</td>\n    </tr>\n    <tr>\n      <th>1</th>\n      <td>0.309318</td>\n      <td>0.371466</td>\n      <td>1.0</td>\n      <td>1.000000</td>\n      <td>1.0</td>\n      <td>0.939759</td>\n      <td>0.013024</td>\n      <td>0.8</td>\n      <td>0.5</td>\n      <td>0.250000</td>\n      <td>0.066998</td>\n      <td>0.167665</td>\n      <td>0.226667</td>\n      <td>1.0</td>\n      <td>0.009063</td>\n      <td>0.000487</td>\n      <td>0.0</td>\n      <td>0.0</td>\n      <td>0.666667</td>\n      <td>(734.4, 751.0]</td>\n    </tr>\n    <tr>\n      <th>2</th>\n      <td>0.467122</td>\n      <td>0.903985</td>\n      <td>1.0</td>\n      <td>0.003365</td>\n      <td>0.0</td>\n      <td>0.819277</td>\n      <td>0.004413</td>\n      <td>0.3</td>\n      <td>0.5</td>\n      <td>0.250000</td>\n      <td>0.020057</td>\n      <td>0.124251</td>\n      <td>0.106667</td>\n      <td>0.0</td>\n      <td>0.007796</td>\n      <td>0.000251</td>\n      <td>0.0</td>\n      <td>0.0</td>\n      <td>0.000000</td>\n      <td>(717.8, 734.4]</td>\n    </tr>\n    <tr>\n      <th>3</th>\n      <td>0.539748</td>\n      <td>0.312567</td>\n      <td>0.0</td>\n      <td>0.001954</td>\n      <td>1.0</td>\n      <td>0.867470</td>\n      <td>0.004957</td>\n      <td>1.0</td>\n      <td>0.0</td>\n      <td>0.250000</td>\n      <td>0.037554</td>\n      <td>0.203593</td>\n      <td>0.066667</td>\n      <td>0.0</td>\n      <td>0.006549</td>\n      <td>0.000177</td>\n      <td>0.0</td>\n      <td>0.0</td>\n      <td>0.000000</td>\n      <td>(717.8, 734.4]</td>\n    </tr>\n    <tr>\n      <th>4</th>\n      <td>0.153657</td>\n      <td>0.565583</td>\n      <td>1.0</td>\n      <td>0.002064</td>\n      <td>1.0</td>\n      <td>0.873494</td>\n      <td>0.006693</td>\n      <td>0.0</td>\n      <td>0.0</td>\n      <td>0.250000</td>\n      <td>0.024906</td>\n      <td>0.238024</td>\n      <td>0.160000</td>\n      <td>1.0</td>\n      <td>0.003716</td>\n      <td>0.000177</td>\n      <td>1.0</td>\n      <td>0.0</td>\n      <td>0.333333</td>\n      <td>(717.8, 734.4]</td>\n    </tr>\n    <tr>\n      <th>5</th>\n      <td>0.544144</td>\n      <td>0.686563</td>\n      <td>1.0</td>\n      <td>0.005376</td>\n      <td>1.0</td>\n      <td>0.560241</td>\n      <td>0.015002</td>\n      <td>0.2</td>\n      <td>1.0</td>\n      <td>0.250000</td>\n      <td>0.042814</td>\n      <td>0.282934</td>\n      <td>0.040000</td>\n      <td>0.0</td>\n      <td>0.013296</td>\n      <td>0.000360</td>\n      <td>0.0</td>\n      <td>0.0</td>\n      <td>0.666667</td>\n      <td>(668.0, 684.6]</td>\n    </tr>\n    <tr>\n      <th>6</th>\n      <td>0.042962</td>\n      <td>0.138742</td>\n      <td>1.0</td>\n      <td>0.002047</td>\n      <td>1.0</td>\n      <td>0.927711</td>\n      <td>0.008328</td>\n      <td>0.0</td>\n      <td>1.0</td>\n      <td>0.250000</td>\n      <td>0.090119</td>\n      <td>0.152695</td>\n      <td>0.253333</td>\n      <td>0.0</td>\n      <td>0.020364</td>\n      <td>0.000663</td>\n      <td>0.0</td>\n      <td>0.0</td>\n      <td>0.000000</td>\n      <td>(734.4, 751.0]</td>\n    </tr>\n    <tr>\n      <th>7</th>\n      <td>0.198139</td>\n      <td>0.053855</td>\n      <td>1.0</td>\n      <td>1.000000</td>\n      <td>1.0</td>\n      <td>0.861446</td>\n      <td>0.003855</td>\n      <td>0.3</td>\n      <td>1.0</td>\n      <td>0.250000</td>\n      <td>0.027191</td>\n      <td>0.184132</td>\n      <td>0.200000</td>\n      <td>0.0</td>\n      <td>0.006204</td>\n      <td>0.000188</td>\n      <td>0.0</td>\n      <td>0.0</td>\n      <td>1.000000</td>\n      <td>(717.8, 734.4]</td>\n    </tr>\n    <tr>\n      <th>8</th>\n      <td>0.251344</td>\n      <td>0.067429</td>\n      <td>1.0</td>\n      <td>1.000000</td>\n      <td>1.0</td>\n      <td>0.933735</td>\n      <td>0.004227</td>\n      <td>0.0</td>\n      <td>0.5</td>\n      <td>0.250000</td>\n      <td>0.026565</td>\n      <td>0.071856</td>\n      <td>0.066667</td>\n      <td>0.0</td>\n      <td>0.004078</td>\n      <td>0.000143</td>\n      <td>0.0</td>\n      <td>0.0</td>\n      <td>0.333333</td>\n      <td>(734.4, 751.0]</td>\n    </tr>\n    <tr>\n      <th>9</th>\n      <td>0.006981</td>\n      <td>0.562819</td>\n      <td>1.0</td>\n      <td>1.000000</td>\n      <td>1.0</td>\n      <td>0.951807</td>\n      <td>0.008970</td>\n      <td>0.4</td>\n      <td>1.0</td>\n      <td>0.250000</td>\n      <td>0.040291</td>\n      <td>0.143713</td>\n      <td>0.120000</td>\n      <td>1.0</td>\n      <td>0.006860</td>\n      <td>0.000322</td>\n      <td>1.0</td>\n      <td>0.0</td>\n      <td>0.000000</td>\n      <td>(734.4, 751.0]</td>\n    </tr>\n  </tbody>\n</table>\n</div>"
     },
     "metadata": {},
     "execution_count": 171
    }
   ],
   "source": [
    "df.head(10)"
   ]
  },
  {
   "cell_type": "code",
   "execution_count": 44,
   "metadata": {},
   "outputs": [],
   "source": [
    "# Write processed dataframe to csv file called 'credit.csv'\n",
    "df.to_csv('./datasets/credit.csv', index=False)"
   ]
  }
 ],
 "metadata": {
  "kernelspec": {
   "display_name": "Python 3",
   "language": "python",
   "name": "python3"
  },
  "language_info": {
   "codemirror_mode": {
    "name": "ipython",
    "version": 3
   },
   "file_extension": ".py",
   "mimetype": "text/x-python",
   "name": "python",
   "nbconvert_exporter": "python",
   "pygments_lexer": "ipython3",
   "version": "3.8.3-final"
  }
 },
 "nbformat": 4,
 "nbformat_minor": 4
}