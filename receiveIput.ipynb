{
 "cells": [
  {
   "cell_type": "code",
   "execution_count": 1608,
   "metadata": {},
   "outputs": [],
   "source": [
    "# Import libraries\n",
    "import numpy as np\n",
    "import pandas as pd\n",
    "\n",
    "from sklearn.impute import SimpleImputer\n",
    "from sklearn.preprocessing import LabelEncoder\n",
    "from sklearn import preprocessing"
   ]
  },
  {
   "cell_type": "code",
   "execution_count": 1609,
   "metadata": {},
   "outputs": [],
   "source": [
    "# Read in raw data files\n",
    "df_train = pd.read_csv('./datasets/credit_train.csv')\n",
    "df_test = pd.read_csv('./datasets/credit_test.csv')"
   ]
  },
  {
   "cell_type": "code",
   "execution_count": 1610,
   "metadata": {},
   "outputs": [],
   "source": [
    "# Concatenate raw data files into one dataframe\n",
    "df = pd.concat([df_train, df_test])"
   ]
  },
  {
   "cell_type": "code",
   "execution_count": 1611,
   "metadata": {},
   "outputs": [],
   "source": [
    "# Remove rows which are completely null from dataframe\n",
    "df = df[df.isnull().sum(axis=1) < df.shape[1]]"
   ]
  },
  {
   "cell_type": "code",
   "execution_count": 1612,
   "metadata": {},
   "outputs": [],
   "source": [
    "# Replace invalid credit scores (above 850 with an extra 0 entered) with credit score 10X smaller\n",
    "df['Credit Score'] = np.where(df['Credit Score'] > 850, df['Credit Score']/10, df['Credit Score'])"
   ]
  },
  {
   "cell_type": "code",
   "execution_count": 1613,
   "metadata": {},
   "outputs": [],
   "source": [
    "# Drop rows with contaminated credit score (invalid credit score value)\n",
    "df = df[df['Credit Score'] <= 850]\n",
    "df = df.reset_index(drop=True)"
   ]
  },
  {
   "cell_type": "code",
   "execution_count": 1614,
   "metadata": {},
   "outputs": [
    {
     "data": {
      "text/plain": [
       "Debt Consolidation      69611\n",
       "Other                    8366\n",
       "Home Improvements        5190\n",
       "Business Loan            1672\n",
       "Buy a Car                1137\n",
       "Medical Bills            1023\n",
       "Buy House                 621\n",
       "vacation                  586\n",
       "major_purchase            325\n",
       "moving                    135\n",
       "wedding                    96\n",
       "Educational Expenses       94\n",
       "renewable_energy            9\n",
       "Name: Purpose, dtype: int64"
      ]
     },
     "execution_count": 1614,
     "metadata": {},
     "output_type": "execute_result"
    }
   ],
   "source": [
    "df['Purpose'] = df['Purpose'].replace({'small_business':'Business Loan','other':'Other','Take a Trip':'vacation'})\n",
    "df['Purpose'].value_counts()"
   ]
  },
  {
   "cell_type": "code",
   "execution_count": 1615,
   "metadata": {},
   "outputs": [],
   "source": [
    "#check the duplicate rows\n",
    "dup_id = df['Customer ID'].value_counts()[df['Customer ID'].value_counts()>1].index.values\n",
    "dup_df = df.loc[df['Customer ID'].isin(dup_id)]"
   ]
  },
  {
   "cell_type": "code",
   "execution_count": 1616,
   "metadata": {},
   "outputs": [],
   "source": [
    "#fill in missing values with zero and observe distribution \n",
    "df['Months since last delinquent'] = df['Months since last delinquent'].fillna(0)\n",
    "df['Bankruptcies'] = df['Bankruptcies'].fillna(0)\n",
    "df['Tax Liens'] = df['Tax Liens'].fillna(0.0)"
   ]
  },
  {
   "cell_type": "code",
   "execution_count": 1617,
   "metadata": {},
   "outputs": [],
   "source": [
    "#from the plot, we can divdie Months since last delinquent into following categories:\n",
    "#0: no delinquent, 0~25: 2 years, 25~50: 4 years, 50 ~75: 6 years, >75: over 6 years\n",
    "df['Delinquent Time'] = 0\n",
    "df.loc[(df['Months since last delinquent'] == 0), 'Delinquent Time'] = 0\n",
    "df.loc[(df['Months since last delinquent']>0)&(df['Months since last delinquent']<= 25),'Delinquent Time'] = 2\n",
    "df.loc[(df['Months since last delinquent']>25)&(df['Months since last delinquent']<= 50),'Delinquent Time'] = 4\n",
    "df.loc[(df['Months since last delinquent']>50)&(df['Months since last delinquent']<= 75),'Delinquent Time'] = 6\n",
    "df.loc[(df['Months since last delinquent']>75),'Delinquent Time'] = 6"
   ]
  },
  {
   "cell_type": "code",
   "execution_count": 1618,
   "metadata": {},
   "outputs": [],
   "source": [
    "to_drop = 'Months since last delinquent'\n",
    "df = df.drop(to_drop, axis = 1)"
   ]
  },
  {
   "cell_type": "code",
   "execution_count": 1619,
   "metadata": {},
   "outputs": [],
   "source": [
    "#exclude bankrupticies, tax linens, and number of credit problems from continuous columns\n",
    "numeric = df.select_dtypes('number')\n",
    "numeric_cols = numeric.columns"
   ]
  },
  {
   "cell_type": "code",
   "execution_count": 1620,
   "metadata": {},
   "outputs": [],
   "source": [
    "# Impute missing values for numerical data with the mean except bankruptcies and years in current job \n",
    "df[numeric.columns] = numeric.fillna(numeric.mean())"
   ]
  },
  {
   "cell_type": "code",
   "execution_count": 1621,
   "metadata": {},
   "outputs": [],
   "source": [
    "#check missing values in categorical columns\n",
    "categoric = df.select_dtypes('object')\n",
    "categoric = categoric.drop(columns = 'Years in current job')"
   ]
  },
  {
   "cell_type": "code",
   "execution_count": 1622,
   "metadata": {},
   "outputs": [],
   "source": [
    "# Impute missing values for categorical data with the mode\n",
    "df[categoric.columns] = categoric.fillna(categoric.agg(lambda x: x.mode().values[0]))"
   ]
  },
  {
   "cell_type": "code",
   "execution_count": 1623,
   "metadata": {},
   "outputs": [],
   "source": [
    "#fill NaN for Years in current job with'< 1 year'\n",
    "df['Years in current job'] = df['Years in current job'].fillna('< 1 year')"
   ]
  },
  {
   "cell_type": "code",
   "execution_count": 1624,
   "metadata": {},
   "outputs": [],
   "source": [
    "for i in range(len(df)):\n",
    "    if df['Bankruptcies'].values[i] > 0: \n",
    "        df['Bankruptcies'].values[i] = 1\n",
    "    if df['Tax Liens'].values[i] > 0: \n",
    "        df['Tax Liens'].values[i] = 1\n",
    "    if df['Number of Credit Problems'].values[i] > 0: \n",
    "        df['Number of Credit Problems'].values[i] = 1"
   ]
  },
  {
   "cell_type": "code",
   "execution_count": 1625,
   "metadata": {},
   "outputs": [],
   "source": [
    "df.rename(columns= {'Bankruptcies': 'Have had Bankruptcy before'} , inplace=True )\n",
    "df.rename(columns= {'Tax Liens': 'Have had Tax Liens'} , inplace=True )\n",
    "df.rename(columns= {'Number of Credit Problems': 'Have had Credit Problems'} , inplace=True )"
   ]
  },
  {
   "cell_type": "code",
   "execution_count": 1626,
   "metadata": {},
   "outputs": [],
   "source": [
    "# Label encode categorical columns\n",
    "le = LabelEncoder()\n",
    "df[categoric.columns] = df[categoric.columns].apply(le.fit_transform)"
   ]
  },
  {
   "cell_type": "code",
   "execution_count": 1627,
   "metadata": {
    "scrolled": true
   },
   "outputs": [],
   "source": [
    "# Convert 'Years in current job' to numerical column - \n",
    "# Note: Numerical tranformation converts '< 1 year' to 0 and '10+ years' to 10 for simplicity\n",
    "df['Years in current job'] = df['Years in current job'].replace({'< 1 year':0, '1 year': 1, '2 years': 2,\n",
    "                                                                 '3 years':3, '4 years':4, '5 years':5, \n",
    "                                                                 '6 years':6, '7 years':7, '8 years':8,\n",
    "                                                                 '9 years': 9, '10+ years': 10})"
   ]
  },
  {
   "cell_type": "code",
   "execution_count": 1628,
   "metadata": {},
   "outputs": [],
   "source": [
    "# Add 'Credit Score Range' column\n",
    "df['Credit Score Range'] = pd.cut(df['Credit Score'], 10)"
   ]
  },
  {
   "cell_type": "code",
   "execution_count": 1629,
   "metadata": {},
   "outputs": [],
   "source": [
    "# Normalize continuous columns\n",
    "df_tmp = df.drop(columns = ['Purpose', 'Loan ID', 'Customer ID', 'Credit Score', 'Home Ownership'])\n",
    "numeric = df_tmp.select_dtypes('number')\n",
    "transformer = preprocessing.MinMaxScaler()\n",
    "\n",
    "numeric_normalized = transformer.fit_transform(numeric.values)\n",
    "df[numeric.columns] = numeric_normalized\n"
   ]
  },
  {
   "cell_type": "code",
   "execution_count": 1630,
   "metadata": {},
   "outputs": [],
   "source": [
    "loan_status = 'Fully Paid'\n",
    "home_ownership = 'Home Mortgage' #home owner ship\n",
    "purpose = 'Home Improvements'\n",
    "\n",
    "cur_loan_amount = 445412\n",
    "term = 1\n",
    "annual_income= 1167493\n",
    "years_in_current_job = 8\n",
    "\n",
    "monthly_debt = 5214.74\n",
    "years_credit_history = 17.2\n",
    "month_delinq = 30 #month since last delinquent\n",
    "num_openAC = 6 #number of open accounts\n",
    "num_credit_prob = 1\n",
    "cur_creditBalance = 228190\n",
    "max_openCredit = 416746 #maximum open credit\n",
    "bankrupticies = 1\n",
    "taxLien = 1\n",
    "\n",
    "inputData = [cur_loan_amount, annual_income, years_in_current_job, monthly_debt,\n",
    "             years_credit_history, month_delinq, num_openAC, num_credit_prob,\n",
    "             cur_creditBalance, max_openCredit, bankrupticies, taxLien, home_ownership,\n",
    "             purpose, loan_status, term]"
   ]
  },
  {
   "cell_type": "code",
   "execution_count": 1631,
   "metadata": {},
   "outputs": [],
   "source": [
    "def propcessRawData(inputData):\n",
    "    new_inputData = [inputData[14], inputData[0],inputData[15],inputData[1],\n",
    "             inputData[2],inputData[12],inputData[13],inputData[3],\n",
    "              inputData[4],inputData[6],inputData[7],inputData[8],\n",
    "              inputData[9],inputData[10],inputData[11],inputData[5]]\n",
    "    df_new = df.drop(columns = ['Loan ID', 'Customer ID', 'Credit Score', 'Credit Score Range'])\n",
    "    label = df_new.columns\n",
    "\n",
    "    dummy_df = pd.DataFrame({\n",
    "        label[0]:[new_inputData[0]],\n",
    "        label[1]:[new_inputData[1]],\n",
    "        label[2]:[new_inputData[2]],\n",
    "        label[3]:[new_inputData[3]],\n",
    "        label[4]:[new_inputData[4]],\n",
    "        label[5]:[new_inputData[5]],\n",
    "        label[6]:[new_inputData[6]],\n",
    "        label[7]:[new_inputData[7]],\n",
    "        label[8]:[new_inputData[8]],\n",
    "        label[9]:[new_inputData[9]],\n",
    "        label[10]:[new_inputData[10]],\n",
    "        label[11]:[new_inputData[11]],\n",
    "        label[12]:[new_inputData[12]],\n",
    "        label[13]:[new_inputData[13]],\n",
    "        label[14]:[new_inputData[14]],\n",
    "        label[15]:[new_inputData[15]],\n",
    "       })#, index=['training set', 'test set'])\n",
    "    return dummy_df"
   ]
  },
  {
   "cell_type": "code",
   "execution_count": 1632,
   "metadata": {},
   "outputs": [],
   "source": [
    "dummy_df = propcessRawData(inputData)"
   ]
  },
  {
   "cell_type": "code",
   "execution_count": 1633,
   "metadata": {},
   "outputs": [
    {
     "data": {
      "text/html": [
       "<div>\n",
       "<style scoped>\n",
       "    .dataframe tbody tr th:only-of-type {\n",
       "        vertical-align: middle;\n",
       "    }\n",
       "\n",
       "    .dataframe tbody tr th {\n",
       "        vertical-align: top;\n",
       "    }\n",
       "\n",
       "    .dataframe thead th {\n",
       "        text-align: right;\n",
       "    }\n",
       "</style>\n",
       "<table border=\"1\" class=\"dataframe\">\n",
       "  <thead>\n",
       "    <tr style=\"text-align: right;\">\n",
       "      <th></th>\n",
       "      <th>Loan Status</th>\n",
       "      <th>Current Loan Amount</th>\n",
       "      <th>Term</th>\n",
       "      <th>Annual Income</th>\n",
       "      <th>Years in current job</th>\n",
       "      <th>Home Ownership</th>\n",
       "      <th>Purpose</th>\n",
       "      <th>Monthly Debt</th>\n",
       "      <th>Years of Credit History</th>\n",
       "      <th>Number of Open Accounts</th>\n",
       "      <th>Have had Credit Problems</th>\n",
       "      <th>Current Credit Balance</th>\n",
       "      <th>Maximum Open Credit</th>\n",
       "      <th>Have had Bankruptcy before</th>\n",
       "      <th>Have had Tax Liens</th>\n",
       "      <th>Delinquent Time</th>\n",
       "    </tr>\n",
       "  </thead>\n",
       "  <tbody>\n",
       "    <tr>\n",
       "      <th>0</th>\n",
       "      <td>1</td>\n",
       "      <td>445412</td>\n",
       "      <td>1</td>\n",
       "      <td>1167493</td>\n",
       "      <td>8</td>\n",
       "      <td>0</td>\n",
       "      <td>5</td>\n",
       "      <td>5214.74</td>\n",
       "      <td>17.2</td>\n",
       "      <td>6</td>\n",
       "      <td>1</td>\n",
       "      <td>228190</td>\n",
       "      <td>416746</td>\n",
       "      <td>1</td>\n",
       "      <td>1</td>\n",
       "      <td>30</td>\n",
       "    </tr>\n",
       "  </tbody>\n",
       "</table>\n",
       "</div>"
      ],
      "text/plain": [
       "   Loan Status  Current Loan Amount  Term  Annual Income  \\\n",
       "0            1               445412     1        1167493   \n",
       "\n",
       "   Years in current job  Home Ownership  Purpose  Monthly Debt  \\\n",
       "0                     8               0        5       5214.74   \n",
       "\n",
       "   Years of Credit History  Number of Open Accounts  Have had Credit Problems  \\\n",
       "0                     17.2                        6                         1   \n",
       "\n",
       "   Current Credit Balance  Maximum Open Credit  Have had Bankruptcy before  \\\n",
       "0                  228190               416746                           1   \n",
       "\n",
       "   Have had Tax Liens  Delinquent Time  \n",
       "0                   1               30  "
      ]
     },
     "execution_count": 1633,
     "metadata": {},
     "output_type": "execute_result"
    }
   ],
   "source": [
    "## label categorical\n",
    "dummy_df['Loan Status'] = dummy_df['Loan Status'].replace({'Fully Paid':1, 'Charged Off':0})\n",
    "dummy_df['Purpose'] = dummy_df['Purpose'].replace({'Home Improvements':5, 'Debt Consolidation': 3,\n",
    "                                                                'Buy House': 1, 'Business Loan': 0, 'Other': 7,\n",
    "                                                                'marjor_purhcase': 8, 'vacation': 11, 'Buy a Car': 2,\n",
    "                                                                'Medical Bills': 6, 'wedding': 12, 'Educational Expenses':4,\n",
    "                                                                'moving': 9, 'renewable_energer': 10})\n",
    "dummy_df['Home Ownership'] = dummy_df['Home Ownership'].replace({'Home Mortgage': 0, 'Own Home': 1, 'Rent': 2})\n",
    "dummy_df"
   ]
  },
  {
   "cell_type": "code",
   "execution_count": 1634,
   "metadata": {},
   "outputs": [
    {
     "name": "stderr",
     "output_type": "stream",
     "text": [
      "<ipython-input-1634-52196f6c793b>:6: SettingWithCopyWarning: \n",
      "A value is trying to be set on a copy of a slice from a DataFrame\n",
      "\n",
      "See the caveats in the documentation: https://pandas.pydata.org/pandas-docs/stable/user_guide/indexing.html#returning-a-view-versus-a-copy\n",
      "  dummy_df['Delinquent Time'][0]=4\n"
     ]
    }
   ],
   "source": [
    "if dummy_df['Delinquent Time'][0] == 0:\n",
    "    dummy_df['Delinquent Time'][0] = 0\n",
    "elif dummy_df['Delinquent Time'][0] <=25:\n",
    "    dummy_df['Delinquent Time'][0]=2\n",
    "elif dummy_df['Delinquent Time'][0] <=50:\n",
    "    dummy_df['Delinquent Time'][0]=4\n",
    "elif dummy_df['Delinquent Time'][0] <=75:\n",
    "    dummy_df['Delinquent Time'][0]=6\n",
    "else:\n",
    "    dummy_df['Delinquent Time'][0]=7"
   ]
  },
  {
   "cell_type": "code",
   "execution_count": 1635,
   "metadata": {},
   "outputs": [
    {
     "data": {
      "text/html": [
       "<div>\n",
       "<style scoped>\n",
       "    .dataframe tbody tr th:only-of-type {\n",
       "        vertical-align: middle;\n",
       "    }\n",
       "\n",
       "    .dataframe tbody tr th {\n",
       "        vertical-align: top;\n",
       "    }\n",
       "\n",
       "    .dataframe thead th {\n",
       "        text-align: right;\n",
       "    }\n",
       "</style>\n",
       "<table border=\"1\" class=\"dataframe\">\n",
       "  <thead>\n",
       "    <tr style=\"text-align: right;\">\n",
       "      <th></th>\n",
       "      <th>Loan Status</th>\n",
       "      <th>Current Loan Amount</th>\n",
       "      <th>Term</th>\n",
       "      <th>Annual Income</th>\n",
       "      <th>Years in current job</th>\n",
       "      <th>Home Ownership</th>\n",
       "      <th>Purpose</th>\n",
       "      <th>Monthly Debt</th>\n",
       "      <th>Years of Credit History</th>\n",
       "      <th>Number of Open Accounts</th>\n",
       "      <th>Have had Credit Problems</th>\n",
       "      <th>Current Credit Balance</th>\n",
       "      <th>Maximum Open Credit</th>\n",
       "      <th>Have had Bankruptcy before</th>\n",
       "      <th>Have had Tax Liens</th>\n",
       "      <th>Delinquent Time</th>\n",
       "    </tr>\n",
       "  </thead>\n",
       "  <tbody>\n",
       "    <tr>\n",
       "      <th>0</th>\n",
       "      <td>1</td>\n",
       "      <td>445412</td>\n",
       "      <td>1</td>\n",
       "      <td>1167493</td>\n",
       "      <td>8</td>\n",
       "      <td>0</td>\n",
       "      <td>5</td>\n",
       "      <td>5214.74</td>\n",
       "      <td>17.2</td>\n",
       "      <td>6</td>\n",
       "      <td>1</td>\n",
       "      <td>228190</td>\n",
       "      <td>416746</td>\n",
       "      <td>1</td>\n",
       "      <td>1</td>\n",
       "      <td>4</td>\n",
       "    </tr>\n",
       "  </tbody>\n",
       "</table>\n",
       "</div>"
      ],
      "text/plain": [
       "   Loan Status  Current Loan Amount  Term  Annual Income  \\\n",
       "0            1               445412     1        1167493   \n",
       "\n",
       "   Years in current job  Home Ownership  Purpose  Monthly Debt  \\\n",
       "0                     8               0        5       5214.74   \n",
       "\n",
       "   Years of Credit History  Number of Open Accounts  Have had Credit Problems  \\\n",
       "0                     17.2                        6                         1   \n",
       "\n",
       "   Current Credit Balance  Maximum Open Credit  Have had Bankruptcy before  \\\n",
       "0                  228190               416746                           1   \n",
       "\n",
       "   Have had Tax Liens  Delinquent Time  \n",
       "0                   1                4  "
      ]
     },
     "execution_count": 1635,
     "metadata": {},
     "output_type": "execute_result"
    }
   ],
   "source": [
    "dummy_df"
   ]
  },
  {
   "cell_type": "code",
   "execution_count": 1636,
   "metadata": {},
   "outputs": [
    {
     "data": {
      "text/html": [
       "<div>\n",
       "<style scoped>\n",
       "    .dataframe tbody tr th:only-of-type {\n",
       "        vertical-align: middle;\n",
       "    }\n",
       "\n",
       "    .dataframe tbody tr th {\n",
       "        vertical-align: top;\n",
       "    }\n",
       "\n",
       "    .dataframe thead th {\n",
       "        text-align: right;\n",
       "    }\n",
       "</style>\n",
       "<table border=\"1\" class=\"dataframe\">\n",
       "  <thead>\n",
       "    <tr style=\"text-align: right;\">\n",
       "      <th></th>\n",
       "      <th>Loan Status</th>\n",
       "      <th>Current Loan Amount</th>\n",
       "      <th>Term</th>\n",
       "      <th>Annual Income</th>\n",
       "      <th>Years in current job</th>\n",
       "      <th>Home Ownership</th>\n",
       "      <th>Purpose</th>\n",
       "      <th>Monthly Debt</th>\n",
       "      <th>Years of Credit History</th>\n",
       "      <th>Number of Open Accounts</th>\n",
       "      <th>Have had Credit Problems</th>\n",
       "      <th>Current Credit Balance</th>\n",
       "      <th>Maximum Open Credit</th>\n",
       "      <th>Have had Bankruptcy before</th>\n",
       "      <th>Have had Tax Liens</th>\n",
       "      <th>Delinquent Time</th>\n",
       "    </tr>\n",
       "  </thead>\n",
       "  <tbody>\n",
       "    <tr>\n",
       "      <th>0</th>\n",
       "      <td>1.0</td>\n",
       "      <td>0.004342</td>\n",
       "      <td>1.0</td>\n",
       "      <td>0.006592</td>\n",
       "      <td>0.8</td>\n",
       "      <td>0</td>\n",
       "      <td>5</td>\n",
       "      <td>0.011965</td>\n",
       "      <td>0.202096</td>\n",
       "      <td>0.066667</td>\n",
       "      <td>1.0</td>\n",
       "      <td>0.00694</td>\n",
       "      <td>0.000271</td>\n",
       "      <td>1.0</td>\n",
       "      <td>1.0</td>\n",
       "      <td>0.666667</td>\n",
       "    </tr>\n",
       "  </tbody>\n",
       "</table>\n",
       "</div>"
      ],
      "text/plain": [
       "   Loan Status  Current Loan Amount  Term  Annual Income  \\\n",
       "0          1.0             0.004342   1.0       0.006592   \n",
       "\n",
       "   Years in current job  Home Ownership  Purpose  Monthly Debt  \\\n",
       "0                   0.8               0        5      0.011965   \n",
       "\n",
       "   Years of Credit History  Number of Open Accounts  Have had Credit Problems  \\\n",
       "0                 0.202096                 0.066667                       1.0   \n",
       "\n",
       "   Current Credit Balance  Maximum Open Credit  Have had Bankruptcy before  \\\n",
       "0                 0.00694             0.000271                         1.0   \n",
       "\n",
       "   Have had Tax Liens  Delinquent Time  \n",
       "0                 1.0         0.666667  "
      ]
     },
     "execution_count": 1636,
     "metadata": {},
     "output_type": "execute_result"
    }
   ],
   "source": [
    "## min-max normalize \n",
    "cate = ['Home Ownership', 'Purpose']\n",
    "dummy_df_tmp = dummy_df.drop(columns = cate)\n",
    "dummy_numeric = dummy_df_tmp.select_dtypes('number')\n",
    "dummy_numeric_normalized = transformer.transform(dummy_numeric.values)\n",
    "dummy_df[dummy_numeric.columns] = dummy_numeric_normalized\n",
    "dummy_df"
   ]
  },
  {
   "cell_type": "code",
   "execution_count": 1637,
   "metadata": {},
   "outputs": [],
   "source": [
    "dummy_df.to_csv('./datasets/dummy.csv', index=False)"
   ]
  }
 ],
 "metadata": {
  "kernelspec": {
   "display_name": "Python 3",
   "language": "python",
   "name": "python3"
  },
  "language_info": {
   "codemirror_mode": {
    "name": "ipython",
    "version": 3
   },
   "file_extension": ".py",
   "mimetype": "text/x-python",
   "name": "python",
   "nbconvert_exporter": "python",
   "pygments_lexer": "ipython3",
   "version": "3.8.3"
  }
 },
 "nbformat": 4,
 "nbformat_minor": 4
}
