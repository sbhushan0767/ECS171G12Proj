{
 "cells": [
  {
   "cell_type": "code",
   "execution_count": null,
   "metadata": {
    "id": "t3pmYPgUzem4"
   },
   "outputs": [],
   "source": [
    "!pip install -U -q PyDrive\n",
    "\n",
    "from pydrive.auth import GoogleAuth\n",
    "from pydrive.drive import GoogleDrive\n",
    "from google.colab import auth\n",
    "from oauth2client.client import GoogleCredentials\n",
    "\n",
    "auth.authenticate_user()\n",
    "gauth = GoogleAuth()\n",
    "gauth.credentials = GoogleCredentials.get_application_default()\n",
    "drive = GoogleDrive(gauth)"
   ]
  },
  {
   "cell_type": "code",
   "execution_count": null,
   "metadata": {
    "id": "LiAwnmNO_S-3"
   },
   "outputs": [],
   "source": [
    "#https://drive.google.com/file/d/183B_W_R2qSnT_JjEUcI3Ny1vH36desCp/view?usp=sharing\n",
    "file1 = drive.CreateFile({'id':'183B_W_R2qSnT_JjEUcI3Ny1vH36desCp'}) # replace the id with id of file you want to access\n",
    "file1.GetContentFile('credit_train.csv')"
   ]
  },
  {
   "cell_type": "code",
   "execution_count": null,
   "metadata": {
    "id": "VCpin0DC_T1I"
   },
   "outputs": [],
   "source": [
    "#https://drive.google.com/file/d/1ceLPls-2L2RuPoAJXAwGgcqxufoHAs0t/view?usp=sharing\n",
    "file2 = drive.CreateFile({'id':'1ceLPls-2L2RuPoAJXAwGgcqxufoHAs0t'}) # replace the id with id of file you want to access\n",
    "file2.GetContentFile('credit_test.csv')"
   ]
  },
  {
   "cell_type": "markdown",
   "metadata": {
    "id": "7CikgYX_32Qd"
   },
   "source": [
    "Part1: Data Preprocessing"
   ]
  },
  {
   "cell_type": "code",
   "execution_count": 1,
   "metadata": {
    "id": "FSj_ALA0DWfm"
   },
   "outputs": [],
   "source": [
    "import pandas as pd\n",
    "import numpy as np"
   ]
  },
  {
   "cell_type": "code",
   "execution_count": 2,
   "metadata": {
    "id": "Vfm72dzQDG98"
   },
   "outputs": [],
   "source": [
    "df_train = pd.read_csv('credit_train.csv')"
   ]
  },
  {
   "cell_type": "code",
   "execution_count": 3,
   "metadata": {
    "id": "dkscLP51hdJl"
   },
   "outputs": [],
   "source": [
    "df_test = pd.read_csv('credit_test.csv')"
   ]
  },
  {
   "cell_type": "code",
   "execution_count": 4,
   "metadata": {
    "colab": {
     "base_uri": "https://localhost:8080/"
    },
    "id": "4PxeTTC0hlGs",
    "outputId": "beebe3e4-fb73-4e7c-853f-bc9e58267244"
   },
   "outputs": [
    {
     "name": "stdout",
     "output_type": "stream",
     "text": [
      "(100514, 19)\n",
      "(10353, 18)\n"
     ]
    }
   ],
   "source": [
    "print(df_train.shape)\n",
    "print(df_test.shape)"
   ]
  },
  {
   "cell_type": "code",
   "execution_count": 5,
   "metadata": {
    "id": "H5u5u6kahqzh"
   },
   "outputs": [
    {
     "name": "stderr",
     "output_type": "stream",
     "text": [
      "/Users/cookiepoon/anaconda3/lib/python3.7/site-packages/ipykernel_launcher.py:1: FutureWarning: Sorting because non-concatenation axis is not aligned. A future version\n",
      "of pandas will change to not sort by default.\n",
      "\n",
      "To accept the future behavior, pass 'sort=False'.\n",
      "\n",
      "To retain the current behavior and silence the warning, pass 'sort=True'.\n",
      "\n",
      "  \"\"\"Entry point for launching an IPython kernel.\n"
     ]
    }
   ],
   "source": [
    "df = pd.concat([df_train, df_test])"
   ]
  },
  {
   "cell_type": "code",
   "execution_count": 6,
   "metadata": {
    "colab": {
     "base_uri": "https://localhost:8080/"
    },
    "id": "5JdF0wtr6zxr",
    "outputId": "c7445e94-047f-4a3c-a5cf-0e19dbe17663"
   },
   "outputs": [
    {
     "data": {
      "text/plain": [
       "(110867, 19)"
      ]
     },
     "execution_count": 6,
     "metadata": {},
     "output_type": "execute_result"
    }
   ],
   "source": [
    "df.shape"
   ]
  },
  {
   "cell_type": "code",
   "execution_count": 7,
   "metadata": {
    "colab": {
     "base_uri": "https://localhost:8080/",
     "height": 530
    },
    "id": "WZ9-iqj_Dntz",
    "outputId": "92d5a664-c840-4a1d-bcf8-329485dacdca"
   },
   "outputs": [
    {
     "data": {
      "text/html": [
       "<div>\n",
       "<style scoped>\n",
       "    .dataframe tbody tr th:only-of-type {\n",
       "        vertical-align: middle;\n",
       "    }\n",
       "\n",
       "    .dataframe tbody tr th {\n",
       "        vertical-align: top;\n",
       "    }\n",
       "\n",
       "    .dataframe thead th {\n",
       "        text-align: right;\n",
       "    }\n",
       "</style>\n",
       "<table border=\"1\" class=\"dataframe\">\n",
       "  <thead>\n",
       "    <tr style=\"text-align: right;\">\n",
       "      <th></th>\n",
       "      <th>Annual Income</th>\n",
       "      <th>Bankruptcies</th>\n",
       "      <th>Credit Score</th>\n",
       "      <th>Current Credit Balance</th>\n",
       "      <th>Current Loan Amount</th>\n",
       "      <th>Customer ID</th>\n",
       "      <th>Home Ownership</th>\n",
       "      <th>Loan ID</th>\n",
       "      <th>Loan Status</th>\n",
       "      <th>Maximum Open Credit</th>\n",
       "      <th>Monthly Debt</th>\n",
       "      <th>Months since last delinquent</th>\n",
       "      <th>Number of Credit Problems</th>\n",
       "      <th>Number of Open Accounts</th>\n",
       "      <th>Purpose</th>\n",
       "      <th>Tax Liens</th>\n",
       "      <th>Term</th>\n",
       "      <th>Years in current job</th>\n",
       "      <th>Years of Credit History</th>\n",
       "    </tr>\n",
       "  </thead>\n",
       "  <tbody>\n",
       "    <tr>\n",
       "      <th>0</th>\n",
       "      <td>1167493.0</td>\n",
       "      <td>1.0</td>\n",
       "      <td>709.0</td>\n",
       "      <td>228190.0</td>\n",
       "      <td>445412.0</td>\n",
       "      <td>981165ec-3274-42f5-a3b4-d104041a9ca9</td>\n",
       "      <td>Home Mortgage</td>\n",
       "      <td>14dd8831-6af5-400b-83ec-68e61888a048</td>\n",
       "      <td>Fully Paid</td>\n",
       "      <td>416746.0</td>\n",
       "      <td>5214.74</td>\n",
       "      <td>NaN</td>\n",
       "      <td>1.0</td>\n",
       "      <td>6.0</td>\n",
       "      <td>Home Improvements</td>\n",
       "      <td>0.0</td>\n",
       "      <td>Short Term</td>\n",
       "      <td>8 years</td>\n",
       "      <td>17.2</td>\n",
       "    </tr>\n",
       "    <tr>\n",
       "      <th>1</th>\n",
       "      <td>NaN</td>\n",
       "      <td>0.0</td>\n",
       "      <td>NaN</td>\n",
       "      <td>229976.0</td>\n",
       "      <td>262328.0</td>\n",
       "      <td>2de017a3-2e01-49cb-a581-08169e83be29</td>\n",
       "      <td>Home Mortgage</td>\n",
       "      <td>4771cc26-131a-45db-b5aa-537ea4ba5342</td>\n",
       "      <td>Fully Paid</td>\n",
       "      <td>850784.0</td>\n",
       "      <td>33295.98</td>\n",
       "      <td>8.0</td>\n",
       "      <td>0.0</td>\n",
       "      <td>35.0</td>\n",
       "      <td>Debt Consolidation</td>\n",
       "      <td>0.0</td>\n",
       "      <td>Short Term</td>\n",
       "      <td>10+ years</td>\n",
       "      <td>21.1</td>\n",
       "    </tr>\n",
       "    <tr>\n",
       "      <th>2</th>\n",
       "      <td>2231892.0</td>\n",
       "      <td>0.0</td>\n",
       "      <td>741.0</td>\n",
       "      <td>297996.0</td>\n",
       "      <td>99999999.0</td>\n",
       "      <td>5efb2b2b-bf11-4dfd-a572-3761a2694725</td>\n",
       "      <td>Own Home</td>\n",
       "      <td>4eed4e6a-aa2f-4c91-8651-ce984ee8fb26</td>\n",
       "      <td>Fully Paid</td>\n",
       "      <td>750090.0</td>\n",
       "      <td>29200.53</td>\n",
       "      <td>29.0</td>\n",
       "      <td>1.0</td>\n",
       "      <td>18.0</td>\n",
       "      <td>Debt Consolidation</td>\n",
       "      <td>0.0</td>\n",
       "      <td>Short Term</td>\n",
       "      <td>8 years</td>\n",
       "      <td>14.9</td>\n",
       "    </tr>\n",
       "    <tr>\n",
       "      <th>3</th>\n",
       "      <td>806949.0</td>\n",
       "      <td>0.0</td>\n",
       "      <td>721.0</td>\n",
       "      <td>256329.0</td>\n",
       "      <td>347666.0</td>\n",
       "      <td>e777faab-98ae-45af-9a86-7ce5b33b1011</td>\n",
       "      <td>Own Home</td>\n",
       "      <td>77598f7b-32e7-4e3b-a6e5-06ba0d98fe8a</td>\n",
       "      <td>Fully Paid</td>\n",
       "      <td>386958.0</td>\n",
       "      <td>8741.90</td>\n",
       "      <td>NaN</td>\n",
       "      <td>0.0</td>\n",
       "      <td>9.0</td>\n",
       "      <td>Debt Consolidation</td>\n",
       "      <td>0.0</td>\n",
       "      <td>Long Term</td>\n",
       "      <td>3 years</td>\n",
       "      <td>12.0</td>\n",
       "    </tr>\n",
       "    <tr>\n",
       "      <th>4</th>\n",
       "      <td>NaN</td>\n",
       "      <td>0.0</td>\n",
       "      <td>NaN</td>\n",
       "      <td>253460.0</td>\n",
       "      <td>176220.0</td>\n",
       "      <td>81536ad9-5ccf-4eb8-befb-47a4d608658e</td>\n",
       "      <td>Rent</td>\n",
       "      <td>d4062e70-befa-4995-8643-a0de73938182</td>\n",
       "      <td>Fully Paid</td>\n",
       "      <td>427174.0</td>\n",
       "      <td>20639.70</td>\n",
       "      <td>NaN</td>\n",
       "      <td>0.0</td>\n",
       "      <td>15.0</td>\n",
       "      <td>Debt Consolidation</td>\n",
       "      <td>0.0</td>\n",
       "      <td>Short Term</td>\n",
       "      <td>5 years</td>\n",
       "      <td>6.1</td>\n",
       "    </tr>\n",
       "  </tbody>\n",
       "</table>\n",
       "</div>"
      ],
      "text/plain": [
       "   Annual Income  Bankruptcies  Credit Score  Current Credit Balance  \\\n",
       "0      1167493.0           1.0         709.0                228190.0   \n",
       "1            NaN           0.0           NaN                229976.0   \n",
       "2      2231892.0           0.0         741.0                297996.0   \n",
       "3       806949.0           0.0         721.0                256329.0   \n",
       "4            NaN           0.0           NaN                253460.0   \n",
       "\n",
       "   Current Loan Amount                           Customer ID Home Ownership  \\\n",
       "0             445412.0  981165ec-3274-42f5-a3b4-d104041a9ca9  Home Mortgage   \n",
       "1             262328.0  2de017a3-2e01-49cb-a581-08169e83be29  Home Mortgage   \n",
       "2           99999999.0  5efb2b2b-bf11-4dfd-a572-3761a2694725       Own Home   \n",
       "3             347666.0  e777faab-98ae-45af-9a86-7ce5b33b1011       Own Home   \n",
       "4             176220.0  81536ad9-5ccf-4eb8-befb-47a4d608658e           Rent   \n",
       "\n",
       "                                Loan ID Loan Status  Maximum Open Credit  \\\n",
       "0  14dd8831-6af5-400b-83ec-68e61888a048  Fully Paid             416746.0   \n",
       "1  4771cc26-131a-45db-b5aa-537ea4ba5342  Fully Paid             850784.0   \n",
       "2  4eed4e6a-aa2f-4c91-8651-ce984ee8fb26  Fully Paid             750090.0   \n",
       "3  77598f7b-32e7-4e3b-a6e5-06ba0d98fe8a  Fully Paid             386958.0   \n",
       "4  d4062e70-befa-4995-8643-a0de73938182  Fully Paid             427174.0   \n",
       "\n",
       "   Monthly Debt  Months since last delinquent  Number of Credit Problems  \\\n",
       "0       5214.74                           NaN                        1.0   \n",
       "1      33295.98                           8.0                        0.0   \n",
       "2      29200.53                          29.0                        1.0   \n",
       "3       8741.90                           NaN                        0.0   \n",
       "4      20639.70                           NaN                        0.0   \n",
       "\n",
       "   Number of Open Accounts             Purpose  Tax Liens        Term  \\\n",
       "0                      6.0   Home Improvements        0.0  Short Term   \n",
       "1                     35.0  Debt Consolidation        0.0  Short Term   \n",
       "2                     18.0  Debt Consolidation        0.0  Short Term   \n",
       "3                      9.0  Debt Consolidation        0.0   Long Term   \n",
       "4                     15.0  Debt Consolidation        0.0  Short Term   \n",
       "\n",
       "  Years in current job  Years of Credit History  \n",
       "0              8 years                     17.2  \n",
       "1            10+ years                     21.1  \n",
       "2              8 years                     14.9  \n",
       "3              3 years                     12.0  \n",
       "4              5 years                      6.1  "
      ]
     },
     "execution_count": 7,
     "metadata": {},
     "output_type": "execute_result"
    }
   ],
   "source": [
    "df.head()"
   ]
  },
  {
   "cell_type": "code",
   "execution_count": 8,
   "metadata": {
    "colab": {
     "base_uri": "https://localhost:8080/"
    },
    "id": "C0gdB0QTEbd_",
    "outputId": "1e0c24b1-9319-4005-8060-f44c19086be1"
   },
   "outputs": [
    {
     "name": "stdout",
     "output_type": "stream",
     "text": [
      "<class 'pandas.core.frame.DataFrame'>\n",
      "Int64Index: 110867 entries, 0 to 10352\n",
      "Data columns (total 19 columns):\n",
      "Annual Income                   88865 non-null float64\n",
      "Bankruptcies                    109774 non-null float64\n",
      "Credit Score                    88865 non-null float64\n",
      "Current Credit Balance          110000 non-null float64\n",
      "Current Loan Amount             110000 non-null float64\n",
      "Customer ID                     110000 non-null object\n",
      "Home Ownership                  110000 non-null object\n",
      "Loan ID                         110000 non-null object\n",
      "Loan Status                     100000 non-null object\n",
      "Maximum Open Credit             109998 non-null float64\n",
      "Monthly Debt                    110000 non-null float64\n",
      "Months since last delinquent    51553 non-null float64\n",
      "Number of Credit Problems       110000 non-null float64\n",
      "Number of Open Accounts         110000 non-null float64\n",
      "Purpose                         110000 non-null object\n",
      "Tax Liens                       109989 non-null float64\n",
      "Term                            110000 non-null object\n",
      "Years in current job            105351 non-null object\n",
      "Years of Credit History         110000 non-null float64\n",
      "dtypes: float64(12), object(7)\n",
      "memory usage: 16.9+ MB\n"
     ]
    }
   ],
   "source": [
    "df.info()\n",
    "#non numerica type columns: Loan_ID, Customer ID, Loan Status, Term, Years in Current job, Home Ownership, Purpose"
   ]
  },
  {
   "cell_type": "code",
   "execution_count": 9,
   "metadata": {
    "colab": {
     "base_uri": "https://localhost:8080/"
    },
    "id": "vXV1yirAJxA2",
    "outputId": "459f5f2e-0265-4490-d4db-865c7832ee5e"
   },
   "outputs": [
    {
     "data": {
      "text/plain": [
       "110867"
      ]
     },
     "execution_count": 9,
     "metadata": {},
     "output_type": "execute_result"
    }
   ],
   "source": [
    "len(df)"
   ]
  },
  {
   "cell_type": "code",
   "execution_count": 10,
   "metadata": {
    "colab": {
     "base_uri": "https://localhost:8080/"
    },
    "id": "KYmPrD7iJiWA",
    "outputId": "6b2517f7-0d40-4d7a-d9f6-621f46c5aacd"
   },
   "outputs": [
    {
     "data": {
      "text/plain": [
       "Annual Income                   22002\n",
       "Bankruptcies                     1093\n",
       "Credit Score                    22002\n",
       "Current Credit Balance            867\n",
       "Current Loan Amount               867\n",
       "Customer ID                       867\n",
       "Home Ownership                    867\n",
       "Loan ID                           867\n",
       "Loan Status                     10867\n",
       "Maximum Open Credit               869\n",
       "Monthly Debt                      867\n",
       "Months since last delinquent    59314\n",
       "Number of Credit Problems         867\n",
       "Number of Open Accounts           867\n",
       "Purpose                           867\n",
       "Tax Liens                         878\n",
       "Term                              867\n",
       "Years in current job             5516\n",
       "Years of Credit History           867\n",
       "dtype: int64"
      ]
     },
     "execution_count": 10,
     "metadata": {},
     "output_type": "execute_result"
    }
   ],
   "source": [
    "#check missing values \n",
    "df.isna().sum()"
   ]
  },
  {
   "cell_type": "code",
   "execution_count": 11,
   "metadata": {
    "colab": {
     "base_uri": "https://localhost:8080/"
    },
    "id": "LXRLlG2cKiUp",
    "outputId": "d8efb207-7a6b-446d-c72f-31192ef5d76b"
   },
   "outputs": [
    {
     "name": "stdout",
     "output_type": "stream",
     "text": [
      "0.5350013980715632\n"
     ]
    }
   ],
   "source": [
    "print(df['Months since last delinquent'].isna().sum()/len(df))"
   ]
  },
  {
   "cell_type": "code",
   "execution_count": 12,
   "metadata": {
    "colab": {
     "base_uri": "https://localhost:8080/"
    },
    "id": "DCalfdNkNDJ9",
    "outputId": "4e66e074-bf89-42a5-958e-ca95e8b650a3"
   },
   "outputs": [
    {
     "data": {
      "text/plain": [
       "pandas.core.series.Series"
      ]
     },
     "execution_count": 12,
     "metadata": {},
     "output_type": "execute_result"
    }
   ],
   "source": [
    "type(df['Months since last delinquent'])"
   ]
  },
  {
   "cell_type": "code",
   "execution_count": 13,
   "metadata": {
    "id": "WcvU4MejK4d-"
   },
   "outputs": [],
   "source": [
    "#Overall, we need to impute missing values for all the columns, since missing values for Months since last delinquent take up over 50% \n",
    "import numpy as np\n",
    "from sklearn.impute import SimpleImputer"
   ]
  },
  {
   "cell_type": "code",
   "execution_count": 14,
   "metadata": {
    "id": "dYGtzjLpdpdT"
   },
   "outputs": [],
   "source": [
    "#impute missing values for numerical data : mean\n",
    "# Select numeric columns.\n",
    "numeric = df.select_dtypes('number')\n",
    "# Select string and object columns.\n",
    "categoric = df.select_dtypes('object')\n",
    "\n",
    "# Fill numeric columns with mean.\n",
    "df[numeric.columns] = numeric.fillna(numeric.mean())\n",
    "# Fill object columns with mode.\n",
    "df[categoric.columns] = categoric.fillna(categoric.agg(lambda x: x.mode().values[0]))"
   ]
  },
  {
   "cell_type": "code",
   "execution_count": 15,
   "metadata": {
    "colab": {
     "base_uri": "https://localhost:8080/"
    },
    "id": "L9pEoI0HeZom",
    "outputId": "3745ca68-14c2-4ee7-df6b-d9106b85031f"
   },
   "outputs": [
    {
     "data": {
      "text/plain": [
       "Annual Income                   0\n",
       "Bankruptcies                    0\n",
       "Credit Score                    0\n",
       "Current Credit Balance          0\n",
       "Current Loan Amount             0\n",
       "Customer ID                     0\n",
       "Home Ownership                  0\n",
       "Loan ID                         0\n",
       "Loan Status                     0\n",
       "Maximum Open Credit             0\n",
       "Monthly Debt                    0\n",
       "Months since last delinquent    0\n",
       "Number of Credit Problems       0\n",
       "Number of Open Accounts         0\n",
       "Purpose                         0\n",
       "Tax Liens                       0\n",
       "Term                            0\n",
       "Years in current job            0\n",
       "Years of Credit History         0\n",
       "dtype: int64"
      ]
     },
     "execution_count": 15,
     "metadata": {},
     "output_type": "execute_result"
    }
   ],
   "source": [
    "#double check missing values\n",
    "df.isna().sum()"
   ]
  },
  {
   "cell_type": "code",
   "execution_count": 16,
   "metadata": {
    "colab": {
     "base_uri": "https://localhost:8080/"
    },
    "id": "Rsni11dReub8",
    "outputId": "86030d9a-5c65-44cb-c10d-e2765e5fa4ab"
   },
   "outputs": [
    {
     "data": {
      "text/plain": [
       "Annual Income                   37854\n",
       "Bankruptcies                        9\n",
       "Credit Score                      327\n",
       "Current Credit Balance          33642\n",
       "Current Loan Amount             22503\n",
       "Customer ID                     88354\n",
       "Home Ownership                      4\n",
       "Loan ID                         88354\n",
       "Loan Status                         2\n",
       "Maximum Open Credit             46469\n",
       "Monthly Debt                    69751\n",
       "Months since last delinquent      117\n",
       "Number of Credit Problems          15\n",
       "Number of Open Accounts            53\n",
       "Purpose                            16\n",
       "Tax Liens                          14\n",
       "Term                                2\n",
       "Years in current job               11\n",
       "Years of Credit History           508\n",
       "dtype: int64"
      ]
     },
     "execution_count": 16,
     "metadata": {},
     "output_type": "execute_result"
    }
   ],
   "source": [
    "#check unique values for each column\n",
    "df.nunique()\n",
    "#meaningful columns often have fewer number of unique colunmns\n",
    "#we need to conduct some transformation for those columns which are categorical "
   ]
  },
  {
   "cell_type": "code",
   "execution_count": 17,
   "metadata": {
    "colab": {
     "base_uri": "https://localhost:8080/"
    },
    "id": "FF6FCkP_fOuV",
    "outputId": "b3420136-e8a1-4f73-8d48-67abe91e1658"
   },
   "outputs": [
    {
     "data": {
      "text/plain": [
       "Customer ID             88354\n",
       "Home Ownership              4\n",
       "Loan ID                 88354\n",
       "Loan Status                 2\n",
       "Purpose                    16\n",
       "Term                        2\n",
       "Years in current job       11\n",
       "dtype: int64"
      ]
     },
     "execution_count": 17,
     "metadata": {},
     "output_type": "execute_result"
    }
   ],
   "source": [
    "df[categoric.columns].nunique()"
   ]
  },
  {
   "cell_type": "code",
   "execution_count": 18,
   "metadata": {
    "colab": {
     "base_uri": "https://localhost:8080/"
    },
    "id": "F_PDLuDofaiV",
    "outputId": "dce2bccc-a26f-4d21-9ed5-c9b7cc2d3df1"
   },
   "outputs": [
    {
     "data": {
      "text/plain": [
       "['Customer ID', 'Home Ownership', 'Loan ID', 'Loan Status', 'Purpose', 'Term']"
      ]
     },
     "execution_count": 18,
     "metadata": {},
     "output_type": "execute_result"
    }
   ],
   "source": [
    "#feature encoding for categorical varaibles\n",
    "#label encoding: convert each value in a column to a number \n",
    "#All the categorical variables except years in current job can be handled with label encoding \n",
    "#Years in current job are required to be transformed into numerical variables\n",
    "#Home ownership and purpose don't have seuqntial characteristic, not use label encoding\n",
    "#create initial categorical dataframe\n",
    "categoric_cols = list(categoric.columns)\n",
    "categoric_cols.remove('Years in current job')\n",
    "categoric_cols"
   ]
  },
  {
   "cell_type": "code",
   "execution_count": 19,
   "metadata": {
    "id": "QPvF6P2-k3L3"
   },
   "outputs": [],
   "source": [
    "#creatin instance of labelencoder\n",
    "from sklearn.preprocessing import LabelEncoder\n",
    "le = LabelEncoder()\n",
    "df[categoric_cols] = df[categoric_cols].apply(le.fit_transform)"
   ]
  },
  {
   "cell_type": "code",
   "execution_count": 20,
   "metadata": {
    "colab": {
     "base_uri": "https://localhost:8080/",
     "height": 292
    },
    "id": "5m7gZZGpsmTd",
    "outputId": "dc33c62a-e2e6-4e30-8b49-ba053ff5cc8c"
   },
   "outputs": [
    {
     "data": {
      "text/html": [
       "<div>\n",
       "<style scoped>\n",
       "    .dataframe tbody tr th:only-of-type {\n",
       "        vertical-align: middle;\n",
       "    }\n",
       "\n",
       "    .dataframe tbody tr th {\n",
       "        vertical-align: top;\n",
       "    }\n",
       "\n",
       "    .dataframe thead th {\n",
       "        text-align: right;\n",
       "    }\n",
       "</style>\n",
       "<table border=\"1\" class=\"dataframe\">\n",
       "  <thead>\n",
       "    <tr style=\"text-align: right;\">\n",
       "      <th></th>\n",
       "      <th>Annual Income</th>\n",
       "      <th>Bankruptcies</th>\n",
       "      <th>Credit Score</th>\n",
       "      <th>Current Credit Balance</th>\n",
       "      <th>Current Loan Amount</th>\n",
       "      <th>Customer ID</th>\n",
       "      <th>Home Ownership</th>\n",
       "      <th>Loan ID</th>\n",
       "      <th>Loan Status</th>\n",
       "      <th>Maximum Open Credit</th>\n",
       "      <th>Monthly Debt</th>\n",
       "      <th>Months since last delinquent</th>\n",
       "      <th>Number of Credit Problems</th>\n",
       "      <th>Number of Open Accounts</th>\n",
       "      <th>Purpose</th>\n",
       "      <th>Tax Liens</th>\n",
       "      <th>Term</th>\n",
       "      <th>Years in current job</th>\n",
       "      <th>Years of Credit History</th>\n",
       "    </tr>\n",
       "  </thead>\n",
       "  <tbody>\n",
       "    <tr>\n",
       "      <th>0</th>\n",
       "      <td>1.167493e+06</td>\n",
       "      <td>1.0</td>\n",
       "      <td>709.000000</td>\n",
       "      <td>228190.0</td>\n",
       "      <td>445412.0</td>\n",
       "      <td>52478</td>\n",
       "      <td>1</td>\n",
       "      <td>7224</td>\n",
       "      <td>1</td>\n",
       "      <td>416746.0</td>\n",
       "      <td>5214.74</td>\n",
       "      <td>34.907086</td>\n",
       "      <td>1.0</td>\n",
       "      <td>6.0</td>\n",
       "      <td>5</td>\n",
       "      <td>0.0</td>\n",
       "      <td>1</td>\n",
       "      <td>8 years</td>\n",
       "      <td>17.2</td>\n",
       "    </tr>\n",
       "    <tr>\n",
       "      <th>1</th>\n",
       "      <td>1.377449e+06</td>\n",
       "      <td>0.0</td>\n",
       "      <td>1076.594644</td>\n",
       "      <td>229976.0</td>\n",
       "      <td>262328.0</td>\n",
       "      <td>15821</td>\n",
       "      <td>1</td>\n",
       "      <td>24818</td>\n",
       "      <td>1</td>\n",
       "      <td>850784.0</td>\n",
       "      <td>33295.98</td>\n",
       "      <td>8.000000</td>\n",
       "      <td>0.0</td>\n",
       "      <td>35.0</td>\n",
       "      <td>3</td>\n",
       "      <td>0.0</td>\n",
       "      <td>1</td>\n",
       "      <td>10+ years</td>\n",
       "      <td>21.1</td>\n",
       "    </tr>\n",
       "    <tr>\n",
       "      <th>2</th>\n",
       "      <td>2.231892e+06</td>\n",
       "      <td>0.0</td>\n",
       "      <td>741.000000</td>\n",
       "      <td>297996.0</td>\n",
       "      <td>99999999.0</td>\n",
       "      <td>32811</td>\n",
       "      <td>2</td>\n",
       "      <td>27403</td>\n",
       "      <td>1</td>\n",
       "      <td>750090.0</td>\n",
       "      <td>29200.53</td>\n",
       "      <td>29.000000</td>\n",
       "      <td>1.0</td>\n",
       "      <td>18.0</td>\n",
       "      <td>3</td>\n",
       "      <td>0.0</td>\n",
       "      <td>1</td>\n",
       "      <td>8 years</td>\n",
       "      <td>14.9</td>\n",
       "    </tr>\n",
       "    <tr>\n",
       "      <th>3</th>\n",
       "      <td>8.069490e+05</td>\n",
       "      <td>0.0</td>\n",
       "      <td>721.000000</td>\n",
       "      <td>256329.0</td>\n",
       "      <td>347666.0</td>\n",
       "      <td>79892</td>\n",
       "      <td>2</td>\n",
       "      <td>41293</td>\n",
       "      <td>1</td>\n",
       "      <td>386958.0</td>\n",
       "      <td>8741.90</td>\n",
       "      <td>34.907086</td>\n",
       "      <td>0.0</td>\n",
       "      <td>9.0</td>\n",
       "      <td>3</td>\n",
       "      <td>0.0</td>\n",
       "      <td>0</td>\n",
       "      <td>3 years</td>\n",
       "      <td>12.0</td>\n",
       "    </tr>\n",
       "    <tr>\n",
       "      <th>4</th>\n",
       "      <td>1.377449e+06</td>\n",
       "      <td>0.0</td>\n",
       "      <td>1076.594644</td>\n",
       "      <td>253460.0</td>\n",
       "      <td>176220.0</td>\n",
       "      <td>44636</td>\n",
       "      <td>3</td>\n",
       "      <td>73291</td>\n",
       "      <td>1</td>\n",
       "      <td>427174.0</td>\n",
       "      <td>20639.70</td>\n",
       "      <td>34.907086</td>\n",
       "      <td>0.0</td>\n",
       "      <td>15.0</td>\n",
       "      <td>3</td>\n",
       "      <td>0.0</td>\n",
       "      <td>1</td>\n",
       "      <td>5 years</td>\n",
       "      <td>6.1</td>\n",
       "    </tr>\n",
       "  </tbody>\n",
       "</table>\n",
       "</div>"
      ],
      "text/plain": [
       "   Annual Income  Bankruptcies  Credit Score  Current Credit Balance  \\\n",
       "0   1.167493e+06           1.0    709.000000                228190.0   \n",
       "1   1.377449e+06           0.0   1076.594644                229976.0   \n",
       "2   2.231892e+06           0.0    741.000000                297996.0   \n",
       "3   8.069490e+05           0.0    721.000000                256329.0   \n",
       "4   1.377449e+06           0.0   1076.594644                253460.0   \n",
       "\n",
       "   Current Loan Amount  Customer ID  Home Ownership  Loan ID  Loan Status  \\\n",
       "0             445412.0        52478               1     7224            1   \n",
       "1             262328.0        15821               1    24818            1   \n",
       "2           99999999.0        32811               2    27403            1   \n",
       "3             347666.0        79892               2    41293            1   \n",
       "4             176220.0        44636               3    73291            1   \n",
       "\n",
       "   Maximum Open Credit  Monthly Debt  Months since last delinquent  \\\n",
       "0             416746.0       5214.74                     34.907086   \n",
       "1             850784.0      33295.98                      8.000000   \n",
       "2             750090.0      29200.53                     29.000000   \n",
       "3             386958.0       8741.90                     34.907086   \n",
       "4             427174.0      20639.70                     34.907086   \n",
       "\n",
       "   Number of Credit Problems  Number of Open Accounts  Purpose  Tax Liens  \\\n",
       "0                        1.0                      6.0        5        0.0   \n",
       "1                        0.0                     35.0        3        0.0   \n",
       "2                        1.0                     18.0        3        0.0   \n",
       "3                        0.0                      9.0        3        0.0   \n",
       "4                        0.0                     15.0        3        0.0   \n",
       "\n",
       "   Term Years in current job  Years of Credit History  \n",
       "0     1              8 years                     17.2  \n",
       "1     1            10+ years                     21.1  \n",
       "2     1              8 years                     14.9  \n",
       "3     0              3 years                     12.0  \n",
       "4     1              5 years                      6.1  "
      ]
     },
     "execution_count": 20,
     "metadata": {},
     "output_type": "execute_result"
    }
   ],
   "source": [
    "df.head()"
   ]
  },
  {
   "cell_type": "code",
   "execution_count": 21,
   "metadata": {
    "id": "NExC4YxHqTwk"
   },
   "outputs": [],
   "source": [
    "#convert 'years in current job' to numerical type\n",
    "## Not sure how to convert 10+ years and less than 1 year to numeric type\n",
    "## So I used 0 for less than 1 year, and 10 for 10+ years\n",
    "label = \"Years in current job\"\n",
    "df[label] = df[label].replace({'< 1 year':0, '1 year': 1, '2 years': 2,\n",
    "                                          '3 years':3, '4 years':4, '5 years':5, \n",
    "                                          '6 years':6, '7 years':7, '8 years':8, \n",
    "                                          '9 years': 9, '10+ years': 10})"
   ]
  },
  {
   "cell_type": "code",
   "execution_count": 22,
   "metadata": {
    "colab": {
     "base_uri": "https://localhost:8080/",
     "height": 275
    },
    "id": "9oyrkdOysxvi",
    "outputId": "9b97f526-a42c-4590-ac74-2cf3a129fad3"
   },
   "outputs": [
    {
     "data": {
      "text/html": [
       "<div>\n",
       "<style scoped>\n",
       "    .dataframe tbody tr th:only-of-type {\n",
       "        vertical-align: middle;\n",
       "    }\n",
       "\n",
       "    .dataframe tbody tr th {\n",
       "        vertical-align: top;\n",
       "    }\n",
       "\n",
       "    .dataframe thead th {\n",
       "        text-align: right;\n",
       "    }\n",
       "</style>\n",
       "<table border=\"1\" class=\"dataframe\">\n",
       "  <thead>\n",
       "    <tr style=\"text-align: right;\">\n",
       "      <th></th>\n",
       "      <th>Annual Income</th>\n",
       "      <th>Bankruptcies</th>\n",
       "      <th>Credit Score</th>\n",
       "      <th>Current Credit Balance</th>\n",
       "      <th>Current Loan Amount</th>\n",
       "      <th>Customer ID</th>\n",
       "      <th>Home Ownership</th>\n",
       "      <th>Loan ID</th>\n",
       "      <th>Loan Status</th>\n",
       "      <th>Maximum Open Credit</th>\n",
       "      <th>Monthly Debt</th>\n",
       "      <th>Months since last delinquent</th>\n",
       "      <th>Number of Credit Problems</th>\n",
       "      <th>Number of Open Accounts</th>\n",
       "      <th>Purpose</th>\n",
       "      <th>Tax Liens</th>\n",
       "      <th>Term</th>\n",
       "      <th>Years in current job</th>\n",
       "      <th>Years of Credit History</th>\n",
       "    </tr>\n",
       "  </thead>\n",
       "  <tbody>\n",
       "    <tr>\n",
       "      <th>0</th>\n",
       "      <td>1.167493e+06</td>\n",
       "      <td>1.0</td>\n",
       "      <td>709.000000</td>\n",
       "      <td>228190.0</td>\n",
       "      <td>445412.0</td>\n",
       "      <td>52478</td>\n",
       "      <td>1</td>\n",
       "      <td>7224</td>\n",
       "      <td>1</td>\n",
       "      <td>416746.0</td>\n",
       "      <td>5214.74</td>\n",
       "      <td>34.907086</td>\n",
       "      <td>1.0</td>\n",
       "      <td>6.0</td>\n",
       "      <td>5</td>\n",
       "      <td>0.0</td>\n",
       "      <td>1</td>\n",
       "      <td>8</td>\n",
       "      <td>17.2</td>\n",
       "    </tr>\n",
       "    <tr>\n",
       "      <th>1</th>\n",
       "      <td>1.377449e+06</td>\n",
       "      <td>0.0</td>\n",
       "      <td>1076.594644</td>\n",
       "      <td>229976.0</td>\n",
       "      <td>262328.0</td>\n",
       "      <td>15821</td>\n",
       "      <td>1</td>\n",
       "      <td>24818</td>\n",
       "      <td>1</td>\n",
       "      <td>850784.0</td>\n",
       "      <td>33295.98</td>\n",
       "      <td>8.000000</td>\n",
       "      <td>0.0</td>\n",
       "      <td>35.0</td>\n",
       "      <td>3</td>\n",
       "      <td>0.0</td>\n",
       "      <td>1</td>\n",
       "      <td>10</td>\n",
       "      <td>21.1</td>\n",
       "    </tr>\n",
       "    <tr>\n",
       "      <th>2</th>\n",
       "      <td>2.231892e+06</td>\n",
       "      <td>0.0</td>\n",
       "      <td>741.000000</td>\n",
       "      <td>297996.0</td>\n",
       "      <td>99999999.0</td>\n",
       "      <td>32811</td>\n",
       "      <td>2</td>\n",
       "      <td>27403</td>\n",
       "      <td>1</td>\n",
       "      <td>750090.0</td>\n",
       "      <td>29200.53</td>\n",
       "      <td>29.000000</td>\n",
       "      <td>1.0</td>\n",
       "      <td>18.0</td>\n",
       "      <td>3</td>\n",
       "      <td>0.0</td>\n",
       "      <td>1</td>\n",
       "      <td>8</td>\n",
       "      <td>14.9</td>\n",
       "    </tr>\n",
       "    <tr>\n",
       "      <th>3</th>\n",
       "      <td>8.069490e+05</td>\n",
       "      <td>0.0</td>\n",
       "      <td>721.000000</td>\n",
       "      <td>256329.0</td>\n",
       "      <td>347666.0</td>\n",
       "      <td>79892</td>\n",
       "      <td>2</td>\n",
       "      <td>41293</td>\n",
       "      <td>1</td>\n",
       "      <td>386958.0</td>\n",
       "      <td>8741.90</td>\n",
       "      <td>34.907086</td>\n",
       "      <td>0.0</td>\n",
       "      <td>9.0</td>\n",
       "      <td>3</td>\n",
       "      <td>0.0</td>\n",
       "      <td>0</td>\n",
       "      <td>3</td>\n",
       "      <td>12.0</td>\n",
       "    </tr>\n",
       "    <tr>\n",
       "      <th>4</th>\n",
       "      <td>1.377449e+06</td>\n",
       "      <td>0.0</td>\n",
       "      <td>1076.594644</td>\n",
       "      <td>253460.0</td>\n",
       "      <td>176220.0</td>\n",
       "      <td>44636</td>\n",
       "      <td>3</td>\n",
       "      <td>73291</td>\n",
       "      <td>1</td>\n",
       "      <td>427174.0</td>\n",
       "      <td>20639.70</td>\n",
       "      <td>34.907086</td>\n",
       "      <td>0.0</td>\n",
       "      <td>15.0</td>\n",
       "      <td>3</td>\n",
       "      <td>0.0</td>\n",
       "      <td>1</td>\n",
       "      <td>5</td>\n",
       "      <td>6.1</td>\n",
       "    </tr>\n",
       "  </tbody>\n",
       "</table>\n",
       "</div>"
      ],
      "text/plain": [
       "   Annual Income  Bankruptcies  Credit Score  Current Credit Balance  \\\n",
       "0   1.167493e+06           1.0    709.000000                228190.0   \n",
       "1   1.377449e+06           0.0   1076.594644                229976.0   \n",
       "2   2.231892e+06           0.0    741.000000                297996.0   \n",
       "3   8.069490e+05           0.0    721.000000                256329.0   \n",
       "4   1.377449e+06           0.0   1076.594644                253460.0   \n",
       "\n",
       "   Current Loan Amount  Customer ID  Home Ownership  Loan ID  Loan Status  \\\n",
       "0             445412.0        52478               1     7224            1   \n",
       "1             262328.0        15821               1    24818            1   \n",
       "2           99999999.0        32811               2    27403            1   \n",
       "3             347666.0        79892               2    41293            1   \n",
       "4             176220.0        44636               3    73291            1   \n",
       "\n",
       "   Maximum Open Credit  Monthly Debt  Months since last delinquent  \\\n",
       "0             416746.0       5214.74                     34.907086   \n",
       "1             850784.0      33295.98                      8.000000   \n",
       "2             750090.0      29200.53                     29.000000   \n",
       "3             386958.0       8741.90                     34.907086   \n",
       "4             427174.0      20639.70                     34.907086   \n",
       "\n",
       "   Number of Credit Problems  Number of Open Accounts  Purpose  Tax Liens  \\\n",
       "0                        1.0                      6.0        5        0.0   \n",
       "1                        0.0                     35.0        3        0.0   \n",
       "2                        1.0                     18.0        3        0.0   \n",
       "3                        0.0                      9.0        3        0.0   \n",
       "4                        0.0                     15.0        3        0.0   \n",
       "\n",
       "   Term  Years in current job  Years of Credit History  \n",
       "0     1                     8                     17.2  \n",
       "1     1                    10                     21.1  \n",
       "2     1                     8                     14.9  \n",
       "3     0                     3                     12.0  \n",
       "4     1                     5                      6.1  "
      ]
     },
     "execution_count": 22,
     "metadata": {},
     "output_type": "execute_result"
    }
   ],
   "source": [
    "df.head()"
   ]
  },
  {
   "cell_type": "code",
   "execution_count": 23,
   "metadata": {
    "id": "kODPJG2fs1o8"
   },
   "outputs": [],
   "source": [
    "#check distribution of data distribution\n",
    "import scipy.stats as st\n",
    "def get_best_distribution(data):\n",
    "    dist_names = [\"norm\", \"exponweib\", \"weibull_max\", \"weibull_min\", \"pareto\", \"genextreme\"]\n",
    "    dist_results = []\n",
    "    params = {}\n",
    "    for dist_name in dist_names:\n",
    "        dist = getattr(st, dist_name)\n",
    "        param = dist.fit(data)\n",
    "\n",
    "        params[dist_name] = param\n",
    "        # Applying the Kolmogorov-Smirnov test\n",
    "        D, p = st.kstest(data, dist_name, args=param)\n",
    "        print(\"p value for \"+dist_name+\" = \"+str(p))\n",
    "        dist_results.append((dist_name, p))\n",
    "\n",
    "    # select the best fitted distribution\n",
    "    best_dist, best_p = (max(dist_results, key=lambda item: item[1]))\n",
    "    # store the name of the best fit and its p value\n",
    "\n",
    "    print(\"Best fitting distribution: \"+str(best_dist))\n",
    "    print(\"Best p value: \"+ str(best_p))\n",
    "    print(\"Parameters for the best fit: \"+ str(params[best_dist]))\n",
    "\n",
    "    return best_dist, best_p, params[best_dist]"
   ]
  },
  {
   "cell_type": "code",
   "execution_count": null,
   "metadata": {
    "colab": {
     "base_uri": "https://localhost:8080/"
    },
    "id": "EHiGhiLhtCI3",
    "outputId": "90774cd7-bda3-4d11-b8de-40844da34194"
   },
   "outputs": [],
   "source": [
    "get_best_distribution(df['Current Loan Amount'])\n",
    "#all p-values smaller than 0.05, not normally distributed"
   ]
  },
  {
   "cell_type": "code",
   "execution_count": null,
   "metadata": {
    "colab": {
     "base_uri": "https://localhost:8080/",
     "height": 344
    },
    "id": "Pn-H6uqRuuZB",
    "outputId": "659449b6-ff7d-440b-bd67-b407c089385b"
   },
   "outputs": [],
   "source": [
    "#use qq plot to show some distributions of variables\n",
    "import statsmodels.api as sm\n",
    "from scipy.stats import norm\n",
    "import pylab\n",
    "current_credit = df['Current Credit Balance']\n",
    "sm.qqplot(current_credit, line='45')\n",
    "pylab.show()\n",
    "# our QQ plot shows that current loan amount has too many values at the lower end "
   ]
  },
  {
   "cell_type": "code",
   "execution_count": null,
   "metadata": {
    "colab": {
     "base_uri": "https://localhost:8080/",
     "height": 290
    },
    "id": "890ElyPQwqJ4",
    "outputId": "6cd234cc-64af-4ff4-f528-ca9c0ae43695"
   },
   "outputs": [],
   "source": [
    "import statsmodels.api as sm\n",
    "from scipy.stats import norm\n",
    "import pylab\n",
    "current_loan = df['Current Loan Amount']\n",
    "sm.qqplot(current_loan, line='45')\n",
    "pylab.show()\n",
    "#there are also too many lower end values for current loan amount "
   ]
  },
  {
   "cell_type": "code",
   "execution_count": 24,
   "metadata": {
    "colab": {
     "base_uri": "https://localhost:8080/"
    },
    "id": "HyjVOtL8kYu1",
    "outputId": "2e30337e-6f7d-4357-8db6-3e9ff1626ee2"
   },
   "outputs": [
    {
     "data": {
      "text/plain": [
       "Annual Income                   0\n",
       "Bankruptcies                    0\n",
       "Credit Score                    0\n",
       "Current Credit Balance          0\n",
       "Current Loan Amount             0\n",
       "Maximum Open Credit             0\n",
       "Monthly Debt                    0\n",
       "Months since last delinquent    0\n",
       "Number of Credit Problems       0\n",
       "Number of Open Accounts         0\n",
       "Tax Liens                       0\n",
       "Years of Credit History         0\n",
       "dtype: int64"
      ]
     },
     "execution_count": 24,
     "metadata": {},
     "output_type": "execute_result"
    }
   ],
   "source": [
    "df[numeric.columns].isna().sum()"
   ]
  },
  {
   "cell_type": "code",
   "execution_count": 25,
   "metadata": {
    "id": "ByPia737nBrC"
   },
   "outputs": [],
   "source": [
    "#conduct normalization since our dataset is not normally distributed based on our observations\n",
    "# normalization (x-x_min)/(x_max-x_min) \n",
    "#advantge of normalization: \n",
    "#1. improve training process\n",
    "#2. all data are within the same scale\n",
    "#3. logistic regression, SVM requires normalization\n",
    "from sklearn import preprocessing\n",
    "# normalize the continuous variable\n",
    "numeric_vals = numeric.values#numpy array\n",
    "transformer = preprocessing.MinMaxScaler()\n",
    "numeric_normalized = transformer.fit_transform(numeric_vals)\n",
    "numeric_names = list(numeric.columns)\n",
    "df[numeric_names] = numeric_normalized"
   ]
  },
  {
   "cell_type": "code",
   "execution_count": 26,
   "metadata": {
    "colab": {
     "base_uri": "https://localhost:8080/",
     "height": 275
    },
    "id": "lmlwP542mMq2",
    "outputId": "9830f83c-5168-4879-bf7a-d7761897fbf4"
   },
   "outputs": [
    {
     "data": {
      "text/html": [
       "<div>\n",
       "<style scoped>\n",
       "    .dataframe tbody tr th:only-of-type {\n",
       "        vertical-align: middle;\n",
       "    }\n",
       "\n",
       "    .dataframe tbody tr th {\n",
       "        vertical-align: top;\n",
       "    }\n",
       "\n",
       "    .dataframe thead th {\n",
       "        text-align: right;\n",
       "    }\n",
       "</style>\n",
       "<table border=\"1\" class=\"dataframe\">\n",
       "  <thead>\n",
       "    <tr style=\"text-align: right;\">\n",
       "      <th></th>\n",
       "      <th>Annual Income</th>\n",
       "      <th>Bankruptcies</th>\n",
       "      <th>Credit Score</th>\n",
       "      <th>Current Credit Balance</th>\n",
       "      <th>Current Loan Amount</th>\n",
       "      <th>Customer ID</th>\n",
       "      <th>Home Ownership</th>\n",
       "      <th>Loan ID</th>\n",
       "      <th>Loan Status</th>\n",
       "      <th>Maximum Open Credit</th>\n",
       "      <th>Monthly Debt</th>\n",
       "      <th>Months since last delinquent</th>\n",
       "      <th>Number of Credit Problems</th>\n",
       "      <th>Number of Open Accounts</th>\n",
       "      <th>Purpose</th>\n",
       "      <th>Tax Liens</th>\n",
       "      <th>Term</th>\n",
       "      <th>Years in current job</th>\n",
       "      <th>Years of Credit History</th>\n",
       "    </tr>\n",
       "  </thead>\n",
       "  <tbody>\n",
       "    <tr>\n",
       "      <th>0</th>\n",
       "      <td>0.006592</td>\n",
       "      <td>0.142857</td>\n",
       "      <td>0.017906</td>\n",
       "      <td>0.006940</td>\n",
       "      <td>0.004347</td>\n",
       "      <td>52478</td>\n",
       "      <td>1</td>\n",
       "      <td>7224</td>\n",
       "      <td>1</td>\n",
       "      <td>0.000271</td>\n",
       "      <td>0.011965</td>\n",
       "      <td>NaN</td>\n",
       "      <td>0.066667</td>\n",
       "      <td>0.078947</td>\n",
       "      <td>5</td>\n",
       "      <td>0.0</td>\n",
       "      <td>1</td>\n",
       "      <td>8</td>\n",
       "      <td>0.203288</td>\n",
       "    </tr>\n",
       "    <tr>\n",
       "      <th>1</th>\n",
       "      <td>NaN</td>\n",
       "      <td>0.000000</td>\n",
       "      <td>NaN</td>\n",
       "      <td>0.006995</td>\n",
       "      <td>0.002516</td>\n",
       "      <td>15821</td>\n",
       "      <td>1</td>\n",
       "      <td>24818</td>\n",
       "      <td>1</td>\n",
       "      <td>0.000553</td>\n",
       "      <td>0.076394</td>\n",
       "      <td>0.045455</td>\n",
       "      <td>0.000000</td>\n",
       "      <td>0.460526</td>\n",
       "      <td>3</td>\n",
       "      <td>0.0</td>\n",
       "      <td>1</td>\n",
       "      <td>10</td>\n",
       "      <td>0.261584</td>\n",
       "    </tr>\n",
       "    <tr>\n",
       "      <th>2</th>\n",
       "      <td>0.013024</td>\n",
       "      <td>0.000000</td>\n",
       "      <td>0.022527</td>\n",
       "      <td>0.009063</td>\n",
       "      <td>1.000000</td>\n",
       "      <td>32811</td>\n",
       "      <td>2</td>\n",
       "      <td>27403</td>\n",
       "      <td>1</td>\n",
       "      <td>0.000487</td>\n",
       "      <td>0.066998</td>\n",
       "      <td>0.164773</td>\n",
       "      <td>0.066667</td>\n",
       "      <td>0.236842</td>\n",
       "      <td>3</td>\n",
       "      <td>0.0</td>\n",
       "      <td>1</td>\n",
       "      <td>8</td>\n",
       "      <td>0.168909</td>\n",
       "    </tr>\n",
       "    <tr>\n",
       "      <th>3</th>\n",
       "      <td>0.004413</td>\n",
       "      <td>0.000000</td>\n",
       "      <td>0.019639</td>\n",
       "      <td>0.007796</td>\n",
       "      <td>0.003369</td>\n",
       "      <td>79892</td>\n",
       "      <td>2</td>\n",
       "      <td>41293</td>\n",
       "      <td>1</td>\n",
       "      <td>0.000251</td>\n",
       "      <td>0.020057</td>\n",
       "      <td>NaN</td>\n",
       "      <td>0.000000</td>\n",
       "      <td>0.118421</td>\n",
       "      <td>3</td>\n",
       "      <td>0.0</td>\n",
       "      <td>0</td>\n",
       "      <td>3</td>\n",
       "      <td>0.125561</td>\n",
       "    </tr>\n",
       "    <tr>\n",
       "      <th>4</th>\n",
       "      <td>NaN</td>\n",
       "      <td>0.000000</td>\n",
       "      <td>NaN</td>\n",
       "      <td>0.007709</td>\n",
       "      <td>0.001654</td>\n",
       "      <td>44636</td>\n",
       "      <td>3</td>\n",
       "      <td>73291</td>\n",
       "      <td>1</td>\n",
       "      <td>0.000277</td>\n",
       "      <td>0.047356</td>\n",
       "      <td>NaN</td>\n",
       "      <td>0.000000</td>\n",
       "      <td>0.197368</td>\n",
       "      <td>3</td>\n",
       "      <td>0.0</td>\n",
       "      <td>1</td>\n",
       "      <td>5</td>\n",
       "      <td>0.037369</td>\n",
       "    </tr>\n",
       "  </tbody>\n",
       "</table>\n",
       "</div>"
      ],
      "text/plain": [
       "   Annual Income  Bankruptcies  Credit Score  Current Credit Balance  \\\n",
       "0       0.006592      0.142857      0.017906                0.006940   \n",
       "1            NaN      0.000000           NaN                0.006995   \n",
       "2       0.013024      0.000000      0.022527                0.009063   \n",
       "3       0.004413      0.000000      0.019639                0.007796   \n",
       "4            NaN      0.000000           NaN                0.007709   \n",
       "\n",
       "   Current Loan Amount  Customer ID  Home Ownership  Loan ID  Loan Status  \\\n",
       "0             0.004347        52478               1     7224            1   \n",
       "1             0.002516        15821               1    24818            1   \n",
       "2             1.000000        32811               2    27403            1   \n",
       "3             0.003369        79892               2    41293            1   \n",
       "4             0.001654        44636               3    73291            1   \n",
       "\n",
       "   Maximum Open Credit  Monthly Debt  Months since last delinquent  \\\n",
       "0             0.000271      0.011965                           NaN   \n",
       "1             0.000553      0.076394                      0.045455   \n",
       "2             0.000487      0.066998                      0.164773   \n",
       "3             0.000251      0.020057                           NaN   \n",
       "4             0.000277      0.047356                           NaN   \n",
       "\n",
       "   Number of Credit Problems  Number of Open Accounts  Purpose  Tax Liens  \\\n",
       "0                   0.066667                 0.078947        5        0.0   \n",
       "1                   0.000000                 0.460526        3        0.0   \n",
       "2                   0.066667                 0.236842        3        0.0   \n",
       "3                   0.000000                 0.118421        3        0.0   \n",
       "4                   0.000000                 0.197368        3        0.0   \n",
       "\n",
       "   Term  Years in current job  Years of Credit History  \n",
       "0     1                     8                 0.203288  \n",
       "1     1                    10                 0.261584  \n",
       "2     1                     8                 0.168909  \n",
       "3     0                     3                 0.125561  \n",
       "4     1                     5                 0.037369  "
      ]
     },
     "execution_count": 26,
     "metadata": {},
     "output_type": "execute_result"
    }
   ],
   "source": [
    "df.head()"
   ]
  },
  {
   "cell_type": "markdown",
   "metadata": {
    "id": "z1ANsls9kZNC"
   },
   "source": [
    "Part3: Training and Testing data split"
   ]
  },
  {
   "cell_type": "code",
   "execution_count": 27,
   "metadata": {
    "colab": {
     "base_uri": "https://localhost:8080/"
    },
    "id": "JxPOv0Ls4l1G",
    "outputId": "ecfb6c7a-3e96-4531-c8c9-876f5063f392"
   },
   "outputs": [
    {
     "data": {
      "text/plain": [
       "Annual Income                    True\n",
       "Bankruptcies                     True\n",
       "Credit Score                     True\n",
       "Current Credit Balance           True\n",
       "Current Loan Amount              True\n",
       "Customer ID                     False\n",
       "Home Ownership                  False\n",
       "Loan ID                         False\n",
       "Loan Status                     False\n",
       "Maximum Open Credit              True\n",
       "Monthly Debt                     True\n",
       "Months since last delinquent     True\n",
       "Number of Credit Problems        True\n",
       "Number of Open Accounts          True\n",
       "Purpose                         False\n",
       "Tax Liens                        True\n",
       "Term                            False\n",
       "Years in current job            False\n",
       "Years of Credit History          True\n",
       "dtype: bool"
      ]
     },
     "execution_count": 27,
     "metadata": {},
     "output_type": "execute_result"
    }
   ],
   "source": [
    "np.isnan(df).any()\n",
    "#check if there are any missing values exists after normaliztion"
   ]
  },
  {
   "cell_type": "code",
   "execution_count": 28,
   "metadata": {
    "colab": {
     "base_uri": "https://localhost:8080/"
    },
    "id": "tVh00Wyn4nzz",
    "outputId": "9b68d7de-5be3-4867-cb1e-ccae68959efd"
   },
   "outputs": [
    {
     "name": "stdout",
     "output_type": "stream",
     "text": [
      "<class 'pandas.core.frame.DataFrame'>\n",
      "Int64Index: 110867 entries, 0 to 10352\n",
      "Data columns (total 19 columns):\n",
      "Annual Income                   88865 non-null float64\n",
      "Bankruptcies                    109774 non-null float64\n",
      "Credit Score                    88865 non-null float64\n",
      "Current Credit Balance          110000 non-null float64\n",
      "Current Loan Amount             110000 non-null float64\n",
      "Customer ID                     110867 non-null int64\n",
      "Home Ownership                  110867 non-null int64\n",
      "Loan ID                         110867 non-null int64\n",
      "Loan Status                     110867 non-null int64\n",
      "Maximum Open Credit             109998 non-null float64\n",
      "Monthly Debt                    110000 non-null float64\n",
      "Months since last delinquent    51553 non-null float64\n",
      "Number of Credit Problems       110000 non-null float64\n",
      "Number of Open Accounts         110000 non-null float64\n",
      "Purpose                         110867 non-null int64\n",
      "Tax Liens                       109989 non-null float64\n",
      "Term                            110867 non-null int64\n",
      "Years in current job            110867 non-null int64\n",
      "Years of Credit History         110000 non-null float64\n",
      "dtypes: float64(12), int64(7)\n",
      "memory usage: 16.9 MB\n"
     ]
    }
   ],
   "source": [
    "#fill in missing values after normalization\n",
    "df.info()"
   ]
  },
  {
   "cell_type": "code",
   "execution_count": 29,
   "metadata": {
    "id": "HHDKS5Vo45Ap"
   },
   "outputs": [],
   "source": [
    "#all columns are numeric now, fill them with mean\n",
    "df = df.fillna(numeric.mean())"
   ]
  },
  {
   "cell_type": "code",
   "execution_count": 30,
   "metadata": {
    "colab": {
     "base_uri": "https://localhost:8080/"
    },
    "id": "uh0HNGGO5Hjn",
    "outputId": "c0eec96c-7c15-42df-9795-b0c6e634eb71"
   },
   "outputs": [
    {
     "data": {
      "text/plain": [
       "Annual Income                   0\n",
       "Bankruptcies                    0\n",
       "Credit Score                    0\n",
       "Current Credit Balance          0\n",
       "Current Loan Amount             0\n",
       "Customer ID                     0\n",
       "Home Ownership                  0\n",
       "Loan ID                         0\n",
       "Loan Status                     0\n",
       "Maximum Open Credit             0\n",
       "Monthly Debt                    0\n",
       "Months since last delinquent    0\n",
       "Number of Credit Problems       0\n",
       "Number of Open Accounts         0\n",
       "Purpose                         0\n",
       "Tax Liens                       0\n",
       "Term                            0\n",
       "Years in current job            0\n",
       "Years of Credit History         0\n",
       "dtype: int64"
      ]
     },
     "execution_count": 30,
     "metadata": {},
     "output_type": "execute_result"
    }
   ],
   "source": [
    "df.isna().sum()"
   ]
  },
  {
   "cell_type": "code",
   "execution_count": 31,
   "metadata": {
    "id": "ymisfV3cmHcf"
   },
   "outputs": [],
   "source": [
    "to_drop = [\"Credit Score\"]\n",
    "X = df.drop(to_drop, axis = 1)\n",
    "y = df[\"Credit Score\"]"
   ]
  },
  {
   "cell_type": "code",
   "execution_count": 32,
   "metadata": {
    "colab": {
     "base_uri": "https://localhost:8080/"
    },
    "id": "GYIoemWRkaRY",
    "outputId": "80406c1b-b512-4d10-e9cb-b58da2dc5cc9"
   },
   "outputs": [
    {
     "name": "stdout",
     "output_type": "stream",
     "text": [
      "training data has 83150 observation with 18 features\n",
      "test data has 27717 observation with 18 features\n"
     ]
    }
   ],
   "source": [
    "from sklearn.model_selection import train_test_split\n",
    "X_train, X_test, y_train, y_test = train_test_split(X, y, test_size=0.25, random_state=1)\n",
    "print('training data has ' + str(X_train.shape[0]) + ' observation with ' + str(X_train.shape[1]) + ' features')\n",
    "print('test data has ' + str(X_test.shape[0]) + ' observation with ' + str(X_test.shape[1]) + ' features')"
   ]
  },
  {
   "cell_type": "markdown",
   "metadata": {
    "id": "seKtX6Qg3s6b"
   },
   "source": [
    "Part2: Check features correlation"
   ]
  },
  {
   "cell_type": "code",
   "execution_count": 33,
   "metadata": {
    "id": "YJ_Ha_NN3y30"
   },
   "outputs": [],
   "source": [
    "df_corr = df.drop(columns = ['Loan ID', 'Customer ID'])"
   ]
  },
  {
   "cell_type": "code",
   "execution_count": null,
   "metadata": {
    "colab": {
     "base_uri": "https://localhost:8080/",
     "height": 764
    },
    "id": "8Z3kJSEE4ARn",
    "outputId": "4665c529-b7a4-4344-91b0-11c65e77233c"
   },
   "outputs": [],
   "source": [
    "## Bankruptcies and Number of credit problems have relatively strong positive correlation\n",
    "## Number of credit problems and Tax lien have relatively strong postiive correlation\n",
    "from matplotlib import pyplot as plt\n",
    "import seaborn as sns\n",
    "fig, ax = plt.subplots(figsize=(15,15))\n",
    "sns.heatmap(df_corr.corr(), annot = True,linewidths=.8, ax=ax)"
   ]
  },
  {
   "cell_type": "markdown",
   "metadata": {
    "id": "HQvND5qwZQRH"
   },
   "source": [
    "Part3:Model training and testing"
   ]
  },
  {
   "cell_type": "markdown",
   "metadata": {},
   "source": [
    "Random Forest"
   ]
  },
  {
   "cell_type": "code",
   "execution_count": 37,
   "metadata": {},
   "outputs": [],
   "source": [
    "# plot the hyper-parameter tuning\n",
    "def class_plot(grid, grid_param, title):\n",
    "    scores = [x for x in grid.cv_results_['mean_test_score']]\n",
    "    m_depth = grid_param['max_depth']\n",
    "    n_est = grid_param['n_estimators']\n",
    "    #given a new shape of max_depth array into length of n estimators array without changing the data\n",
    "    scores = np.array(scores).reshape(len(m_depth), len(n_est))\n",
    "    fig = plt.figure()\n",
    "    ax = plt.subplot(111)\n",
    "    for ind, i in enumerate(m_depth):\n",
    "        plt.plot(n_est, scores[ind], '-o', label='Max depth' + str(i),)\n",
    "    ax.legend(loc='lower right') #, bbox_to_anchor=(1, 0.5))\n",
    "    plt.xlabel('n estimator')\n",
    "    plt.ylabel('Mean score')\n",
    "    plt.title(title)\n",
    "    plt.show()\n",
    "    \n",
    "\n",
    "# get the raw features importance (aggregate all dummies)\n",
    "def raw_feature_importance(importance_dataframe, num_pos, cate_list):\n",
    "    # numercial feature importance\n",
    "    num_importance = importance_dataframe.head(num_pos) \n",
    "    num_importance.reset_index(drop = True, inplace = True)\n",
    "\n",
    "    cate_dict ={}\n",
    "    for i in cate_list:\n",
    "        summ = 0\n",
    "        for (idx, row) in importance_dataframe.iterrows():\n",
    "            if i in row.loc['Feature']:\n",
    "                summ += row.loc['Importance']\n",
    "        cate_dict[i] = summ \n",
    "    \n",
    "    cate_importance = pd.DataFrame.from_dict(cate_dict, orient='index')\n",
    "    cate_importance.rename(columns={0: 'Importance'}, inplace=True)\n",
    "    cate_importance.reset_index(inplace = True)\n",
    "    cate_importance.rename(index=str, columns={\"index\": \"Feature\"}, inplace = True)\n",
    "\n",
    "    raw_feature_importances = pd.concat([num_importance, cate_importance])\n",
    "    raw_feature_importances.sort_values(by=['Importance'], inplace = True, ascending=False)\n",
    "    return raw_feature_importances\n",
    "\n",
    "# feature importance\n",
    "def plot_feature_importance(rank_importance,left_limit, color, alpha, size_L, size_H, title):\n",
    "    fig, ax = plt.subplots(1,1) \n",
    "    ax.bar(range(len(rank_importance['Feature'][0:left_limit])),rank_importance[0:left_limit]['Importance'],color=color,alpha=alpha)\n",
    "    ax.set_xticks(range(rank_importance[0:left_limit].shape[0]))\n",
    "    ax.set_xticklabels(rank_importance[0:left_limit]['Feature'], rotation='vertical', fontsize=12)    \n",
    "    ax.set_xlabel('Features', fontsize = 16)\n",
    "    ax.set_ylabel('Feature importance', fontsize = 16)\n",
    "    ax.set_title(title, fontsize = 16)\n",
    "    fig.set_size_inches(size_L, size_H)\n",
    "    plt.show()"
   ]
  },
  {
   "cell_type": "code",
   "execution_count": 38,
   "metadata": {},
   "outputs": [
    {
     "name": "stderr",
     "output_type": "stream",
     "text": [
      "[Parallel(n_jobs=6)]: Using backend LokyBackend with 6 concurrent workers.\n",
      "[Parallel(n_jobs=6)]: Done   5 out of   5 | elapsed:    5.3s finished\n",
      "[Parallel(n_jobs=5)]: Using backend ThreadingBackend with 5 concurrent workers.\n",
      "[Parallel(n_jobs=5)]: Done   2 out of   5 | elapsed:    0.0s remaining:    0.0s\n",
      "[Parallel(n_jobs=5)]: Done   5 out of   5 | elapsed:    0.0s finished\n",
      "[Parallel(n_jobs=6)]: Using backend LokyBackend with 6 concurrent workers.\n",
      "[Parallel(n_jobs=6)]: Done   5 out of   5 | elapsed:    2.5s finished\n",
      "[Parallel(n_jobs=5)]: Using backend ThreadingBackend with 5 concurrent workers.\n",
      "[Parallel(n_jobs=5)]: Done   2 out of   5 | elapsed:    0.0s remaining:    0.0s\n",
      "[Parallel(n_jobs=5)]: Done   5 out of   5 | elapsed:    0.0s finished\n",
      "[Parallel(n_jobs=6)]: Using backend LokyBackend with 6 concurrent workers.\n",
      "[Parallel(n_jobs=6)]: Done   5 out of   5 | elapsed:    1.6s finished\n",
      "[Parallel(n_jobs=5)]: Using backend ThreadingBackend with 5 concurrent workers.\n",
      "[Parallel(n_jobs=5)]: Done   2 out of   5 | elapsed:    0.0s remaining:    0.0s\n",
      "[Parallel(n_jobs=5)]: Done   5 out of   5 | elapsed:    0.0s finished\n",
      "[Parallel(n_jobs=6)]: Using backend LokyBackend with 6 concurrent workers.\n",
      "[Parallel(n_jobs=6)]: Done  10 out of  10 | elapsed:    3.1s remaining:    0.0s\n",
      "[Parallel(n_jobs=6)]: Done  10 out of  10 | elapsed:    3.1s finished\n",
      "[Parallel(n_jobs=6)]: Using backend ThreadingBackend with 6 concurrent workers.\n",
      "[Parallel(n_jobs=6)]: Done  10 out of  10 | elapsed:    0.0s remaining:    0.0s\n",
      "[Parallel(n_jobs=6)]: Done  10 out of  10 | elapsed:    0.0s finished\n",
      "[Parallel(n_jobs=6)]: Using backend LokyBackend with 6 concurrent workers.\n",
      "[Parallel(n_jobs=6)]: Done  10 out of  10 | elapsed:    3.3s remaining:    0.0s\n",
      "[Parallel(n_jobs=6)]: Done  10 out of  10 | elapsed:    3.3s finished\n",
      "[Parallel(n_jobs=6)]: Using backend ThreadingBackend with 6 concurrent workers.\n",
      "[Parallel(n_jobs=6)]: Done  10 out of  10 | elapsed:    0.0s remaining:    0.0s\n",
      "[Parallel(n_jobs=6)]: Done  10 out of  10 | elapsed:    0.0s finished\n",
      "[Parallel(n_jobs=6)]: Using backend LokyBackend with 6 concurrent workers.\n",
      "[Parallel(n_jobs=6)]: Done  10 out of  10 | elapsed:    3.1s remaining:    0.0s\n",
      "[Parallel(n_jobs=6)]: Done  10 out of  10 | elapsed:    3.1s finished\n",
      "[Parallel(n_jobs=6)]: Using backend ThreadingBackend with 6 concurrent workers.\n",
      "[Parallel(n_jobs=6)]: Done  10 out of  10 | elapsed:    0.0s remaining:    0.0s\n",
      "[Parallel(n_jobs=6)]: Done  10 out of  10 | elapsed:    0.0s finished\n",
      "[Parallel(n_jobs=6)]: Using backend LokyBackend with 6 concurrent workers.\n",
      "[Parallel(n_jobs=6)]: Done  15 out of  15 | elapsed:    4.7s finished\n",
      "[Parallel(n_jobs=6)]: Using backend ThreadingBackend with 6 concurrent workers.\n",
      "[Parallel(n_jobs=6)]: Done  15 out of  15 | elapsed:    0.0s finished\n",
      "[Parallel(n_jobs=6)]: Using backend LokyBackend with 6 concurrent workers.\n",
      "[Parallel(n_jobs=6)]: Done  15 out of  15 | elapsed:    4.7s finished\n",
      "[Parallel(n_jobs=6)]: Using backend ThreadingBackend with 6 concurrent workers.\n",
      "[Parallel(n_jobs=6)]: Done  15 out of  15 | elapsed:    0.1s finished\n",
      "[Parallel(n_jobs=6)]: Using backend LokyBackend with 6 concurrent workers.\n",
      "[Parallel(n_jobs=6)]: Done  15 out of  15 | elapsed:    4.7s finished\n",
      "[Parallel(n_jobs=6)]: Using backend ThreadingBackend with 6 concurrent workers.\n",
      "[Parallel(n_jobs=6)]: Done  15 out of  15 | elapsed:    0.1s finished\n",
      "[Parallel(n_jobs=6)]: Using backend LokyBackend with 6 concurrent workers.\n",
      "[Parallel(n_jobs=6)]: Done   2 out of   2 | elapsed:    0.9s finished\n",
      "[Parallel(n_jobs=2)]: Using backend ThreadingBackend with 2 concurrent workers.\n",
      "[Parallel(n_jobs=2)]: Done   2 out of   2 | elapsed:    0.0s remaining:    0.0s\n",
      "[Parallel(n_jobs=2)]: Done   2 out of   2 | elapsed:    0.0s finished\n",
      "[Parallel(n_jobs=6)]: Using backend LokyBackend with 6 concurrent workers.\n",
      "[Parallel(n_jobs=6)]: Done   2 out of   2 | elapsed:    0.8s finished\n",
      "[Parallel(n_jobs=2)]: Using backend ThreadingBackend with 2 concurrent workers.\n",
      "[Parallel(n_jobs=2)]: Done   2 out of   2 | elapsed:    0.0s remaining:    0.0s\n",
      "[Parallel(n_jobs=2)]: Done   2 out of   2 | elapsed:    0.0s finished\n",
      "[Parallel(n_jobs=6)]: Using backend LokyBackend with 6 concurrent workers.\n",
      "[Parallel(n_jobs=6)]: Done   2 out of   2 | elapsed:    0.8s finished\n",
      "[Parallel(n_jobs=2)]: Using backend ThreadingBackend with 2 concurrent workers.\n",
      "[Parallel(n_jobs=2)]: Done   2 out of   2 | elapsed:    0.0s remaining:    0.0s\n",
      "[Parallel(n_jobs=2)]: Done   2 out of   2 | elapsed:    0.0s finished\n",
      "[Parallel(n_jobs=6)]: Using backend LokyBackend with 6 concurrent workers.\n",
      "[Parallel(n_jobs=6)]: Done   5 out of   5 | elapsed:    1.7s finished\n",
      "[Parallel(n_jobs=5)]: Using backend ThreadingBackend with 5 concurrent workers.\n",
      "[Parallel(n_jobs=5)]: Done   2 out of   5 | elapsed:    0.0s remaining:    0.0s\n",
      "[Parallel(n_jobs=5)]: Done   5 out of   5 | elapsed:    0.0s finished\n",
      "[Parallel(n_jobs=6)]: Using backend LokyBackend with 6 concurrent workers.\n",
      "[Parallel(n_jobs=6)]: Done   5 out of   5 | elapsed:    1.8s finished\n",
      "[Parallel(n_jobs=5)]: Using backend ThreadingBackend with 5 concurrent workers.\n",
      "[Parallel(n_jobs=5)]: Done   2 out of   5 | elapsed:    0.0s remaining:    0.0s\n",
      "[Parallel(n_jobs=5)]: Done   5 out of   5 | elapsed:    0.0s finished\n",
      "[Parallel(n_jobs=6)]: Using backend LokyBackend with 6 concurrent workers.\n",
      "[Parallel(n_jobs=6)]: Done   5 out of   5 | elapsed:    1.6s finished\n",
      "[Parallel(n_jobs=5)]: Using backend ThreadingBackend with 5 concurrent workers.\n",
      "[Parallel(n_jobs=5)]: Done   2 out of   5 | elapsed:    0.0s remaining:    0.0s\n",
      "[Parallel(n_jobs=5)]: Done   5 out of   5 | elapsed:    0.0s finished\n",
      "[Parallel(n_jobs=6)]: Using backend LokyBackend with 6 concurrent workers.\n",
      "[Parallel(n_jobs=6)]: Done  10 out of  10 | elapsed:    3.4s remaining:    0.0s\n",
      "[Parallel(n_jobs=6)]: Done  10 out of  10 | elapsed:    3.4s finished\n",
      "[Parallel(n_jobs=6)]: Using backend ThreadingBackend with 6 concurrent workers.\n",
      "[Parallel(n_jobs=6)]: Done  10 out of  10 | elapsed:    0.0s remaining:    0.0s\n",
      "[Parallel(n_jobs=6)]: Done  10 out of  10 | elapsed:    0.0s finished\n",
      "[Parallel(n_jobs=6)]: Using backend LokyBackend with 6 concurrent workers.\n",
      "[Parallel(n_jobs=6)]: Done  10 out of  10 | elapsed:    3.2s remaining:    0.0s\n",
      "[Parallel(n_jobs=6)]: Done  10 out of  10 | elapsed:    3.2s finished\n",
      "[Parallel(n_jobs=6)]: Using backend ThreadingBackend with 6 concurrent workers.\n",
      "[Parallel(n_jobs=6)]: Done  10 out of  10 | elapsed:    0.0s remaining:    0.0s\n",
      "[Parallel(n_jobs=6)]: Done  10 out of  10 | elapsed:    0.0s finished\n",
      "[Parallel(n_jobs=6)]: Using backend LokyBackend with 6 concurrent workers.\n",
      "[Parallel(n_jobs=6)]: Done  10 out of  10 | elapsed:    3.1s remaining:    0.0s\n",
      "[Parallel(n_jobs=6)]: Done  10 out of  10 | elapsed:    3.1s finished\n",
      "[Parallel(n_jobs=6)]: Using backend ThreadingBackend with 6 concurrent workers.\n",
      "[Parallel(n_jobs=6)]: Done  10 out of  10 | elapsed:    0.1s remaining:    0.0s\n",
      "[Parallel(n_jobs=6)]: Done  10 out of  10 | elapsed:    0.1s finished\n",
      "[Parallel(n_jobs=6)]: Using backend LokyBackend with 6 concurrent workers.\n",
      "[Parallel(n_jobs=6)]: Done  15 out of  15 | elapsed:    5.2s finished\n",
      "[Parallel(n_jobs=6)]: Using backend ThreadingBackend with 6 concurrent workers.\n",
      "[Parallel(n_jobs=6)]: Done  15 out of  15 | elapsed:    0.1s finished\n",
      "[Parallel(n_jobs=6)]: Using backend LokyBackend with 6 concurrent workers.\n",
      "[Parallel(n_jobs=6)]: Done  15 out of  15 | elapsed:    5.2s finished\n",
      "[Parallel(n_jobs=6)]: Using backend ThreadingBackend with 6 concurrent workers.\n",
      "[Parallel(n_jobs=6)]: Done  15 out of  15 | elapsed:    0.1s finished\n",
      "[Parallel(n_jobs=6)]: Using backend LokyBackend with 6 concurrent workers.\n",
      "[Parallel(n_jobs=6)]: Done  15 out of  15 | elapsed:    4.7s finished\n",
      "[Parallel(n_jobs=6)]: Using backend ThreadingBackend with 6 concurrent workers.\n",
      "[Parallel(n_jobs=6)]: Done  15 out of  15 | elapsed:    0.1s finished\n",
      "[Parallel(n_jobs=6)]: Using backend LokyBackend with 6 concurrent workers.\n",
      "[Parallel(n_jobs=6)]: Done   2 out of   2 | elapsed:    0.8s finished\n",
      "[Parallel(n_jobs=2)]: Using backend ThreadingBackend with 2 concurrent workers.\n",
      "[Parallel(n_jobs=2)]: Done   2 out of   2 | elapsed:    0.0s remaining:    0.0s\n",
      "[Parallel(n_jobs=2)]: Done   2 out of   2 | elapsed:    0.0s finished\n"
     ]
    },
    {
     "name": "stderr",
     "output_type": "stream",
     "text": [
      "[Parallel(n_jobs=6)]: Using backend LokyBackend with 6 concurrent workers.\n",
      "[Parallel(n_jobs=6)]: Done   2 out of   2 | elapsed:    0.8s finished\n",
      "[Parallel(n_jobs=2)]: Using backend ThreadingBackend with 2 concurrent workers.\n",
      "[Parallel(n_jobs=2)]: Done   2 out of   2 | elapsed:    0.0s remaining:    0.0s\n",
      "[Parallel(n_jobs=2)]: Done   2 out of   2 | elapsed:    0.0s finished\n",
      "[Parallel(n_jobs=6)]: Using backend LokyBackend with 6 concurrent workers.\n",
      "[Parallel(n_jobs=6)]: Done   2 out of   2 | elapsed:    0.8s finished\n",
      "[Parallel(n_jobs=2)]: Using backend ThreadingBackend with 2 concurrent workers.\n",
      "[Parallel(n_jobs=2)]: Done   2 out of   2 | elapsed:    0.0s remaining:    0.0s\n",
      "[Parallel(n_jobs=2)]: Done   2 out of   2 | elapsed:    0.0s finished\n",
      "[Parallel(n_jobs=6)]: Using backend LokyBackend with 6 concurrent workers.\n",
      "[Parallel(n_jobs=6)]: Done   5 out of   5 | elapsed:    1.6s finished\n",
      "[Parallel(n_jobs=5)]: Using backend ThreadingBackend with 5 concurrent workers.\n",
      "[Parallel(n_jobs=5)]: Done   2 out of   5 | elapsed:    0.0s remaining:    0.0s\n",
      "[Parallel(n_jobs=5)]: Done   5 out of   5 | elapsed:    0.0s finished\n",
      "[Parallel(n_jobs=6)]: Using backend LokyBackend with 6 concurrent workers.\n",
      "[Parallel(n_jobs=6)]: Done   5 out of   5 | elapsed:    1.7s finished\n",
      "[Parallel(n_jobs=5)]: Using backend ThreadingBackend with 5 concurrent workers.\n",
      "[Parallel(n_jobs=5)]: Done   2 out of   5 | elapsed:    0.0s remaining:    0.0s\n",
      "[Parallel(n_jobs=5)]: Done   5 out of   5 | elapsed:    0.0s finished\n",
      "[Parallel(n_jobs=6)]: Using backend LokyBackend with 6 concurrent workers.\n",
      "[Parallel(n_jobs=6)]: Done   5 out of   5 | elapsed:    1.7s finished\n",
      "[Parallel(n_jobs=5)]: Using backend ThreadingBackend with 5 concurrent workers.\n",
      "[Parallel(n_jobs=5)]: Done   2 out of   5 | elapsed:    0.0s remaining:    0.0s\n",
      "[Parallel(n_jobs=5)]: Done   5 out of   5 | elapsed:    0.0s finished\n",
      "[Parallel(n_jobs=6)]: Using backend LokyBackend with 6 concurrent workers.\n",
      "[Parallel(n_jobs=6)]: Done  10 out of  10 | elapsed:    3.5s remaining:    0.0s\n",
      "[Parallel(n_jobs=6)]: Done  10 out of  10 | elapsed:    3.5s finished\n",
      "[Parallel(n_jobs=6)]: Using backend ThreadingBackend with 6 concurrent workers.\n",
      "[Parallel(n_jobs=6)]: Done  10 out of  10 | elapsed:    0.0s remaining:    0.0s\n",
      "[Parallel(n_jobs=6)]: Done  10 out of  10 | elapsed:    0.0s finished\n",
      "[Parallel(n_jobs=6)]: Using backend LokyBackend with 6 concurrent workers.\n",
      "[Parallel(n_jobs=6)]: Done  10 out of  10 | elapsed:    3.8s remaining:    0.0s\n",
      "[Parallel(n_jobs=6)]: Done  10 out of  10 | elapsed:    3.8s finished\n",
      "[Parallel(n_jobs=6)]: Using backend ThreadingBackend with 6 concurrent workers.\n",
      "[Parallel(n_jobs=6)]: Done  10 out of  10 | elapsed:    0.0s remaining:    0.0s\n",
      "[Parallel(n_jobs=6)]: Done  10 out of  10 | elapsed:    0.0s finished\n",
      "[Parallel(n_jobs=6)]: Using backend LokyBackend with 6 concurrent workers.\n",
      "[Parallel(n_jobs=6)]: Done  10 out of  10 | elapsed:    3.1s remaining:    0.0s\n",
      "[Parallel(n_jobs=6)]: Done  10 out of  10 | elapsed:    3.1s finished\n",
      "[Parallel(n_jobs=6)]: Using backend ThreadingBackend with 6 concurrent workers.\n",
      "[Parallel(n_jobs=6)]: Done  10 out of  10 | elapsed:    0.0s remaining:    0.0s\n",
      "[Parallel(n_jobs=6)]: Done  10 out of  10 | elapsed:    0.0s finished\n",
      "[Parallel(n_jobs=6)]: Using backend LokyBackend with 6 concurrent workers.\n",
      "[Parallel(n_jobs=6)]: Done  15 out of  15 | elapsed:    5.0s finished\n",
      "[Parallel(n_jobs=6)]: Using backend ThreadingBackend with 6 concurrent workers.\n",
      "[Parallel(n_jobs=6)]: Done  15 out of  15 | elapsed:    0.1s finished\n",
      "[Parallel(n_jobs=6)]: Using backend LokyBackend with 6 concurrent workers.\n",
      "[Parallel(n_jobs=6)]: Done  15 out of  15 | elapsed:    5.1s finished\n",
      "[Parallel(n_jobs=6)]: Using backend ThreadingBackend with 6 concurrent workers.\n",
      "[Parallel(n_jobs=6)]: Done  15 out of  15 | elapsed:    0.1s finished\n",
      "[Parallel(n_jobs=6)]: Using backend LokyBackend with 6 concurrent workers.\n",
      "[Parallel(n_jobs=6)]: Done  15 out of  15 | elapsed:    4.8s finished\n",
      "[Parallel(n_jobs=6)]: Using backend ThreadingBackend with 6 concurrent workers.\n",
      "[Parallel(n_jobs=6)]: Done  15 out of  15 | elapsed:    0.1s finished\n",
      "[Parallel(n_jobs=6)]: Using backend LokyBackend with 6 concurrent workers.\n",
      "[Parallel(n_jobs=6)]: Done   2 out of   2 | elapsed:    0.8s finished\n",
      "[Parallel(n_jobs=2)]: Using backend ThreadingBackend with 2 concurrent workers.\n",
      "[Parallel(n_jobs=2)]: Done   2 out of   2 | elapsed:    0.0s remaining:    0.0s\n",
      "[Parallel(n_jobs=2)]: Done   2 out of   2 | elapsed:    0.0s finished\n",
      "[Parallel(n_jobs=6)]: Using backend LokyBackend with 6 concurrent workers.\n",
      "[Parallel(n_jobs=6)]: Done   2 out of   2 | elapsed:    0.9s finished\n",
      "[Parallel(n_jobs=2)]: Using backend ThreadingBackend with 2 concurrent workers.\n",
      "[Parallel(n_jobs=2)]: Done   2 out of   2 | elapsed:    0.0s remaining:    0.0s\n",
      "[Parallel(n_jobs=2)]: Done   2 out of   2 | elapsed:    0.0s finished\n",
      "[Parallel(n_jobs=6)]: Using backend LokyBackend with 6 concurrent workers.\n",
      "[Parallel(n_jobs=6)]: Done   2 out of   2 | elapsed:    0.8s finished\n",
      "[Parallel(n_jobs=2)]: Using backend ThreadingBackend with 2 concurrent workers.\n",
      "[Parallel(n_jobs=2)]: Done   2 out of   2 | elapsed:    0.0s remaining:    0.0s\n",
      "[Parallel(n_jobs=2)]: Done   2 out of   2 | elapsed:    0.0s finished\n",
      "[Parallel(n_jobs=6)]: Using backend LokyBackend with 6 concurrent workers.\n",
      "[Parallel(n_jobs=6)]: Done   5 out of   5 | elapsed:    1.6s finished\n",
      "[Parallel(n_jobs=5)]: Using backend ThreadingBackend with 5 concurrent workers.\n",
      "[Parallel(n_jobs=5)]: Done   2 out of   5 | elapsed:    0.0s remaining:    0.0s\n",
      "[Parallel(n_jobs=5)]: Done   5 out of   5 | elapsed:    0.0s finished\n",
      "[Parallel(n_jobs=6)]: Using backend LokyBackend with 6 concurrent workers.\n",
      "[Parallel(n_jobs=6)]: Done   5 out of   5 | elapsed:    1.7s finished\n",
      "[Parallel(n_jobs=5)]: Using backend ThreadingBackend with 5 concurrent workers.\n",
      "[Parallel(n_jobs=5)]: Done   2 out of   5 | elapsed:    0.0s remaining:    0.0s\n",
      "[Parallel(n_jobs=5)]: Done   5 out of   5 | elapsed:    0.0s finished\n",
      "[Parallel(n_jobs=6)]: Using backend LokyBackend with 6 concurrent workers.\n",
      "[Parallel(n_jobs=6)]: Done   5 out of   5 | elapsed:    1.6s finished\n",
      "[Parallel(n_jobs=5)]: Using backend ThreadingBackend with 5 concurrent workers.\n",
      "[Parallel(n_jobs=5)]: Done   2 out of   5 | elapsed:    0.0s remaining:    0.0s\n",
      "[Parallel(n_jobs=5)]: Done   5 out of   5 | elapsed:    0.0s finished\n",
      "[Parallel(n_jobs=6)]: Using backend LokyBackend with 6 concurrent workers.\n",
      "[Parallel(n_jobs=6)]: Done  10 out of  10 | elapsed:    3.3s remaining:    0.0s\n",
      "[Parallel(n_jobs=6)]: Done  10 out of  10 | elapsed:    3.3s finished\n",
      "[Parallel(n_jobs=6)]: Using backend ThreadingBackend with 6 concurrent workers.\n",
      "[Parallel(n_jobs=6)]: Done  10 out of  10 | elapsed:    0.0s remaining:    0.0s\n",
      "[Parallel(n_jobs=6)]: Done  10 out of  10 | elapsed:    0.0s finished\n",
      "[Parallel(n_jobs=6)]: Using backend LokyBackend with 6 concurrent workers.\n",
      "[Parallel(n_jobs=6)]: Done  10 out of  10 | elapsed:    3.5s remaining:    0.0s\n",
      "[Parallel(n_jobs=6)]: Done  10 out of  10 | elapsed:    3.5s finished\n",
      "[Parallel(n_jobs=6)]: Using backend ThreadingBackend with 6 concurrent workers.\n",
      "[Parallel(n_jobs=6)]: Done  10 out of  10 | elapsed:    0.0s remaining:    0.0s\n",
      "[Parallel(n_jobs=6)]: Done  10 out of  10 | elapsed:    0.0s finished\n",
      "[Parallel(n_jobs=6)]: Using backend LokyBackend with 6 concurrent workers.\n",
      "[Parallel(n_jobs=6)]: Done  10 out of  10 | elapsed:    3.1s remaining:    0.0s\n",
      "[Parallel(n_jobs=6)]: Done  10 out of  10 | elapsed:    3.1s finished\n",
      "[Parallel(n_jobs=6)]: Using backend ThreadingBackend with 6 concurrent workers.\n",
      "[Parallel(n_jobs=6)]: Done  10 out of  10 | elapsed:    0.0s remaining:    0.0s\n",
      "[Parallel(n_jobs=6)]: Done  10 out of  10 | elapsed:    0.0s finished\n",
      "[Parallel(n_jobs=6)]: Using backend LokyBackend with 6 concurrent workers.\n",
      "[Parallel(n_jobs=6)]: Done  15 out of  15 | elapsed:    5.0s finished\n",
      "[Parallel(n_jobs=6)]: Using backend ThreadingBackend with 6 concurrent workers.\n",
      "[Parallel(n_jobs=6)]: Done  15 out of  15 | elapsed:    0.1s finished\n",
      "[Parallel(n_jobs=6)]: Using backend LokyBackend with 6 concurrent workers.\n",
      "[Parallel(n_jobs=6)]: Done  15 out of  15 | elapsed:    5.2s finished\n",
      "[Parallel(n_jobs=6)]: Using backend ThreadingBackend with 6 concurrent workers.\n",
      "[Parallel(n_jobs=6)]: Done  15 out of  15 | elapsed:    0.1s finished\n"
     ]
    },
    {
     "name": "stderr",
     "output_type": "stream",
     "text": [
      "[Parallel(n_jobs=6)]: Using backend LokyBackend with 6 concurrent workers.\n",
      "[Parallel(n_jobs=6)]: Done  15 out of  15 | elapsed:    5.6s finished\n",
      "[Parallel(n_jobs=6)]: Using backend ThreadingBackend with 6 concurrent workers.\n",
      "[Parallel(n_jobs=6)]: Done  15 out of  15 | elapsed:    0.1s finished\n",
      "[Parallel(n_jobs=6)]: Using backend LokyBackend with 6 concurrent workers.\n",
      "[Parallel(n_jobs=6)]: Done   2 out of   2 | elapsed:    1.0s finished\n",
      "[Parallel(n_jobs=2)]: Using backend ThreadingBackend with 2 concurrent workers.\n",
      "[Parallel(n_jobs=2)]: Done   2 out of   2 | elapsed:    0.0s remaining:    0.0s\n",
      "[Parallel(n_jobs=2)]: Done   2 out of   2 | elapsed:    0.0s finished\n",
      "[Parallel(n_jobs=6)]: Using backend LokyBackend with 6 concurrent workers.\n",
      "[Parallel(n_jobs=6)]: Done   2 out of   2 | elapsed:    1.0s finished\n",
      "[Parallel(n_jobs=2)]: Using backend ThreadingBackend with 2 concurrent workers.\n",
      "[Parallel(n_jobs=2)]: Done   2 out of   2 | elapsed:    0.0s remaining:    0.0s\n",
      "[Parallel(n_jobs=2)]: Done   2 out of   2 | elapsed:    0.0s finished\n",
      "[Parallel(n_jobs=6)]: Using backend LokyBackend with 6 concurrent workers.\n",
      "[Parallel(n_jobs=6)]: Done   2 out of   2 | elapsed:    0.8s finished\n",
      "[Parallel(n_jobs=2)]: Using backend ThreadingBackend with 2 concurrent workers.\n",
      "[Parallel(n_jobs=2)]: Done   2 out of   2 | elapsed:    0.0s remaining:    0.0s\n",
      "[Parallel(n_jobs=2)]: Done   2 out of   2 | elapsed:    0.0s finished\n",
      "[Parallel(n_jobs=6)]: Using backend ThreadingBackend with 6 concurrent workers.\n",
      "[Parallel(n_jobs=6)]: Done  15 out of  15 | elapsed:    7.4s finished\n"
     ]
    },
    {
     "data": {
      "text/plain": [
       "GridSearchCV(cv=3,\n",
       "             estimator=RandomForestRegressor(n_jobs=6, random_state=1,\n",
       "                                             verbose=1),\n",
       "             param_grid={'max_depth': [30, 40, 45, 50],\n",
       "                         'n_estimators': [5, 10, 15, 2]})"
      ]
     },
     "execution_count": 38,
     "metadata": {},
     "output_type": "execute_result"
    }
   ],
   "source": [
    "from sklearn.ensemble import RandomForestRegressor\n",
    "from sklearn.model_selection import GridSearchCV\n",
    "grid_1 = {'n_estimators': [5,10,15,2],\n",
    "          'max_depth': [30,40,45,50]}\n",
    "\n",
    "rf = RandomForestRegressor(random_state=1, verbose=1,n_jobs =6)\n",
    "#The parameters of the estimator used to apply these methods are optimized by cross-validated grid-search over a parameter grid.\n",
    "grid_rf = GridSearchCV(rf, grid_1, cv=3)\n",
    "grid_rf.fit(X_train, y_train)"
   ]
  },
  {
   "cell_type": "code",
   "execution_count": 45,
   "metadata": {},
   "outputs": [
    {
     "data": {
      "image/png": "[encoded data removed]",
      "text/plain": [
       "<Figure size 432x288 with 1 Axes>"
      ]
     },
     "metadata": {
      "needs_background": "light"
     },
     "output_type": "display_data"
    }
   ],
   "source": [
    "import matplotlib.pyplot as plt\n",
    "class_plot(grid_rf, grid_1, 'RF_CV_search')"
   ]
  },
  {
   "cell_type": "code",
   "execution_count": 42,
   "metadata": {},
   "outputs": [
    {
     "name": "stdout",
     "output_type": "stream",
     "text": [
      "{'max_depth': 30, 'n_estimators': 15}\n",
      "0.9999998278089582\n"
     ]
    }
   ],
   "source": [
    "print (grid_rf.best_params_)\n",
    "print (grid_rf.best_score_)"
   ]
  },
  {
   "cell_type": "code",
   "execution_count": 46,
   "metadata": {},
   "outputs": [
    {
     "name": "stderr",
     "output_type": "stream",
     "text": [
      "[Parallel(n_jobs=6)]: Using backend ThreadingBackend with 6 concurrent workers.\n",
      "[Parallel(n_jobs=6)]: Done  15 out of  15 | elapsed:    7.6s finished\n",
      "[Parallel(n_jobs=6)]: Using backend ThreadingBackend with 6 concurrent workers.\n",
      "[Parallel(n_jobs=6)]: Done  15 out of  15 | elapsed:    0.1s finished\n"
     ]
    }
   ],
   "source": [
    "# re-train the model with full training set\n",
    "rf_best = grid_rf.best_estimator_\n",
    "rf_best.fit(X_train, y_train)\n",
    "pred_rf_test = rf_best.predict(X_test)"
   ]
  },
  {
   "cell_type": "code",
   "execution_count": 47,
   "metadata": {},
   "outputs": [
    {
     "data": {
      "image/png": "[encoded data removed]",
      "text/plain": [
       "<Figure size 936x288 with 1 Axes>"
      ]
     },
     "metadata": {
      "needs_background": "light"
     },
     "output_type": "display_data"
    }
   ],
   "source": [
    "importance_rf_best = rf_best.feature_importances_\n",
    "names_rf_best = X_train.columns.tolist()\n",
    "df_importantce_rf_best = pd.DataFrame({'Feature':names_rf_best, 'Importance':importance_rf_best})\n",
    "# plot feature importance\n",
    "rank_importance_rf_best = df_importantce_rf_best.sort_values('Importance', ascending=False)\n",
    "\n",
    "plot_feature_importance(rank_importance_rf_best,15, 'steelblue', 0.8, 13, 4, 'Feature importance')"
   ]
  },
  {
   "cell_type": "code",
   "execution_count": null,
   "metadata": {},
   "outputs": [],
   "source": []
  }
 ],
 "metadata": {
  "colab": {
   "collapsed_sections": [],
   "name": "Bank_loan_status_project.ipynb",
   "provenance": []
  },
  "kernelspec": {
   "display_name": "Python 3",
   "language": "python",
   "name": "python3"
  },
  "language_info": {
   "codemirror_mode": {
    "name": "ipython",
    "version": 3
   },
   "file_extension": ".py",
   "mimetype": "text/x-python",
   "name": "python",
   "nbconvert_exporter": "python",
   "pygments_lexer": "ipython3",
   "version": "3.7.3"
  }
 },
 "nbformat": 4,
 "nbformat_minor": 1
}
