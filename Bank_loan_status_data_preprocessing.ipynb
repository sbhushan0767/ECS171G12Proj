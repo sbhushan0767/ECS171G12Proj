{
  "cells": [
    {
      "cell_type": "code",
      "metadata": {
        "id": "t3pmYPgUzem4"
      },
      "source": [
        "!pip install -U -q PyDrive\n",
        "\n",
        "from pydrive.auth import GoogleAuth\n",
        "from pydrive.drive import GoogleDrive\n",
        "from google.colab import auth\n",
        "from oauth2client.client import GoogleCredentials\n",
        "\n",
        "auth.authenticate_user()\n",
        "gauth = GoogleAuth()\n",
        "gauth.credentials = GoogleCredentials.get_application_default()\n",
        "drive = GoogleDrive(gauth)"
      ],
      "execution_count": 1,
      "outputs": []
    },
    {
      "cell_type": "code",
      "metadata": {
        "id": "LiAwnmNO_S-3"
      },
      "source": [
        "#https://drive.google.com/file/d/183B_W_R2qSnT_JjEUcI3Ny1vH36desCp/view?usp=sharing\n",
        "file1 = drive.CreateFile({'id':'183B_W_R2qSnT_JjEUcI3Ny1vH36desCp'}) # replace the id with id of file you want to access\n",
        "file1.GetContentFile('credit_train.csv')"
      ],
      "execution_count": 1,
      "outputs": [
        {
          "output_type": "error",
          "ename": "NameError",
          "evalue": "name 'drive' is not defined",
          "traceback": [
            "\u001b[1;31m---------------------------------------------------------------------------\u001b[0m",
            "\u001b[1;31mNameError\u001b[0m                                 Traceback (most recent call last)",
            "\u001b[1;32m<ipython-input-1-620055642637>\u001b[0m in \u001b[0;36m<module>\u001b[1;34m\u001b[0m\n\u001b[0;32m      1\u001b[0m \u001b[1;31m#https://drive.google.com/file/d/183B_W_R2qSnT_JjEUcI3Ny1vH36desCp/view?usp=sharing\u001b[0m\u001b[1;33m\u001b[0m\u001b[1;33m\u001b[0m\u001b[1;33m\u001b[0m\u001b[0m\n\u001b[1;32m----> 2\u001b[1;33m \u001b[0mfile1\u001b[0m \u001b[1;33m=\u001b[0m \u001b[0mdrive\u001b[0m\u001b[1;33m.\u001b[0m\u001b[0mCreateFile\u001b[0m\u001b[1;33m(\u001b[0m\u001b[1;33m{\u001b[0m\u001b[1;34m'id'\u001b[0m\u001b[1;33m:\u001b[0m\u001b[1;34m'183B_W_R2qSnT_JjEUcI3Ny1vH36desCp'\u001b[0m\u001b[1;33m}\u001b[0m\u001b[1;33m)\u001b[0m \u001b[1;31m# replace the id with id of file you want to access\u001b[0m\u001b[1;33m\u001b[0m\u001b[1;33m\u001b[0m\u001b[0m\n\u001b[0m\u001b[0;32m      3\u001b[0m \u001b[0mfile1\u001b[0m\u001b[1;33m.\u001b[0m\u001b[0mGetContentFile\u001b[0m\u001b[1;33m(\u001b[0m\u001b[1;34m'credit_train.csv'\u001b[0m\u001b[1;33m)\u001b[0m\u001b[1;33m\u001b[0m\u001b[1;33m\u001b[0m\u001b[0m\n",
            "\u001b[1;31mNameError\u001b[0m: name 'drive' is not defined"
          ]
        }
      ]
    },
    {
      "cell_type": "code",
      "metadata": {
        "id": "VCpin0DC_T1I"
      },
      "source": [
        "#https://drive.google.com/file/d/1ceLPls-2L2RuPoAJXAwGgcqxufoHAs0t/view?usp=sharing\n",
        "file2 = drive.CreateFile({'id':'1ceLPls-2L2RuPoAJXAwGgcqxufoHAs0t'}) # replace the id with id of file you want to access\n",
        "file2.GetContentFile('credit_test.csv')"
      ],
      "execution_count": 9,
      "outputs": []
    },
    {
      "cell_type": "code",
      "metadata": {
        "id": "FSj_ALA0DWfm"
      },
      "source": [
        "import pandas as pd\n",
        "import numpy as np\n",
        "import matplotlib.pyplot as plt\n",
        "import seaborn as sns"
      ],
      "execution_count": 2,
      "outputs": []
    },
    {
      "cell_type": "code",
      "metadata": {
        "id": "Vfm72dzQDG98"
      },
      "source": [
        "df_train = pd.read_csv('./datasets/credit_train.csv')"
      ],
      "execution_count": 3,
      "outputs": []
    },
    {
      "cell_type": "code",
      "metadata": {
        "id": "WZ9-iqj_Dntz",
        "outputId": "6bd2bc97-49e8-4054-ee68-5dc457b0a8be",
        "colab": {
          "base_uri": "https://localhost:8080/",
          "height": 530
        }
      },
      "source": [
        "df_train.head()"
      ],
      "execution_count": 4,
      "outputs": [
        {
          "output_type": "execute_result",
          "data": {
            "text/plain": "                                Loan ID                           Customer ID  \\\n0  14dd8831-6af5-400b-83ec-68e61888a048  981165ec-3274-42f5-a3b4-d104041a9ca9   \n1  4771cc26-131a-45db-b5aa-537ea4ba5342  2de017a3-2e01-49cb-a581-08169e83be29   \n2  4eed4e6a-aa2f-4c91-8651-ce984ee8fb26  5efb2b2b-bf11-4dfd-a572-3761a2694725   \n3  77598f7b-32e7-4e3b-a6e5-06ba0d98fe8a  e777faab-98ae-45af-9a86-7ce5b33b1011   \n4  d4062e70-befa-4995-8643-a0de73938182  81536ad9-5ccf-4eb8-befb-47a4d608658e   \n\n  Loan Status  Current Loan Amount        Term  Credit Score  Annual Income  \\\n0  Fully Paid             445412.0  Short Term         709.0      1167493.0   \n1  Fully Paid             262328.0  Short Term           NaN            NaN   \n2  Fully Paid           99999999.0  Short Term         741.0      2231892.0   \n3  Fully Paid             347666.0   Long Term         721.0       806949.0   \n4  Fully Paid             176220.0  Short Term           NaN            NaN   \n\n  Years in current job Home Ownership             Purpose  Monthly Debt  \\\n0              8 years  Home Mortgage   Home Improvements       5214.74   \n1            10+ years  Home Mortgage  Debt Consolidation      33295.98   \n2              8 years       Own Home  Debt Consolidation      29200.53   \n3              3 years       Own Home  Debt Consolidation       8741.90   \n4              5 years           Rent  Debt Consolidation      20639.70   \n\n   Years of Credit History  Months since last delinquent  \\\n0                     17.2                           NaN   \n1                     21.1                           8.0   \n2                     14.9                          29.0   \n3                     12.0                           NaN   \n4                      6.1                           NaN   \n\n   Number of Open Accounts  Number of Credit Problems  Current Credit Balance  \\\n0                      6.0                        1.0                228190.0   \n1                     35.0                        0.0                229976.0   \n2                     18.0                        1.0                297996.0   \n3                      9.0                        0.0                256329.0   \n4                     15.0                        0.0                253460.0   \n\n   Maximum Open Credit  Bankruptcies  Tax Liens  \n0             416746.0           1.0        0.0  \n1             850784.0           0.0        0.0  \n2             750090.0           0.0        0.0  \n3             386958.0           0.0        0.0  \n4             427174.0           0.0        0.0  ",
            "text/html": "<div>\n<style scoped>\n    .dataframe tbody tr th:only-of-type {\n        vertical-align: middle;\n    }\n\n    .dataframe tbody tr th {\n        vertical-align: top;\n    }\n\n    .dataframe thead th {\n        text-align: right;\n    }\n</style>\n<table border=\"1\" class=\"dataframe\">\n  <thead>\n    <tr style=\"text-align: right;\">\n      <th></th>\n      <th>Loan ID</th>\n      <th>Customer ID</th>\n      <th>Loan Status</th>\n      <th>Current Loan Amount</th>\n      <th>Term</th>\n      <th>Credit Score</th>\n      <th>Annual Income</th>\n      <th>Years in current job</th>\n      <th>Home Ownership</th>\n      <th>Purpose</th>\n      <th>Monthly Debt</th>\n      <th>Years of Credit History</th>\n      <th>Months since last delinquent</th>\n      <th>Number of Open Accounts</th>\n      <th>Number of Credit Problems</th>\n      <th>Current Credit Balance</th>\n      <th>Maximum Open Credit</th>\n      <th>Bankruptcies</th>\n      <th>Tax Liens</th>\n    </tr>\n  </thead>\n  <tbody>\n    <tr>\n      <th>0</th>\n      <td>14dd8831-6af5-400b-83ec-68e61888a048</td>\n      <td>981165ec-3274-42f5-a3b4-d104041a9ca9</td>\n      <td>Fully Paid</td>\n      <td>445412.0</td>\n      <td>Short Term</td>\n      <td>709.0</td>\n      <td>1167493.0</td>\n      <td>8 years</td>\n      <td>Home Mortgage</td>\n      <td>Home Improvements</td>\n      <td>5214.74</td>\n      <td>17.2</td>\n      <td>NaN</td>\n      <td>6.0</td>\n      <td>1.0</td>\n      <td>228190.0</td>\n      <td>416746.0</td>\n      <td>1.0</td>\n      <td>0.0</td>\n    </tr>\n    <tr>\n      <th>1</th>\n      <td>4771cc26-131a-45db-b5aa-537ea4ba5342</td>\n      <td>2de017a3-2e01-49cb-a581-08169e83be29</td>\n      <td>Fully Paid</td>\n      <td>262328.0</td>\n      <td>Short Term</td>\n      <td>NaN</td>\n      <td>NaN</td>\n      <td>10+ years</td>\n      <td>Home Mortgage</td>\n      <td>Debt Consolidation</td>\n      <td>33295.98</td>\n      <td>21.1</td>\n      <td>8.0</td>\n      <td>35.0</td>\n      <td>0.0</td>\n      <td>229976.0</td>\n      <td>850784.0</td>\n      <td>0.0</td>\n      <td>0.0</td>\n    </tr>\n    <tr>\n      <th>2</th>\n      <td>4eed4e6a-aa2f-4c91-8651-ce984ee8fb26</td>\n      <td>5efb2b2b-bf11-4dfd-a572-3761a2694725</td>\n      <td>Fully Paid</td>\n      <td>99999999.0</td>\n      <td>Short Term</td>\n      <td>741.0</td>\n      <td>2231892.0</td>\n      <td>8 years</td>\n      <td>Own Home</td>\n      <td>Debt Consolidation</td>\n      <td>29200.53</td>\n      <td>14.9</td>\n      <td>29.0</td>\n      <td>18.0</td>\n      <td>1.0</td>\n      <td>297996.0</td>\n      <td>750090.0</td>\n      <td>0.0</td>\n      <td>0.0</td>\n    </tr>\n    <tr>\n      <th>3</th>\n      <td>77598f7b-32e7-4e3b-a6e5-06ba0d98fe8a</td>\n      <td>e777faab-98ae-45af-9a86-7ce5b33b1011</td>\n      <td>Fully Paid</td>\n      <td>347666.0</td>\n      <td>Long Term</td>\n      <td>721.0</td>\n      <td>806949.0</td>\n      <td>3 years</td>\n      <td>Own Home</td>\n      <td>Debt Consolidation</td>\n      <td>8741.90</td>\n      <td>12.0</td>\n      <td>NaN</td>\n      <td>9.0</td>\n      <td>0.0</td>\n      <td>256329.0</td>\n      <td>386958.0</td>\n      <td>0.0</td>\n      <td>0.0</td>\n    </tr>\n    <tr>\n      <th>4</th>\n      <td>d4062e70-befa-4995-8643-a0de73938182</td>\n      <td>81536ad9-5ccf-4eb8-befb-47a4d608658e</td>\n      <td>Fully Paid</td>\n      <td>176220.0</td>\n      <td>Short Term</td>\n      <td>NaN</td>\n      <td>NaN</td>\n      <td>5 years</td>\n      <td>Rent</td>\n      <td>Debt Consolidation</td>\n      <td>20639.70</td>\n      <td>6.1</td>\n      <td>NaN</td>\n      <td>15.0</td>\n      <td>0.0</td>\n      <td>253460.0</td>\n      <td>427174.0</td>\n      <td>0.0</td>\n      <td>0.0</td>\n    </tr>\n  </tbody>\n</table>\n</div>"
          },
          "metadata": {},
          "execution_count": 4
        }
      ]
    },
    {
      "cell_type": "code",
      "metadata": {
        "id": "C0gdB0QTEbd_",
        "outputId": "80787e93-52e5-48ac-f431-453ae05e4f75",
        "colab": {
          "base_uri": "https://localhost:8080/"
        },
        "tags": []
      },
      "source": [
        "df_train.info()\n",
        "#non numerica type columns: Loan_ID, Customer ID, Loan Status, Term, Years in Current job, Home Ownership, Purpose"
      ],
      "execution_count": 5,
      "outputs": [
        {
          "output_type": "stream",
          "name": "stdout",
          "text": "<class 'pandas.core.frame.DataFrame'>\nRangeIndex: 100514 entries, 0 to 100513\nData columns (total 19 columns):\n #   Column                        Non-Null Count   Dtype  \n---  ------                        --------------   -----  \n 0   Loan ID                       100000 non-null  object \n 1   Customer ID                   100000 non-null  object \n 2   Loan Status                   100000 non-null  object \n 3   Current Loan Amount           100000 non-null  float64\n 4   Term                          100000 non-null  object \n 5   Credit Score                  80846 non-null   float64\n 6   Annual Income                 80846 non-null   float64\n 7   Years in current job          95778 non-null   object \n 8   Home Ownership                100000 non-null  object \n 9   Purpose                       100000 non-null  object \n 10  Monthly Debt                  100000 non-null  float64\n 11  Years of Credit History       100000 non-null  float64\n 12  Months since last delinquent  46859 non-null   float64\n 13  Number of Open Accounts       100000 non-null  float64\n 14  Number of Credit Problems     100000 non-null  float64\n 15  Current Credit Balance        100000 non-null  float64\n 16  Maximum Open Credit           99998 non-null   float64\n 17  Bankruptcies                  99796 non-null   float64\n 18  Tax Liens                     99990 non-null   float64\ndtypes: float64(12), object(7)\nmemory usage: 14.6+ MB\n"
        }
      ]
    },
    {
      "cell_type": "code",
      "metadata": {
        "id": "vXV1yirAJxA2",
        "outputId": "84ab6ca0-5686-4839-876f-d9978ac6436b",
        "colab": {
          "base_uri": "https://localhost:8080/"
        }
      },
      "source": [
        "len(df_train)"
      ],
      "execution_count": 6,
      "outputs": [
        {
          "output_type": "execute_result",
          "data": {
            "text/plain": "100514"
          },
          "metadata": {},
          "execution_count": 6
        }
      ]
    },
    {
      "cell_type": "code",
      "metadata": {
        "id": "KYmPrD7iJiWA",
        "outputId": "3a4a6aba-8a1a-491f-f63b-be826f0bef5d",
        "colab": {
          "base_uri": "https://localhost:8080/"
        }
      },
      "source": [
        "#check missing values \n",
        "df_train.isna().sum()"
      ],
      "execution_count": 7,
      "outputs": [
        {
          "output_type": "execute_result",
          "data": {
            "text/plain": "Loan ID                           514\nCustomer ID                       514\nLoan Status                       514\nCurrent Loan Amount               514\nTerm                              514\nCredit Score                    19668\nAnnual Income                   19668\nYears in current job             4736\nHome Ownership                    514\nPurpose                           514\nMonthly Debt                      514\nYears of Credit History           514\nMonths since last delinquent    53655\nNumber of Open Accounts           514\nNumber of Credit Problems         514\nCurrent Credit Balance            514\nMaximum Open Credit               516\nBankruptcies                      718\nTax Liens                         524\ndtype: int64"
          },
          "metadata": {},
          "execution_count": 7
        }
      ]
    },
    {
      "cell_type": "code",
      "metadata": {
        "id": "LXRLlG2cKiUp",
        "outputId": "354b5852-a3f7-4edb-c381-248b63d8c9c7",
        "colab": {
          "base_uri": "https://localhost:8080/"
        },
        "tags": []
      },
      "source": [
        "print(df_train['Months since last delinquent'].isna().sum()/len(df_train))"
      ],
      "execution_count": 8,
      "outputs": [
        {
          "output_type": "stream",
          "name": "stdout",
          "text": "0.5338062359472312\n"
        }
      ]
    },
    {
      "cell_type": "code",
      "metadata": {
        "id": "DCalfdNkNDJ9",
        "outputId": "3265b200-4d53-4a06-a39f-cf1ea3c832a5",
        "colab": {
          "base_uri": "https://localhost:8080/"
        }
      },
      "source": [
        "type(df_train['Months since last delinquent'])"
      ],
      "execution_count": 9,
      "outputs": [
        {
          "output_type": "execute_result",
          "data": {
            "text/plain": "pandas.core.series.Series"
          },
          "metadata": {},
          "execution_count": 9
        }
      ]
    },
    {
      "cell_type": "code",
      "metadata": {
        "id": "WcvU4MejK4d-"
      },
      "source": [
        "#Overall, we need to impute missing values for all the columns, since missing values for Months since last delinquent take up over 50% \n",
        "import numpy as np\n",
        "from sklearn.impute import SimpleImputer"
      ],
      "execution_count": 10,
      "outputs": []
    },
    {
      "cell_type": "code",
      "metadata": {
        "id": "dYGtzjLpdpdT"
      },
      "source": [
        "#impute missing values for numerical data : mean\n",
        "# Select numeric columns.\n",
        "numeric = df_train.select_dtypes('number')\n",
        "# Select string and object columns.\n",
        "categoric = df_train.select_dtypes('object')\n",
        "\n",
        "# Fill numeric columns with mean.\n",
        "df_train[numeric.columns] = numeric.fillna(numeric.mean())\n",
        "# Fill object columns with mode.\n",
        "df_train[categoric.columns] = categoric.fillna(categoric.agg(lambda x: x.mode().values[0]))"
      ],
      "execution_count": 11,
      "outputs": []
    },
    {
      "cell_type": "code",
      "metadata": {
        "id": "L9pEoI0HeZom",
        "outputId": "0414bda1-87ea-4973-a3f2-75ddf4d595f3",
        "colab": {
          "base_uri": "https://localhost:8080/"
        }
      },
      "source": [
        "#double check missing values\n",
        "df_train.isna().sum()"
      ],
      "execution_count": 12,
      "outputs": [
        {
          "output_type": "execute_result",
          "data": {
            "text/plain": "Loan ID                         0\nCustomer ID                     0\nLoan Status                     0\nCurrent Loan Amount             0\nTerm                            0\nCredit Score                    0\nAnnual Income                   0\nYears in current job            0\nHome Ownership                  0\nPurpose                         0\nMonthly Debt                    0\nYears of Credit History         0\nMonths since last delinquent    0\nNumber of Open Accounts         0\nNumber of Credit Problems       0\nCurrent Credit Balance          0\nMaximum Open Credit             0\nBankruptcies                    0\nTax Liens                       0\ndtype: int64"
          },
          "metadata": {},
          "execution_count": 12
        }
      ]
    },
    {
      "cell_type": "code",
      "metadata": {
        "id": "KvCgEu75el7a",
        "outputId": "b8dabc82-a67b-410a-b6bb-6cdc532321f6",
        "colab": {
          "base_uri": "https://localhost:8080/"
        }
      },
      "source": [
        "df_train.shape"
      ],
      "execution_count": 13,
      "outputs": [
        {
          "output_type": "execute_result",
          "data": {
            "text/plain": "(100514, 19)"
          },
          "metadata": {},
          "execution_count": 13
        }
      ]
    },
    {
      "cell_type": "code",
      "metadata": {
        "id": "yAYT33areeiW",
        "outputId": "40701c7e-ed46-4d8c-b3bb-c6685bee6be7",
        "colab": {
          "base_uri": "https://localhost:8080/"
        }
      },
      "source": [
        "#check duplicate values\n",
        "df_train.duplicated"
      ],
      "execution_count": 14,
      "outputs": [
        {
          "output_type": "execute_result",
          "data": {
            "text/plain": "<bound method DataFrame.duplicated of                                      Loan ID  \\\n0       14dd8831-6af5-400b-83ec-68e61888a048   \n1       4771cc26-131a-45db-b5aa-537ea4ba5342   \n2       4eed4e6a-aa2f-4c91-8651-ce984ee8fb26   \n3       77598f7b-32e7-4e3b-a6e5-06ba0d98fe8a   \n4       d4062e70-befa-4995-8643-a0de73938182   \n...                                      ...   \n100509  00069ff1-a877-4d35-81be-7cd359b99956   \n100510  00069ff1-a877-4d35-81be-7cd359b99956   \n100511  00069ff1-a877-4d35-81be-7cd359b99956   \n100512  00069ff1-a877-4d35-81be-7cd359b99956   \n100513  00069ff1-a877-4d35-81be-7cd359b99956   \n\n                                 Customer ID Loan Status  Current Loan Amount  \\\n0       981165ec-3274-42f5-a3b4-d104041a9ca9  Fully Paid         4.454120e+05   \n1       2de017a3-2e01-49cb-a581-08169e83be29  Fully Paid         2.623280e+05   \n2       5efb2b2b-bf11-4dfd-a572-3761a2694725  Fully Paid         1.000000e+08   \n3       e777faab-98ae-45af-9a86-7ce5b33b1011  Fully Paid         3.476660e+05   \n4       81536ad9-5ccf-4eb8-befb-47a4d608658e  Fully Paid         1.762200e+05   \n...                                      ...         ...                  ...   \n100509  000877d4-55ed-4126-abda-968f61da7b7f  Fully Paid         1.176045e+07   \n100510  000877d4-55ed-4126-abda-968f61da7b7f  Fully Paid         1.176045e+07   \n100511  000877d4-55ed-4126-abda-968f61da7b7f  Fully Paid         1.176045e+07   \n100512  000877d4-55ed-4126-abda-968f61da7b7f  Fully Paid         1.176045e+07   \n100513  000877d4-55ed-4126-abda-968f61da7b7f  Fully Paid         1.176045e+07   \n\n              Term  Credit Score  Annual Income Years in current job  \\\n0       Short Term    709.000000   1.167493e+06              8 years   \n1       Short Term   1076.456089   1.378277e+06            10+ years   \n2       Short Term    741.000000   2.231892e+06              8 years   \n3        Long Term    721.000000   8.069490e+05              3 years   \n4       Short Term   1076.456089   1.378277e+06              5 years   \n...            ...           ...            ...                  ...   \n100509  Short Term   1076.456089   1.378277e+06            10+ years   \n100510  Short Term   1076.456089   1.378277e+06            10+ years   \n100511  Short Term   1076.456089   1.378277e+06            10+ years   \n100512  Short Term   1076.456089   1.378277e+06            10+ years   \n100513  Short Term   1076.456089   1.378277e+06            10+ years   \n\n       Home Ownership             Purpose  Monthly Debt  \\\n0       Home Mortgage   Home Improvements   5214.740000   \n1       Home Mortgage  Debt Consolidation  33295.980000   \n2            Own Home  Debt Consolidation  29200.530000   \n3            Own Home  Debt Consolidation   8741.900000   \n4                Rent  Debt Consolidation  20639.700000   \n...               ...                 ...           ...   \n100509  Home Mortgage  Debt Consolidation  18472.412336   \n100510  Home Mortgage  Debt Consolidation  18472.412336   \n100511  Home Mortgage  Debt Consolidation  18472.412336   \n100512  Home Mortgage  Debt Consolidation  18472.412336   \n100513  Home Mortgage  Debt Consolidation  18472.412336   \n\n        Years of Credit History  Months since last delinquent  \\\n0                     17.200000                     34.901321   \n1                     21.100000                      8.000000   \n2                     14.900000                     29.000000   \n3                     12.000000                     34.901321   \n4                      6.100000                     34.901321   \n...                         ...                           ...   \n100509                18.199141                     34.901321   \n100510                18.199141                     34.901321   \n100511                18.199141                     34.901321   \n100512                18.199141                     34.901321   \n100513                18.199141                     34.901321   \n\n        Number of Open Accounts  Number of Credit Problems  \\\n0                       6.00000                    1.00000   \n1                      35.00000                    0.00000   \n2                      18.00000                    1.00000   \n3                       9.00000                    0.00000   \n4                      15.00000                    0.00000   \n...                         ...                        ...   \n100509                 11.12853                    0.16831   \n100510                 11.12853                    0.16831   \n100511                 11.12853                    0.16831   \n100512                 11.12853                    0.16831   \n100513                 11.12853                    0.16831   \n\n        Current Credit Balance  Maximum Open Credit  Bankruptcies  Tax Liens  \n0                 228190.00000        416746.000000       1.00000   0.000000  \n1                 229976.00000        850784.000000       0.00000   0.000000  \n2                 297996.00000        750090.000000       0.00000   0.000000  \n3                 256329.00000        386958.000000       0.00000   0.000000  \n4                 253460.00000        427174.000000       0.00000   0.000000  \n...                        ...                  ...           ...        ...  \n100509            294637.38235        760798.381748       0.11774   0.029313  \n100510            294637.38235        760798.381748       0.11774   0.029313  \n100511            294637.38235        760798.381748       0.11774   0.029313  \n100512            294637.38235        760798.381748       0.11774   0.029313  \n100513            294637.38235        760798.381748       0.11774   0.029313  \n\n[100514 rows x 19 columns]>"
          },
          "metadata": {},
          "execution_count": 14
        }
      ]
    },
    {
      "cell_type": "code",
      "metadata": {
        "id": "Rsni11dReub8",
        "outputId": "1167380a-b550-47e3-9ad2-17c9e7d78e85",
        "colab": {
          "base_uri": "https://localhost:8080/"
        }
      },
      "source": [
        "#check unique values for each column\n",
        "df_train.nunique()\n",
        "#meaningful columns often have fewer number of unique colunmns\n",
        "#we need to conduct some transformation for those columns which are categorical "
      ],
      "execution_count": 15,
      "outputs": [
        {
          "output_type": "execute_result",
          "data": {
            "text/plain": "Loan ID                         81999\nCustomer ID                     81999\nLoan Status                         2\nCurrent Loan Amount             22005\nTerm                                2\nCredit Score                      325\nAnnual Income                   36175\nYears in current job               11\nHome Ownership                      4\nPurpose                            16\nMonthly Debt                    65766\nYears of Credit History           507\nMonths since last delinquent      117\nNumber of Open Accounts            52\nNumber of Credit Problems          15\nCurrent Credit Balance          32731\nMaximum Open Credit             44597\nBankruptcies                        9\nTax Liens                          13\ndtype: int64"
          },
          "metadata": {},
          "execution_count": 15
        }
      ]
    },
    {
      "cell_type": "code",
      "metadata": {
        "id": "FF6FCkP_fOuV",
        "outputId": "34ffe54d-5c2d-4f0b-c27d-c245876c129d",
        "colab": {
          "base_uri": "https://localhost:8080/"
        }
      },
      "source": [
        "df_train[categoric.columns].nunique()"
      ],
      "execution_count": 16,
      "outputs": [
        {
          "output_type": "execute_result",
          "data": {
            "text/plain": "Loan ID                 81999\nCustomer ID             81999\nLoan Status                 2\nTerm                        2\nYears in current job       11\nHome Ownership              4\nPurpose                    16\ndtype: int64"
          },
          "metadata": {},
          "execution_count": 16
        }
      ]
    },
    {
      "cell_type": "code",
      "metadata": {
        "id": "F_PDLuDofaiV",
        "outputId": "fe7bd233-192b-438b-e7b2-b89b8e32ee77",
        "colab": {
          "base_uri": "https://localhost:8080/"
        }
      },
      "source": [
        "#feature encoding for categorical varaibles\n",
        "#label encoding: convert each value in a column to a number \n",
        "#All the categorical variables except years in current job can be handled with label encoding \n",
        "#Years in current job are required to be transformed into numerical variables\n",
        "#create initial categorical dataframe\n",
        "categoric_cols = list(categoric.columns)\n",
        "categoric_cols.remove('Years in current job')\n",
        "categoric_cols"
      ],
      "execution_count": 17,
      "outputs": [
        {
          "output_type": "execute_result",
          "data": {
            "text/plain": "['Loan ID', 'Customer ID', 'Loan Status', 'Term', 'Home Ownership', 'Purpose']"
          },
          "metadata": {},
          "execution_count": 17
        }
      ]
    },
    {
      "cell_type": "code",
      "metadata": {
        "id": "QPvF6P2-k3L3"
      },
      "source": [
        "#creatin instance of labelencoder\n",
        "from sklearn.preprocessing import LabelEncoder\n",
        "le = LabelEncoder()\n",
        "df_train[categoric_cols] = df_train[categoric_cols].apply(le.fit_transform)"
      ],
      "execution_count": 18,
      "outputs": []
    },
    {
      "cell_type": "code",
      "metadata": {
        "id": "5m7gZZGpsmTd",
        "outputId": "999d1ec0-650b-469c-f1f4-ba99550e1075",
        "colab": {
          "base_uri": "https://localhost:8080/",
          "height": 292
        }
      },
      "source": [
        "df_train.head()"
      ],
      "execution_count": 19,
      "outputs": [
        {
          "output_type": "execute_result",
          "data": {
            "text/plain": "   Loan ID  Customer ID  Loan Status  Current Loan Amount  Term  Credit Score  \\\n0     6697        48724            1             445412.0     1    709.000000   \n1    23041        14688            1             262328.0     1   1076.456089   \n2    25441        30541            1           99999999.0     1    741.000000   \n3    38341        74173            1             347666.0     0    721.000000   \n4    68058        41470            1             176220.0     1   1076.456089   \n\n   Annual Income Years in current job  Home Ownership  Purpose  Monthly Debt  \\\n0   1.167493e+06              8 years               1        5       5214.74   \n1   1.378277e+06            10+ years               1        3      33295.98   \n2   2.231892e+06              8 years               2        3      29200.53   \n3   8.069490e+05              3 years               2        3       8741.90   \n4   1.378277e+06              5 years               3        3      20639.70   \n\n   Years of Credit History  Months since last delinquent  \\\n0                     17.2                     34.901321   \n1                     21.1                      8.000000   \n2                     14.9                     29.000000   \n3                     12.0                     34.901321   \n4                      6.1                     34.901321   \n\n   Number of Open Accounts  Number of Credit Problems  Current Credit Balance  \\\n0                      6.0                        1.0                228190.0   \n1                     35.0                        0.0                229976.0   \n2                     18.0                        1.0                297996.0   \n3                      9.0                        0.0                256329.0   \n4                     15.0                        0.0                253460.0   \n\n   Maximum Open Credit  Bankruptcies  Tax Liens  \n0             416746.0           1.0        0.0  \n1             850784.0           0.0        0.0  \n2             750090.0           0.0        0.0  \n3             386958.0           0.0        0.0  \n4             427174.0           0.0        0.0  ",
            "text/html": "<div>\n<style scoped>\n    .dataframe tbody tr th:only-of-type {\n        vertical-align: middle;\n    }\n\n    .dataframe tbody tr th {\n        vertical-align: top;\n    }\n\n    .dataframe thead th {\n        text-align: right;\n    }\n</style>\n<table border=\"1\" class=\"dataframe\">\n  <thead>\n    <tr style=\"text-align: right;\">\n      <th></th>\n      <th>Loan ID</th>\n      <th>Customer ID</th>\n      <th>Loan Status</th>\n      <th>Current Loan Amount</th>\n      <th>Term</th>\n      <th>Credit Score</th>\n      <th>Annual Income</th>\n      <th>Years in current job</th>\n      <th>Home Ownership</th>\n      <th>Purpose</th>\n      <th>Monthly Debt</th>\n      <th>Years of Credit History</th>\n      <th>Months since last delinquent</th>\n      <th>Number of Open Accounts</th>\n      <th>Number of Credit Problems</th>\n      <th>Current Credit Balance</th>\n      <th>Maximum Open Credit</th>\n      <th>Bankruptcies</th>\n      <th>Tax Liens</th>\n    </tr>\n  </thead>\n  <tbody>\n    <tr>\n      <th>0</th>\n      <td>6697</td>\n      <td>48724</td>\n      <td>1</td>\n      <td>445412.0</td>\n      <td>1</td>\n      <td>709.000000</td>\n      <td>1.167493e+06</td>\n      <td>8 years</td>\n      <td>1</td>\n      <td>5</td>\n      <td>5214.74</td>\n      <td>17.2</td>\n      <td>34.901321</td>\n      <td>6.0</td>\n      <td>1.0</td>\n      <td>228190.0</td>\n      <td>416746.0</td>\n      <td>1.0</td>\n      <td>0.0</td>\n    </tr>\n    <tr>\n      <th>1</th>\n      <td>23041</td>\n      <td>14688</td>\n      <td>1</td>\n      <td>262328.0</td>\n      <td>1</td>\n      <td>1076.456089</td>\n      <td>1.378277e+06</td>\n      <td>10+ years</td>\n      <td>1</td>\n      <td>3</td>\n      <td>33295.98</td>\n      <td>21.1</td>\n      <td>8.000000</td>\n      <td>35.0</td>\n      <td>0.0</td>\n      <td>229976.0</td>\n      <td>850784.0</td>\n      <td>0.0</td>\n      <td>0.0</td>\n    </tr>\n    <tr>\n      <th>2</th>\n      <td>25441</td>\n      <td>30541</td>\n      <td>1</td>\n      <td>99999999.0</td>\n      <td>1</td>\n      <td>741.000000</td>\n      <td>2.231892e+06</td>\n      <td>8 years</td>\n      <td>2</td>\n      <td>3</td>\n      <td>29200.53</td>\n      <td>14.9</td>\n      <td>29.000000</td>\n      <td>18.0</td>\n      <td>1.0</td>\n      <td>297996.0</td>\n      <td>750090.0</td>\n      <td>0.0</td>\n      <td>0.0</td>\n    </tr>\n    <tr>\n      <th>3</th>\n      <td>38341</td>\n      <td>74173</td>\n      <td>1</td>\n      <td>347666.0</td>\n      <td>0</td>\n      <td>721.000000</td>\n      <td>8.069490e+05</td>\n      <td>3 years</td>\n      <td>2</td>\n      <td>3</td>\n      <td>8741.90</td>\n      <td>12.0</td>\n      <td>34.901321</td>\n      <td>9.0</td>\n      <td>0.0</td>\n      <td>256329.0</td>\n      <td>386958.0</td>\n      <td>0.0</td>\n      <td>0.0</td>\n    </tr>\n    <tr>\n      <th>4</th>\n      <td>68058</td>\n      <td>41470</td>\n      <td>1</td>\n      <td>176220.0</td>\n      <td>1</td>\n      <td>1076.456089</td>\n      <td>1.378277e+06</td>\n      <td>5 years</td>\n      <td>3</td>\n      <td>3</td>\n      <td>20639.70</td>\n      <td>6.1</td>\n      <td>34.901321</td>\n      <td>15.0</td>\n      <td>0.0</td>\n      <td>253460.0</td>\n      <td>427174.0</td>\n      <td>0.0</td>\n      <td>0.0</td>\n    </tr>\n  </tbody>\n</table>\n</div>"
          },
          "metadata": {},
          "execution_count": 19
        }
      ]
    }
  ],
  "metadata": {
    "colab": {
      "name": "Bank_loan_status_data_preprocessing.ipynb",
      "provenance": [],
      "collapsed_sections": []
    },
    "kernelspec": {
      "name": "python3",
      "display_name": "Python 3"
    }
  },
  "nbformat": 4,
  "nbformat_minor": 0
}