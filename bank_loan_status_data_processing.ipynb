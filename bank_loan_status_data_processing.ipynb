{
 "cells": [
  {
   "cell_type": "markdown",
   "metadata": {},
   "source": [
    "### Part1: Data Preprocessing"
   ]
  },
  {
   "cell_type": "code",
   "execution_count": 2,
   "metadata": {},
   "outputs": [],
   "source": [
    "import pandas as pd\n",
    "import numpy as np"
   ]
  },
  {
   "cell_type": "code",
   "execution_count": 3,
   "metadata": {},
   "outputs": [],
   "source": [
    "df_train = pd.read_csv('credit_train.csv')"
   ]
  },
  {
   "cell_type": "code",
   "execution_count": 4,
   "metadata": {},
   "outputs": [],
   "source": [
    "df_test = pd.read_csv('credit_test.csv')"
   ]
  },
  {
   "cell_type": "code",
   "execution_count": 5,
   "metadata": {},
   "outputs": [
    {
     "name": "stdout",
     "output_type": "stream",
     "text": [
      "(100514, 19)\n",
      "(10353, 18)\n"
     ]
    }
   ],
   "source": [
    "print(df_train.shape)\n",
    "print(df_test.shape)"
   ]
  },
  {
   "cell_type": "code",
   "execution_count": 6,
   "metadata": {},
   "outputs": [
    {
     "name": "stderr",
     "output_type": "stream",
     "text": [
      "/Users/cookiepoon/anaconda3/lib/python3.7/site-packages/ipykernel_launcher.py:1: FutureWarning: Sorting because non-concatenation axis is not aligned. A future version\n",
      "of pandas will change to not sort by default.\n",
      "\n",
      "To accept the future behavior, pass 'sort=False'.\n",
      "\n",
      "To retain the current behavior and silence the warning, pass 'sort=True'.\n",
      "\n",
      "  \"\"\"Entry point for launching an IPython kernel.\n"
     ]
    }
   ],
   "source": [
    "df = pd.concat([df_train, df_test])"
   ]
  },
  {
   "cell_type": "code",
   "execution_count": 7,
   "metadata": {},
   "outputs": [
    {
     "data": {
      "text/plain": [
       "(110867, 19)"
      ]
     },
     "execution_count": 7,
     "metadata": {},
     "output_type": "execute_result"
    }
   ],
   "source": [
    "df.shape"
   ]
  },
  {
   "cell_type": "code",
   "execution_count": 8,
   "metadata": {},
   "outputs": [
    {
     "data": {
      "text/html": [
       "<div>\n",
       "<style scoped>\n",
       "    .dataframe tbody tr th:only-of-type {\n",
       "        vertical-align: middle;\n",
       "    }\n",
       "\n",
       "    .dataframe tbody tr th {\n",
       "        vertical-align: top;\n",
       "    }\n",
       "\n",
       "    .dataframe thead th {\n",
       "        text-align: right;\n",
       "    }\n",
       "</style>\n",
       "<table border=\"1\" class=\"dataframe\">\n",
       "  <thead>\n",
       "    <tr style=\"text-align: right;\">\n",
       "      <th></th>\n",
       "      <th>Annual Income</th>\n",
       "      <th>Bankruptcies</th>\n",
       "      <th>Credit Score</th>\n",
       "      <th>Current Credit Balance</th>\n",
       "      <th>Current Loan Amount</th>\n",
       "      <th>Customer ID</th>\n",
       "      <th>Home Ownership</th>\n",
       "      <th>Loan ID</th>\n",
       "      <th>Loan Status</th>\n",
       "      <th>Maximum Open Credit</th>\n",
       "      <th>Monthly Debt</th>\n",
       "      <th>Months since last delinquent</th>\n",
       "      <th>Number of Credit Problems</th>\n",
       "      <th>Number of Open Accounts</th>\n",
       "      <th>Purpose</th>\n",
       "      <th>Tax Liens</th>\n",
       "      <th>Term</th>\n",
       "      <th>Years in current job</th>\n",
       "      <th>Years of Credit History</th>\n",
       "    </tr>\n",
       "  </thead>\n",
       "  <tbody>\n",
       "    <tr>\n",
       "      <th>0</th>\n",
       "      <td>1167493.0</td>\n",
       "      <td>1.0</td>\n",
       "      <td>709.0</td>\n",
       "      <td>228190.0</td>\n",
       "      <td>445412.0</td>\n",
       "      <td>981165ec-3274-42f5-a3b4-d104041a9ca9</td>\n",
       "      <td>Home Mortgage</td>\n",
       "      <td>14dd8831-6af5-400b-83ec-68e61888a048</td>\n",
       "      <td>Fully Paid</td>\n",
       "      <td>416746.0</td>\n",
       "      <td>5214.74</td>\n",
       "      <td>NaN</td>\n",
       "      <td>1.0</td>\n",
       "      <td>6.0</td>\n",
       "      <td>Home Improvements</td>\n",
       "      <td>0.0</td>\n",
       "      <td>Short Term</td>\n",
       "      <td>8 years</td>\n",
       "      <td>17.2</td>\n",
       "    </tr>\n",
       "    <tr>\n",
       "      <th>1</th>\n",
       "      <td>NaN</td>\n",
       "      <td>0.0</td>\n",
       "      <td>NaN</td>\n",
       "      <td>229976.0</td>\n",
       "      <td>262328.0</td>\n",
       "      <td>2de017a3-2e01-49cb-a581-08169e83be29</td>\n",
       "      <td>Home Mortgage</td>\n",
       "      <td>4771cc26-131a-45db-b5aa-537ea4ba5342</td>\n",
       "      <td>Fully Paid</td>\n",
       "      <td>850784.0</td>\n",
       "      <td>33295.98</td>\n",
       "      <td>8.0</td>\n",
       "      <td>0.0</td>\n",
       "      <td>35.0</td>\n",
       "      <td>Debt Consolidation</td>\n",
       "      <td>0.0</td>\n",
       "      <td>Short Term</td>\n",
       "      <td>10+ years</td>\n",
       "      <td>21.1</td>\n",
       "    </tr>\n",
       "    <tr>\n",
       "      <th>2</th>\n",
       "      <td>2231892.0</td>\n",
       "      <td>0.0</td>\n",
       "      <td>741.0</td>\n",
       "      <td>297996.0</td>\n",
       "      <td>99999999.0</td>\n",
       "      <td>5efb2b2b-bf11-4dfd-a572-3761a2694725</td>\n",
       "      <td>Own Home</td>\n",
       "      <td>4eed4e6a-aa2f-4c91-8651-ce984ee8fb26</td>\n",
       "      <td>Fully Paid</td>\n",
       "      <td>750090.0</td>\n",
       "      <td>29200.53</td>\n",
       "      <td>29.0</td>\n",
       "      <td>1.0</td>\n",
       "      <td>18.0</td>\n",
       "      <td>Debt Consolidation</td>\n",
       "      <td>0.0</td>\n",
       "      <td>Short Term</td>\n",
       "      <td>8 years</td>\n",
       "      <td>14.9</td>\n",
       "    </tr>\n",
       "    <tr>\n",
       "      <th>3</th>\n",
       "      <td>806949.0</td>\n",
       "      <td>0.0</td>\n",
       "      <td>721.0</td>\n",
       "      <td>256329.0</td>\n",
       "      <td>347666.0</td>\n",
       "      <td>e777faab-98ae-45af-9a86-7ce5b33b1011</td>\n",
       "      <td>Own Home</td>\n",
       "      <td>77598f7b-32e7-4e3b-a6e5-06ba0d98fe8a</td>\n",
       "      <td>Fully Paid</td>\n",
       "      <td>386958.0</td>\n",
       "      <td>8741.90</td>\n",
       "      <td>NaN</td>\n",
       "      <td>0.0</td>\n",
       "      <td>9.0</td>\n",
       "      <td>Debt Consolidation</td>\n",
       "      <td>0.0</td>\n",
       "      <td>Long Term</td>\n",
       "      <td>3 years</td>\n",
       "      <td>12.0</td>\n",
       "    </tr>\n",
       "    <tr>\n",
       "      <th>4</th>\n",
       "      <td>NaN</td>\n",
       "      <td>0.0</td>\n",
       "      <td>NaN</td>\n",
       "      <td>253460.0</td>\n",
       "      <td>176220.0</td>\n",
       "      <td>81536ad9-5ccf-4eb8-befb-47a4d608658e</td>\n",
       "      <td>Rent</td>\n",
       "      <td>d4062e70-befa-4995-8643-a0de73938182</td>\n",
       "      <td>Fully Paid</td>\n",
       "      <td>427174.0</td>\n",
       "      <td>20639.70</td>\n",
       "      <td>NaN</td>\n",
       "      <td>0.0</td>\n",
       "      <td>15.0</td>\n",
       "      <td>Debt Consolidation</td>\n",
       "      <td>0.0</td>\n",
       "      <td>Short Term</td>\n",
       "      <td>5 years</td>\n",
       "      <td>6.1</td>\n",
       "    </tr>\n",
       "  </tbody>\n",
       "</table>\n",
       "</div>"
      ],
      "text/plain": [
       "   Annual Income  Bankruptcies  Credit Score  Current Credit Balance  \\\n",
       "0      1167493.0           1.0         709.0                228190.0   \n",
       "1            NaN           0.0           NaN                229976.0   \n",
       "2      2231892.0           0.0         741.0                297996.0   \n",
       "3       806949.0           0.0         721.0                256329.0   \n",
       "4            NaN           0.0           NaN                253460.0   \n",
       "\n",
       "   Current Loan Amount                           Customer ID Home Ownership  \\\n",
       "0             445412.0  981165ec-3274-42f5-a3b4-d104041a9ca9  Home Mortgage   \n",
       "1             262328.0  2de017a3-2e01-49cb-a581-08169e83be29  Home Mortgage   \n",
       "2           99999999.0  5efb2b2b-bf11-4dfd-a572-3761a2694725       Own Home   \n",
       "3             347666.0  e777faab-98ae-45af-9a86-7ce5b33b1011       Own Home   \n",
       "4             176220.0  81536ad9-5ccf-4eb8-befb-47a4d608658e           Rent   \n",
       "\n",
       "                                Loan ID Loan Status  Maximum Open Credit  \\\n",
       "0  14dd8831-6af5-400b-83ec-68e61888a048  Fully Paid             416746.0   \n",
       "1  4771cc26-131a-45db-b5aa-537ea4ba5342  Fully Paid             850784.0   \n",
       "2  4eed4e6a-aa2f-4c91-8651-ce984ee8fb26  Fully Paid             750090.0   \n",
       "3  77598f7b-32e7-4e3b-a6e5-06ba0d98fe8a  Fully Paid             386958.0   \n",
       "4  d4062e70-befa-4995-8643-a0de73938182  Fully Paid             427174.0   \n",
       "\n",
       "   Monthly Debt  Months since last delinquent  Number of Credit Problems  \\\n",
       "0       5214.74                           NaN                        1.0   \n",
       "1      33295.98                           8.0                        0.0   \n",
       "2      29200.53                          29.0                        1.0   \n",
       "3       8741.90                           NaN                        0.0   \n",
       "4      20639.70                           NaN                        0.0   \n",
       "\n",
       "   Number of Open Accounts             Purpose  Tax Liens        Term  \\\n",
       "0                      6.0   Home Improvements        0.0  Short Term   \n",
       "1                     35.0  Debt Consolidation        0.0  Short Term   \n",
       "2                     18.0  Debt Consolidation        0.0  Short Term   \n",
       "3                      9.0  Debt Consolidation        0.0   Long Term   \n",
       "4                     15.0  Debt Consolidation        0.0  Short Term   \n",
       "\n",
       "  Years in current job  Years of Credit History  \n",
       "0              8 years                     17.2  \n",
       "1            10+ years                     21.1  \n",
       "2              8 years                     14.9  \n",
       "3              3 years                     12.0  \n",
       "4              5 years                      6.1  "
      ]
     },
     "execution_count": 8,
     "metadata": {},
     "output_type": "execute_result"
    }
   ],
   "source": [
    "df.head()"
   ]
  },
  {
   "cell_type": "code",
   "execution_count": 9,
   "metadata": {},
   "outputs": [
    {
     "name": "stdout",
     "output_type": "stream",
     "text": [
      "<class 'pandas.core.frame.DataFrame'>\n",
      "Int64Index: 110867 entries, 0 to 10352\n",
      "Data columns (total 19 columns):\n",
      "Annual Income                   88865 non-null float64\n",
      "Bankruptcies                    109774 non-null float64\n",
      "Credit Score                    88865 non-null float64\n",
      "Current Credit Balance          110000 non-null float64\n",
      "Current Loan Amount             110000 non-null float64\n",
      "Customer ID                     110000 non-null object\n",
      "Home Ownership                  110000 non-null object\n",
      "Loan ID                         110000 non-null object\n",
      "Loan Status                     100000 non-null object\n",
      "Maximum Open Credit             109998 non-null float64\n",
      "Monthly Debt                    110000 non-null float64\n",
      "Months since last delinquent    51553 non-null float64\n",
      "Number of Credit Problems       110000 non-null float64\n",
      "Number of Open Accounts         110000 non-null float64\n",
      "Purpose                         110000 non-null object\n",
      "Tax Liens                       109989 non-null float64\n",
      "Term                            110000 non-null object\n",
      "Years in current job            105351 non-null object\n",
      "Years of Credit History         110000 non-null float64\n",
      "dtypes: float64(12), object(7)\n",
      "memory usage: 16.9+ MB\n"
     ]
    }
   ],
   "source": [
    "df.info()"
   ]
  },
  {
   "cell_type": "code",
   "execution_count": 10,
   "metadata": {},
   "outputs": [
    {
     "data": {
      "text/plain": [
       "Annual Income                   0.198454\n",
       "Bankruptcies                    0.009859\n",
       "Credit Score                    0.198454\n",
       "Current Credit Balance          0.007820\n",
       "Current Loan Amount             0.007820\n",
       "Customer ID                     0.007820\n",
       "Home Ownership                  0.007820\n",
       "Loan ID                         0.007820\n",
       "Loan Status                     0.098018\n",
       "Maximum Open Credit             0.007838\n",
       "Monthly Debt                    0.007820\n",
       "Months since last delinquent    0.535001\n",
       "Number of Credit Problems       0.007820\n",
       "Number of Open Accounts         0.007820\n",
       "Purpose                         0.007820\n",
       "Tax Liens                       0.007919\n",
       "Term                            0.007820\n",
       "Years in current job            0.049753\n",
       "Years of Credit History         0.007820\n",
       "dtype: float64"
      ]
     },
     "execution_count": 10,
     "metadata": {},
     "output_type": "execute_result"
    }
   ],
   "source": [
    "df.isna().sum()/len(df)\n",
    "#include null value to analysis, not drop the value\n",
    "#null, high credit score\n",
    "#cluster and take average\n",
    "#method: months solvent? set Null value will be zero; small value "
   ]
  },
  {
   "cell_type": "markdown",
   "metadata": {},
   "source": [
    "In this case, Month since last delinqunet has over 50% of missing values, we can explore this variable and transform it into categorical variable."
   ]
  },
  {
   "cell_type": "code",
   "execution_count": 11,
   "metadata": {},
   "outputs": [],
   "source": [
    "#fill in missing values with zero and observe distribution \n",
    "df['Months since last delinquent'] = df['Months since last delinquent'].fillna(0)"
   ]
  },
  {
   "cell_type": "code",
   "execution_count": 12,
   "metadata": {},
   "outputs": [
    {
     "data": {
      "text/plain": [
       "<matplotlib.axes._subplots.AxesSubplot at 0x1a286dd588>"
      ]
     },
     "execution_count": 12,
     "metadata": {},
     "output_type": "execute_result"
    }
   ],
   "source": [
    "import seaborn as sns\n",
    "sns.distplot(df['Months since last delinquent'])"
   ]
  },
  {
   "cell_type": "code",
   "execution_count": 13,
   "metadata": {},
   "outputs": [],
   "source": [
    "#from the plot, we can divdie Months since last delinquent into following categories:\n",
    "#0: no delinquent, 0~25: 2 years, 25~50: 4 years, 50 ~75: 6 years, >75: over 6 years\n",
    "df['Delinquent Time'] = 0\n",
    "df.loc[(df['Months since last delinquent'] == 0), 'Delinquent Time'] = 0\n",
    "df.loc[(df['Months since last delinquent']>0)&(df['Months since last delinquent']<= 25),'Delinquent Time'] = 2\n",
    "df.loc[(df['Months since last delinquent']>25)&(df['Months since last delinquent']<= 50),'Delinquent Time'] = 4\n",
    "df.loc[(df['Months since last delinquent']>50)&(df['Months since last delinquent']<= 75),'Delinquent Time'] = 6\n",
    "df.loc[(df['Months since last delinquent']>75),'Delinquent Time'] = 6"
   ]
  },
  {
   "cell_type": "code",
   "execution_count": 14,
   "metadata": {},
   "outputs": [
    {
     "data": {
      "text/html": [
       "<div>\n",
       "<style scoped>\n",
       "    .dataframe tbody tr th:only-of-type {\n",
       "        vertical-align: middle;\n",
       "    }\n",
       "\n",
       "    .dataframe tbody tr th {\n",
       "        vertical-align: top;\n",
       "    }\n",
       "\n",
       "    .dataframe thead th {\n",
       "        text-align: right;\n",
       "    }\n",
       "</style>\n",
       "<table border=\"1\" class=\"dataframe\">\n",
       "  <thead>\n",
       "    <tr style=\"text-align: right;\">\n",
       "      <th></th>\n",
       "      <th>Annual Income</th>\n",
       "      <th>Bankruptcies</th>\n",
       "      <th>Credit Score</th>\n",
       "      <th>Current Credit Balance</th>\n",
       "      <th>Current Loan Amount</th>\n",
       "      <th>Customer ID</th>\n",
       "      <th>Home Ownership</th>\n",
       "      <th>Loan ID</th>\n",
       "      <th>Loan Status</th>\n",
       "      <th>Maximum Open Credit</th>\n",
       "      <th>Monthly Debt</th>\n",
       "      <th>Months since last delinquent</th>\n",
       "      <th>Number of Credit Problems</th>\n",
       "      <th>Number of Open Accounts</th>\n",
       "      <th>Purpose</th>\n",
       "      <th>Tax Liens</th>\n",
       "      <th>Term</th>\n",
       "      <th>Years in current job</th>\n",
       "      <th>Years of Credit History</th>\n",
       "      <th>Delinquent Time</th>\n",
       "    </tr>\n",
       "  </thead>\n",
       "  <tbody>\n",
       "    <tr>\n",
       "      <th>0</th>\n",
       "      <td>1167493.0</td>\n",
       "      <td>1.0</td>\n",
       "      <td>709.0</td>\n",
       "      <td>228190.0</td>\n",
       "      <td>445412.0</td>\n",
       "      <td>981165ec-3274-42f5-a3b4-d104041a9ca9</td>\n",
       "      <td>Home Mortgage</td>\n",
       "      <td>14dd8831-6af5-400b-83ec-68e61888a048</td>\n",
       "      <td>Fully Paid</td>\n",
       "      <td>416746.0</td>\n",
       "      <td>5214.74</td>\n",
       "      <td>0.0</td>\n",
       "      <td>1.0</td>\n",
       "      <td>6.0</td>\n",
       "      <td>Home Improvements</td>\n",
       "      <td>0.0</td>\n",
       "      <td>Short Term</td>\n",
       "      <td>8 years</td>\n",
       "      <td>17.2</td>\n",
       "      <td>0</td>\n",
       "    </tr>\n",
       "    <tr>\n",
       "      <th>1</th>\n",
       "      <td>NaN</td>\n",
       "      <td>0.0</td>\n",
       "      <td>NaN</td>\n",
       "      <td>229976.0</td>\n",
       "      <td>262328.0</td>\n",
       "      <td>2de017a3-2e01-49cb-a581-08169e83be29</td>\n",
       "      <td>Home Mortgage</td>\n",
       "      <td>4771cc26-131a-45db-b5aa-537ea4ba5342</td>\n",
       "      <td>Fully Paid</td>\n",
       "      <td>850784.0</td>\n",
       "      <td>33295.98</td>\n",
       "      <td>8.0</td>\n",
       "      <td>0.0</td>\n",
       "      <td>35.0</td>\n",
       "      <td>Debt Consolidation</td>\n",
       "      <td>0.0</td>\n",
       "      <td>Short Term</td>\n",
       "      <td>10+ years</td>\n",
       "      <td>21.1</td>\n",
       "      <td>2</td>\n",
       "    </tr>\n",
       "    <tr>\n",
       "      <th>2</th>\n",
       "      <td>2231892.0</td>\n",
       "      <td>0.0</td>\n",
       "      <td>741.0</td>\n",
       "      <td>297996.0</td>\n",
       "      <td>99999999.0</td>\n",
       "      <td>5efb2b2b-bf11-4dfd-a572-3761a2694725</td>\n",
       "      <td>Own Home</td>\n",
       "      <td>4eed4e6a-aa2f-4c91-8651-ce984ee8fb26</td>\n",
       "      <td>Fully Paid</td>\n",
       "      <td>750090.0</td>\n",
       "      <td>29200.53</td>\n",
       "      <td>29.0</td>\n",
       "      <td>1.0</td>\n",
       "      <td>18.0</td>\n",
       "      <td>Debt Consolidation</td>\n",
       "      <td>0.0</td>\n",
       "      <td>Short Term</td>\n",
       "      <td>8 years</td>\n",
       "      <td>14.9</td>\n",
       "      <td>4</td>\n",
       "    </tr>\n",
       "    <tr>\n",
       "      <th>3</th>\n",
       "      <td>806949.0</td>\n",
       "      <td>0.0</td>\n",
       "      <td>721.0</td>\n",
       "      <td>256329.0</td>\n",
       "      <td>347666.0</td>\n",
       "      <td>e777faab-98ae-45af-9a86-7ce5b33b1011</td>\n",
       "      <td>Own Home</td>\n",
       "      <td>77598f7b-32e7-4e3b-a6e5-06ba0d98fe8a</td>\n",
       "      <td>Fully Paid</td>\n",
       "      <td>386958.0</td>\n",
       "      <td>8741.90</td>\n",
       "      <td>0.0</td>\n",
       "      <td>0.0</td>\n",
       "      <td>9.0</td>\n",
       "      <td>Debt Consolidation</td>\n",
       "      <td>0.0</td>\n",
       "      <td>Long Term</td>\n",
       "      <td>3 years</td>\n",
       "      <td>12.0</td>\n",
       "      <td>0</td>\n",
       "    </tr>\n",
       "    <tr>\n",
       "      <th>4</th>\n",
       "      <td>NaN</td>\n",
       "      <td>0.0</td>\n",
       "      <td>NaN</td>\n",
       "      <td>253460.0</td>\n",
       "      <td>176220.0</td>\n",
       "      <td>81536ad9-5ccf-4eb8-befb-47a4d608658e</td>\n",
       "      <td>Rent</td>\n",
       "      <td>d4062e70-befa-4995-8643-a0de73938182</td>\n",
       "      <td>Fully Paid</td>\n",
       "      <td>427174.0</td>\n",
       "      <td>20639.70</td>\n",
       "      <td>0.0</td>\n",
       "      <td>0.0</td>\n",
       "      <td>15.0</td>\n",
       "      <td>Debt Consolidation</td>\n",
       "      <td>0.0</td>\n",
       "      <td>Short Term</td>\n",
       "      <td>5 years</td>\n",
       "      <td>6.1</td>\n",
       "      <td>0</td>\n",
       "    </tr>\n",
       "  </tbody>\n",
       "</table>\n",
       "</div>"
      ],
      "text/plain": [
       "   Annual Income  Bankruptcies  Credit Score  Current Credit Balance  \\\n",
       "0      1167493.0           1.0         709.0                228190.0   \n",
       "1            NaN           0.0           NaN                229976.0   \n",
       "2      2231892.0           0.0         741.0                297996.0   \n",
       "3       806949.0           0.0         721.0                256329.0   \n",
       "4            NaN           0.0           NaN                253460.0   \n",
       "\n",
       "   Current Loan Amount                           Customer ID Home Ownership  \\\n",
       "0             445412.0  981165ec-3274-42f5-a3b4-d104041a9ca9  Home Mortgage   \n",
       "1             262328.0  2de017a3-2e01-49cb-a581-08169e83be29  Home Mortgage   \n",
       "2           99999999.0  5efb2b2b-bf11-4dfd-a572-3761a2694725       Own Home   \n",
       "3             347666.0  e777faab-98ae-45af-9a86-7ce5b33b1011       Own Home   \n",
       "4             176220.0  81536ad9-5ccf-4eb8-befb-47a4d608658e           Rent   \n",
       "\n",
       "                                Loan ID Loan Status  Maximum Open Credit  \\\n",
       "0  14dd8831-6af5-400b-83ec-68e61888a048  Fully Paid             416746.0   \n",
       "1  4771cc26-131a-45db-b5aa-537ea4ba5342  Fully Paid             850784.0   \n",
       "2  4eed4e6a-aa2f-4c91-8651-ce984ee8fb26  Fully Paid             750090.0   \n",
       "3  77598f7b-32e7-4e3b-a6e5-06ba0d98fe8a  Fully Paid             386958.0   \n",
       "4  d4062e70-befa-4995-8643-a0de73938182  Fully Paid             427174.0   \n",
       "\n",
       "   Monthly Debt  Months since last delinquent  Number of Credit Problems  \\\n",
       "0       5214.74                           0.0                        1.0   \n",
       "1      33295.98                           8.0                        0.0   \n",
       "2      29200.53                          29.0                        1.0   \n",
       "3       8741.90                           0.0                        0.0   \n",
       "4      20639.70                           0.0                        0.0   \n",
       "\n",
       "   Number of Open Accounts             Purpose  Tax Liens        Term  \\\n",
       "0                      6.0   Home Improvements        0.0  Short Term   \n",
       "1                     35.0  Debt Consolidation        0.0  Short Term   \n",
       "2                     18.0  Debt Consolidation        0.0  Short Term   \n",
       "3                      9.0  Debt Consolidation        0.0   Long Term   \n",
       "4                     15.0  Debt Consolidation        0.0  Short Term   \n",
       "\n",
       "  Years in current job  Years of Credit History  Delinquent Time  \n",
       "0              8 years                     17.2                0  \n",
       "1            10+ years                     21.1                2  \n",
       "2              8 years                     14.9                4  \n",
       "3              3 years                     12.0                0  \n",
       "4              5 years                      6.1                0  "
      ]
     },
     "execution_count": 14,
     "metadata": {},
     "output_type": "execute_result"
    }
   ],
   "source": [
    "df.head()"
   ]
  },
  {
   "cell_type": "code",
   "execution_count": 15,
   "metadata": {},
   "outputs": [],
   "source": [
    "to_drop = 'Months since last delinquent'\n",
    "df = df.drop(to_drop, axis = 1)"
   ]
  },
  {
   "cell_type": "code",
   "execution_count": 16,
   "metadata": {},
   "outputs": [
    {
     "data": {
      "text/plain": [
       "count    88865.000000\n",
       "mean      1076.594644\n",
       "std       1475.581902\n",
       "min        585.000000\n",
       "25%        705.000000\n",
       "50%        724.000000\n",
       "75%        741.000000\n",
       "max       7510.000000\n",
       "Name: Credit Score, dtype: float64"
      ]
     },
     "execution_count": 16,
     "metadata": {},
     "output_type": "execute_result"
    }
   ],
   "source": [
    "df['Credit Score'].describe()"
   ]
  },
  {
   "cell_type": "code",
   "execution_count": 17,
   "metadata": {},
   "outputs": [],
   "source": [
    "#convert credit score with values higher than 5000 smaller \n",
    "arr = df['Credit Score'].isna().values\n",
    "shape = df.shape\n",
    "for i in range(shape[0]):\n",
    "    if arr[i] == False:\n",
    "        if df['Credit Score'].values[i] > 5000:\n",
    "            tmp = df['Credit Score'].values[i]\n",
    "            tmp = (tmp*10)/100\n",
    "            df['Credit Score'] = df['Credit Score'].replace(df['Credit Score'].values[i],tmp)"
   ]
  },
  {
   "cell_type": "code",
   "execution_count": 18,
   "metadata": {},
   "outputs": [
    {
     "name": "stdout",
     "output_type": "stream",
     "text": [
      "585.0\n",
      "751.0\n"
     ]
    }
   ],
   "source": [
    "print(min(df['Credit Score']))\n",
    "print(max(df['Credit Score']))"
   ]
  },
  {
   "cell_type": "code",
   "execution_count": 24,
   "metadata": {},
   "outputs": [],
   "source": [
    "#Overall, we need to impute missing values for all the columns, since missing values for Months since last delinquent take up over 50% \n",
    "import numpy as np\n",
    "from sklearn.impute import SimpleImputer\n",
    "# Select string and object columns.\n",
    "categoric = df.select_dtypes('object')"
   ]
  },
  {
   "cell_type": "code",
   "execution_count": 25,
   "metadata": {},
   "outputs": [],
   "source": [
    "# Fill numeric columns with mean.\n",
    "#impute missing values for numerical data : mean\n",
    "# Select numeric columns.\n",
    "numeric = df.select_dtypes('number')\n",
    "df[numeric.columns] = numeric.fillna(numeric.mean())\n",
    "# Fill object columns with mode.\n",
    "df[categoric.columns] = categoric.fillna(categoric.agg(lambda x: x.mode().values[0]))"
   ]
  },
  {
   "cell_type": "code",
   "execution_count": 26,
   "metadata": {},
   "outputs": [
    {
     "data": {
      "text/plain": [
       "Annual Income                0\n",
       "Bankruptcies                 0\n",
       "Credit Score                 0\n",
       "Current Credit Balance       0\n",
       "Current Loan Amount          0\n",
       "Customer ID                  0\n",
       "Home Ownership               0\n",
       "Loan ID                      0\n",
       "Loan Status                  0\n",
       "Maximum Open Credit          0\n",
       "Monthly Debt                 0\n",
       "Number of Credit Problems    0\n",
       "Number of Open Accounts      0\n",
       "Purpose                      0\n",
       "Tax Liens                    0\n",
       "Term                         0\n",
       "Years in current job         0\n",
       "Years of Credit History      0\n",
       "Delinquent Time              0\n",
       "dtype: int64"
      ]
     },
     "execution_count": 26,
     "metadata": {},
     "output_type": "execute_result"
    }
   ],
   "source": [
    "#double check missing values\n",
    "df.isna().sum()"
   ]
  },
  {
   "cell_type": "code",
   "execution_count": 27,
   "metadata": {},
   "outputs": [],
   "source": [
    "#convert 'years in current job' to numerical type\n",
    "## Not sure how to convert 10+ years and less than 1 year to numeric type\n",
    "## So I used 0 for less than 1 year, and 10 for 10+ years\n",
    "label = \"Years in current job\"\n",
    "df[label] = df[label].replace({'< 1 year':0, '1 year': 1, '2 years': 2,\n",
    "                                          '3 years':3, '4 years':4, '5 years':5, \n",
    "                                          '6 years':6, '7 years':7, '8 years':8, \n",
    "                                          '9 years': 9, '10+ years': 10}).astype('int64')"
   ]
  },
  {
   "cell_type": "code",
   "execution_count": 28,
   "metadata": {},
   "outputs": [
    {
     "data": {
      "text/plain": [
       "['Customer ID',\n",
       " 'Home Ownership',\n",
       " 'Loan ID',\n",
       " 'Loan Status',\n",
       " 'Purpose',\n",
       " 'Term',\n",
       " 'Years in current job']"
      ]
     },
     "execution_count": 28,
     "metadata": {},
     "output_type": "execute_result"
    }
   ],
   "source": [
    "#feature encoding for categorical varaibles\n",
    "#label encoding: convert each value in a column to a number \n",
    "#All the categorical variables except years in current job can be handled with label encoding \n",
    "#Years in current job are required to be transformed into numerical variables\n",
    "#Home ownership and purpose don't have seuqntial characteristic, not use label encoding\n",
    "#create initial categorical dataframe\n",
    "categoric_cols = list(categoric.columns)\n",
    "#categoric_cols.remove('Years in current job')\n",
    "categoric_cols"
   ]
  },
  {
   "cell_type": "code",
   "execution_count": 29,
   "metadata": {},
   "outputs": [],
   "source": [
    "categoric_cols.remove('Years in current job')\n",
    "from sklearn.preprocessing import LabelEncoder\n",
    "le = LabelEncoder()\n",
    "df[categoric_cols] = df[categoric_cols].apply(le.fit_transform)"
   ]
  },
  {
   "cell_type": "code",
   "execution_count": 30,
   "metadata": {},
   "outputs": [
    {
     "data": {
      "text/html": [
       "<div>\n",
       "<style scoped>\n",
       "    .dataframe tbody tr th:only-of-type {\n",
       "        vertical-align: middle;\n",
       "    }\n",
       "\n",
       "    .dataframe tbody tr th {\n",
       "        vertical-align: top;\n",
       "    }\n",
       "\n",
       "    .dataframe thead th {\n",
       "        text-align: right;\n",
       "    }\n",
       "</style>\n",
       "<table border=\"1\" class=\"dataframe\">\n",
       "  <thead>\n",
       "    <tr style=\"text-align: right;\">\n",
       "      <th></th>\n",
       "      <th>Annual Income</th>\n",
       "      <th>Bankruptcies</th>\n",
       "      <th>Credit Score</th>\n",
       "      <th>Current Credit Balance</th>\n",
       "      <th>Current Loan Amount</th>\n",
       "      <th>Customer ID</th>\n",
       "      <th>Home Ownership</th>\n",
       "      <th>Loan ID</th>\n",
       "      <th>Loan Status</th>\n",
       "      <th>Maximum Open Credit</th>\n",
       "      <th>Monthly Debt</th>\n",
       "      <th>Number of Credit Problems</th>\n",
       "      <th>Number of Open Accounts</th>\n",
       "      <th>Purpose</th>\n",
       "      <th>Tax Liens</th>\n",
       "      <th>Term</th>\n",
       "      <th>Years in current job</th>\n",
       "      <th>Years of Credit History</th>\n",
       "      <th>Delinquent Time</th>\n",
       "    </tr>\n",
       "  </thead>\n",
       "  <tbody>\n",
       "    <tr>\n",
       "      <th>0</th>\n",
       "      <td>1.167493e+06</td>\n",
       "      <td>1.0</td>\n",
       "      <td>709.00000</td>\n",
       "      <td>228190.0</td>\n",
       "      <td>445412.0</td>\n",
       "      <td>52478</td>\n",
       "      <td>1</td>\n",
       "      <td>7224</td>\n",
       "      <td>1</td>\n",
       "      <td>416746.0</td>\n",
       "      <td>5214.74</td>\n",
       "      <td>1.0</td>\n",
       "      <td>6.0</td>\n",
       "      <td>5</td>\n",
       "      <td>0.0</td>\n",
       "      <td>1</td>\n",
       "      <td>8</td>\n",
       "      <td>17.2</td>\n",
       "      <td>0</td>\n",
       "    </tr>\n",
       "    <tr>\n",
       "      <th>1</th>\n",
       "      <td>1.377449e+06</td>\n",
       "      <td>0.0</td>\n",
       "      <td>716.32393</td>\n",
       "      <td>229976.0</td>\n",
       "      <td>262328.0</td>\n",
       "      <td>15821</td>\n",
       "      <td>1</td>\n",
       "      <td>24818</td>\n",
       "      <td>1</td>\n",
       "      <td>850784.0</td>\n",
       "      <td>33295.98</td>\n",
       "      <td>0.0</td>\n",
       "      <td>35.0</td>\n",
       "      <td>3</td>\n",
       "      <td>0.0</td>\n",
       "      <td>1</td>\n",
       "      <td>10</td>\n",
       "      <td>21.1</td>\n",
       "      <td>2</td>\n",
       "    </tr>\n",
       "    <tr>\n",
       "      <th>2</th>\n",
       "      <td>2.231892e+06</td>\n",
       "      <td>0.0</td>\n",
       "      <td>741.00000</td>\n",
       "      <td>297996.0</td>\n",
       "      <td>99999999.0</td>\n",
       "      <td>32811</td>\n",
       "      <td>2</td>\n",
       "      <td>27403</td>\n",
       "      <td>1</td>\n",
       "      <td>750090.0</td>\n",
       "      <td>29200.53</td>\n",
       "      <td>1.0</td>\n",
       "      <td>18.0</td>\n",
       "      <td>3</td>\n",
       "      <td>0.0</td>\n",
       "      <td>1</td>\n",
       "      <td>8</td>\n",
       "      <td>14.9</td>\n",
       "      <td>4</td>\n",
       "    </tr>\n",
       "    <tr>\n",
       "      <th>3</th>\n",
       "      <td>8.069490e+05</td>\n",
       "      <td>0.0</td>\n",
       "      <td>721.00000</td>\n",
       "      <td>256329.0</td>\n",
       "      <td>347666.0</td>\n",
       "      <td>79892</td>\n",
       "      <td>2</td>\n",
       "      <td>41293</td>\n",
       "      <td>1</td>\n",
       "      <td>386958.0</td>\n",
       "      <td>8741.90</td>\n",
       "      <td>0.0</td>\n",
       "      <td>9.0</td>\n",
       "      <td>3</td>\n",
       "      <td>0.0</td>\n",
       "      <td>0</td>\n",
       "      <td>3</td>\n",
       "      <td>12.0</td>\n",
       "      <td>0</td>\n",
       "    </tr>\n",
       "    <tr>\n",
       "      <th>4</th>\n",
       "      <td>1.377449e+06</td>\n",
       "      <td>0.0</td>\n",
       "      <td>716.32393</td>\n",
       "      <td>253460.0</td>\n",
       "      <td>176220.0</td>\n",
       "      <td>44636</td>\n",
       "      <td>3</td>\n",
       "      <td>73291</td>\n",
       "      <td>1</td>\n",
       "      <td>427174.0</td>\n",
       "      <td>20639.70</td>\n",
       "      <td>0.0</td>\n",
       "      <td>15.0</td>\n",
       "      <td>3</td>\n",
       "      <td>0.0</td>\n",
       "      <td>1</td>\n",
       "      <td>5</td>\n",
       "      <td>6.1</td>\n",
       "      <td>0</td>\n",
       "    </tr>\n",
       "  </tbody>\n",
       "</table>\n",
       "</div>"
      ],
      "text/plain": [
       "   Annual Income  Bankruptcies  Credit Score  Current Credit Balance  \\\n",
       "0   1.167493e+06           1.0     709.00000                228190.0   \n",
       "1   1.377449e+06           0.0     716.32393                229976.0   \n",
       "2   2.231892e+06           0.0     741.00000                297996.0   \n",
       "3   8.069490e+05           0.0     721.00000                256329.0   \n",
       "4   1.377449e+06           0.0     716.32393                253460.0   \n",
       "\n",
       "   Current Loan Amount  Customer ID  Home Ownership  Loan ID  Loan Status  \\\n",
       "0             445412.0        52478               1     7224            1   \n",
       "1             262328.0        15821               1    24818            1   \n",
       "2           99999999.0        32811               2    27403            1   \n",
       "3             347666.0        79892               2    41293            1   \n",
       "4             176220.0        44636               3    73291            1   \n",
       "\n",
       "   Maximum Open Credit  Monthly Debt  Number of Credit Problems  \\\n",
       "0             416746.0       5214.74                        1.0   \n",
       "1             850784.0      33295.98                        0.0   \n",
       "2             750090.0      29200.53                        1.0   \n",
       "3             386958.0       8741.90                        0.0   \n",
       "4             427174.0      20639.70                        0.0   \n",
       "\n",
       "   Number of Open Accounts  Purpose  Tax Liens  Term  Years in current job  \\\n",
       "0                      6.0        5        0.0     1                     8   \n",
       "1                     35.0        3        0.0     1                    10   \n",
       "2                     18.0        3        0.0     1                     8   \n",
       "3                      9.0        3        0.0     0                     3   \n",
       "4                     15.0        3        0.0     1                     5   \n",
       "\n",
       "   Years of Credit History  Delinquent Time  \n",
       "0                     17.2                0  \n",
       "1                     21.1                2  \n",
       "2                     14.9                4  \n",
       "3                     12.0                0  \n",
       "4                      6.1                0  "
      ]
     },
     "execution_count": 30,
     "metadata": {},
     "output_type": "execute_result"
    }
   ],
   "source": [
    "df.head()"
   ]
  },
  {
   "cell_type": "code",
   "execution_count": 31,
   "metadata": {},
   "outputs": [],
   "source": [
    "#check distribution of data distribution\n",
    "import scipy.stats as st\n",
    "def get_best_distribution(data):\n",
    "    dist_names = [\"norm\", \"exponweib\", \"weibull_max\", \"weibull_min\", \"pareto\", \"genextreme\"]\n",
    "    dist_results = []\n",
    "    params = {}\n",
    "    for dist_name in dist_names:\n",
    "        dist = getattr(st, dist_name)\n",
    "        param = dist.fit(data)\n",
    "\n",
    "        params[dist_name] = param\n",
    "        # Applying the Kolmogorov-Smirnov test\n",
    "        D, p = st.kstest(data, dist_name, args=param)\n",
    "        print(\"p value for \"+dist_name+\" = \"+str(p))\n",
    "        dist_results.append((dist_name, p))\n",
    "\n",
    "    # select the best fitted distribution\n",
    "    best_dist, best_p = (max(dist_results, key=lambda item: item[1]))\n",
    "    # store the name of the best fit and its p value\n",
    "\n",
    "    print(\"Best fitting distribution: \"+str(best_dist))\n",
    "    print(\"Best p value: \"+ str(best_p))\n",
    "    print(\"Parameters for the best fit: \"+ str(params[best_dist]))\n",
    "\n",
    "    return best_dist, best_p, params[best_dist]"
   ]
  },
  {
   "cell_type": "code",
   "execution_count": 32,
   "metadata": {},
   "outputs": [
    {
     "name": "stdout",
     "output_type": "stream",
     "text": [
      "p value for norm = 0.0\n"
     ]
    },
    {
     "name": "stderr",
     "output_type": "stream",
     "text": [
      "/Users/cookiepoon/anaconda3/lib/python3.7/site-packages/scipy/stats/_continuous_distns.py:1469: RuntimeWarning: invalid value encountered in add\n",
      "  negxc + sc.xlogy(c - 1.0, x))\n"
     ]
    },
    {
     "name": "stdout",
     "output_type": "stream",
     "text": [
      "p value for exponweib = 0.0\n",
      "p value for weibull_max = 0.0\n",
      "p value for weibull_min = 0.0\n"
     ]
    },
    {
     "name": "stderr",
     "output_type": "stream",
     "text": [
      "/Users/cookiepoon/anaconda3/lib/python3.7/site-packages/scipy/stats/_distn_infrastructure.py:2316: RuntimeWarning: invalid value encountered in double_scalars\n",
      "  Lhat = muhat - Shat*mu\n"
     ]
    },
    {
     "name": "stdout",
     "output_type": "stream",
     "text": [
      "p value for pareto = 0.0\n",
      "p value for genextreme = 0.0\n",
      "Best fitting distribution: norm\n",
      "Best p value: 0.0\n",
      "Parameters for the best fit: (11746206.8279, 31642562.073643554)\n"
     ]
    },
    {
     "data": {
      "text/plain": [
       "('norm', 0.0, (11746206.8279, 31642562.073643554))"
      ]
     },
     "execution_count": 32,
     "metadata": {},
     "output_type": "execute_result"
    }
   ],
   "source": [
    "get_best_distribution(df['Current Loan Amount'])"
   ]
  },
  {
   "cell_type": "code",
   "execution_count": 33,
   "metadata": {},
   "outputs": [
    {
     "data": {
      "image/png": "[encoded data removed]",
      "text/plain": [
       "<Figure size 432x288 with 1 Axes>"
      ]
     },
     "metadata": {
      "needs_background": "light"
     },
     "output_type": "display_data"
    }
   ],
   "source": [
    "#use qq plot to show some distributions of variables\n",
    "import statsmodels.api as sm\n",
    "from scipy.stats import norm\n",
    "import pylab\n",
    "current_credit = df['Current Credit Balance']\n",
    "sm.qqplot(current_credit, line='45')\n",
    "pylab.show()"
   ]
  },
  {
   "cell_type": "code",
   "execution_count": 34,
   "metadata": {},
   "outputs": [
    {
     "data": {
      "image/png": "[encoded data removed]",
      "text/plain": [
       "<Figure size 432x288 with 1 Axes>"
      ]
     },
     "metadata": {
      "needs_background": "light"
     },
     "output_type": "display_data"
    }
   ],
   "source": [
    "import statsmodels.api as sm\n",
    "from scipy.stats import norm\n",
    "import pylab\n",
    "current_loan = df['Current Loan Amount']\n",
    "sm.qqplot(current_loan, line='45')\n",
    "pylab.show()\n",
    "#there are also too many lower end values for current loan amount "
   ]
  },
  {
   "cell_type": "code",
   "execution_count": 35,
   "metadata": {},
   "outputs": [
    {
     "name": "stdout",
     "output_type": "stream",
     "text": [
      "Index(['Annual Income', 'Bankruptcies', 'Credit Score',\n",
      "       'Current Credit Balance', 'Current Loan Amount', 'Customer ID',\n",
      "       'Home Ownership', 'Loan ID', 'Loan Status', 'Maximum Open Credit',\n",
      "       'Monthly Debt', 'Number of Credit Problems', 'Number of Open Accounts',\n",
      "       'Purpose', 'Tax Liens', 'Term', 'Years in current job',\n",
      "       'Years of Credit History', 'Delinquent Time'],\n",
      "      dtype='object')\n"
     ]
    }
   ],
   "source": [
    "#reselect numerical columns because of the feature engineering of Years in Current Job\n",
    "numeric = df.select_dtypes('number')\n",
    "print(numeric.columns)"
   ]
  },
  {
   "cell_type": "code",
   "execution_count": 36,
   "metadata": {},
   "outputs": [],
   "source": [
    "#conduct normalization since our dataset is not normally distributed based on our observations\n",
    "# normalization (x-x_min)/(x_max-x_min) \n",
    "#advantge of normalization: \n",
    "#1. improve training process\n",
    "#2. all data are within the same scale\n",
    "#3. logistic regression, SVM requires normalization\n",
    "from sklearn import preprocessing\n",
    "# normalize the continuous variable\n",
    "numeric_vals = numeric.values#numpy array\n",
    "transformer = preprocessing.MinMaxScaler()\n",
    "numeric_normalized = transformer.fit_transform(numeric_vals)\n",
    "numeric_names = list(numeric.columns)\n",
    "df[numeric_names] = numeric_normalized"
   ]
  },
  {
   "cell_type": "code",
   "execution_count": 37,
   "metadata": {},
   "outputs": [
    {
     "data": {
      "text/html": [
       "<div>\n",
       "<style scoped>\n",
       "    .dataframe tbody tr th:only-of-type {\n",
       "        vertical-align: middle;\n",
       "    }\n",
       "\n",
       "    .dataframe tbody tr th {\n",
       "        vertical-align: top;\n",
       "    }\n",
       "\n",
       "    .dataframe thead th {\n",
       "        text-align: right;\n",
       "    }\n",
       "</style>\n",
       "<table border=\"1\" class=\"dataframe\">\n",
       "  <thead>\n",
       "    <tr style=\"text-align: right;\">\n",
       "      <th></th>\n",
       "      <th>Annual Income</th>\n",
       "      <th>Bankruptcies</th>\n",
       "      <th>Credit Score</th>\n",
       "      <th>Current Credit Balance</th>\n",
       "      <th>Current Loan Amount</th>\n",
       "      <th>Customer ID</th>\n",
       "      <th>Home Ownership</th>\n",
       "      <th>Loan ID</th>\n",
       "      <th>Loan Status</th>\n",
       "      <th>Maximum Open Credit</th>\n",
       "      <th>Monthly Debt</th>\n",
       "      <th>Number of Credit Problems</th>\n",
       "      <th>Number of Open Accounts</th>\n",
       "      <th>Purpose</th>\n",
       "      <th>Tax Liens</th>\n",
       "      <th>Term</th>\n",
       "      <th>Years in current job</th>\n",
       "      <th>Years of Credit History</th>\n",
       "      <th>Delinquent Time</th>\n",
       "    </tr>\n",
       "  </thead>\n",
       "  <tbody>\n",
       "    <tr>\n",
       "      <th>0</th>\n",
       "      <td>0.006592</td>\n",
       "      <td>0.142857</td>\n",
       "      <td>0.746988</td>\n",
       "      <td>0.006940</td>\n",
       "      <td>0.004347</td>\n",
       "      <td>0.593958</td>\n",
       "      <td>0.333333</td>\n",
       "      <td>0.081763</td>\n",
       "      <td>1.0</td>\n",
       "      <td>0.000271</td>\n",
       "      <td>0.011965</td>\n",
       "      <td>0.066667</td>\n",
       "      <td>0.078947</td>\n",
       "      <td>0.333333</td>\n",
       "      <td>0.0</td>\n",
       "      <td>1.0</td>\n",
       "      <td>0.8</td>\n",
       "      <td>0.203288</td>\n",
       "      <td>0.000000</td>\n",
       "    </tr>\n",
       "    <tr>\n",
       "      <th>1</th>\n",
       "      <td>0.007861</td>\n",
       "      <td>0.000000</td>\n",
       "      <td>0.791108</td>\n",
       "      <td>0.006995</td>\n",
       "      <td>0.002516</td>\n",
       "      <td>0.179066</td>\n",
       "      <td>0.333333</td>\n",
       "      <td>0.280896</td>\n",
       "      <td>1.0</td>\n",
       "      <td>0.000553</td>\n",
       "      <td>0.076394</td>\n",
       "      <td>0.000000</td>\n",
       "      <td>0.460526</td>\n",
       "      <td>0.200000</td>\n",
       "      <td>0.0</td>\n",
       "      <td>1.0</td>\n",
       "      <td>1.0</td>\n",
       "      <td>0.261584</td>\n",
       "      <td>0.333333</td>\n",
       "    </tr>\n",
       "    <tr>\n",
       "      <th>2</th>\n",
       "      <td>0.013024</td>\n",
       "      <td>0.000000</td>\n",
       "      <td>0.939759</td>\n",
       "      <td>0.009063</td>\n",
       "      <td>1.000000</td>\n",
       "      <td>0.371363</td>\n",
       "      <td>0.666667</td>\n",
       "      <td>0.310154</td>\n",
       "      <td>1.0</td>\n",
       "      <td>0.000487</td>\n",
       "      <td>0.066998</td>\n",
       "      <td>0.066667</td>\n",
       "      <td>0.236842</td>\n",
       "      <td>0.200000</td>\n",
       "      <td>0.0</td>\n",
       "      <td>1.0</td>\n",
       "      <td>0.8</td>\n",
       "      <td>0.168909</td>\n",
       "      <td>0.666667</td>\n",
       "    </tr>\n",
       "    <tr>\n",
       "      <th>3</th>\n",
       "      <td>0.004413</td>\n",
       "      <td>0.000000</td>\n",
       "      <td>0.819277</td>\n",
       "      <td>0.007796</td>\n",
       "      <td>0.003369</td>\n",
       "      <td>0.904236</td>\n",
       "      <td>0.666667</td>\n",
       "      <td>0.467364</td>\n",
       "      <td>1.0</td>\n",
       "      <td>0.000251</td>\n",
       "      <td>0.020057</td>\n",
       "      <td>0.000000</td>\n",
       "      <td>0.118421</td>\n",
       "      <td>0.200000</td>\n",
       "      <td>0.0</td>\n",
       "      <td>0.0</td>\n",
       "      <td>0.3</td>\n",
       "      <td>0.125561</td>\n",
       "      <td>0.000000</td>\n",
       "    </tr>\n",
       "    <tr>\n",
       "      <th>4</th>\n",
       "      <td>0.007861</td>\n",
       "      <td>0.000000</td>\n",
       "      <td>0.791108</td>\n",
       "      <td>0.007709</td>\n",
       "      <td>0.001654</td>\n",
       "      <td>0.505201</td>\n",
       "      <td>1.000000</td>\n",
       "      <td>0.829525</td>\n",
       "      <td>1.0</td>\n",
       "      <td>0.000277</td>\n",
       "      <td>0.047356</td>\n",
       "      <td>0.000000</td>\n",
       "      <td>0.197368</td>\n",
       "      <td>0.200000</td>\n",
       "      <td>0.0</td>\n",
       "      <td>1.0</td>\n",
       "      <td>0.5</td>\n",
       "      <td>0.037369</td>\n",
       "      <td>0.000000</td>\n",
       "    </tr>\n",
       "  </tbody>\n",
       "</table>\n",
       "</div>"
      ],
      "text/plain": [
       "   Annual Income  Bankruptcies  Credit Score  Current Credit Balance  \\\n",
       "0       0.006592      0.142857      0.746988                0.006940   \n",
       "1       0.007861      0.000000      0.791108                0.006995   \n",
       "2       0.013024      0.000000      0.939759                0.009063   \n",
       "3       0.004413      0.000000      0.819277                0.007796   \n",
       "4       0.007861      0.000000      0.791108                0.007709   \n",
       "\n",
       "   Current Loan Amount  Customer ID  Home Ownership   Loan ID  Loan Status  \\\n",
       "0             0.004347     0.593958        0.333333  0.081763          1.0   \n",
       "1             0.002516     0.179066        0.333333  0.280896          1.0   \n",
       "2             1.000000     0.371363        0.666667  0.310154          1.0   \n",
       "3             0.003369     0.904236        0.666667  0.467364          1.0   \n",
       "4             0.001654     0.505201        1.000000  0.829525          1.0   \n",
       "\n",
       "   Maximum Open Credit  Monthly Debt  Number of Credit Problems  \\\n",
       "0             0.000271      0.011965                   0.066667   \n",
       "1             0.000553      0.076394                   0.000000   \n",
       "2             0.000487      0.066998                   0.066667   \n",
       "3             0.000251      0.020057                   0.000000   \n",
       "4             0.000277      0.047356                   0.000000   \n",
       "\n",
       "   Number of Open Accounts   Purpose  Tax Liens  Term  Years in current job  \\\n",
       "0                 0.078947  0.333333        0.0   1.0                   0.8   \n",
       "1                 0.460526  0.200000        0.0   1.0                   1.0   \n",
       "2                 0.236842  0.200000        0.0   1.0                   0.8   \n",
       "3                 0.118421  0.200000        0.0   0.0                   0.3   \n",
       "4                 0.197368  0.200000        0.0   1.0                   0.5   \n",
       "\n",
       "   Years of Credit History  Delinquent Time  \n",
       "0                 0.203288         0.000000  \n",
       "1                 0.261584         0.333333  \n",
       "2                 0.168909         0.666667  \n",
       "3                 0.125561         0.000000  \n",
       "4                 0.037369         0.000000  "
      ]
     },
     "execution_count": 37,
     "metadata": {},
     "output_type": "execute_result"
    }
   ],
   "source": [
    "df.head()"
   ]
  },
  {
   "cell_type": "code",
   "execution_count": 38,
   "metadata": {},
   "outputs": [
    {
     "data": {
      "text/plain": [
       "<matplotlib.axes._subplots.AxesSubplot at 0x1a2958e828>"
      ]
     },
     "execution_count": 38,
     "metadata": {},
     "output_type": "execute_result"
    },
    {
     "data": {
      "image/png": "[encoded data removed]",
      "text/plain": [
       "<Figure size 1080x360 with 1 Axes>"
      ]
     },
     "metadata": {
      "needs_background": "light"
     },
     "output_type": "display_data"
    }
   ],
   "source": [
    "#add an label column as Credit score range\n",
    "df['Credit Score Range'] = pd.cut(df['Credit Score'], 10)\n",
    "df['Credit Score Range'].value_counts().plot(kind='bar',figsize=(15,5))"
   ]
  },
  {
   "cell_type": "code",
   "execution_count": 39,
   "metadata": {},
   "outputs": [
    {
     "data": {
      "text/html": [
       "<div>\n",
       "<style scoped>\n",
       "    .dataframe tbody tr th:only-of-type {\n",
       "        vertical-align: middle;\n",
       "    }\n",
       "\n",
       "    .dataframe tbody tr th {\n",
       "        vertical-align: top;\n",
       "    }\n",
       "\n",
       "    .dataframe thead th {\n",
       "        text-align: right;\n",
       "    }\n",
       "</style>\n",
       "<table border=\"1\" class=\"dataframe\">\n",
       "  <thead>\n",
       "    <tr style=\"text-align: right;\">\n",
       "      <th></th>\n",
       "      <th>Annual Income</th>\n",
       "      <th>Bankruptcies</th>\n",
       "      <th>Credit Score</th>\n",
       "      <th>Current Credit Balance</th>\n",
       "      <th>Current Loan Amount</th>\n",
       "      <th>Customer ID</th>\n",
       "      <th>Home Ownership</th>\n",
       "      <th>Loan ID</th>\n",
       "      <th>Loan Status</th>\n",
       "      <th>Maximum Open Credit</th>\n",
       "      <th>Monthly Debt</th>\n",
       "      <th>Number of Credit Problems</th>\n",
       "      <th>Number of Open Accounts</th>\n",
       "      <th>Purpose</th>\n",
       "      <th>Tax Liens</th>\n",
       "      <th>Term</th>\n",
       "      <th>Years in current job</th>\n",
       "      <th>Years of Credit History</th>\n",
       "      <th>Delinquent Time</th>\n",
       "      <th>Credit Score Range</th>\n",
       "    </tr>\n",
       "  </thead>\n",
       "  <tbody>\n",
       "    <tr>\n",
       "      <th>0</th>\n",
       "      <td>0.006592</td>\n",
       "      <td>0.142857</td>\n",
       "      <td>0.746988</td>\n",
       "      <td>0.006940</td>\n",
       "      <td>0.004347</td>\n",
       "      <td>0.593958</td>\n",
       "      <td>0.333333</td>\n",
       "      <td>0.081763</td>\n",
       "      <td>1.0</td>\n",
       "      <td>0.000271</td>\n",
       "      <td>0.011965</td>\n",
       "      <td>0.066667</td>\n",
       "      <td>0.078947</td>\n",
       "      <td>0.333333</td>\n",
       "      <td>0.0</td>\n",
       "      <td>1.0</td>\n",
       "      <td>0.8</td>\n",
       "      <td>0.203288</td>\n",
       "      <td>0.000000</td>\n",
       "      <td>(0.7, 0.8]</td>\n",
       "    </tr>\n",
       "    <tr>\n",
       "      <th>1</th>\n",
       "      <td>0.007861</td>\n",
       "      <td>0.000000</td>\n",
       "      <td>0.791108</td>\n",
       "      <td>0.006995</td>\n",
       "      <td>0.002516</td>\n",
       "      <td>0.179066</td>\n",
       "      <td>0.333333</td>\n",
       "      <td>0.280896</td>\n",
       "      <td>1.0</td>\n",
       "      <td>0.000553</td>\n",
       "      <td>0.076394</td>\n",
       "      <td>0.000000</td>\n",
       "      <td>0.460526</td>\n",
       "      <td>0.200000</td>\n",
       "      <td>0.0</td>\n",
       "      <td>1.0</td>\n",
       "      <td>1.0</td>\n",
       "      <td>0.261584</td>\n",
       "      <td>0.333333</td>\n",
       "      <td>(0.7, 0.8]</td>\n",
       "    </tr>\n",
       "    <tr>\n",
       "      <th>2</th>\n",
       "      <td>0.013024</td>\n",
       "      <td>0.000000</td>\n",
       "      <td>0.939759</td>\n",
       "      <td>0.009063</td>\n",
       "      <td>1.000000</td>\n",
       "      <td>0.371363</td>\n",
       "      <td>0.666667</td>\n",
       "      <td>0.310154</td>\n",
       "      <td>1.0</td>\n",
       "      <td>0.000487</td>\n",
       "      <td>0.066998</td>\n",
       "      <td>0.066667</td>\n",
       "      <td>0.236842</td>\n",
       "      <td>0.200000</td>\n",
       "      <td>0.0</td>\n",
       "      <td>1.0</td>\n",
       "      <td>0.8</td>\n",
       "      <td>0.168909</td>\n",
       "      <td>0.666667</td>\n",
       "      <td>(0.9, 1.0]</td>\n",
       "    </tr>\n",
       "    <tr>\n",
       "      <th>3</th>\n",
       "      <td>0.004413</td>\n",
       "      <td>0.000000</td>\n",
       "      <td>0.819277</td>\n",
       "      <td>0.007796</td>\n",
       "      <td>0.003369</td>\n",
       "      <td>0.904236</td>\n",
       "      <td>0.666667</td>\n",
       "      <td>0.467364</td>\n",
       "      <td>1.0</td>\n",
       "      <td>0.000251</td>\n",
       "      <td>0.020057</td>\n",
       "      <td>0.000000</td>\n",
       "      <td>0.118421</td>\n",
       "      <td>0.200000</td>\n",
       "      <td>0.0</td>\n",
       "      <td>0.0</td>\n",
       "      <td>0.3</td>\n",
       "      <td>0.125561</td>\n",
       "      <td>0.000000</td>\n",
       "      <td>(0.8, 0.9]</td>\n",
       "    </tr>\n",
       "    <tr>\n",
       "      <th>4</th>\n",
       "      <td>0.007861</td>\n",
       "      <td>0.000000</td>\n",
       "      <td>0.791108</td>\n",
       "      <td>0.007709</td>\n",
       "      <td>0.001654</td>\n",
       "      <td>0.505201</td>\n",
       "      <td>1.000000</td>\n",
       "      <td>0.829525</td>\n",
       "      <td>1.0</td>\n",
       "      <td>0.000277</td>\n",
       "      <td>0.047356</td>\n",
       "      <td>0.000000</td>\n",
       "      <td>0.197368</td>\n",
       "      <td>0.200000</td>\n",
       "      <td>0.0</td>\n",
       "      <td>1.0</td>\n",
       "      <td>0.5</td>\n",
       "      <td>0.037369</td>\n",
       "      <td>0.000000</td>\n",
       "      <td>(0.7, 0.8]</td>\n",
       "    </tr>\n",
       "  </tbody>\n",
       "</table>\n",
       "</div>"
      ],
      "text/plain": [
       "   Annual Income  Bankruptcies  Credit Score  Current Credit Balance  \\\n",
       "0       0.006592      0.142857      0.746988                0.006940   \n",
       "1       0.007861      0.000000      0.791108                0.006995   \n",
       "2       0.013024      0.000000      0.939759                0.009063   \n",
       "3       0.004413      0.000000      0.819277                0.007796   \n",
       "4       0.007861      0.000000      0.791108                0.007709   \n",
       "\n",
       "   Current Loan Amount  Customer ID  Home Ownership   Loan ID  Loan Status  \\\n",
       "0             0.004347     0.593958        0.333333  0.081763          1.0   \n",
       "1             0.002516     0.179066        0.333333  0.280896          1.0   \n",
       "2             1.000000     0.371363        0.666667  0.310154          1.0   \n",
       "3             0.003369     0.904236        0.666667  0.467364          1.0   \n",
       "4             0.001654     0.505201        1.000000  0.829525          1.0   \n",
       "\n",
       "   Maximum Open Credit  Monthly Debt  Number of Credit Problems  \\\n",
       "0             0.000271      0.011965                   0.066667   \n",
       "1             0.000553      0.076394                   0.000000   \n",
       "2             0.000487      0.066998                   0.066667   \n",
       "3             0.000251      0.020057                   0.000000   \n",
       "4             0.000277      0.047356                   0.000000   \n",
       "\n",
       "   Number of Open Accounts   Purpose  Tax Liens  Term  Years in current job  \\\n",
       "0                 0.078947  0.333333        0.0   1.0                   0.8   \n",
       "1                 0.460526  0.200000        0.0   1.0                   1.0   \n",
       "2                 0.236842  0.200000        0.0   1.0                   0.8   \n",
       "3                 0.118421  0.200000        0.0   0.0                   0.3   \n",
       "4                 0.197368  0.200000        0.0   1.0                   0.5   \n",
       "\n",
       "   Years of Credit History  Delinquent Time Credit Score Range  \n",
       "0                 0.203288         0.000000         (0.7, 0.8]  \n",
       "1                 0.261584         0.333333         (0.7, 0.8]  \n",
       "2                 0.168909         0.666667         (0.9, 1.0]  \n",
       "3                 0.125561         0.000000         (0.8, 0.9]  \n",
       "4                 0.037369         0.000000         (0.7, 0.8]  "
      ]
     },
     "execution_count": 39,
     "metadata": {},
     "output_type": "execute_result"
    }
   ],
   "source": [
    "df.head()"
   ]
  },
  {
   "cell_type": "markdown",
   "metadata": {},
   "source": [
    "### Part2: Check features correlation"
   ]
  },
  {
   "cell_type": "code",
   "execution_count": 41,
   "metadata": {},
   "outputs": [
    {
     "data": {
      "text/plain": [
       "<matplotlib.axes._subplots.AxesSubplot at 0x1c3292d1d0>"
      ]
     },
     "execution_count": 41,
     "metadata": {},
     "output_type": "execute_result"
    },
    {
     "data": {
      "image/png": "[encoded data removed]",
      "text/plain": [
       "<Figure size 1080x1080 with 2 Axes>"
      ]
     },
     "metadata": {
      "needs_background": "light"
     },
     "output_type": "display_data"
    }
   ],
   "source": [
    "df_corr = df.drop(columns = ['Loan ID', 'Customer ID'])\n",
    "## Bankruptcies and Number of credit problems have relatively strong positive correlation\n",
    "## Number of credit problems and Tax lien have relatively strong postiive correlation\n",
    "from matplotlib import pyplot as plt\n",
    "import seaborn as sns\n",
    "fig, ax = plt.subplots(figsize=(15,15))\n",
    "sns.heatmap(df_corr.corr(), annot = True,linewidths=.8, ax=ax)"
   ]
  },
  {
   "cell_type": "markdown",
   "metadata": {},
   "source": [
    "### Part3: Training and Testiing data split"
   ]
  },
  {
   "cell_type": "code",
   "execution_count": 40,
   "metadata": {},
   "outputs": [
    {
     "data": {
      "text/plain": [
       "Annual Income                0.0\n",
       "Bankruptcies                 0.0\n",
       "Credit Score                 0.0\n",
       "Current Credit Balance       0.0\n",
       "Current Loan Amount          0.0\n",
       "Customer ID                  0.0\n",
       "Home Ownership               0.0\n",
       "Loan ID                      0.0\n",
       "Loan Status                  0.0\n",
       "Maximum Open Credit          0.0\n",
       "Monthly Debt                 0.0\n",
       "Number of Credit Problems    0.0\n",
       "Number of Open Accounts      0.0\n",
       "Purpose                      0.0\n",
       "Tax Liens                    0.0\n",
       "Term                         0.0\n",
       "Years in current job         0.0\n",
       "Years of Credit History      0.0\n",
       "Delinquent Time              0.0\n",
       "Credit Score Range           0.0\n",
       "dtype: float64"
      ]
     },
     "execution_count": 40,
     "metadata": {},
     "output_type": "execute_result"
    }
   ],
   "source": [
    "df.isna().sum()/len(df)"
   ]
  },
  {
   "cell_type": "code",
   "execution_count": 42,
   "metadata": {},
   "outputs": [],
   "source": [
    "to_drop = [\"Credit Score\", \"Credit Score Range\"]\n",
    "X = df.drop(to_drop, axis = 1)\n",
    "y = df[\"Credit Score\"]"
   ]
  },
  {
   "cell_type": "code",
   "execution_count": 43,
   "metadata": {},
   "outputs": [
    {
     "name": "stdout",
     "output_type": "stream",
     "text": [
      "training data has 83150 observation with 18 features\n",
      "test data has 27717 observation with 18 features\n"
     ]
    }
   ],
   "source": [
    "from sklearn.model_selection import train_test_split\n",
    "X_train, X_test, y_train, y_test = train_test_split(X, y, test_size=0.25, random_state=1)\n",
    "print('training data has ' + str(X_train.shape[0]) + ' observation with ' + str(X_train.shape[1]) + ' features')\n",
    "print('test data has ' + str(X_test.shape[0]) + ' observation with ' + str(X_test.shape[1]) + ' features')"
   ]
  }
 ],
 "metadata": {
  "kernelspec": {
   "display_name": "Python 3",
   "language": "python",
   "name": "python3"
  },
  "language_info": {
   "codemirror_mode": {
    "name": "ipython",
    "version": 3
   },
   "file_extension": ".py",
   "mimetype": "text/x-python",
   "name": "python",
   "nbconvert_exporter": "python",
   "pygments_lexer": "ipython3",
   "version": "3.7.3"
  }
 },
 "nbformat": 4,
 "nbformat_minor": 2
}
